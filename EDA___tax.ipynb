{
 "cells": [
  {
   "cell_type": "markdown",
   "metadata": {},
   "source": [
    "# California Income Tax Data Analysis: 2007-2014\n",
    "Through analysis of changing proportions of income brackets, we will identify regions with populations trending towards higher income levels. Under the assumption that these trends will continue, we can expect housing prices to increase in these regions relatively more than in regions which lack these significant trends. It is important to note that we should only hold this assumption of future trends under the confirming conclusions of forecasting analysis. (This will be contained in a separate Notebook.) \n",
    "\n",
    "  * Cells represent the number of tax returns for an income bracket within a zipcode\n",
    "  * Columns represents data from separate years\n",
    "\n",
    "\n",
    "We will limit our analysis to income brackets which can be reasonably assumed to reflect demand in the housing market; thus, our proportions are not the total proportions over these regions, but are the proportions over the housing market's participants (i.e. earning over $25,000 annually).\n",
    "\n",
    "Income Brackets:\n",
    "  * 1: \$25,000 - \$50,000 \n",
    "  * 2: \$50,000 - \$75,000 \n",
    "  * 3: \$75,000 - \$100,000 \n",
    "  * 4: \$100,000 - \$200,000 \n",
    "  * 5: \$200,000 + \n",
    "\n",
    "The median income in California is about $61,000, so we will be particularly interested in increases in the three highest income brackets as well as decreases in the lowest two income brackets. However, as an example, an increase in the second income bracket for a region which historically has a high proportion of lowest-bracket earners could indicate a shift towards higher earners.\n",
    "\n",
    "### Questions we will be exploring:\n",
    "\n",
    "  * Where is income distribution shifting the most towards higher brackets?\n",
    "  * Within a region, how has each bracket changed over time?\n",
    "  * Can we expect these trends to continue? "
   ]
  },
  {
   "cell_type": "code",
   "execution_count": 1,
   "metadata": {
    "collapsed": true
   },
   "outputs": [],
   "source": [
    "import numpy as np\n",
    "import pandas as pd\n",
    "import matplotlib.pyplot as plt\n",
    "import os.path \n",
    "import math\n",
    "import seaborn as sns\n",
    "\n",
    "%matplotlib inline"
   ]
  },
  {
   "cell_type": "code",
   "execution_count": 72,
   "metadata": {
    "collapsed": false
   },
   "outputs": [
    {
     "data": {
      "text/html": [
       "<div>\n",
       "<table border=\"1\" class=\"dataframe\">\n",
       "  <thead>\n",
       "    <tr style=\"text-align: right;\">\n",
       "      <th></th>\n",
       "      <th></th>\n",
       "      <th>tax_returns_2007</th>\n",
       "      <th>tax_returns_2008</th>\n",
       "      <th>tax_returns_2009</th>\n",
       "      <th>tax_returns_2010</th>\n",
       "      <th>tax_returns_2011</th>\n",
       "      <th>tax_returns_2012</th>\n",
       "      <th>tax_returns_2013</th>\n",
       "      <th>tax_returns_2014</th>\n",
       "    </tr>\n",
       "    <tr>\n",
       "      <th>zipcode</th>\n",
       "      <th>gross_income_bracket</th>\n",
       "      <th></th>\n",
       "      <th></th>\n",
       "      <th></th>\n",
       "      <th></th>\n",
       "      <th></th>\n",
       "      <th></th>\n",
       "      <th></th>\n",
       "      <th></th>\n",
       "    </tr>\n",
       "  </thead>\n",
       "  <tbody>\n",
       "    <tr>\n",
       "      <th rowspan=\"5\" valign=\"top\">0</th>\n",
       "      <th>1: 25,000-50,000</th>\n",
       "      <td>3834467.0</td>\n",
       "      <td>3777895.0</td>\n",
       "      <td>3744118.0</td>\n",
       "      <td>3795875.0</td>\n",
       "      <td>3907930.0</td>\n",
       "      <td>3851420.0</td>\n",
       "      <td>3916770.0</td>\n",
       "      <td>3965570.0</td>\n",
       "    </tr>\n",
       "    <tr>\n",
       "      <th>2: 50,000-75,000</th>\n",
       "      <td>2129615.0</td>\n",
       "      <td>2114223.0</td>\n",
       "      <td>2047609.0</td>\n",
       "      <td>2071618.0</td>\n",
       "      <td>2152410.0</td>\n",
       "      <td>2145000.0</td>\n",
       "      <td>2175060.0</td>\n",
       "      <td>2207030.0</td>\n",
       "    </tr>\n",
       "    <tr>\n",
       "      <th>3: 75,000-100,000</th>\n",
       "      <td>1310319.0</td>\n",
       "      <td>1313113.0</td>\n",
       "      <td>1269016.0</td>\n",
       "      <td>1284362.0</td>\n",
       "      <td>1345012.0</td>\n",
       "      <td>1361280.0</td>\n",
       "      <td>1385750.0</td>\n",
       "      <td>1411040.0</td>\n",
       "    </tr>\n",
       "    <tr>\n",
       "      <th>4: 100,000-200,000</th>\n",
       "      <td>1794378.0</td>\n",
       "      <td>1829708.0</td>\n",
       "      <td>1770054.0</td>\n",
       "      <td>1801455.0</td>\n",
       "      <td>1913458.0</td>\n",
       "      <td>2005070.0</td>\n",
       "      <td>2104210.0</td>\n",
       "      <td>2214810.0</td>\n",
       "    </tr>\n",
       "    <tr>\n",
       "      <th>5: &gt; 200,000</th>\n",
       "      <td>680811.0</td>\n",
       "      <td>641762.0</td>\n",
       "      <td>581847.0</td>\n",
       "      <td>636198.0</td>\n",
       "      <td>717341.0</td>\n",
       "      <td>799120.0</td>\n",
       "      <td>868510.0</td>\n",
       "      <td>978490.0</td>\n",
       "    </tr>\n",
       "    <tr>\n",
       "      <th rowspan=\"5\" valign=\"top\">90001</th>\n",
       "      <th>1: 25,000-50,000</th>\n",
       "      <td>5549.0</td>\n",
       "      <td>5672.0</td>\n",
       "      <td>5499.0</td>\n",
       "      <td>5539.0</td>\n",
       "      <td>5757.0</td>\n",
       "      <td>5700.0</td>\n",
       "      <td>5900.0</td>\n",
       "      <td>6110.0</td>\n",
       "    </tr>\n",
       "    <tr>\n",
       "      <th>2: 50,000-75,000</th>\n",
       "      <td>1221.0</td>\n",
       "      <td>1221.0</td>\n",
       "      <td>1203.0</td>\n",
       "      <td>1251.0</td>\n",
       "      <td>1362.0</td>\n",
       "      <td>1420.0</td>\n",
       "      <td>1480.0</td>\n",
       "      <td>1630.0</td>\n",
       "    </tr>\n",
       "    <tr>\n",
       "      <th>3: 75,000-100,000</th>\n",
       "      <td>266.0</td>\n",
       "      <td>303.0</td>\n",
       "      <td>287.0</td>\n",
       "      <td>299.0</td>\n",
       "      <td>319.0</td>\n",
       "      <td>340.0</td>\n",
       "      <td>330.0</td>\n",
       "      <td>420.0</td>\n",
       "    </tr>\n",
       "    <tr>\n",
       "      <th>4: 100,000-200,000</th>\n",
       "      <td>75.0</td>\n",
       "      <td>101.0</td>\n",
       "      <td>105.0</td>\n",
       "      <td>108.0</td>\n",
       "      <td>117.0</td>\n",
       "      <td>130.0</td>\n",
       "      <td>160.0</td>\n",
       "      <td>170.0</td>\n",
       "    </tr>\n",
       "    <tr>\n",
       "      <th>5: &gt; 200,000</th>\n",
       "      <td>17.0</td>\n",
       "      <td>11.0</td>\n",
       "      <td>0.0</td>\n",
       "      <td>0.0</td>\n",
       "      <td>0.0</td>\n",
       "      <td>0.0</td>\n",
       "      <td>0.0</td>\n",
       "      <td>20.0</td>\n",
       "    </tr>\n",
       "  </tbody>\n",
       "</table>\n",
       "</div>"
      ],
      "text/plain": [
       "                              tax_returns_2007  tax_returns_2008  \\\n",
       "zipcode gross_income_bracket                                       \n",
       "0       1: 25,000-50,000             3834467.0         3777895.0   \n",
       "        2: 50,000-75,000             2129615.0         2114223.0   \n",
       "        3: 75,000-100,000            1310319.0         1313113.0   \n",
       "        4: 100,000-200,000           1794378.0         1829708.0   \n",
       "        5: > 200,000                  680811.0          641762.0   \n",
       "90001   1: 25,000-50,000                5549.0            5672.0   \n",
       "        2: 50,000-75,000                1221.0            1221.0   \n",
       "        3: 75,000-100,000                266.0             303.0   \n",
       "        4: 100,000-200,000                75.0             101.0   \n",
       "        5: > 200,000                      17.0              11.0   \n",
       "\n",
       "                              tax_returns_2009  tax_returns_2010  \\\n",
       "zipcode gross_income_bracket                                       \n",
       "0       1: 25,000-50,000             3744118.0         3795875.0   \n",
       "        2: 50,000-75,000             2047609.0         2071618.0   \n",
       "        3: 75,000-100,000            1269016.0         1284362.0   \n",
       "        4: 100,000-200,000           1770054.0         1801455.0   \n",
       "        5: > 200,000                  581847.0          636198.0   \n",
       "90001   1: 25,000-50,000                5499.0            5539.0   \n",
       "        2: 50,000-75,000                1203.0            1251.0   \n",
       "        3: 75,000-100,000                287.0             299.0   \n",
       "        4: 100,000-200,000               105.0             108.0   \n",
       "        5: > 200,000                       0.0               0.0   \n",
       "\n",
       "                              tax_returns_2011  tax_returns_2012  \\\n",
       "zipcode gross_income_bracket                                       \n",
       "0       1: 25,000-50,000             3907930.0         3851420.0   \n",
       "        2: 50,000-75,000             2152410.0         2145000.0   \n",
       "        3: 75,000-100,000            1345012.0         1361280.0   \n",
       "        4: 100,000-200,000           1913458.0         2005070.0   \n",
       "        5: > 200,000                  717341.0          799120.0   \n",
       "90001   1: 25,000-50,000                5757.0            5700.0   \n",
       "        2: 50,000-75,000                1362.0            1420.0   \n",
       "        3: 75,000-100,000                319.0             340.0   \n",
       "        4: 100,000-200,000               117.0             130.0   \n",
       "        5: > 200,000                       0.0               0.0   \n",
       "\n",
       "                              tax_returns_2013  tax_returns_2014  \n",
       "zipcode gross_income_bracket                                      \n",
       "0       1: 25,000-50,000             3916770.0         3965570.0  \n",
       "        2: 50,000-75,000             2175060.0         2207030.0  \n",
       "        3: 75,000-100,000            1385750.0         1411040.0  \n",
       "        4: 100,000-200,000           2104210.0         2214810.0  \n",
       "        5: > 200,000                  868510.0          978490.0  \n",
       "90001   1: 25,000-50,000                5900.0            6110.0  \n",
       "        2: 50,000-75,000                1480.0            1630.0  \n",
       "        3: 75,000-100,000                330.0             420.0  \n",
       "        4: 100,000-200,000               160.0             170.0  \n",
       "        5: > 200,000                       0.0              20.0  "
      ]
     },
     "execution_count": 72,
     "metadata": {},
     "output_type": "execute_result"
    }
   ],
   "source": [
    "# remove the lowest income bracket: they are not participants in the housing market\n",
    "ca_tax = pd.read_csv(os.getcwd()+'\\data_clean\\ca tax returns.csv')\n",
    "ca_tax['zipcode'] = ca_tax['zipcode'].astype(str)\n",
    "ca_tax = ca_tax[ca_tax['gross_income_bracket']!='0: < 25,000']\n",
    "ca_tax = ca_tax.set_index(['zipcode','gross_income_bracket'])\n",
    "\n",
    "ca_tax.head(10)"
   ]
  },
  {
   "cell_type": "code",
   "execution_count": 73,
   "metadata": {
    "collapsed": false
   },
   "outputs": [
    {
     "data": {
      "text/html": [
       "<div>\n",
       "<table border=\"1\" class=\"dataframe\">\n",
       "  <thead>\n",
       "    <tr style=\"text-align: right;\">\n",
       "      <th></th>\n",
       "      <th></th>\n",
       "      <th>tax_returns_2007</th>\n",
       "      <th>tax_returns_2008</th>\n",
       "      <th>tax_returns_2009</th>\n",
       "      <th>tax_returns_2010</th>\n",
       "      <th>tax_returns_2011</th>\n",
       "      <th>tax_returns_2012</th>\n",
       "      <th>tax_returns_2013</th>\n",
       "      <th>tax_returns_2014</th>\n",
       "    </tr>\n",
       "    <tr>\n",
       "      <th>zipcode</th>\n",
       "      <th>gross_income_bracket</th>\n",
       "      <th></th>\n",
       "      <th></th>\n",
       "      <th></th>\n",
       "      <th></th>\n",
       "      <th></th>\n",
       "      <th></th>\n",
       "      <th></th>\n",
       "      <th></th>\n",
       "    </tr>\n",
       "  </thead>\n",
       "  <tbody>\n",
       "    <tr>\n",
       "      <th rowspan=\"5\" valign=\"top\">0</th>\n",
       "      <th>1: 25,000-50,000</th>\n",
       "      <td>0.393295</td>\n",
       "      <td>0.390411</td>\n",
       "      <td>0.397775</td>\n",
       "      <td>0.395836</td>\n",
       "      <td>0.389385</td>\n",
       "      <td>0.379006</td>\n",
       "      <td>0.374800</td>\n",
       "      <td>0.367968</td>\n",
       "    </tr>\n",
       "    <tr>\n",
       "      <th>2: 50,000-75,000</th>\n",
       "      <td>0.218431</td>\n",
       "      <td>0.218486</td>\n",
       "      <td>0.217538</td>\n",
       "      <td>0.216030</td>\n",
       "      <td>0.214466</td>\n",
       "      <td>0.211083</td>\n",
       "      <td>0.208134</td>\n",
       "      <td>0.204792</td>\n",
       "    </tr>\n",
       "    <tr>\n",
       "      <th>3: 75,000-100,000</th>\n",
       "      <td>0.134397</td>\n",
       "      <td>0.135698</td>\n",
       "      <td>0.134820</td>\n",
       "      <td>0.133934</td>\n",
       "      <td>0.134017</td>\n",
       "      <td>0.133959</td>\n",
       "      <td>0.132604</td>\n",
       "      <td>0.130931</td>\n",
       "    </tr>\n",
       "    <tr>\n",
       "      <th>4: 100,000-200,000</th>\n",
       "      <td>0.184047</td>\n",
       "      <td>0.189084</td>\n",
       "      <td>0.188051</td>\n",
       "      <td>0.187857</td>\n",
       "      <td>0.190657</td>\n",
       "      <td>0.197313</td>\n",
       "      <td>0.201354</td>\n",
       "      <td>0.205514</td>\n",
       "    </tr>\n",
       "    <tr>\n",
       "      <th>5: &gt; 200,000</th>\n",
       "      <td>0.069830</td>\n",
       "      <td>0.066320</td>\n",
       "      <td>0.061815</td>\n",
       "      <td>0.066343</td>\n",
       "      <td>0.071476</td>\n",
       "      <td>0.078639</td>\n",
       "      <td>0.083109</td>\n",
       "      <td>0.090795</td>\n",
       "    </tr>\n",
       "    <tr>\n",
       "      <th rowspan=\"5\" valign=\"top\">90001</th>\n",
       "      <th>1: 25,000-50,000</th>\n",
       "      <td>0.778479</td>\n",
       "      <td>0.776136</td>\n",
       "      <td>0.775162</td>\n",
       "      <td>0.769626</td>\n",
       "      <td>0.762012</td>\n",
       "      <td>0.750988</td>\n",
       "      <td>0.749682</td>\n",
       "      <td>0.731737</td>\n",
       "    </tr>\n",
       "    <tr>\n",
       "      <th>2: 50,000-75,000</th>\n",
       "      <td>0.171296</td>\n",
       "      <td>0.167077</td>\n",
       "      <td>0.169580</td>\n",
       "      <td>0.173822</td>\n",
       "      <td>0.180278</td>\n",
       "      <td>0.187088</td>\n",
       "      <td>0.188056</td>\n",
       "      <td>0.195210</td>\n",
       "    </tr>\n",
       "    <tr>\n",
       "      <th>3: 75,000-100,000</th>\n",
       "      <td>0.037318</td>\n",
       "      <td>0.041461</td>\n",
       "      <td>0.040457</td>\n",
       "      <td>0.041545</td>\n",
       "      <td>0.042224</td>\n",
       "      <td>0.044796</td>\n",
       "      <td>0.041931</td>\n",
       "      <td>0.050299</td>\n",
       "    </tr>\n",
       "    <tr>\n",
       "      <th>4: 100,000-200,000</th>\n",
       "      <td>0.010522</td>\n",
       "      <td>0.013820</td>\n",
       "      <td>0.014801</td>\n",
       "      <td>0.015006</td>\n",
       "      <td>0.015486</td>\n",
       "      <td>0.017128</td>\n",
       "      <td>0.020330</td>\n",
       "      <td>0.020359</td>\n",
       "    </tr>\n",
       "    <tr>\n",
       "      <th>5: &gt; 200,000</th>\n",
       "      <td>0.002385</td>\n",
       "      <td>0.001505</td>\n",
       "      <td>0.000000</td>\n",
       "      <td>0.000000</td>\n",
       "      <td>0.000000</td>\n",
       "      <td>0.000000</td>\n",
       "      <td>0.000000</td>\n",
       "      <td>0.002395</td>\n",
       "    </tr>\n",
       "  </tbody>\n",
       "</table>\n",
       "</div>"
      ],
      "text/plain": [
       "                              tax_returns_2007  tax_returns_2008  \\\n",
       "zipcode gross_income_bracket                                       \n",
       "0       1: 25,000-50,000              0.393295          0.390411   \n",
       "        2: 50,000-75,000              0.218431          0.218486   \n",
       "        3: 75,000-100,000             0.134397          0.135698   \n",
       "        4: 100,000-200,000            0.184047          0.189084   \n",
       "        5: > 200,000                  0.069830          0.066320   \n",
       "90001   1: 25,000-50,000              0.778479          0.776136   \n",
       "        2: 50,000-75,000              0.171296          0.167077   \n",
       "        3: 75,000-100,000             0.037318          0.041461   \n",
       "        4: 100,000-200,000            0.010522          0.013820   \n",
       "        5: > 200,000                  0.002385          0.001505   \n",
       "\n",
       "                              tax_returns_2009  tax_returns_2010  \\\n",
       "zipcode gross_income_bracket                                       \n",
       "0       1: 25,000-50,000              0.397775          0.395836   \n",
       "        2: 50,000-75,000              0.217538          0.216030   \n",
       "        3: 75,000-100,000             0.134820          0.133934   \n",
       "        4: 100,000-200,000            0.188051          0.187857   \n",
       "        5: > 200,000                  0.061815          0.066343   \n",
       "90001   1: 25,000-50,000              0.775162          0.769626   \n",
       "        2: 50,000-75,000              0.169580          0.173822   \n",
       "        3: 75,000-100,000             0.040457          0.041545   \n",
       "        4: 100,000-200,000            0.014801          0.015006   \n",
       "        5: > 200,000                  0.000000          0.000000   \n",
       "\n",
       "                              tax_returns_2011  tax_returns_2012  \\\n",
       "zipcode gross_income_bracket                                       \n",
       "0       1: 25,000-50,000              0.389385          0.379006   \n",
       "        2: 50,000-75,000              0.214466          0.211083   \n",
       "        3: 75,000-100,000             0.134017          0.133959   \n",
       "        4: 100,000-200,000            0.190657          0.197313   \n",
       "        5: > 200,000                  0.071476          0.078639   \n",
       "90001   1: 25,000-50,000              0.762012          0.750988   \n",
       "        2: 50,000-75,000              0.180278          0.187088   \n",
       "        3: 75,000-100,000             0.042224          0.044796   \n",
       "        4: 100,000-200,000            0.015486          0.017128   \n",
       "        5: > 200,000                  0.000000          0.000000   \n",
       "\n",
       "                              tax_returns_2013  tax_returns_2014  \n",
       "zipcode gross_income_bracket                                      \n",
       "0       1: 25,000-50,000              0.374800          0.367968  \n",
       "        2: 50,000-75,000              0.208134          0.204792  \n",
       "        3: 75,000-100,000             0.132604          0.130931  \n",
       "        4: 100,000-200,000            0.201354          0.205514  \n",
       "        5: > 200,000                  0.083109          0.090795  \n",
       "90001   1: 25,000-50,000              0.749682          0.731737  \n",
       "        2: 50,000-75,000              0.188056          0.195210  \n",
       "        3: 75,000-100,000             0.041931          0.050299  \n",
       "        4: 100,000-200,000            0.020330          0.020359  \n",
       "        5: > 200,000                  0.000000          0.002395  "
      ]
     },
     "execution_count": 73,
     "metadata": {},
     "output_type": "execute_result"
    }
   ],
   "source": [
    "# normalizing the data set so the cells are proportions of the total in that region, for the given year\n",
    "zipcodes = ca_tax.index.levels[0]\n",
    "ca_tax_normalized = ca_tax\n",
    "for zc in zipcodes:\n",
    "    for col in ca_tax.columns:\n",
    "        ca_tax_normalized.loc[zc][col] = ca_tax.loc[zc][col]/ca_tax.loc[zc][col].sum()\n",
    "        \n",
    "ca_tax_normalized.head(10)"
   ]
  },
  {
   "cell_type": "code",
   "execution_count": 82,
   "metadata": {
    "collapsed": true
   },
   "outputs": [],
   "source": [
    "# relabel columns for clarity\n",
    "relabel = {}\n",
    "for col in ca_tax_normalized.columns:\n",
    "    relabel[col] = col + '_%'\n",
    "    \n",
    "ca_tax_normalized = ca_tax_normalized.rename(columns=relabel)\n",
    "ca_tax_normalized = ca_tax_normalized*100"
   ]
  },
  {
   "cell_type": "markdown",
   "metadata": {},
   "source": [
    "## Preview of Analysis\n",
    "We can measure changes in income distribution with respect to changes over geographic locations as well as with respect to changes over time. The first level of our analysis will be over differences in location; the second level of analysis (within each region) will be with respect to differences over time. \n",
    "\n",
    "### Part I: Geographic Analysis: relative to a fixed point in time\n",
    "As an introduction to this analysis, we will first observe the approach to measuring differences between locations."
   ]
  },
  {
   "cell_type": "code",
   "execution_count": 56,
   "metadata": {
    "collapsed": false,
    "scrolled": false
   },
   "outputs": [
    {
     "data": {
      "text/plain": [
       "<matplotlib.text.Text at 0x148ab2b0>"
      ]
     },
     "execution_count": 56,
     "metadata": {},
     "output_type": "execute_result"
    },
    {
     "data": {
      "image/png": "iVBORw0KGgoAAAANSUhEUgAABI0AAAFkCAYAAACtu8vZAAAABHNCSVQICAgIfAhkiAAAAAlwSFlz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\nMzMzs27+Cw28+GHMhZYRAAAAAElFTkSuQmCC\n",
      "text/plain": [
       "<matplotlib.figure.Figure at 0x149ff400>"
      ]
     },
     "metadata": {},
     "output_type": "display_data"
    }
   ],
   "source": [
    "f, (ax1, ax2, ax3, ax4) = plt.subplots(1, 4, sharey=True,figsize=(18,5))\n",
    "\n",
    "ax1.bar([1,2,3,4,5],ca_tax_normalized.loc['90059']['tax_returns_2007_%'],facecolor='#00629B')\n",
    "ax1.set_xlabel('Compton',fontsize=14)\n",
    "ax1.set_ylabel('% of total housing \\nmarket participants',rotation=0,labelpad=70,fontsize=14)\n",
    "\n",
    "ax2.bar([1,2,3,4,5],ca_tax_normalized.loc['91403']['tax_returns_2007_%'],facecolor='#068AD6')\n",
    "ax2.set_xlabel('Sherman Oaks',fontsize=14)\n",
    "\n",
    "ax3.bar([1,2,3,4,5],ca_tax_normalized.loc['90210']['tax_returns_2007_%'],facecolor='#54B3EA')\n",
    "ax3.set_xlabel('Beverly Hills',fontsize=14)\n",
    "\n",
    "ax4.bar([1,2,3,4,5],ca_tax_normalized.loc['0']['tax_returns_2007_%'],facecolor='#A1BCCC')\n",
    "ax4.set_xlabel('California',fontsize=14)\n",
    "\n",
    "plt.suptitle('Income Distributions: 2007',fontsize=18)\n",
    "#text = '1: \\$25,000 - \\$50,000\\n2: \\$50,000 - \\$75,000\\n3: \\$75,000 - \\$100,000\\n4: \\$100,000 - \\$200,000\\n5: \\$200,000 +'\n",
    "#props = dict(boxstyle='round', facecolor='#ffffff', alpha=0.5)\n",
    "#ax4.text(0.42, 0.95, text, transform=ax4.transAxes, fontsize=11,\n",
    "#        verticalalignment='top', bbox=props)"
   ]
  },
  {
   "cell_type": "markdown",
   "metadata": {},
   "source": [
    "The first three plots vary from least affluent to most affluent region; the right-most plot represents California's average. Using California's average as a standard to measure against, we can identify what class of housing we would be investing in and if growth levels seem sustainable. (We define 'growth' here as the population's income distribution shifting towards the upper brackets--this will be measured with respect to changes in time and is not observable in these plots.)\n",
    "\n",
    "Within the left three plots, there is a clear shift in density from the left-most column towards the right-most column, i.e. a single investment in Compton will likely be at a lower price point than a single investment in Beverly Hills. Although investment is primarily a question of growing assets over time, it is also important to be aware exactly _what_ we are investing in at any point in time.\n",
    "\n",
    "_Note: these distributions do not represent the entirety of each listed region. They represent zipcodes selected within each region._\n",
    "\n",
    "Income Brackets:\n",
    "  * 1: \\$25,000 - \\$50,000 \n",
    "  * 2: \\$50,000 - \\$75,000 \n",
    "  * 3: \\$75,000 - \\$100,000 \n",
    "  * 4: \\$100,000 - \\$200,000 \n",
    "  * 5: \\$200,000 + \n",
    "  "
   ]
  },
  {
   "cell_type": "markdown",
   "metadata": {},
   "source": [
    "### Part II: Temporal Analysis: relative to a fixed location\n",
    "Within a given location, we can separate the income brackets and analyze changes over time."
   ]
  },
  {
   "cell_type": "code",
   "execution_count": 195,
   "metadata": {
    "collapsed": false,
    "scrolled": true
   },
   "outputs": [
    {
     "data": {
      "text/plain": [
       "<matplotlib.text.Text at 0x33c2bcc0>"
      ]
     },
     "execution_count": 195,
     "metadata": {},
     "output_type": "execute_result"
    },
    {
     "data": {
      "image/png": "iVBORw0KGgoAAAANSUhEUgAAAz8AAAEmCAYAAABMEy45AAAABHNCSVQICAgIfAhkiAAAAAlwSFlz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\nhohrAAAAAElFTkSuQmCC\n",
      "text/plain": [
       "<matplotlib.figure.Figure at 0x33a7c9b0>"
      ]
     },
     "metadata": {},
     "output_type": "display_data"
    }
   ],
   "source": [
    "f, (ax1, ax2, ax3) = plt.subplots(1, 3, sharey=True,figsize=(12,4))\n",
    "ax1.bar([1,2,3,4,5],ca_tax_normalized.loc['94582']['tax_returns_2007_%'],facecolor='#0065ff')\n",
    "ax1.set_ylabel('% of total housing \\nmarket participants',rotation=0,labelpad=70,fontsize=14)\n",
    "ax1.set_xlabel('San Ramon 2007',fontsize=14)\n",
    "ax1.axhline(y=ca_tax_normalized.loc['94582'].loc['5: > 200,000']['tax_returns_2007_%'], xmin=0, xmax=5, linewidth=1, color = 'k')\n",
    "\n",
    "ax2.bar([1,2,3,4,5],ca_tax_normalized.loc['94582']['tax_returns_2011_%'],facecolor='#0056d8')\n",
    "ax2.set_xlabel('San Ramon 2011',fontsize=14)\n",
    "ax2.axhline(y=ca_tax_normalized.loc['94582'].loc['5: > 200,000']['tax_returns_2007_%'], xmin=0, xmax=5, linewidth=1, color = 'k')\n",
    "\n",
    "ax3.bar([1,2,3,4,5],ca_tax_normalized.loc['94582']['tax_returns_2014_%'],facecolor='#0044ad')\n",
    "ax3.set_xlabel('San Ramon 2014',fontsize=14)\n",
    "ax3.axhline(y=ca_tax_normalized.loc['94582'].loc['5: > 200,000']['tax_returns_2007_%'], xmin=0, xmax=5, linewidth=1, color = 'k')\n",
    "\n",
    "plt.suptitle('San Ramon Income Distributions',fontsize=18)"
   ]
  },
  {
   "cell_type": "markdown",
   "metadata": {},
   "source": [
    "Notice the increase in proportion of earners who make more than $200,000 (column 5) from 2007 to 2014 as well as the gradual decrease in the lower income brackets. We can analyze each of the income brackets separately, looking for decreases in the lower brackets and increases in the higher brackets"
   ]
  },
  {
   "cell_type": "code",
   "execution_count": 199,
   "metadata": {
    "collapsed": false,
    "scrolled": true
   },
   "outputs": [
    {
     "data": {
      "text/plain": [
       "<matplotlib.text.Text at 0x346f3f28>"
      ]
     },
     "execution_count": 199,
     "metadata": {},
     "output_type": "execute_result"
    },
    {
     "data": {
      "image/png": "iVBORw0KGgoAAAANSUhEUgAABCsAAADpCAYAAAANpL39AAAABHNCSVQICAgIfAhkiAAAAAlwSFlz\nAAALEgAACxIB0t1+/AAAIABJREFUeJzs3Xd4HNW9//H3NjWrF8uWu419bGwwmGYgGFMCMeFSQhIC\nN9RAwk0CpN408gspNzcNUiCQACFA7uVCqEnoJQaDHVMNNhiOe7eFumSrbZnfHzOyV7JkyXi1Rfq8\nnkfPzpw5M/OdXR3wfnWKz3EcRERERERERETShT/VAYiIiIiIiIiIxFOyQkRERERERETSipIVIiIi\nIiIiIpJWlKwQERERERERkbSiZIWIiIiIiIiIpBUlK0REREREREQkrShZISIiQ4ox5i5jjGOMiRpj\nKvZR7y2v3l1JDC9pjDGXes936T7qOMaYF+L2r/fKJg5kf6DXHU7i3vf4n7AxpsYY87Qx5uO9nDOg\n97WP+00eQJ2J3vWv720/UXrGYozZMFx/D0RE5MAFUx2AiIjIIPEDZwJ/7nnAGDMJmJ30iNLfw8Aa\noCbVgQwBtwEvedvZQBVwAfCYMeY71tqfxdX9UO+7MeZpYDtwaT9Va4CLgOX7c/39jOU6L46D4oq/\nAuwarHuKiMjQpmSFiIgMVeuBs+klWQGci/sFrs+eF8ORtXY5g/iFdpj5l7X2f+ILjDG/BJ4AfmqM\necFauxQO6H0/Dbi7v0rW2l3A//RX7wCdSo9/V1prHx3ke4qIyBCmYSAiIjJU/Q34qDEmt5dj5wJ/\nT3I8MsxZa9uBy4EY8J8pDkdERCStqWeFiIgMVY/idkM/FfhHV6ExZiRwHPDfwOd6nmSMOQH4ATDX\nK3oVuN5auyiuzgbgWdyk/4VAHXCYtbbWGLMAuB6YBVQDNwCHA6daayfGXeNTwJeBw4BcYCvwAPB9\na22HV+cFoB34DfAT75o1wJ+AH1lrYx/qnemDN4fBD4BJ1toNCb7ut4FDgF8DJwIR3ITR16y1dXF1\nC4EfAucB5cBa4LfW2jvi6pQBP8btOVMObMDtQfNLa2007p7fAI4Gfov7mTd6278Evg5cA5QAi4Gr\n4p/ZGDMW+CmwACgA3gN+Za393wN5L6y1G4wxi4FTjTEBa220t/fdGHMV8EXcYRVtwCLgOmvtu97c\nFuu9S15ijLkEOMnbX4g7HOMbwFTgXuBHXv0fWmuvjwsnyxhzI3Ax7lCV54FvWmtXezFM7O28nuVe\ne5jgHXN6lG+w1s6PO3eg7esp4GXgO8AUYDPwG2vt7+PqleD+Pp0MVAJbgL9692/f+90XEZFMop4V\nIiIyVL0M1OJ+oY13Nu44+ud7nmCMOQt4ARiP+2X4x972896xeBcAh+ImRG73EhVn4iZGsoDvAg/i\nJivO7XGfK3C/VDUC38L9YrkR+KZ3z3iHeHVfwP1yvRb3y95V/b4DrnxjTHlvPwM8P1ECuF+kW3Cf\n9yHcL8m3dlUwxmThfim/GngM+CqwDrjdGHONV6cEWIKbaHrQq/MebvLp3h73zAL+iTsfxNdxE0I/\nB54ErgBuxE1enELccCFjTBXwCm6i63devLXA/xhjvpmA9+Id3ARIr5NjGmP+Hfd9WQZci/s7dDzw\ngjGmiD1zUIA7L8ZFuO9Bl9/j/r78J/vuQXQN8Anc9+RG3C/9LxtjKvfzeb4CvI/7Hl2EOwdHb8+1\nP+1rAe573/UZ7wJuNsacEVfnr7jz0twOfMm79re980REJMOpZ4WIiAxJ3l+sHwP+zRjjj+uFcC7w\nuLW2wxizu74xJoj7JW8rcKS1ttkr/yPul8tbjDFPWmvD3im5wNnW2m1xt/0N7pfr46y1bd75i3F7\nebTE1fs68C/gHGut49W7Bfev1R+j+xCBKuAsa+0/vHr3ANuAfwduGcBbcZP3k2pB4H5r7de9/T8a\nY8YA5xpj8qy1rbgJiNnAv1tr7wUwxtwGvAh8xxhzM25yZxpwbtycCLcYY34PfNEYc7e19gmvPAT8\nj7X2G961FgHv4vaymGKtrfHKJwIXGmOyvV4tPwVygFnW2u1end8D/wv82LvHBwfwXjR4r2XA6l6O\n/zvwrrX2kq4CY8xbuD1CZllrF+MmTv4CrOuaG8MYM8Or/pK19uq4cyf2EUcUmGut3eHV+yd7khxf\n7+OcvVhrHzXGfAXI7TlPR1wM+9u+xuH2Vlru1XuEPb/3T3g9pE7F7QnyK++cO4wxPvpIAomISGZR\nzwoRERnKHgVG4nU594YYnAI80kvdOcBY4OauL1IA1tpG4GZgDHBkXP018YkKY8yhuN3V/9CVqPDO\n/xvuX53jHQqc0ZWo8IzE/RKb36NuK/B43PXaAQuM6vOpu/sl8NE+fpLtrz3238JNYpR5+2fi9hr4\nv64K3nt0EXAC4ABnAe/1MnljV4+Unj1p4j/rVd7r4q5EhWc94AMqjTF+4BzcHh7huF4oZbi9QbI5\n8Pcu5L06fRzfAkw3xvygK9FgrX3CWjvTS1T0Z1H/VQD4S1eiwrvHi7gTfe61vGoC7G/7sl2JCm9n\nB+6wqq7f+yZgJ26C6jxjzAiv3uXW2lMHIX4REUky9awQEZGh7Fnc8f5n4Q4dOAN3csMneqk7yXu1\nvRzr6mI/AbdHBEDPv6xP9V57+0v5+7jzVrg3sDZsjDnSGHMBMB13XoKR3uGNPc6t62Vuig7cYRUD\nsdJa+1xvB+J7liRJz6U5O7zXrmeZCKztkcTBWrv7PfGWnX2q54WttTuMMY14cyfEqY6rE/Geuedn\nF/Ve/bhzYBThJizO6eM5xvdRPlBdyZm+lir9EXAs7twn1xtjVuIO57jDWrt2ANcfaK+Pnkk0cIcZ\nndFL+YHa3/bV23uz+/fe6xn1BdwhIA8CHcaYF3ETSvdozgoRkcynnhUiIjJkeUMLnmHPX9vPBZ61\n1u7spbpvH5fq+v9lZ1xZtEedrr+Wd7C3bl+cjDE34SZSDsftXfAD3OEPL/VybkIn0Uyx/p4lQN+9\nDbr09zl19iiL9FJvX/foSpw8SN89Uu7vJ8b+HA40s2eSzG6stVtwfx9OxR3CE8Kdi2GlMebEAVy/\n5+9mX3p7H3wDOH+gibKe1+1Lb+2r3997b6jQONzhQ4/j9qD6I7DUGJP9IWIUEZE0op4VIiIy1D0K\n/NkYMwt30r5r+6i3wXudjrvsabyuLgib93Gfdd7rNNwESbyuXhcYYybgrgLyF2vtxd1uYsxAh3YM\nVZtwh8h0462w8hncuRQ2sOfziK8zCihk35/RQNTgDr0J9eyRYowZjzucYdeHvbgxZgpusuLenj1I\n4uocAmCtfR5vIlhjzPG4E5RegzuHRyJM7KVsGm7vCtiTtOj5xf/D/J5u8F4/bPvqfoIx+bgr6bxr\nrb0TuNOboPUXuG38NOJWARIRkcyjnhUiIjLU/QP3S9evgDz6Xh3hDWA77hj4wq5Cb/uL3rE39nGf\n13G/bH0u/q+6xpi5uF9wu5R6ryvjT/ZWOZjK8P5DwhO480ac26P8q7jzKNTifp4zjDE9h2h823t9\n7EACsNZGvDg+boyZ3ePwjbhzYHyolVSMMSHcSSYd3BU++vIA8BdjTHwPhmW4PQ/iez3EOLB/y51v\njCmIi28BcDBugg/cJXkjuEmBbuf1cq1oP7EcaPvqaRZuT6Tdyw9baztx36eueEREJIMN538QiYjI\nMGCtrTPGvAycDiy01tb1US/sLY95P/C6MeYO79AVuCtyfLKXuSPiz48ZY76GO4nkEm/Vjgrcv/J2\nsKfL/UrcHgTfNcbk4E6meDRwKe5wkQKGrz8ClwP3eatvWNwkxUeBy70VXv4bOA+43xhzK+6kmafg\nLsH5sLX2yQTE8W3cZTwXeXFsxJ3880zgj9badwdwjWONMV1DUEK4wxXOx00GfM1au6zPM91JUe/A\nXdLzAdwhFBfhrlASvwJMDTDfGHMl8PRAHy5OHvCSt+LKWNwlSNfgJvaw1rYaY/4GnOe1h6XASbjL\nqPYcblMDnGiM+TrwsrX2lfiDB9q+evEKbrLiv7weL8tx3+Orcefi6HWeFhERyRzqWSEiIsNB11+K\nH95XJWvtg7jdx7fhziPxXdx5BU7qZfWJvs4/H/ePAb8ALgS+htvrosOr04E7geG/cBMZvwKO8La/\nBRQaY47Yv8cbGrxVVOYDfwIuAH6Nu0rEp621f/bq1ONOPnkP7tCQG4EZwDeBTycojrXAMbjzIFyJ\nuyTtZNzP8ksDvMzngb94P7fj9h5YC5xmrf11P/f/E3AJ7sowPwV+hjtR7AJr7QtxVb+Fmwi5CRjI\nXBY9/RA3AfFTL76HgRPiV+sAvgDcjZsM+jUwwrtXuPul+AVu4ui/cRNOvT3XAbWvHtdycCdA/QNu\nEulm3Pf8Ie96PZMpIiKSYXyO0988ViIiItIfr8t+aY8lMbuOrQAarLXzkh+ZiIiISOZRzwoREZHE\nCABbjTF/iC/0JkucCbyakqhEREREMpB6VoiIiCSIMeZu4N9xu/2/AYzG7V4fAGZba7enMDwRERGR\njKEJNkVERBLn87jj9i/CnTCzCXeiv+uUqBAREREZOPWsEBEREREREZG0ojkrRERERERERCStKFkh\nIiIiIiIiImlFyQoRERERERERSSuaYDPD1NS0JH2SkZKSPBoaWpN92/2WKXFC5sTaX5wVFQW+JIaz\nF7WHvmVKnJA5saZ7e4Dkt4lM+ewgc2LNlDhh37GqPaS3TIk1U+IEtYfeZMrnlylxQubEmqh/MylZ\nkSDGmADuUnUGcICrgHbgLm//HeBL1tpY3Dl+4BZgNtABXGGtXZPcyPsXDAZSHcKAZEqckDmxZkqc\nyZQp70mmxAmZE2umxJlMmfSeZEqsmRInZFasyZBJ70emxJopcUJmxZosmfKeZEqckDmxJipODQNJ\nnH8DsNYeD1wH/BdwI+5ydScAPuDsHuecA+RYa48Fvg3ckLxwRURERERERNKTkhUJYq19FPi8tzsB\naASOAF70yp4ETu1x2keAp7zzlwJHDn6kIiIiIiIiIunN5zhJH740pBlj7gbOBT4J3GWtrfLKTwYu\nt9Z+Nq7uHcBD1tonvf1NwGRrbaSv60ciUSdTuv/IsJDSMZhqD5JmUj4mWW1C0ojag8geag8i3WnO\nilSw1l5ijPkW8AqQG3eoALe3Rbxmr7yLf1+JCiAlE6pUVBRQU9OS9Pvur0yJEzIn1v7irKgo6PNY\nMqg99C1T4oTMiTXd2wMkv01kymcHmRNrpsQJ+45V7SG9ZUqsmRInqD30JlM+v0yJEzIn1kT9m0nJ\nigQxxlwEjLXW/jfQCsSA140x8621LwALgIU9TluMO9fFX40xc4EVSQxZRERERBLEcRwcx8HnS/kf\n0SVOZ7iDjTssa7e8w9qt77JxuyUUzKaksILi/DJKCiooLiin2HstKaigcEQpwYC+Jomkmlph4jwM\n/NkYswgIAV8B3gNuN8ZkedsPAhhj7sGdhPMR4KPGmCW4XWEuS0XgIiIiIjJwre0trN68ArtxGas3\nv43d+BabqlcRi8W61fP5fPjweQkM354yrxwvsdFVp2c9vz/ApNHTmTN9HnPMiRw8+SiyQznJfNSM\n4TgOtY3bWbv1HdZseYd1XnJi047VRGP77Li8F5/PR2FeCUVe8sJNYpRTnF/eo6yC4vxyCvNLB+mp\nRIY3JSsSxFq7C/h0L4dO7KXuxXG7Vw1aUCIiIiJyQHa2NbF603JWbXobu2kZqza+xeYP1hA/71tu\ndj6HHHQ0Pu+f1l29LMB9dXB2l+Ptd53v4JU5dK+HQzjSybvrXmXF2qXc/fgvyArlcMiUucwx85gz\nfR5mwpxh2QOgvbOV9dveY+2Wd1m79R3Wea/Nuxq61cvNzmf6xDlMGTuLKWNmMmXsLCaNnk40FqWx\npZbGnbU0tNTQ2LLntWf55urV9DfHn8/n47Kzv8GlC74/mI8tMuwMv/+6iYiIiIj0oqW1kVWb3mbV\nxrdYtfkt7Ma32PLB2m51RuQUctjUjzBtwmFMGz8bM/5wxo6cQmVl0aCMJd/Z1sTbq5bwpn2RN+0i\n3nj/Bd54/wX4G+TlFDB76nHMMScyZ/o8poyZhd8/dBb7i8VibKvdwNot77Ju6zu7kxNbPljbLYHg\n8/kYUzGZw8283UmJKWNmMqpsQp/vR3FB+YBiiMaiNO+s3yux0dRSS4OX2GjaWce4yskJeWYR2UPJ\nChEREREZdpp31WM3vuUmJza9hd24jG21G7rVyc8r5ojp85k2fjbTxh+GmXAYVeWTkpoQyM8t4vjZ\nCzh+9gIAGltqWbbqJd58fxFv2hf514qn+deKpwEoHFHCYdNO8HpenMiEUdPScg6NznAHDS0fUN/8\nAQ3NH1DfXEN9c/Ve27VN22lt39nt3Py8YmZPPX53UmLymJlMqppBbvaIQYk14A9QUlhBSWEFk5jR\nZ71MmfhQJJMoWSEiIiIiw8bLbz/B7+7/FjvqNnYrLxxRwpEzTsJMOBwz3u01Mbp8Ytp92S8uKOek\nI87lpCPOBeCDhq0ss4u85MUiFi37O4uW/R2A0sLK3fNdzJk+j6ryiYMWV38JiIaWD6hvqqa+pYad\nrT0XyNtbUX4ZYysnMW7kNKaMmcWUsTOZPGYWI0vGpN1nIiKDQ8kKERERERk26pp2EItFOWbmqUwb\nf9juHhOVpeMy8kvwyJIxnD73Ak6fewGO47Ctdj3L7Eu8+b47bOS5Vx/guVcfAGBU2QTmTJ/H1AmG\nxqZmwpEwkUgnnZEOItEw4Ugn4UiHWx7t9PY7iUQ6CUfD3rFOItEwneEOr45bHomG+421KL+MiuLR\nTBs3m9LCCkoLKykpHEmp99O1XVxQTjAQUm8FkWFOyQoRERERGTbOnnc5Z8+7PNVhDIquuRvGVEzm\nzI9cguM4bNxuecO+yJvvL2LZqpd4YvFfYPH+XTcYCBEKZhMKhggGsggFs8jLyScUzCIYyCIrmEV2\nVt5eCYgSbz8+ASEiMlBKVoiIiIiIDEE+n4+JVdOZWDWd8076AtFYlDVbVuALtNO6K+ImIULZhAJZ\nexIRoWxCgRChYBahYDbBQCgje5yISOZTskJEREREZBgI+AOY8YdpeIWIZIShs7aRiIiIiIiIiAwJ\nSlaIiIiIiIiISFpRskJERERERERE0oqSFSIiIiIiIiKSVpSsEBEREREREZG0omSFiIiIiIiIiKQV\nLV2aIMaYEHAnMBHIBn4CXAiM8qpMBJZaaz/T47w3gWZvd7219rJkxCsiIiIiIiKSrpSsSJzPAnXW\n2ouMMaXAW9ba8QDGmBJgIfDV+BOMMTmAz1o7P9nBioiIiIiIiKQrJSsS5wHgQW/bB0Tijv0QuMla\nu73HObOBPGPMM7ifxXettUsHPVIRERERERGRNOZzHCfVMQwpxpgC4O/A7dbae40xI3F7VRxqrY32\nqHsIMBe4A5gKPAkYa22EPkQiUScYDAxa/CL7yZfKm6s9SJpJaXsAtQlJK2oPInuoPYh0N6A2oZ4V\nCWSMGQc8Atxirb3XK/4kcG/PRIVnFbDGWusAq4wxdcBoYHNf92hoaE1w1P2rqCigpqYl6ffdX5kS\nJ2ROrP3FWVFRkMRo9qb20LdMiRMyJ9Z0bw+Q/DaRKZ8dZE6smRIn7DtWtYf0limxZkqcoPbQm0z5\n/DIlTsicWBP1byatBpIgxphK4BngW9baO+MOnYrbY6I3lwM3eOdXAYVAz6EiIiIiIiIiIsOKelYk\nzneBEuD7xpjve2ULAAOsi69ojLkHuA74E3CXMeZlwAEu39cQEBEREREREZHhQMmKBLHWXgtc28uh\nmb3UvThu98JBC0pEREREREQkA2kYiIiIiIiIiIikFSUrRERERERERCStKFkhIiIiIiIiImlFyQpJ\nvmgYYppHVERERERERHqnCTZlcMUiBGpXE9y+nNC2twluX07wg/cgFiGWX0msaAzRwtHECscQLRxD\nrHC0VzYGJ7cYfL5UP4GIiIiIiIgkmZIVkjhOjED9ejchsf1tQtuWE6x+B1+4bU8Vf4jIyOkQzMHf\nvI3g1mWEtrze++WCOUSLxhArrCJaWOUmNIqqiHVtF46GUG6ynk5ERERERESSRMkK+XAcB3/TFjcp\nsX05wW1vE9yxAn9Hy54qPj/RimmERx1KpGo2kdGHEhk5A4LZe64Ti+DfWYO/eSuBpq34m7cTaN6K\nP247WLe2zzBieaVej4wqmDQb/7RPEiscPZhPLiIiIiIiIoNMyQoZEH/LDjchsX05oe3uq7+toVud\nSNkUOqeeSmT0bMKjDyVSOROy8vq5cNAd+lE4msjYI3uvE24j0LwNf9NW99X76SoL1q7Gt2MFrHqa\n0mdvpGPmObQe83milTMS9PQiIiIiIiKSTEpWDGXRTnzhtt0/7N5u7aM87likDV9nG77OFqhdRVnz\nju6XLh5P+8TjiYz2ekyMmoWTUzg4zxHKJVo2hWjZFMK9HXccfK31lO94iehzvyNnxYPkrHiQzkkn\n0HrM5wlPPlFzX4iIiIiIiGQQJSuGiED1Sgr/djW+1kY30RBuw5eoFTeKquiYdtqeHhOjD8XJK03M\ntRPB58MZUQZzL6Jh8llkrX2B3FduI2v9S2Stf4nIyOm0Hn0lHTPP7j4ERURERERERNKSkhVDhC8a\nhmgEJ3sEzohynFAuTlYeTjDH3Q7l4YRyIZTr7ef2U77nWMWYUTTXtPQfRDrw+ek86GQ6DzqZ4PYV\n5L5yG9kr/0HhY18n+sLPaTvyMtrnfNZdaURERERERETSkpIVQ0SkajYN//FiqsNIK5HRh9Byzk3s\nOunb5L52JznL7iX/hZ8zYvFNtM0+n7ajP0esZEKqwxQREREREZEe/KkOQGSwxYrGsOvU71N/9Svs\nPOU6YrnF5L3+Z0pvnUfBw/9BcOuyVIcoIiIiIiIicdSzIkGMMSHgTmAikA38BNgMPAas9qrdaq29\nP+4cP3ALMBvoAK6w1q5JYtjDipNTSNvcL9B21OVkv/cYuUtvI+e9x8h57zHC446i9ZjP0zn1o+AP\npDpUERERERGRYU3JisT5LFBnrb3IGFMKvAX8CLjRWntDH+ecA+RYa481xswFbgDOTk64w1ggRMes\nc+mYeQ6hjf8id+kfyV77T4o2v0akdBJtR19B+6GfglBuqiMVEREREREZljQMJHEeAL7vbfuACHAE\n8HFjzCJjzJ+MMQU9zvkI8BSAtXYpcGSyghXA5yM88TiaP3M39Z9/nrbZnyHQtJWCp75H2U3HkPfi\nDfh21aY6ShERERERkWFHPSsSxFq7E8BLSDwIXIc7HOQOa+0bxpjvAT8AvhF3WiHQFLcfNcYErbUJ\nWnNUBipaMY2dZ/6SXfO/Se7rd5H75l8Y8fJvyFt8E9GS8UTLphAtO4ho2RQi3raTV5LqsEVERERE\nRIYkn+M4qY5hyDDGjAMeAW6x1t5pjCm21jZ6xw4GbrLWnhJX/0ZgqbX2r97+Fmvt2H3dIxKJOsGg\n5lQYdB274NV7YdnDUG1hV/3edUaUQeU0GDkVKqfCSG+7dDwEhk0e0JfKm6s9SJpJaXsAtQlJK2oP\nInuoPYh0N6A2MWy+UQ02Y0wl8AzwZWvt817x08aYq621rwKnAG/0OG0x8G/AX705K1b0d5+GhtYE\nRj0wFRUF1NS0JP2++yvhcU7/jPsD+FrrCdStJVi3lkDdGgK13uv6V/Ct+1e305xAFtHSiUTLDtrd\nCyNaNplo2RSc7ILBiXWQ9BdnRUXPkU3JpfbQt0yJEzIn1nRvD5D8NpEpnx1kTqyZEifsO1a1h/SW\nKbFmSpyg9tCbTPn8MiVOyJxYE/VvJiUrEue7QAnwfWNM19wVXwN+bYwJAzuAzwMYY+7BHSbyCPBR\nY8wS3OzSZUmPWgbEySslkldKZNxR3Q9EOgg0bCBQt45g3RoCdWsJ1LqvwZpVZPe4TjS/kmj5QTDu\nYHJGTCRaMY1IudGQEhERERERkThKViSItfZa4NpeDh3fS92L43avGrSgZPAFs4lWGKIVhs74csfB\nv7O6e/Kifi2B2rVkbVgMGxYTn0+MjaggUj7VS15MI1oxVUkMEREREREZtpSsEBkMPh+xglHECkYR\nntgjX9W5i4rodppXLyNYs4pA7WqCNavI2rgENi7pVnXvJIb7qiSGiIiIiIgMZUpWiCRb1gioOJyO\n3IPoiC/v3EWwdg2B2lUDS2JUTCNaPnVPEqPsIJy8UvClfA4nERERERGRA6JkhUi6yBpBpGo2karZ\nvSQxVu9OXgRqVhGsXb17OEm8WE4R0ZKJ7oSeJZOIlk1yX0sn4eQUJvVxREREREREPiwlK0TSXdYI\nIlWHEak6bN9JjLq1BBo2EKxeSWj723tdJjainGjpJCKlk4mWTiJaOtldtaRkIoRyk/U0IiIiIiIi\n/VKyQiRT9ZXEiEXxN28lULeOQP0GAvXrCNavd1+3vEFo82t7XSpaWLUneRGXzKB0ZtIeR0RERERE\npIuSFSJDjT9ArHg8seLxhKf0OBbtJNCwiYCXvOhKZgTq15O14WXY8HL3+lWz4LInkxa6iIiIiIgI\nKFkhMrwEsoiWH0S0/KC9j3W2EmjYuDt5EaxfR86YqcmPUUREREREhj0lK0TElZVHtHIG0coZu4ty\nKgqgpiWFQYmIiIiIyHDkT3UAIiIiIiIiIiLxlKwQERERERERkbSiZIWIiIiIiIiIpBUlK0RERERE\nREQkrShZISIiIiIiIiJpRckKEREREREREUkrWro0QYwxIeBOYCKQDfwE2ATcBESBDuBia211j/Pe\nBJq93fXW2suSFbOIiIiIiIhIOlKyInE+C9RZay8yxpQCbwHrgauttW8ZY74AfAv4WtcJxpgcwGet\nnZ+KgEVERERERETSUb/JCmPMJ4DfAxHgi9baf8QdexC4yVr74ocNwBgzDXgImApcY629rcfxw4AC\na+1LA7iWD/gCcJu1NjaA+huAn1hr7/gQoff0APCgt+3Dfb8+Y63d7pUFgfYe58wG8owxz3jHv2ut\nXZqAWEREREREREQyls9xnD4PGmMCQDVwLe78Fr8GKqy1jpdE+JW19tQDCcAY8xvgJOBcoNZa29zj\n+HrgvwZgb/SkAAAgAElEQVSSUDDGnAi8AISstZEB1N9A4pIVXdcsAP4O3G6tvdcrOw74EzDPWlsT\nV/cQYC5wB26y5knA7Cv2SCTqBIOBRIUrcqB8qby52oOkmZS2B1CbkLSi9iCyh9qDSHcDahP99awo\nB8pwew34gHuACuAD4Hrv50AVAe9Ya9f1cXx/GndK/0NgjBkHPALcEpeoOB/4HvDx+ESFZxWwxlrr\nAKuMMXXAaGBzX/doaGgdlNj3paKigJqalqTfd39lSpyQObH2F2dFRUESo9mb2kPfMiVOyJxY0709\nQPLbRKZ8dpA5sWZKnLDvWNUe0lumxJopcYLaQ28y5fPLlDghc2JN1L+Z+ktW1AKtwBzcnhW7gDpj\nzBFAnrX25f5uYIzxA18HrgKqgFdxh3u8bYx5ATjRq3ehtdbX49wXgAnA7caYj1hrLzXGzMDt4XEc\nsBO4DfgRMB5Y6J0aNsacBCwGfgpcAFQC24CfWWtv7S/u/WWMqQSeAb5srX3eK/ss7rCU+dba+l5O\nuxw4BPiiMaYKKAS291JPREREREREZNjY59Kl1too7qSQL+EOr/iaV/ZDBt6r4v8B3wC+ipv0WA88\n5Q2X+ATwV9w5K0b3cu4ngC24yY5rjTHlXizbgGOA/wC+5B3fDJznnTcWWOLFfhbwScAAdwG/8xID\nifZdoAT4vjHmBWPMS7grgRQAD3tlPwQwxtxjjBmPOzSk2BjzMnA/cPlAhq+IiIiIiIiIDGX9TrBp\nrb3ZGHM34FhrdxpjjgZCwKvGmDuA03HnaLi656SW3oSXVwPXWWv/7pVdCazFXcbz98aYNiBord3R\ny73rjTFRoNla22SMuQZoA75grQ0D7xljRgM/ttb+0hjT1Xuh2lobMca8A1zRNWmlMeanuMkTg5vw\nSBhr7bW4c3sMpO7FcbsXJjIOERERERERkUy3z54VXay1Ldband7uD4EfAJ8CZuJ+8T/S2+9pJFAK\nvBJ3rTDwOjDjQ8Q7A1jmXaPLEqDc63XRM+5HgRxjzA3GmMeBDd4hzS4jIiIiIiIikqYGlKzo4q1q\ngddT4VjgRWttK+5cEXN7OaWtj0sF+HAJg96uF+jxupsx5ifAvbjLiP6ljxhFREREREREJI3sV7KC\n7nNVOHHnB+llJQ5vGdLtuPNLAGCMCQFHAHaA94xfW/V9YI53jS7HAvVATY+64E7qeY219lvW2vuA\nEV55ypcPEhEREREREZHeDThZYYyZB3Raa7uGdLwOfNwYMxNYQNxQjx5uAK43xpxljJmOu3pHLvB/\nA7z1TmC6MaYUt5dEAPijMWaGMeYs3ATKrd58GV1DVeYYY3KAOuBMY8xkY8xHcHtXAGQP8N4iIiIi\nIiIikmT707PierqvAHIfsBx3zohXcVf16M2vgT8AfwTexF1idL61tnqA970Zd/nPO7x5Mz4GTAGW\nAb8Hfos7aSbACuBp3BVDzmDP0qDvAncDDwBLgcMHeG8RERERERERSbJ+VwPpYq09ucd+GLhgAOfF\ncCfk/EEfxy/t5/w/4iY6uvbfBk7so24nbjIj3qE99n8WV3/ivu4tIiIiIiIiIsm3v3NWiIiIiIiI\niIgMKiUrRERERERERCStKFkhIiIiIiIiImlFyQoRERERERERSStKVoiIiIiIiIhIWlGyQkRERERE\nRETSipIVIiIiIiIiIpJWgqkOYKgwxoSAO4GJQDbwE2AlcBfgAO8AX7LWxuLO8QO3ALOBDuAKa+2a\npAYuIiIiIiIikmbUsyJxPgvUWWtPAD4G3AzcCFznlfmAs3uccw6QY609Fvg2cEMS4xURERERERFJ\nS0pWJM4DwPe9bR8QAY4AXvTKngRO7XHOR4CnAKy1S4EjBz9MERERERERkfTmcxwn1TEMKcaYAuDv\nwO3Ar6y1VV75ycDl1trPxtW9A3jIWvukt78JmGytjfR1/Ugk6gSDgcF8BJH94UvlzdUeJM2ktD2A\n2oSkFbUHkT3UHkS6G1Cb0JwVCWSMGQc8Atxirb3XGPOLuMMFQGOPU5q98i7+fSUqABoaWhMS6/6o\nqCigpqYl6ffdX5kSJ2ROrP3FWVFR0OexZFB76FumxAmZE2u6twdIfpvIlM8OMifWTIkT9h2r2kN6\ny5RYMyVOUHvoTaZ8fpkSJ2ROrIn6N5OGgSSIMaYSeAb4lrX2Tq94mTFmvre9AHipx2mLgTO88+cC\nK5IQqoiIiIiIiEhaU8+KxPkuUAJ83xjTNXfFtcDvjDFZwHvAgwDGmHuA63B7YXzUGLMEtyvMZUmP\nWkRERERERCTNKFmRINbaa3GTEz2d2Evdi+N2rxq0oEREREREREQykIaBiIiIiIiIiEhaUc8KERER\nERERETkgLZE6/lH7Mzprm7i0/LYDvp6SFSIiIiIiIiLyoUScMAsbbuPvNT+nNdbItIKjcRwHn+/A\nVu1VskJERERERERE9tuKnc9wX/V32NG5mjx/MRdU/pxPTf0qDXXtB3xtJStEREREREREZMC2d6zi\n/urvsGLXs/jwc1LJFZxd/j0KgmUE/SFAyQoRERERERERSYJd0Qb+XvMzFjbcTpQIM/Lm85nKnzE2\n5+CE30vJChERERERERHpU9SJsKjxLh6t+Qk7o/WMDE3i05U/5bD8Mw54boq+KFkhIiIiIiIiIr1a\nuesF7qv+Nls7VpLjL+BTI3/MKSVXEfJnD+p9lawQERERERERkW6qO9fy1+rreGvn4/jwcULRxZw7\n8vsUBSuTcn8lK0REREREREQEgLZoM4/V/Yrn6m8h4nQyNfdYLqj8ORNyD0tqHEpWiIiIiIiIiAxz\nMSfK4qb/5eEPfkRz9ANKg+P4dOWPObLg3EGbl2JflKwQERERERERGcZWtS7hvupvs7H9LbJ8eZxT\n/j1OL7uGLH9uymJSskJERERERERkGKoNb+LB6v/Hay0PAzC38HzOG3k9paExKY5MyYqEM8YcA/zc\nWjvfGHMfMMo7NBFYaq39TI/6bwLN3u56a+1lSQtWREREREREhp0dHat5qfEenm/4I2GnnUk5R3DB\nqJ8zJffoVIe2m5IVCWSM+U/gImAXQFdiwhhTAiwEvtqjfg7gs9bOT26kIiIiIiIiMpzsijbwavND\nLGm8l3XtrwNQHBzNeSOvZ27h+fh9/hRH2J2SFYm1FvgE8Jce5T8EbrLWbu9RPhvIM8Y8g/tZfNda\nu3TwwxQREREREZGhLuKEeXfncyxu+j/e3vkEEacTH35mjTiF44ou5PCCM1M6L8W+KFmRQNbah4wx\nE+PLjDEjgVPo0avC0wr8CrgDmAo8aYwx1trIYMcqIqnl62ghtG0ZoS2vEdhVS7RoLNHicUSLxhMp\nHoeTWwopmHVZRERERDLf5vYVLG66l1ea/kpztAaAqqzpHFd8IXMLP01JqCrFEfbP5zhOqmMYUrxk\nxX3W2rne/heBEmvtf/VSNxvwW2vbvP1XgfOstZv7un4kEnWCwcCgxC7yIaT023SmtQenaTvO2n/h\nrPsXbH0HnJh7wOffs90lOx/KJuArnwRlE/GVTYTyCfhyCpMetwxYyrNLmdYmZEhTexDZQ+1BkqKh\ns5pFH9zLP6vvZv2utwEoCJYxb+QFnFx5CQflH5GSJUh7MaAg1LNi8J0K/KSPY5cDhwBfNMZUAYVA\nz6Ei3TQ0tCY2ugGoqCigpqYl6ffdX5kSJ2ROrP3FWVFRkMRo9pb27cGJEahbS9aW1whteZ1g06bd\nhyJlU+kcexSd444iVlCFf+cOAo2bCTRuIti4iUDTJvzb34Nt77qX8s6L5ZYQLRpHtHg8keLxRIvH\nEy0aC8GcDx9nimVKrOneHiD5bSJTPjvInFgzJU7Yd6xqD+ktU2LNlDhB7aE3mfL5ZUqc0Hus4VgH\nb+98kiVN97Ji57PEiBIgyGH5H+f4ogs5tOB0gr4saIfa9p0pi7Pn8YFQsmLwGWBdtwJj7gGuA/4E\n3GWMeRn3u8jlGgIikuGinYR2vENoy2tkbX0df1sDAI4/ROeYIwiPPZLOMUfi5JZ0Oy1WOIZY4RjC\n4+d2u1agaSuBJjeJ0fUT2rGc0I7lu6s5+Ijlj9w9jCRaPB4ndhCBxlaIRfDFIhCL4otFIRbxyrxt\np2s76tWLxG1H445HwIkRLRpHZNQhRIvGaZiKiIiISAo4jsP69tdZ3HgvrzY/RGusEYAJOYdxXNEF\nHFP4KQqC5SmO8sApWZFg1toNwNy4/Zm91Lk4bvfCJIQlIoPI195MaNubbg+K7W/ji7QDEMsupGPy\nSXSOPZLw6Nl79X7oVyCLaOkkoqWTut+vcxeBpi0Emjbt7o0RaNxE1pbXYYs7s3NsMRQl5Ol6F8su\nJFw5i0jlTMKjDiFWMFrJCxEREZFBVNuxhcdr72BJ073s6FwNQFFwFB8rvpZjiy5gbM7BKY4wsZSs\nEBH5EPwt2/cM76h5H58350S0YDSdY48iPPZIIuUG/IkfH+pkjSBSYYhUmG7lvvam3YmL/GgDbe0R\nHH8AfEGcQBB8AfAHcPxB8Ae7bbv1At62e2x3uffqcyBQt5pQ9TuEdrxD9qYlZG9aAkAst5Rw5SzC\no2YSqTyEWP7IhD+3iIiIyHDjOA7v7HqWZ+tvYeWuhTg4hHw5HF14HscVXcjBI04i4BuaX+uH5lOJ\nyPAWDZP/8g342xrjvox3fUHf82V8d1kguFe97sdCbpnPT8xupWjVYgLNWwB3CEakfJo7vGPs0cQK\nq1LWw8DJKSIy6hAiow6hsKKA1kEYfxktHkfnlJPBcfC37CBUvYJgV/JiwyKyNyxy640YubvXRbhy\nJk5eWcJjERERERmqIk4nS5se4On637Gt4z0AZhQez1F553NU4TnkBYpTHOHgU7JCRIaeWIRA83b8\nu2rc+Rl6rrRxABzAH8iic+yRdI45ivCYI3Byh/7/LPbi8xErHE1H4Wg6pp4GjkOgaQvB6hWEqt8h\nWL2S7HULyV63EIBoQRXhyplEupIXOYM5SEVEREQkM7VGG3mx8S6eq7+Vxsh2AgSZW3g+p5ddzRHj\njs+YyUATQckKERl6Qrk0/dtv9+zHouC4k0T6opG4SScjcZNKesecPXX2qhcNU1A1gdq8qRDMTt3z\npSOfz53gs3gcHeYMiEUJNG50Exc73iH0wUpy1jwLa54FIFI0jsioWYQrZ+EUzO3n4iIiIiJDW314\nC8/W38Kixrtpj7WQ7c/ntNIv89HSL1IaGpvq8FJCyQoRGfr8ASAAgSyckFvk7POEvhVWFMAwymh/\naP4A0dLJREsnw4yz3N4u9evclVKq3yFY8z5Bu5kc+ySxl/wUVEwnXHU44ao5RIvHa7JOERERGRY2\nt6/gqbrf8lrzw0SJUBwczZnl3+TE4kuHxVCPfVGyQkREBp8/SLR8GtHyabTP+gREwwRrVxOqXkFu\nzQqCO94j9MFKeOt/ieaVu4mLMXMIV86CUG6qoxcRERFJGMdxeHfXP3m6/nes3OUOma3KnsHppdcw\nt+hTBH1ZKY4wPShZISIiyRcIEak8mEjlweRXXEHt5i2Etr9NaOsbhLa/Tc6aZ8lZ8yyOP0ikciad\nVXMIj5njLpEqIiIikoEiTpjXmh/i6bqb2NyxAoDpefP4WNk1zBrxUXzqWdqNkhUiIpJyTk4RnZPm\n0TlpHsSibq+LbW+6P9vfJrT9bXjjz0QLRhOumkPnmDlERh4MgVCqQxcRERHZp7ZoM4sa7+bZ+lto\niGzFh5+jC8/j9NKrmZg7J9XhpS0lK0REJL34A0RGTicycjpth12Ir7WOrG3LCG19k9CO5eTYx8mx\nj+MEcwiPmkW4ag7hqjnERpSnOnIRERGR3RrC23iu4Q+82HAnbbFmsnx5nFJyFaeVfonyrAmpDi/t\nKVkhIiJpzckro+OgU+k46FR3roua98ja6va6yNryOllbXgcgUjzeTVyMmUOk3HgTq4qIiIgk15b2\nlTxd/zteaXqAKGEKAyP5WMW1zC/5HPmB0lSHlzGUrBARkcwRCBEZdSiRUYfCEZfib9lBaNsyd66L\n6ncJNj5K7spHcQLZRIvHEymZSNT7iRSP12SdIiIiMiiiToS3Wp5gYcMdvNf6AgCjsqZyeuk1HFt0\nPiF/TmoDzEBKVoiISMaKFYyiwyygwyyASAeh6ncIbX2TYM37BOrXEaxbvbuug49YQaWXuNiTxIjl\nlWmpVBEREflQGsM7eKnxbl5s/DMNkW0AmLwTOK30Sxya/zH8Pn+KI8xcSlaIiMjQEMwmPOYIwmOO\ncPejYQJNWwg0biTYsJ5Aw0YCDRvI2rSUrE1Ld58Wy8r3EhcT9iQxisZq8k4RERHpleM4rGpbwsL6\n23mz5e9EiZDjL+Dkkis5qeRKqrKnpzrEIUHJChERGZoCIaKlk4iWTqKT+W6Z4+BvrSPQsIFAwwaC\njRsINGwkWP0uoep3dp/q+AJEi8bEDSGZiFNwCKAeGCIiMnTEnBhr2pZSEZpISagq1eGkvbZoC0ub\n72dhwx1s7VgJwJjsgzm55EqOKfw0uYGCFEc4tChZkWDGmGOAn1tr5xtjDgceA7r6Id9qrb0/rq4f\nuAWYDXQAV1hr1yQ7ZhGRYcPnIzainNiIcsJjj9xTHm4j2LgpLomx0U1iNG6C9YsAiC3Kxn/GDcQK\nRqUoeBERkcR6d9fz/GbzeQCUBscxNe8YDsqdy5S8YxiXPQu/T5NVA2zteI+FDbezpOk+OmI7CRDk\nqMJPcHLJ55maeyw+DScdFEpWJJAx5j+Bi4BdXtERwI3W2hv6OOUcIMdae6wxZi5wA3D24EcqIiLd\nhHKJVBgiFWZPWSyKf2c1QS+BkRcIE8stSV2MIiIiCTY97wTOH/lTbOti1rQt5ZXmB3ml+UEAsv35\nTMk9iim5R7sJjNyjyA0Upjji5Ik4YZa1PMbChtuxrS8DUBIcw4KyrzCv+BKKgpUpjnDoU7IisdYC\nnwD+4u0fARhjzNm4vSu+Yq1tiav/EeApAGvtUmPMkYiISHrwB4gVVtFZWAUTjiO/ogBqWvo/T0RE\nJEOE/DmcVvZlTiv7Mo7jUN25hjVtr7KmbSlrWpeyctdCVu5aCIAPH2OyZ3JQ7jFMzZvLlNxjKA9N\nGHK9ChrC23ix8c8sarybpsgOAGbkzefkkiuZXbCAgE9foZPF5zhOqmMYUowxE4H7rLVzjTGXAcut\ntW8YY74HlFhrvxFX9w7gIWvtk97+JmCytTbS1/UjkagTDKo7lqSNlP7fSe1B0kzK/7WmNiFpRO1B\nZI+MbQ/N4Tps81Lea17Me82LWd3yKp2x9t3HS7NGM73weGYUHseMwuOZnH84QX/mTVDtOA7LGxfy\n5PZbWFr7KDGijAgUcfKoS1kw+irG5mnCzAQbUJtQWmhwPWKtbezaBm7qcbwZiJ+Fxb+vRAVAQ0Nr\nAsMbmIqKAmoy4K+JmRInZE6s/cVZUZHaSYTUHvqWKXFC5sSa7u0Bkt8mMuWzg8yJNVPihH3HqvaQ\n3jIl1kyJE4Zye8hiIvOYmD+PBfkQcTrZ1L6cNa1Ld/fAWFL7IEtq3aEjWb5cJubO4aDcuZw+4SLy\n2yYn7iEGQVu0meXRh/nH5pvZ3rkKgHHZh3BSyZXMLfoU2f4RsAtqdqXH72GmtIlE/ZtJyYrB9bQx\n5mpr7avAKcAbPY4vBv4N+Ks3Z8WKZAcoIiIiIiIyEEFfFpNzj2Ry7pGchtsjoTa8kbVtr7C6dSlr\n2l5hdesSVrUu5om6Gzg0/3TOKPs6U/Pmpjr0bpoi1TxXfysLG/5EW6yJoC+LuYWf5qSSK5mSe/SQ\nG9qSqZSsGFz/AdxkjAkDO4DPAxhj7gGuw+1t8VFjzBLcrjCXpSpQERERERGR/eHz+ajImkhF1kTm\nFp0PuL0V3mtdxMLmW1je/DTLdz7N1Nzj+Hj515k14tSUJgKqO9fwdN1NLG66l4jTQWGggk9M+DFH\nZl1IYbAiZXFJ75SsSDBr7QZgrrf9JnB8L3Uujtu9KjmRiYiIiIiIDK7cQCFzCs7k9MkXsHjj0zxR\newMrdj3LbzYvYXz2bM4o/xpHFJyV1GVR17e9wZN1v+XNlr/h4DAyNInTy67huKILGVM5MiOGVgxH\nSlaIiIiIiIhIwk3LO45p449jY/vbPFn7a15veYQ/bL2EyqyDWFD2VY4tOp+gL2tQ7u04Du/uep4n\n637D+62LAJiQczgLyr6S9GSJfDhKVoiIiIiIiMigmZAzm6vG3sWOju/xVN1vWdL0f9y1/Uv8rean\nnF52NfOKL3Ens0yAqBPh9eZHeLLut2zuWA7AwSNOYkHZV5mRd6Lmo8ggSlaIiIiIiIjIoBuVPZVL\nq27mrIrv8Ez9TbzYcBf3VX+bx2p/yaml/8HJJVcyIlDyoa7dEWtlceP/8HT9zdSGN+DDz1GFn2BB\n6VeYkHtYgp9EkkHJChEREREREUma0tAYPlP5Mz5e9k2eb7iV5+tv49Gan/BU3W+ZX/I5Tiv9EkXB\nygFda2ekjoUNd/Bcwx/YGa0j5MthfvHnOL3sakZmpffSqbJvSlaIiIiIiIhI0hUEyzin4jpOL72G\nFxv/zDN1N/NU3W94rv5WPlL0WT5Wdi0VWRN7PbcuvJln6m7mpcZ76HB2kecv5syyb3JK6VVa2WOI\nULJCREREREREUiY3UMjHyq7llJIvsLjpf3my7re80PgnFjXexdGFn+SM8q8xJnsGAFvaV/JU/W94\ntelBokQoCY7hnNLvMa/kUnL8+Sl+EkkkJStEREREREQk5UL+HOaXfI4Tii/hteaHeKLu1yxtvp+l\nzfdzWP7HiRFh+c6nAajKms7Hyq7lmKJPDdqKIpJaSlaIiIiIiIhI2gj4gswtOp+jCz/F8p1P8Xjt\nr3hr5+MATM09lgVlX+GQ/NPx+/wpjlQGk5IVIiIiIiIiknb8Pj+HFZzB7PwFrGt/jQBBJubOSXVY\nkiRKVoiIiEjmibbjD7fgCzfhDzfjCzf3+eqLtBDFoRgf4AP84PODz4eD+xpfBn6c+DJ8PY65ZU6o\ngGhOJbGcSmK5o9zt7HLwh1L3voiIDEE+n48puUenOgxJMiUrREREhris6hcINSwDJ4bPiYIT27NN\nDLwyn7NnGyfq7u8+7u13/RAl6vNRTBAnkIXjzwJ/99c92yH3NdDPcX8W+AL4Ijt7JB2a9k5CxDr7\nfW7HF8AJFhDLKsUfChELRwDHey7He44YOA4QwxeL7C7zOc7uOr6uOnHn+Yj1fk/8xLLLieVW7k5k\nRHNGEct1t53giMR8qCIiIkOckhUiIiJDXHb1Pwk1rdxnHWd3zwI/+AI4vgBdPQscX8B99Wd5+24d\nf8CPE26HaCf+SJObQIh14sMZlOdw/FnEQoVE88YSCxXieD9d27Fg930nOMLrDQEVFQXU17QkMBjH\nTZy0VxNo34G/rZpAezX+9h0E2qsJNa4gxIq9TosFC9wERm4lsZxRRHNGuq+5o3CyShIXn4iISIZT\nskJERGSIa5n1//CFm8FLOsQnINidlPDt93V7TQA4DjiRPYmLWNh77cQX7dy9vbss1gmx8J5tJ4IT\nzCcWKuqeiAgVQiAnMW9IIvh8OFlFRLOKiBZO2/t4tINA+wf423e4CY22PYmMwK4NBHeu2esUxxci\nOmIkBf4iYlnFOFnFxLKKiYXitrNKcEKF3ucmIiIydClZkWDGmGOAn1tr55v/3969h8lRlXkc/85k\nmMmFISSSC4SbCLwSCYviKijBcJPFy6K4GERARRFhFRBFNMAiigtPFBQCCAoYRHezLuANN4pgzAqI\nIhBE0FejRhBCiCEJCTFDMtP+cU4nNZ3urk7Sl6rp3+d5eNJdl+63hvPWqT51zimz/YFZQD/QB5zs\n7ktKtn8IeD6+/bO7v6+pAYuIyNDX2UWhZ2xzvqujAzq2CUM7GNWgPhY5MKyH/lG70D9ql03XFfrp\n7HuOzrVLNumZ0bXub3T1PV21d0qBjtCAs6HxotiQsX3i9RgK3dtTGDZyixqiREREWk2NFXVkZp8A\nTgJeiIuuBD7i7gvM7DTgPOCcxPbDgQ53n9bsWEVERKRFOoYxMHwcA8PHAfsOWjVuXC9Ln10Rhpi8\nuJzOF1fQ8eIKOtet2Pi6+H7tUrpe+EvVryp0bMNAzxj6R+zEwIhJ9I/cmf6Rk+gfMYlC9+gGHqSI\niMjWUWNFff0ROBa4Jb4/3t0Xx9ddwNqS7f8JGGlmd8b1M9z9/qZEKiIiItnUMYxC9xj6u8fQn7Zt\nf1/ZhozwenlY17eM7uULYPmCQbsOdPWGhovYgDEwYucwH0jPS+JTUERERFqno1Bo2w6aDWFmuwNz\n3P3AxLLXATcCh7j70sTyKcCBwA3AXsBcwNx9faXPX7++v9DVpXGqkhkt7VusfJCMaXlfe+WEVFJY\n9wKsepLCqicG/cvqxVD6ZJNhPbDtLnRstwv07kpHb/iXbXeio/bHsiofRDZSPogMVlNOqGdFg5nZ\ndOB84M3Jhoro98BCdy8AvzezZcCOwJOVPm/58jUNi7WSceN6WVrPGdQbJC9xQn5iTYtz3LjeJkaz\nKeVDZXmJE/ITa9bzAZqfE3n5fwf5ibWxcU6CkZNg5EEwIS4aWMewvy+mc81fGbbmKYb9Pf676glY\nGSYBLd7WKtDJwIiJsTfGroyachx/W1X+UlL5kG15iTUvcUL1WNsxHyA////yEifkJ9Z6XTOpsaKB\nzOxE4DRgmrs/V2aTU4ApwBlmthOwHbC4zHYiIiIi9de5Df2jdqV/1K6sSy4vDNDZtzQ0XKz5K52J\nhozuZU/DsgcojJ0I2x3aqshFRGSIU2NFg5jZMOAq4AngdjMDmO/uF5nZ14ELCENDZpvZPYQbF6dU\nGwIiIiIi0hQdnQwMn8DA8AmsG/uqjcsLhTD5Z99Sxuy+LywrnY5LRESkPtRYUWfuvogwDwVA2efE\nufvJibcnNDomERERkbro6KDQPZr+7tFx/go1VoiISGNoqmcRERERERERyRQ1VoiIiIiIiIhIpqix\nQm/ecqAAABFwSURBVEREREREREQyRY0VIiIiIiIiIpIpaqwQERERERERkUzpKBQKrY5BRERERERE\nRGQD9awQERERERERkUxRY4WIiIiIiIiIZIoaK0REREREREQkU9RYISIiIiIiIiKZosYKERERERER\nEckUNVaIiIiIiIiISKZ0tToAaQ0z2wa4Cdgd6AEuAR4HZgMF4DfAv7v7gJmdCpwGrAcucfc7zGw0\nMAfYFugDTnT3Z1oZZ9x+HHAvsJ+7rzWzEcA3gPHAKuA97r603nHWKdbRMdbtgG7gHHf/edbiTHzO\ny4FfABOSy/NI+VB/yof8yks+bG6scfuW5ERe8qEesSY+RzmhOqJRcSofWkj5UH95yYlW5IN6VrSv\nE4Fl7j4V+BfgauAK4IK4rAM4xswmAmcCrweOAi41sx7gvcCjcdv/Ac5tZZwAZnYUcCcwMbH/6Yk4\nvw5c0KA46xHrOcDd7v4Gwt/3mozGiZltB1xOqGSGAuVD9mJVPrROXvKh5lih5TmRl3yoR6zKCdUR\njY5T+dBayofsxTpkr5nUWNG+/he4ML7uILR4HgDMj8vmAkcArwHudfc+d18JLAT2Ax4FeuO22wHr\nWhwnwEB8/Vxi/4OBH5bZNouxfhG4Pr7uAhrV8r5VcZpZB/AVYAawpkExNpvyIXuxKh9aJy/5sDmx\nQmtzIi/5sNWxKidURzQhTuVDaykfshfrkL1m0jCQNuXuqwHMrBe4ldBa+AV3L8RNVgGjCSeRlYld\ni8uXAm80s8eBscDUFseJu/84bpv8iGT8G7bNYqzuviIum0joynV2FuMELgJ+4O6PlCzPLeVD9mJV\nPrROXvJhM2NtaU7kJR/qESvKCdURDY5T+dBayofsxTqUr5nUs6KNmdkuwDzgFnf/L0ILWFEvsAJ4\nno2tn8nlFwEz3X0y8EbgthbHWUky/rRtt9pWxoqZTQHuBma4+/xq27YwzhOB95vZTwldu+5sVJzN\npHyoP+VDfuUlHzYj1kqalhN5yYf4XcqJEnnJCeVD/SkfNqV8qL+85ESz80GNFW3KzCYQCsh57n5T\nXPywmU2Lr48Gfgb8EphqZsPj5C37ECZPWc7G1sZnCa2PrYyzknuBN9W47VbZ2ljNbDKhe9UJ7j43\nq3G6+57uPs3dpwHPECqaXFM+1J/yIb/ykg+bGWslTcmJvORDPWJVTqiOaHScyofWUj7UX15yohX5\noGEg7WsGMAa40MyKY4/OAq4ys27gt8Ct7t5vZlcRCl4ncL6HWWcvBG4wszOAbYBTWxlnlf2/DNxs\nZvcALwInNCjOesR6KTAcuDJ2jVrp7sdkMM6hSPmQvViVD62Tl3yoOdYq+zcrJ/KSD/WIdSjKS04o\nH7IX61CkfMherEP2mqmjUCikbyUiIiIiIiIi0iQaBiIiIiIiIiIimaLGChERERERERHJFDVWiIiI\niIiIiEimqLFCRERERERERDJFTwORpjGznYGZwEPAde6+usUhVWRm+wH/DXwIuNfdB1J2Edlsyglp\nZyr/0s7yVP6rMbMu4HWEJye8090fa3FIIhsMlTxrZ3oaiDSFmZ0CXEt4rvIwoA+Y6u5/iusPBy4j\nPIP5KWCmu9+Y2N+BvUs+9pXuvsDMFgGXuPsNdYr1RuB4YD2wDngMONLdX0yLJa7/CHAeMJrw+J4P\nu/sLZrY78GdgL3dfWI9YJb9qyInrgQ+W7PZRd/9SXH8ocCWwJ+FZ5h8olqtm5kT8rt3K7PY1dz/F\nzHYEni5Zt9Ldt1dOtK9q5d/MZgPvKbPbn919j7h/ZuqExHbvBk5394NLlpetE+K6HmAWcBzhb3CF\nu8+M694bj2PnehyHZEfa+T+x3Z7Ao0Cvu69PLK94/o/rm3IdYma9hMdSjgd6CY+h/JK7fzKu35Zw\nbfd2YATwU+Aj7v5UXF+x/Mf1uwFfBV4PPAGc4+5z47rZQJe7n7i1xyFDU0o9k/a7IxM5JhoGIk0Q\nK6tZwGmElvfpwO+A/4zr9wLuAL4N7A98BrjGzN4a1/cALyNUVjsm/vtNA2I9DHg38CrgYcJJbDJw\nSi2xmNmxwCXAGcChwD8Dl9c7Tsm3tJyIXgGcy+By9pW4/y7A94BvAK8GngG+a2Z1P6en5QShjCdj\nPInwPPJrEsexpGSb0h+Z0kZqKP9nMbi87A+sAq6I+2emTkhsdygxP0uWp9UJnwcOAo4g/D0uMLPj\n630ckh01nv+L5/k7gOFlllc8/zf5OuRcwo/AvYAHgaOB88xsn7j+S8A0QmPEIYQGi+8k6qqK5d/M\nOoDvAsviMdwM3GZmL23QscgQUi3PavjdkaUca3saBiLNsA8wErgd+BjQD3wSmBTXTwcWuHuxol5o\nZm8gXCB+HzCgADzg7usaHOsBwGPu7maGuy81s1PZeGc4LZazgVnu/j0AM/sQcJeZfbzBcUu+pOVE\ncZsL3P2ZMvufCjySuAN7CqEyPQy4q86xVs0Jd19a3NDMRhIuuD/r7g/GxZOB31U4DmlPVcu/u68k\n3AkDwMyuBn7h7lcXF5GdOgEzuwj4FPCHMvtXqxMKhFx+a8yXB81sJvBhYE5Dj0paKfX8b2ZvIzR+\nLS6zf9r5v5nXIQcAd8Y7yrj7PDM7HVhtZtsQruPe5u73xVjeT7iLvbeZPUn18n8oIdenuvsq4HEz\nOwJ4P3BBA45FhpZqeZb2u6PhOWZmnwZ2d/f3bt1hDn1qrJBmWBL/fX1xgbs/ADwQ334LmFuyTwHY\nPr6eDPyplotSMzuA0M1whrvP2sJY9zKz8YlYv5NYXzEWMxtGaF29JLH4fkKevRJ4smT7DxJaYo90\n9/u3IFbJr6o5YWYTgbGAV9j/QOD/E/uuMbOHCHeoBjVWNCEnks4i5O4XEssmU/k4BlFOtI20OmED\nMzsIeBvh7ldRluoEgCOBowg/ro5IfHdandAP9AD3JNbfA1wY900eRwdwC+HH4SHJRkLJnVrK/5uB\nCwnnznkl+1c8/5vZPJp7HbIEeG2yvLr7dfGzu4FjgPsS2xfHnm9PqOOqlf8DgYdjQ0Vy/dTSIMxs\nTFz3G+BdmlNGqJJnZvY41X93ZCnH2p6GgUjDufsTwA2E1s3jCcm+bWL97xN3YTGzCXG74o+uyUC/\nmc01s2fMbL6Zvbb0e8xsD+AHwOe38KIUwrizPwELgJeb2WElF43VYtme0F1zwx23OMZ0GTBozLGZ\n/SvwReDtOnm1n7ScIJSz9cBnzewpM3skjl8vKjcPxBI2LWfNyInid/UQ7l5c5u5rS45ldzP7VTyW\nOWa2U5n9lRNtoobyn3Q+cJu7J4d4ZKlOwN0Pdvf5ZfZNqxN2BJ4ryZclQDdhDoCkmYQfaUeqoSLf\nain/7n6qu19f4SOqnf+bfR1yBWGo3wPABDObkvjeF939zpIJDc+KsSwgvfzXWs8NJ3TZfxI4SQ0V\nAtXzrIbfHVnKsbanxgppCnc/ldC9ag1hbNgf4h2zQcxsFOHE8jRhUhwIXbnGxPdvAh4HfmJhEpui\nccAPgTnu/pmtiHMN4e70pUAH8CPgvsRdtWqxjIzb9JV8bB/h7kHRQcA3gZPdvd5d9iUnUnKiON73\nEcIY4BuB683suLh8JOnlrFk5UXRcXH9zyfJ9gFHAmYSLgUnA/1mYQb5IOdFmaqkTLEyudzRxroqE\nLNUJ1aTVCZXyGBK5bGZnAycTGir+ulkHIJlU6zVRBdXO/029DomNiJMJubYn8Gszuyn2BBrEzN5B\nmOPi3NhAkVb+a6nnOuNxdALHesmkt9Leaqxnyv3uaEiOmdlUM1ttZquBGcC7i+8tTNAsZaixQprG\n3b9NaP0+FpgPzE6uN7PRhApvD+At8SIR4ATA3P377v4QYUKbPxIu3oouIlSUf6n0/WaWPClUPDG4\n+9/jXbjfEiaN2hb4bA2xFO8O9JR8ZA/hRFn0VcIkU4sqxSrtoUpOXAtMcPdZ7v5rd7+KMH759Lh+\nLenlrFk5UTQduDWRt0UvBQ539/vc/WfAO4AphEfdFSkn2lBanQD8G7DQ3X9RsjxLdUI1aXVCpTyG\njbk8njCsah2b3umTHKuh/FdS7fxft+sQM7uuJD92Lbeduy929xnAvYQx/e8kNEwnP+t4wqN/L3f3\nr6UcB1TPj+RxHEt40sjfytQ9IlXzrMrvjkbl2K8IQxr3B66LcRXff29zj61dqLFCGs7MdopdoYpW\nEcZ67W1m4+I2OxDGZe4BTHP3PxY3dvd17v584n2BMKNvcjLCHxN+yF1crot5lDwplD0xmNkUM0uO\nb1tEmEX44BpiWUY4iU1MfF4X8BIGT5J1EaHS/rI14OkNkn1pOeHuBXd/rmS337KxzD9FopxFExlc\nzpqSE3GbHsJF6u2l+7v7anfvS7x/lpAryfxVTrSRWuqE6GjKl6nM1Akp0uqEp4AxcWx/0UTCHbpi\n/hcIf4e1wKdr+E7JuM0o/5VUO//X8zrkPxicH5s0lpnZ4RaerACAu88j/PhL1g8fINxhvsrdP1Fy\nHNXKfy313NPA4cDRZvaWCschbSgtz6r97qBBORYbvhd6eKTpc8Cq4vuSuVkkQReF0gxTgVtjC2bR\neGAAeD5WVHcAOxAmDhs0GZ+Z/dLMzku87wT2I1ycFn2X0IrpVHh8kLsnTwqVTgxnEMaXJY0HVqTF\nEsdJPsDgi9iDCHMPPJxYdhvh2cz7EGYclvaTlhOXm9kdJfu8ko1l/n4GXwyOjOuTYyKbkhPRFMIY\nzp8lNzKziWa2Mtnt0sx2JuR6Mn+VE+2lavmHDRNKvoZwJ2yQLNUJ1dRQJywgPOY32cvoYODBOAYa\nYKm7/xg4BzjLzPZN+17JvNTyn6Li+b+e1yHu/mxJfqwvs9nVZfZPXjO9ndAr8DJ3L31SQlr5vx/Y\nP3bTT65P1nP3xQaSq4GrzGxEuWORtpSWZxV/d9CkHJPaqLFCmmEu4cTwVcI4YiN0a70t3nH9KGGG\n8/cBL8QfOBPNbGzc/w7gXDN7k5kZ4a7WWOCm5JfEE8iZwHQzO2wLY/0G8Goz+yTQY2ZHER6j9c0a\nY7kW+JiZHWtmr47vbyqZYAp3fxr4HOF5zztsYaySX2k58X3CnaIzzexlZvZhQhf3z8f9byLMwH6+\nmU0mzGnxBHB38kualBMA+wKLSrvhenhc6YOEi8gDYk58C7jL3R8u2VY50T7Syj/AbkAv8FiZ/bNU\nJ6SpWCfEfLkZuNbMXhPvAn4cuLL0Qzw8Iu9u4JotPA7JjlrKfzVp5/9mXofcApweezX0mNlZhMaH\nORYmM/wKIV9nJa7tJppZdw3lfz5hGNdsM3tFbKA8kPB3K3UxYW6kT23hccjQUzHPCI8erfa7o+E5\n5u6fdj22tCZqrJCGi91130wYu346YVZzB06LmxxHeOTPXYQuVMX/il1yP0e4QLuO0BK/N2EM/Moy\n3/VzwkXkNSVdC2uN9V7CM7xPI1SKswkt9tfVEou7zyF0M/tyPJ5fEZ6QUM4XgeWEv4e0kbSccPef\nAu8CPkj4sXYG4XFs98T1iwjjL08ilLEJwDFeZhb0JuQE8ftLh60UTY/H9iNCRb8wLitHOdEGaqgT\nIJQpKF+uslQnpO2fViecQ7hL95P4mZ9x929V+LizCTPan1xhveRAjeW/2v6LqHL+b/J1yExCg8Qt\nwGsJddV0d38UmEa4c/1WBl/bLQYOiftXLP/u3k949Ol4QqP3yYSnKiwqDSLm/gzgE8lhKdK+UvKs\n6u+OjOVY2+soFArpW4nUiZldDMyLP8Yyzczmu/sbWh2HDG3KCWlnKv/SzvJU/quJw7bmufu0Vsci\nUmqo5Fm7Us8KabZ55GfG/6+lbyKy1ZQT0s5U/qWd5an8VxQnuZ3d6jhEKhgSedau1LNCRERERERE\nRDJFPStEREREREREJFPUWCEiIiIiIiIimaLGChERERERERHJFDVWiIiIiIiIiEimqLFCRERERERE\nRDJFjRUiIiIiIiIikilqrBARERERERGRTPkHdcNz1Fy+SHMAAAAASUVORK5CYII=\n",
      "text/plain": [
       "<matplotlib.figure.Figure at 0x3444ed30>"
      ]
     },
     "metadata": {},
     "output_type": "display_data"
    }
   ],
   "source": [
    "f, (ax1, ax2, ax3, ax4, ax5) = plt.subplots(1, 5,figsize=(17,3),sharey=True)\n",
    "ax1.plot([2007,2008,2009,2010,2011,2012,2013,2014],ca_tax_normalized.loc['95037'].loc['1: 25,000-50,000'],color='#ff6f0f')\n",
    "ax1.set_ylabel('% of total', rotation=0,labelpad=45,fontsize=14)\n",
    "ax1.set_xlabel('\\$25k - \\$50k',fontsize=14)\n",
    "ax2.plot([2007,2008,2009,2010,2011,2012,2013,2014],ca_tax_normalized.loc['95037'].loc['2: 50,000-75,000'],color='#fc8f46')\n",
    "ax2.set_xlabel('\\$50k - \\$75k',fontsize=14)\n",
    "ax3.plot([2007,2008,2009,2010,2011,2012,2013,2014],ca_tax_normalized.loc['95037'].loc['3: 75,000-100,000'],color='#fcad46')\n",
    "ax3.set_xlabel('\\$75k - \\$100k',fontsize=14)\n",
    "ax4.plot([2007,2008,2009,2010,2011,2012,2013,2014],ca_tax_normalized.loc['95037'].loc['4: 100,000-200,000'],color='#285100')\n",
    "ax4.set_xlabel('\\$100k - \\$200k',fontsize=14)\n",
    "ax5.plot([2007,2008,2009,2010,2011,2012,2013,2014],ca_tax_normalized.loc['95037'].loc['5: > 200,000'],color='#4dc100')\n",
    "ax5.set_xlabel('\\$200k+',fontsize=14)\n",
    "\n",
    "plt.suptitle('Morgan Hill Income Distributions',fontsize=18)"
   ]
  },
  {
   "cell_type": "markdown",
   "metadata": {},
   "source": [
    "By splitting the income brackets and observing their changes over time, we get a better picture of the relative changes over time. We are looking for regions which show decreasing trends in the lower brackets and increasing trends in the higher brackets."
   ]
  },
  {
   "cell_type": "markdown",
   "metadata": {},
   "source": [
    "# Analysis of Significant Regions\n",
    "\n",
    "We will now analyze regions with the most significant changes in income distribution, separated by general region within California."
   ]
  },
  {
   "cell_type": "code",
   "execution_count": 8,
   "metadata": {
    "collapsed": true
   },
   "outputs": [],
   "source": [
    "ca_income_change = pd.DataFrame(columns=['zipcode','1: 25k-50k','2: 50k-75k','3: 75k-100k','4: 100k-200k','5: >200k'])"
   ]
  },
  {
   "cell_type": "code",
   "execution_count": 9,
   "metadata": {
    "collapsed": true
   },
   "outputs": [],
   "source": [
    "# create df representing changes in each income bracket from 2007 to 2014\n",
    "for zc in zipcodes:\n",
    "    first = ca_tax_normalized.loc[zc].loc['1: 25,000-50,000']['tax_returns_2014_%'] - ca_tax_normalized.loc[zc].loc['1: 25,000-50,000']['tax_returns_2007_%']\n",
    "    second = ca_tax_normalized.loc[zc].loc['2: 50,000-75,000']['tax_returns_2014_%'] - ca_tax_normalized.loc[zc].loc['2: 50,000-75,000']['tax_returns_2007_%']\n",
    "    third = ca_tax_normalized.loc[zc].loc['3: 75,000-100,000']['tax_returns_2014_%'] - ca_tax_normalized.loc[zc].loc['3: 75,000-100,000']['tax_returns_2007_%']\n",
    "    fourth = ca_tax_normalized.loc[zc].loc['4: 100,000-200,000']['tax_returns_2014_%'] - ca_tax_normalized.loc[zc].loc['4: 100,000-200,000']['tax_returns_2007_%']\n",
    "    fifth = ca_tax_normalized.loc[zc].loc['5: > 200,000']['tax_returns_2014_%'] - ca_tax_normalized.loc[zc].loc['5: > 200,000']['tax_returns_2007_%']\n",
    "    temp = pd.DataFrame({'zipcode':[zc],'1: 25k-50k':[first],'2: 50k-75k':[second],'3: 75k-100k':[third],'4: 100k-200k':[fourth],'5: >200k':[fifth]})\n",
    "    ca_income_change = ca_income_change.append(temp)"
   ]
  },
  {
   "cell_type": "code",
   "execution_count": 10,
   "metadata": {
    "collapsed": false
   },
   "outputs": [],
   "source": [
    "ca_income_change = ca_income_change.set_index('zipcode')"
   ]
  },
  {
   "cell_type": "markdown",
   "metadata": {},
   "source": [
    "### Regions with greatest increase in \\$200,000+ income bracket"
   ]
  },
  {
   "cell_type": "code",
   "execution_count": 11,
   "metadata": {
    "collapsed": false
   },
   "outputs": [
    {
     "data": {
      "text/html": [
       "<div>\n",
       "<table border=\"1\" class=\"dataframe\">\n",
       "  <thead>\n",
       "    <tr style=\"text-align: right;\">\n",
       "      <th></th>\n",
       "      <th>1: 25k-50k</th>\n",
       "      <th>2: 50k-75k</th>\n",
       "      <th>3: 75k-100k</th>\n",
       "      <th>4: 100k-200k</th>\n",
       "      <th>5: &gt;200k</th>\n",
       "    </tr>\n",
       "    <tr>\n",
       "      <th>zipcode</th>\n",
       "      <th></th>\n",
       "      <th></th>\n",
       "      <th></th>\n",
       "      <th></th>\n",
       "      <th></th>\n",
       "    </tr>\n",
       "  </thead>\n",
       "  <tbody>\n",
       "    <tr>\n",
       "      <th>95054</th>\n",
       "      <td>-6.732233</td>\n",
       "      <td>-4.556195</td>\n",
       "      <td>-3.918435</td>\n",
       "      <td>1.568799</td>\n",
       "      <td>13.638064</td>\n",
       "    </tr>\n",
       "    <tr>\n",
       "      <th>94158</th>\n",
       "      <td>-15.199000</td>\n",
       "      <td>-0.602933</td>\n",
       "      <td>-1.933195</td>\n",
       "      <td>4.480113</td>\n",
       "      <td>13.255015</td>\n",
       "    </tr>\n",
       "    <tr>\n",
       "      <th>94041</th>\n",
       "      <td>-9.066897</td>\n",
       "      <td>-3.973534</td>\n",
       "      <td>-1.772384</td>\n",
       "      <td>1.954974</td>\n",
       "      <td>12.857841</td>\n",
       "    </tr>\n",
       "    <tr>\n",
       "      <th>94583</th>\n",
       "      <td>-4.437616</td>\n",
       "      <td>-3.428816</td>\n",
       "      <td>-2.418330</td>\n",
       "      <td>-2.526770</td>\n",
       "      <td>12.811533</td>\n",
       "    </tr>\n",
       "    <tr>\n",
       "      <th>92127</th>\n",
       "      <td>-4.656028</td>\n",
       "      <td>-2.887181</td>\n",
       "      <td>-3.753731</td>\n",
       "      <td>-1.260210</td>\n",
       "      <td>12.557149</td>\n",
       "    </tr>\n",
       "    <tr>\n",
       "      <th>94043</th>\n",
       "      <td>-6.188259</td>\n",
       "      <td>-4.313145</td>\n",
       "      <td>-3.046495</td>\n",
       "      <td>1.478459</td>\n",
       "      <td>12.069439</td>\n",
       "    </tr>\n",
       "    <tr>\n",
       "      <th>94105</th>\n",
       "      <td>-6.456098</td>\n",
       "      <td>-6.641844</td>\n",
       "      <td>-2.890544</td>\n",
       "      <td>4.086148</td>\n",
       "      <td>11.902337</td>\n",
       "    </tr>\n",
       "    <tr>\n",
       "      <th>95014</th>\n",
       "      <td>-2.451780</td>\n",
       "      <td>-2.875269</td>\n",
       "      <td>-2.970075</td>\n",
       "      <td>-3.547913</td>\n",
       "      <td>11.845036</td>\n",
       "    </tr>\n",
       "    <tr>\n",
       "      <th>94582</th>\n",
       "      <td>-1.834056</td>\n",
       "      <td>-1.129300</td>\n",
       "      <td>-2.322895</td>\n",
       "      <td>-6.524053</td>\n",
       "      <td>11.810304</td>\n",
       "    </tr>\n",
       "    <tr>\n",
       "      <th>94568</th>\n",
       "      <td>-5.666791</td>\n",
       "      <td>-6.004982</td>\n",
       "      <td>-2.739350</td>\n",
       "      <td>2.685328</td>\n",
       "      <td>11.725796</td>\n",
       "    </tr>\n",
       "  </tbody>\n",
       "</table>\n",
       "</div>"
      ],
      "text/plain": [
       "         1: 25k-50k  2: 50k-75k  3: 75k-100k  4: 100k-200k   5: >200k\n",
       "zipcode                                                              \n",
       "95054     -6.732233   -4.556195    -3.918435      1.568799  13.638064\n",
       "94158    -15.199000   -0.602933    -1.933195      4.480113  13.255015\n",
       "94041     -9.066897   -3.973534    -1.772384      1.954974  12.857841\n",
       "94583     -4.437616   -3.428816    -2.418330     -2.526770  12.811533\n",
       "92127     -4.656028   -2.887181    -3.753731     -1.260210  12.557149\n",
       "94043     -6.188259   -4.313145    -3.046495      1.478459  12.069439\n",
       "94105     -6.456098   -6.641844    -2.890544      4.086148  11.902337\n",
       "95014     -2.451780   -2.875269    -2.970075     -3.547913  11.845036\n",
       "94582     -1.834056   -1.129300    -2.322895     -6.524053  11.810304\n",
       "94568     -5.666791   -6.004982    -2.739350      2.685328  11.725796"
      ]
     },
     "execution_count": 11,
     "metadata": {},
     "output_type": "execute_result"
    }
   ],
   "source": [
    "ca_income_change.sort_values(by='5: >200k',ascending=False)[0:10]"
   ]
  },
  {
   "cell_type": "markdown",
   "metadata": {},
   "source": [
    "### Regions with greatest increase in \\$100,000 - \\$200,000 income bracket"
   ]
  },
  {
   "cell_type": "code",
   "execution_count": 48,
   "metadata": {
    "collapsed": false,
    "scrolled": true
   },
   "outputs": [
    {
     "data": {
      "text/html": [
       "<div>\n",
       "<table border=\"1\" class=\"dataframe\">\n",
       "  <thead>\n",
       "    <tr style=\"text-align: right;\">\n",
       "      <th></th>\n",
       "      <th>1: 25k-50k</th>\n",
       "      <th>2: 50k-75k</th>\n",
       "      <th>3: 75k-100k</th>\n",
       "      <th>4: 100k-200k</th>\n",
       "      <th>5: &gt;200k</th>\n",
       "    </tr>\n",
       "    <tr>\n",
       "      <th>zipcode</th>\n",
       "      <th></th>\n",
       "      <th></th>\n",
       "      <th></th>\n",
       "      <th></th>\n",
       "      <th></th>\n",
       "    </tr>\n",
       "  </thead>\n",
       "  <tbody>\n",
       "    <tr>\n",
       "      <th>95306</th>\n",
       "      <td>-9.680207</td>\n",
       "      <td>-6.611927</td>\n",
       "      <td>5.747623</td>\n",
       "      <td>15.787957</td>\n",
       "      <td>-5.243446</td>\n",
       "    </tr>\n",
       "    <tr>\n",
       "      <th>95668</th>\n",
       "      <td>-5.913978</td>\n",
       "      <td>-4.569892</td>\n",
       "      <td>0.134409</td>\n",
       "      <td>15.591398</td>\n",
       "      <td>-5.241935</td>\n",
       "    </tr>\n",
       "    <tr>\n",
       "      <th>95942</th>\n",
       "      <td>-1.286716</td>\n",
       "      <td>-7.018932</td>\n",
       "      <td>-2.030269</td>\n",
       "      <td>15.097822</td>\n",
       "      <td>-4.761905</td>\n",
       "    </tr>\n",
       "    <tr>\n",
       "      <th>95549</th>\n",
       "      <td>-1.644245</td>\n",
       "      <td>-3.373906</td>\n",
       "      <td>-4.996797</td>\n",
       "      <td>14.499253</td>\n",
       "      <td>-4.484305</td>\n",
       "    </tr>\n",
       "    <tr>\n",
       "      <th>95456</th>\n",
       "      <td>1.033835</td>\n",
       "      <td>6.578947</td>\n",
       "      <td>-11.160714</td>\n",
       "      <td>12.922932</td>\n",
       "      <td>-9.375000</td>\n",
       "    </tr>\n",
       "    <tr>\n",
       "      <th>96120</th>\n",
       "      <td>-3.181189</td>\n",
       "      <td>-1.086742</td>\n",
       "      <td>-2.726734</td>\n",
       "      <td>11.973918</td>\n",
       "      <td>-4.979253</td>\n",
       "    </tr>\n",
       "    <tr>\n",
       "      <th>95113</th>\n",
       "      <td>-19.680465</td>\n",
       "      <td>-5.899298</td>\n",
       "      <td>5.122246</td>\n",
       "      <td>11.626725</td>\n",
       "      <td>8.830792</td>\n",
       "    </tr>\n",
       "    <tr>\n",
       "      <th>94567</th>\n",
       "      <td>-0.094340</td>\n",
       "      <td>8.773585</td>\n",
       "      <td>-15.566038</td>\n",
       "      <td>11.603774</td>\n",
       "      <td>-4.716981</td>\n",
       "    </tr>\n",
       "    <tr>\n",
       "      <th>95410</th>\n",
       "      <td>-4.301552</td>\n",
       "      <td>4.678492</td>\n",
       "      <td>-3.592018</td>\n",
       "      <td>11.507761</td>\n",
       "      <td>-8.292683</td>\n",
       "    </tr>\n",
       "    <tr>\n",
       "      <th>95547</th>\n",
       "      <td>-3.578648</td>\n",
       "      <td>-4.140151</td>\n",
       "      <td>0.703751</td>\n",
       "      <td>11.170173</td>\n",
       "      <td>-4.155125</td>\n",
       "    </tr>\n",
       "  </tbody>\n",
       "</table>\n",
       "</div>"
      ],
      "text/plain": [
       "         1: 25k-50k  2: 50k-75k  3: 75k-100k  4: 100k-200k  5: >200k\n",
       "zipcode                                                             \n",
       "95306     -9.680207   -6.611927     5.747623     15.787957 -5.243446\n",
       "95668     -5.913978   -4.569892     0.134409     15.591398 -5.241935\n",
       "95942     -1.286716   -7.018932    -2.030269     15.097822 -4.761905\n",
       "95549     -1.644245   -3.373906    -4.996797     14.499253 -4.484305\n",
       "95456      1.033835    6.578947   -11.160714     12.922932 -9.375000\n",
       "96120     -3.181189   -1.086742    -2.726734     11.973918 -4.979253\n",
       "95113    -19.680465   -5.899298     5.122246     11.626725  8.830792\n",
       "94567     -0.094340    8.773585   -15.566038     11.603774 -4.716981\n",
       "95410     -4.301552    4.678492    -3.592018     11.507761 -8.292683\n",
       "95547     -3.578648   -4.140151     0.703751     11.170173 -4.155125"
      ]
     },
     "execution_count": 48,
     "metadata": {},
     "output_type": "execute_result"
    }
   ],
   "source": [
    "ca_income_change.sort_values(by='4: 100k-200k',ascending=False)[0:10]"
   ]
  },
  {
   "cell_type": "markdown",
   "metadata": {},
   "source": [
    "Note: all of the zipcodes in the above two tables are in Northern California, with the exception of 92127 (San Diego)"
   ]
  },
  {
   "cell_type": "markdown",
   "metadata": {},
   "source": [
    "### Regions with greatest increase in \\$75,000 - \\$100,000 income bracket"
   ]
  },
  {
   "cell_type": "code",
   "execution_count": 49,
   "metadata": {
    "collapsed": false
   },
   "outputs": [
    {
     "data": {
      "text/html": [
       "<div>\n",
       "<table border=\"1\" class=\"dataframe\">\n",
       "  <thead>\n",
       "    <tr style=\"text-align: right;\">\n",
       "      <th></th>\n",
       "      <th>1: 25k-50k</th>\n",
       "      <th>2: 50k-75k</th>\n",
       "      <th>3: 75k-100k</th>\n",
       "      <th>4: 100k-200k</th>\n",
       "      <th>5: &gt;200k</th>\n",
       "    </tr>\n",
       "    <tr>\n",
       "      <th>zipcode</th>\n",
       "      <th></th>\n",
       "      <th></th>\n",
       "      <th></th>\n",
       "      <th></th>\n",
       "      <th></th>\n",
       "    </tr>\n",
       "  </thead>\n",
       "  <tbody>\n",
       "    <tr>\n",
       "      <th>95935</th>\n",
       "      <td>-0.898204</td>\n",
       "      <td>-11.505560</td>\n",
       "      <td>12.403764</td>\n",
       "      <td>0.000000</td>\n",
       "      <td>0.000000</td>\n",
       "    </tr>\n",
       "    <tr>\n",
       "      <th>92282</th>\n",
       "      <td>4.832837</td>\n",
       "      <td>-7.017544</td>\n",
       "      <td>8.474015</td>\n",
       "      <td>-6.289308</td>\n",
       "      <td>0.000000</td>\n",
       "    </tr>\n",
       "    <tr>\n",
       "      <th>92347</th>\n",
       "      <td>-5.782313</td>\n",
       "      <td>4.761905</td>\n",
       "      <td>8.163265</td>\n",
       "      <td>-7.142857</td>\n",
       "      <td>0.000000</td>\n",
       "    </tr>\n",
       "    <tr>\n",
       "      <th>93239</th>\n",
       "      <td>-0.775834</td>\n",
       "      <td>-6.916474</td>\n",
       "      <td>7.692308</td>\n",
       "      <td>0.000000</td>\n",
       "      <td>0.000000</td>\n",
       "    </tr>\n",
       "    <tr>\n",
       "      <th>93243</th>\n",
       "      <td>-5.403557</td>\n",
       "      <td>-1.727086</td>\n",
       "      <td>7.506840</td>\n",
       "      <td>-0.376197</td>\n",
       "      <td>0.000000</td>\n",
       "    </tr>\n",
       "    <tr>\n",
       "      <th>92257</th>\n",
       "      <td>1.175851</td>\n",
       "      <td>-0.052650</td>\n",
       "      <td>6.984907</td>\n",
       "      <td>-8.108108</td>\n",
       "      <td>0.000000</td>\n",
       "    </tr>\n",
       "    <tr>\n",
       "      <th>96039</th>\n",
       "      <td>-0.134348</td>\n",
       "      <td>4.120018</td>\n",
       "      <td>6.359158</td>\n",
       "      <td>-10.344828</td>\n",
       "      <td>0.000000</td>\n",
       "    </tr>\n",
       "    <tr>\n",
       "      <th>95306</th>\n",
       "      <td>-9.680207</td>\n",
       "      <td>-6.611927</td>\n",
       "      <td>5.747623</td>\n",
       "      <td>15.787957</td>\n",
       "      <td>-5.243446</td>\n",
       "    </tr>\n",
       "    <tr>\n",
       "      <th>92401</th>\n",
       "      <td>-0.024710</td>\n",
       "      <td>3.113417</td>\n",
       "      <td>5.361997</td>\n",
       "      <td>-8.450704</td>\n",
       "      <td>0.000000</td>\n",
       "    </tr>\n",
       "    <tr>\n",
       "      <th>95524</th>\n",
       "      <td>-10.892711</td>\n",
       "      <td>2.779785</td>\n",
       "      <td>5.229561</td>\n",
       "      <td>1.339307</td>\n",
       "      <td>1.544057</td>\n",
       "    </tr>\n",
       "  </tbody>\n",
       "</table>\n",
       "</div>"
      ],
      "text/plain": [
       "         1: 25k-50k  2: 50k-75k  3: 75k-100k  4: 100k-200k  5: >200k\n",
       "zipcode                                                             \n",
       "95935     -0.898204  -11.505560    12.403764      0.000000  0.000000\n",
       "92282      4.832837   -7.017544     8.474015     -6.289308  0.000000\n",
       "92347     -5.782313    4.761905     8.163265     -7.142857  0.000000\n",
       "93239     -0.775834   -6.916474     7.692308      0.000000  0.000000\n",
       "93243     -5.403557   -1.727086     7.506840     -0.376197  0.000000\n",
       "92257      1.175851   -0.052650     6.984907     -8.108108  0.000000\n",
       "96039     -0.134348    4.120018     6.359158    -10.344828  0.000000\n",
       "95306     -9.680207   -6.611927     5.747623     15.787957 -5.243446\n",
       "92401     -0.024710    3.113417     5.361997     -8.450704  0.000000\n",
       "95524    -10.892711    2.779785     5.229561      1.339307  1.544057"
      ]
     },
     "execution_count": 49,
     "metadata": {},
     "output_type": "execute_result"
    }
   ],
   "source": [
    "ca_income_change.sort_values(by='3: 75k-100k',ascending=False)[0:10]"
   ]
  },
  {
   "cell_type": "markdown",
   "metadata": {},
   "source": [
    "### Regions with greatest decrease in \\$25,000 - \\$50,000 income bracket"
   ]
  },
  {
   "cell_type": "code",
   "execution_count": 12,
   "metadata": {
    "collapsed": false
   },
   "outputs": [
    {
     "data": {
      "text/html": [
       "<div>\n",
       "<table border=\"1\" class=\"dataframe\">\n",
       "  <thead>\n",
       "    <tr style=\"text-align: right;\">\n",
       "      <th></th>\n",
       "      <th>1: 25k-50k</th>\n",
       "      <th>2: 50k-75k</th>\n",
       "      <th>3: 75k-100k</th>\n",
       "      <th>4: 100k-200k</th>\n",
       "      <th>5: &gt;200k</th>\n",
       "    </tr>\n",
       "    <tr>\n",
       "      <th>zipcode</th>\n",
       "      <th></th>\n",
       "      <th></th>\n",
       "      <th></th>\n",
       "      <th></th>\n",
       "      <th></th>\n",
       "    </tr>\n",
       "  </thead>\n",
       "  <tbody>\n",
       "    <tr>\n",
       "      <th>95113</th>\n",
       "      <td>-19.680465</td>\n",
       "      <td>-5.899298</td>\n",
       "      <td>5.122246</td>\n",
       "      <td>11.626725</td>\n",
       "      <td>8.830792</td>\n",
       "    </tr>\n",
       "    <tr>\n",
       "      <th>93252</th>\n",
       "      <td>-18.146160</td>\n",
       "      <td>7.287366</td>\n",
       "      <td>0.701899</td>\n",
       "      <td>10.156895</td>\n",
       "      <td>0.000000</td>\n",
       "    </tr>\n",
       "    <tr>\n",
       "      <th>94158</th>\n",
       "      <td>-15.199000</td>\n",
       "      <td>-0.602933</td>\n",
       "      <td>-1.933195</td>\n",
       "      <td>4.480113</td>\n",
       "      <td>13.255015</td>\n",
       "    </tr>\n",
       "    <tr>\n",
       "      <th>94102</th>\n",
       "      <td>-14.881379</td>\n",
       "      <td>-2.048609</td>\n",
       "      <td>1.423381</td>\n",
       "      <td>9.886479</td>\n",
       "      <td>5.620128</td>\n",
       "    </tr>\n",
       "    <tr>\n",
       "      <th>94612</th>\n",
       "      <td>-14.350088</td>\n",
       "      <td>0.322974</td>\n",
       "      <td>3.578721</td>\n",
       "      <td>7.133139</td>\n",
       "      <td>3.315254</td>\n",
       "    </tr>\n",
       "    <tr>\n",
       "      <th>95811</th>\n",
       "      <td>-13.821578</td>\n",
       "      <td>3.797632</td>\n",
       "      <td>3.309643</td>\n",
       "      <td>4.451212</td>\n",
       "      <td>2.263091</td>\n",
       "    </tr>\n",
       "    <tr>\n",
       "      <th>90015</th>\n",
       "      <td>-13.548300</td>\n",
       "      <td>-1.071737</td>\n",
       "      <td>0.992879</td>\n",
       "      <td>8.106466</td>\n",
       "      <td>5.520693</td>\n",
       "    </tr>\n",
       "    <tr>\n",
       "      <th>90014</th>\n",
       "      <td>-12.887243</td>\n",
       "      <td>-2.251590</td>\n",
       "      <td>4.578429</td>\n",
       "      <td>7.973147</td>\n",
       "      <td>2.587256</td>\n",
       "    </tr>\n",
       "    <tr>\n",
       "      <th>96038</th>\n",
       "      <td>-12.669683</td>\n",
       "      <td>18.099548</td>\n",
       "      <td>-11.538462</td>\n",
       "      <td>6.108597</td>\n",
       "      <td>0.000000</td>\n",
       "    </tr>\n",
       "    <tr>\n",
       "      <th>94117</th>\n",
       "      <td>-12.144380</td>\n",
       "      <td>-1.413847</td>\n",
       "      <td>0.722358</td>\n",
       "      <td>6.398859</td>\n",
       "      <td>6.437009</td>\n",
       "    </tr>\n",
       "  </tbody>\n",
       "</table>\n",
       "</div>"
      ],
      "text/plain": [
       "         1: 25k-50k  2: 50k-75k  3: 75k-100k  4: 100k-200k   5: >200k\n",
       "zipcode                                                              \n",
       "95113    -19.680465   -5.899298     5.122246     11.626725   8.830792\n",
       "93252    -18.146160    7.287366     0.701899     10.156895   0.000000\n",
       "94158    -15.199000   -0.602933    -1.933195      4.480113  13.255015\n",
       "94102    -14.881379   -2.048609     1.423381      9.886479   5.620128\n",
       "94612    -14.350088    0.322974     3.578721      7.133139   3.315254\n",
       "95811    -13.821578    3.797632     3.309643      4.451212   2.263091\n",
       "90015    -13.548300   -1.071737     0.992879      8.106466   5.520693\n",
       "90014    -12.887243   -2.251590     4.578429      7.973147   2.587256\n",
       "96038    -12.669683   18.099548   -11.538462      6.108597   0.000000\n",
       "94117    -12.144380   -1.413847     0.722358      6.398859   6.437009"
      ]
     },
     "execution_count": 12,
     "metadata": {},
     "output_type": "execute_result"
    }
   ],
   "source": [
    "ca_income_change.sort_values(by='1: 25k-50k')[0:10]"
   ]
  },
  {
   "cell_type": "code",
   "execution_count": 13,
   "metadata": {
    "collapsed": false,
    "scrolled": false
   },
   "outputs": [
    {
     "data": {
      "text/html": [
       "<div>\n",
       "<table border=\"1\" class=\"dataframe\">\n",
       "  <thead>\n",
       "    <tr style=\"text-align: right;\">\n",
       "      <th></th>\n",
       "      <th>1: 25k-50k</th>\n",
       "      <th>2: 50k-75k</th>\n",
       "      <th>3: 75k-100k</th>\n",
       "      <th>4: 100k-200k</th>\n",
       "      <th>5: &gt;200k</th>\n",
       "    </tr>\n",
       "  </thead>\n",
       "  <tbody>\n",
       "    <tr>\n",
       "      <th>count</th>\n",
       "      <td>1419.000000</td>\n",
       "      <td>1419.000000</td>\n",
       "      <td>1419.000000</td>\n",
       "      <td>1419.000000</td>\n",
       "      <td>1419.000000</td>\n",
       "    </tr>\n",
       "    <tr>\n",
       "      <th>mean</th>\n",
       "      <td>-2.519798</td>\n",
       "      <td>-1.162828</td>\n",
       "      <td>-0.296748</td>\n",
       "      <td>2.400717</td>\n",
       "      <td>1.578657</td>\n",
       "    </tr>\n",
       "    <tr>\n",
       "      <th>std</th>\n",
       "      <td>2.762630</td>\n",
       "      <td>2.303142</td>\n",
       "      <td>1.845165</td>\n",
       "      <td>2.498066</td>\n",
       "      <td>2.598790</td>\n",
       "    </tr>\n",
       "    <tr>\n",
       "      <th>min</th>\n",
       "      <td>-19.680465</td>\n",
       "      <td>-11.505560</td>\n",
       "      <td>-15.566038</td>\n",
       "      <td>-11.086475</td>\n",
       "      <td>-12.843253</td>\n",
       "    </tr>\n",
       "    <tr>\n",
       "      <th>25%</th>\n",
       "      <td>-3.881004</td>\n",
       "      <td>-2.179749</td>\n",
       "      <td>-1.083145</td>\n",
       "      <td>1.159624</td>\n",
       "      <td>0.138309</td>\n",
       "    </tr>\n",
       "    <tr>\n",
       "      <th>50%</th>\n",
       "      <td>-2.384412</td>\n",
       "      <td>-1.325664</td>\n",
       "      <td>-0.302772</td>\n",
       "      <td>2.300287</td>\n",
       "      <td>0.957904</td>\n",
       "    </tr>\n",
       "    <tr>\n",
       "      <th>75%</th>\n",
       "      <td>-1.036127</td>\n",
       "      <td>-0.403232</td>\n",
       "      <td>0.540320</td>\n",
       "      <td>3.458442</td>\n",
       "      <td>2.576935</td>\n",
       "    </tr>\n",
       "    <tr>\n",
       "      <th>max</th>\n",
       "      <td>9.794344</td>\n",
       "      <td>27.094474</td>\n",
       "      <td>12.403764</td>\n",
       "      <td>15.787957</td>\n",
       "      <td>13.638064</td>\n",
       "    </tr>\n",
       "  </tbody>\n",
       "</table>\n",
       "</div>"
      ],
      "text/plain": [
       "        1: 25k-50k   2: 50k-75k  3: 75k-100k  4: 100k-200k     5: >200k\n",
       "count  1419.000000  1419.000000  1419.000000   1419.000000  1419.000000\n",
       "mean     -2.519798    -1.162828    -0.296748      2.400717     1.578657\n",
       "std       2.762630     2.303142     1.845165      2.498066     2.598790\n",
       "min     -19.680465   -11.505560   -15.566038    -11.086475   -12.843253\n",
       "25%      -3.881004    -2.179749    -1.083145      1.159624     0.138309\n",
       "50%      -2.384412    -1.325664    -0.302772      2.300287     0.957904\n",
       "75%      -1.036127    -0.403232     0.540320      3.458442     2.576935\n",
       "max       9.794344    27.094474    12.403764     15.787957    13.638064"
      ]
     },
     "execution_count": 13,
     "metadata": {},
     "output_type": "execute_result"
    }
   ],
   "source": [
    "ca_income_change.describe()"
   ]
  },
  {
   "cell_type": "markdown",
   "metadata": {},
   "source": [
    "# I. Northern California"
   ]
  },
  {
   "cell_type": "markdown",
   "metadata": {},
   "source": [
    "## Santa Clara: 95054"
   ]
  },
  {
   "cell_type": "code",
   "execution_count": 16,
   "metadata": {
    "collapsed": false
   },
   "outputs": [
    {
     "data": {
      "text/html": [
       "<div>\n",
       "<table border=\"1\" class=\"dataframe\">\n",
       "  <thead>\n",
       "    <tr style=\"text-align: right;\">\n",
       "      <th></th>\n",
       "      <th>1: 25k-50k</th>\n",
       "      <th>2: 50k-75k</th>\n",
       "      <th>3: 75k-100k</th>\n",
       "      <th>4: 100k-200k</th>\n",
       "      <th>5: &gt;200k</th>\n",
       "    </tr>\n",
       "    <tr>\n",
       "      <th>zipcode</th>\n",
       "      <th></th>\n",
       "      <th></th>\n",
       "      <th></th>\n",
       "      <th></th>\n",
       "      <th></th>\n",
       "    </tr>\n",
       "  </thead>\n",
       "  <tbody>\n",
       "    <tr>\n",
       "      <th>95054</th>\n",
       "      <td>-6.732233</td>\n",
       "      <td>-4.556195</td>\n",
       "      <td>-3.918435</td>\n",
       "      <td>1.568799</td>\n",
       "      <td>13.638064</td>\n",
       "    </tr>\n",
       "  </tbody>\n",
       "</table>\n",
       "</div>"
      ],
      "text/plain": [
       "         1: 25k-50k  2: 50k-75k  3: 75k-100k  4: 100k-200k   5: >200k\n",
       "zipcode                                                              \n",
       "95054     -6.732233   -4.556195    -3.918435      1.568799  13.638064"
      ]
     },
     "execution_count": 16,
     "metadata": {},
     "output_type": "execute_result"
    }
   ],
   "source": [
    "ca_income_change[ca_income_change['5: >200k']==ca_income_change['5: >200k'].max()]"
   ]
  },
  {
   "cell_type": "code",
   "execution_count": 143,
   "metadata": {
    "collapsed": false
   },
   "outputs": [
    {
     "data": {
      "text/plain": [
       "<matplotlib.legend.Legend at 0x26b95ac8>"
      ]
     },
     "execution_count": 143,
     "metadata": {},
     "output_type": "execute_result"
    },
    {
     "data": {
      "image/png": "iVBORw0KGgoAAAANSUhEUgAAA64AAAFACAYAAAC81yGpAAAABHNCSVQICAgIfAhkiAAAAAlwSFlz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\n",
      "text/plain": [
       "<matplotlib.figure.Figure at 0x26b5c940>"
      ]
     },
     "metadata": {},
     "output_type": "display_data"
    }
   ],
   "source": [
    "f, (ax1, ax2) = plt.subplots(1, 2, sharey=True,figsize=(14,5))\n",
    "\n",
    "ax1.bar([1-0.15,2-0.15,3-0.15,4-0.15,5-0.15],ca_tax_normalized.loc['95054']['tax_returns_2007_%'],width=0.3,facecolor='#083CAA')\n",
    "ax1.bar([1+0.15,2+0.15,3+0.15,4+0.15,5+0.15],ca_tax_normalized.loc['95054']['tax_returns_2014_%'],width=0.3,facecolor='#89D2DC')\n",
    "ax1.set_ylabel('% of total housing \\nmarket participants',rotation=0,labelpad=70,fontsize=14)\n",
    "ax1.set_xlabel('Santa Clara',fontsize=14)\n",
    "ax1.legend(['2007','2014'])\n",
    "\n",
    "ax2.bar([1-0.15,2-0.15,3-0.15,4-0.15,5-0.15],ca_tax_normalized.loc['0']['tax_returns_2007_%'],width=0.3,facecolor='#033860')\n",
    "ax2.bar([1+0.15,2+0.15,3+0.15,4+0.15,5+0.15],ca_tax_normalized.loc['0']['tax_returns_2014_%'],width=0.3,facecolor='#3493B7')\n",
    "ax2.set_xlabel('California',fontsize=14)\n",
    "ax2.legend(['2007','2014'])"
   ]
  },
  {
   "cell_type": "markdown",
   "metadata": {},
   "source": [
    "Compared to the change in earnings of all Californians, Santa Clara has a much greater increase in the \\$200,000+ income bracket from 2007 to 2014 and a noticeably greater decrease in each of the three lower income brackets. The change is unlikely to be the result of prior residents increasing their earning potential. (The result of such a change would be less stark. In particular, the middle brackets would not noticeably decrease: earners from the bracket below them would enter the middle brackets. Additionally, the highest bracket would not increase by the large amount we observe here.)\n",
    "\n",
    "It is more reasonable to think that the change was a result of the immigration of high-earners into Santa Clara. That is, an underlying change in the industries and available employment opportunities attracted a different demographic. This is causing a change in the population itself, rather than a change in the earnings of the original population.\n",
    "\n",
    "It is reasonable to assume that prices in the housing market will adjust in the ensuing years for this new population. "
   ]
  },
  {
   "cell_type": "code",
   "execution_count": 155,
   "metadata": {
    "collapsed": false,
    "scrolled": true
   },
   "outputs": [
    {
     "data": {
      "text/plain": [
       "<matplotlib.text.Text at 0x294847f0>"
      ]
     },
     "execution_count": 155,
     "metadata": {},
     "output_type": "execute_result"
    },
    {
     "data": {
      "image/png": "iVBORw0KGgoAAAANSUhEUgAABB4AAADWCAYAAAB2UkH5AAAABHNCSVQICAgIfAhkiAAAAAlwSFlz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\ny2Kcw0w7AAAAAElFTkSuQmCC\n",
      "text/plain": [
       "<matplotlib.figure.Figure at 0x28e22b38>"
      ]
     },
     "metadata": {},
     "output_type": "display_data"
    }
   ],
   "source": [
    "f, (ax1, ax2, ax3, ax4, ax5) = plt.subplots(1, 5,figsize=(17,3),sharey=True)\n",
    "ax1.plot([2007,2008,2009,2010,2011,2012,2013,2014],ca_tax_normalized.loc['95054'].loc['1: 25,000-50,000'],color='#ff6b3a')\n",
    "ax1.set_ylabel('% of total',rotation=0,labelpad=40,fontsize=14)\n",
    "ax1.set_xlabel('\\$25k - \\$50k',fontsize=14)\n",
    "ax2.plot([2007,2008,2009,2010,2011,2012,2013,2014],ca_tax_normalized.loc['95054'].loc['2: 50,000-75,000'],color='#ff8c39')\n",
    "ax2.set_xlabel('\\$50k - \\$75k',fontsize=14)\n",
    "ax3.plot([2007,2008,2009,2010,2011,2012,2013,2014],ca_tax_normalized.loc['95054'].loc['3: 75,000-100,000'],color='#ff9b38')\n",
    "ax3.set_xlabel('\\$75k - \\$100k',fontsize=14)\n",
    "ax4.plot([2007,2008,2009,2010,2011,2012,2013,2014],ca_tax_normalized.loc['95054'].loc['4: 100,000-200,000'],color='#115400')\n",
    "ax4.set_xlabel('\\$100k - \\$200k',fontsize=14)\n",
    "ax5.plot([2007,2008,2009,2010,2011,2012,2013,2014],ca_tax_normalized.loc['95054'].loc['5: > 200,000'],color='#2dd600')\n",
    "ax5.set_xlabel('> \\$200k',fontsize=14)\n"
   ]
  },
  {
   "cell_type": "markdown",
   "metadata": {},
   "source": [
    "Note: for this investment analysis, the positions of the different plots relative to each other is not of primary significance. What we are interested in is the relative change within each plot. In particular, the lower income brackets are decreasing over time, whereas the higher income brackets are increasing over time (for Santa Clara, this is especially true in the highest bracket).\n",
    "\n",
    "Notice here, by 2014 there were significantly more people earning greater than \\$200,000 than people earning between \\$25,000 - \\$50,000. This was not true in 2007; this reversal indicates a significant change in Santa Clara's population. "
   ]
  },
  {
   "cell_type": "markdown",
   "metadata": {},
   "source": [
    "## Downtown San Jose: 95113"
   ]
  },
  {
   "cell_type": "code",
   "execution_count": 19,
   "metadata": {
    "collapsed": false
   },
   "outputs": [
    {
     "data": {
      "text/html": [
       "<div>\n",
       "<table border=\"1\" class=\"dataframe\">\n",
       "  <thead>\n",
       "    <tr style=\"text-align: right;\">\n",
       "      <th></th>\n",
       "      <th>1: 25k-50k</th>\n",
       "      <th>2: 50k-75k</th>\n",
       "      <th>3: 75k-100k</th>\n",
       "      <th>4: 100k-200k</th>\n",
       "      <th>5: &gt;200k</th>\n",
       "    </tr>\n",
       "    <tr>\n",
       "      <th>zipcode</th>\n",
       "      <th></th>\n",
       "      <th></th>\n",
       "      <th></th>\n",
       "      <th></th>\n",
       "      <th></th>\n",
       "    </tr>\n",
       "  </thead>\n",
       "  <tbody>\n",
       "    <tr>\n",
       "      <th>95113</th>\n",
       "      <td>-19.680465</td>\n",
       "      <td>-5.899298</td>\n",
       "      <td>5.122246</td>\n",
       "      <td>11.626725</td>\n",
       "      <td>8.830792</td>\n",
       "    </tr>\n",
       "  </tbody>\n",
       "</table>\n",
       "</div>"
      ],
      "text/plain": [
       "         1: 25k-50k  2: 50k-75k  3: 75k-100k  4: 100k-200k  5: >200k\n",
       "zipcode                                                             \n",
       "95113    -19.680465   -5.899298     5.122246     11.626725  8.830792"
      ]
     },
     "execution_count": 19,
     "metadata": {},
     "output_type": "execute_result"
    }
   ],
   "source": [
    "ca_income_change[ca_income_change['1: 25k-50k']==ca_income_change['1: 25k-50k'].min()]"
   ]
  },
  {
   "cell_type": "code",
   "execution_count": 171,
   "metadata": {
    "collapsed": false,
    "scrolled": true
   },
   "outputs": [
    {
     "data": {
      "text/plain": [
       "<matplotlib.legend.Legend at 0x2dbc0358>"
      ]
     },
     "execution_count": 171,
     "metadata": {},
     "output_type": "execute_result"
    },
    {
     "data": {
      "image/png": "iVBORw0KGgoAAAANSUhEUgAAA64AAAFACAYAAAC81yGpAAAABHNCSVQICAgIfAhkiAAAAAlwSFlz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\n",
      "text/plain": [
       "<matplotlib.figure.Figure at 0x26296780>"
      ]
     },
     "metadata": {},
     "output_type": "display_data"
    }
   ],
   "source": [
    "f, (ax1, ax2) = plt.subplots(1, 2, sharey=True,figsize=(14,5))\n",
    "\n",
    "ax1.bar([1-0.15,2-0.15,3-0.15,4-0.15,5-0.15],ca_tax_normalized.loc['95113']['tax_returns_2007_%'],width=0.3,facecolor='#D95D39')\n",
    "ax1.bar([1+0.15,2+0.15,3+0.15,4+0.15,5+0.15],ca_tax_normalized.loc['95113']['tax_returns_2014_%'],width=0.3,facecolor='#F0A202')\n",
    "ax1.set_ylabel('% of total housing \\nmarket participants',rotation=0,labelpad=70,fontsize=14)\n",
    "ax1.set_xlabel('Downtown San Jose',fontsize=14)\n",
    "ax1.legend(['2007','2014'])\n",
    "\n",
    "ax2.bar([1-0.15,2-0.15,3-0.15,4-0.15,5-0.15],ca_tax_normalized.loc['0']['tax_returns_2007_%'],width=0.3,facecolor='#033860')\n",
    "ax2.bar([1+0.15,2+0.15,3+0.15,4+0.15,5+0.15],ca_tax_normalized.loc['0']['tax_returns_2014_%'],width=0.3,facecolor='#3493B7')\n",
    "ax2.set_xlabel('California',fontsize=14)\n",
    "ax2.legend(['2007','2014'])"
   ]
  },
  {
   "cell_type": "markdown",
   "metadata": {},
   "source": [
    "There is a steep drop in the proportion of earners in the lowest income bracket between 2007 and 2014 as well as a notable drop in the second to lowest income bracket. All three of the highest brackets in Downtown San Jose have a significant increase when we compare the changing levels to those in all of California. Although not as dramatic of an increase as the highest bracket in Santa Clara, this signals a strong and stable shift in income distribution across all of the higher brackets.\n",
    "\n",
    "Note: urban regions (i.e. 'downtown') have sparse opportunities for housing investment. The opportunity here may exist in owning a residential complex for lease and charging a higher rent. "
   ]
  },
  {
   "cell_type": "code",
   "execution_count": 168,
   "metadata": {
    "collapsed": false
   },
   "outputs": [
    {
     "data": {
      "text/plain": [
       "<matplotlib.text.Text at 0x2c978780>"
      ]
     },
     "execution_count": 168,
     "metadata": {},
     "output_type": "execute_result"
    },
    {
     "data": {
      "image/png": "iVBORw0KGgoAAAANSUhEUgAABB4AAADXCAYAAAC9DpJcAAAABHNCSVQICAgIfAhkiAAAAAlwSFlz\nAAALEgAACxIB0t1+/AAAIABJREFUeJzs3Xd4VGX6xvHvmZJJSEIJBEIoAgIv1YYFpVpXimVdK4uu\na++97NpQ17WtZa3YcO0VO/afK4JYsCCCwrsgID2E0JJAJlPO748ZegshyZkJ9+e6cs3MOWfO3JPJ\nk8k8ec97HNd1ERERERERERGpDT6vA4iIiIiIiIhI/aXGg4iIiIiIiIjUGjUeRERERERERKTWqPEg\nIiIiIiIiIrVGjQcRERERERERqTVqPIiIiIiIiIhIrQl4HSCdGWOaAz8AhwNZwBhgRnL1SGvtq15l\nExEREREREUkFajxUkzEmCDwOrEku6gXcZ62917tUIiIiIiIiIqlFh1pU3z3AY8DC5O1ewBBjzDhj\nzChjTK530URERERERERSgxoP1WCMOR0ottZ+vMHiicDV1tr+wCxghBfZRERERERERFKJDrWonjMA\n1xhzGLAX8BxwtLV2cXL9W8BD29tJNBpzAwF/7aUUqTrH6wCqB0khqgeRjXlaE6oHSTF6jxBZr8r1\noMZDNSRHNQBgjBkLnAe8Y4y52Fo7ETiUxKST27R8+epay7gl+fm5FBeX1uljVle6ZE2XnLDtrPn5\n3h8ZVNf1AOnz+qVLTkifrKqHzdWH1y7VpEvW7eX0uiZUD9uWLlnTJSfoPWJT9eW1SyXpkhNqrh7U\neKg55wMPGWMiwGLgHI/ziIiIiIiIiHhOjYedZK0duMHNPl7lEBEREREREUlFmlxSRERERERERGqN\nGg8iIiIiIiIiUmvUeEhB0Zeep/KWG3EjEa+jiIiIiIiIiOwUNR5SUOzrCUQfeYDKM4bjVlR4HUdE\nRERERESk2tR4SEEZd96Lb8DBxD7+kPDwk3DLy72OJCIiIiIiIlItajykICc7m9Dzr+I/cjDxcZ8T\nPumPuKtWeh1LREREREREZIep8ZCinMxMMkY9j//Y44hP/Ibw8UfjLivxOpaIiIiIiIjIDlHjIYU5\nwSAZI0fhP2U48Z8mUfHHIbhFRV7HEhEREREREakyNR5SnOP3k3H/wwTOPAd32q9UHDuI+IL5XscS\nERERERERqRI1HtKA4/MRvP1fBC6+HPe3mYSPPpL47FlexxIRERERERHZLjUe0oTjOARvuJng32/E\nnTeX8DGDiP/Peh1LREREREREZJvUeEgjjuMQvPxqgv+4A3fxosRhF1N+9jqWiIiIiIiIyFap8ZCG\ngudeSMY9D0BJCRXHDSX2w3deRxIRERERERHZooDXAdKZMaY58ANwOBAFngFcYCpwobU2XluPHTjt\nr5CVReUl5xM+/hhCL76G/6C+tfVwIiIiIiIiItWiEQ/VZIwJAo8Da5KL7gNusNb2AxzgmNrOEDjh\nZDKefBYqw4RPPo7Yfz+t7YcUERERERER2SFqPFTfPcBjwMLk7V7AF8nrHwKH1UWIwNCjCT33MgDh\nU08m+v57dfGwIiIiIiIiIlWixkM1GGNOB4qttR9vsNix1rrJ66VAo7rK4z/0CEIvvwHBDCrPOo3o\nG6/V1UOLiIiIiIiIbJPjuu72t5KNGGPGkZjLwQX2Av4H7GOtDSTXHwMcbq29aFv7iUZjbiDgr7Fc\n4W++oejII3FXrSLviSfIPeusGtu31HuO1wFquh5EdoLqQWRjntaE6kFSjN4jRNarcj1ocslqsNb2\nX3vdGDMWOA/4lzFmoLV2LDAI+Hx7+1m+fHXNBtu9O6E3x1Bx4rEsO/tsSotKCJ5zwbrV+fm5FBeX\n1uxj1pJ0yZouOWHbWfPzc+s4zeZqvB6qIF1ev3TJCemTVfWwufrw2qWadMm6vZxe14TqYdvSJWu6\n5AS9R2yqvrx2qSRdckLN1YMOtag5VwK3GGO+BjKA0V6E8PXck8y3P8RpUUDkhr8R+fc9XsQQERER\nERERATTiYadZawducHOAVzk25DNdCL37EeHjjyZy+6245eUEr7vJ61giIiIiIiKyC9KIh3rK174D\noXc+xOmwO9EH7iVyw7VoPg8RERERERGpa2o81GO+1m3IfOcjnK7diD75GCWnn0586hTceNzraCIi\nIiIiIrKLUOOhnnNatCDzrffx7bk35c89R8UhfVjTrQPhvw4nMupx4na6RkKIiIiIiIhIrdEcD7sA\nJ68pobc/oMG4T1jx4SfEvxxH7P13ib3/LhGA/Ob4+/TF16c//r79cDp0xHE8P1OQiIiIiIiI1ANq\nPOwinOxsck47jTWD/ojruri/zyE+YTyxL8clLt9+k9jbbxIBnJaF+A7qi79vf3x9++PbrZ3X8UVE\nRERERCRNqfGwC3IcB6dde3zt2hP482mJRsRvM9c3ISaMI/bGa8TeeC2xfZu2+Pr0w9+nX6IR0aq1\nt09ARERERERE0oYaD5JoRHTshK9jJzj9zEQjwk4nNmEc8fHjiH39JbFXXiT2youJ7du1x9e3P/4+\n/fD37Y/TosDbJyAiIiIiIiIpS40H2YzjODhduuLr0hXOPBc3Hsf9ZWqiETFhPLGvJhB74VliLzwL\njkPgvIsI3ngLTkA/TiIiIiIiIrIxfVKU7XJ8Ppyee+DruQecdxFuNEp8ymTiX44n+uKzREc+RHzy\nJEJPPIPTvLnXcUVERERERCSF6HSassOcQAD/3r0IXnwZmZ9+gX/I0cS/+pKKw/oRm/it1/FERERE\nREQkhajxIDvFyW1IxtPPExxxG+6SIsLHDiLy1GO4rut1NBEREREREUkBajzITnMch+CFlxAa/S40\nbkLkumuoPP8s3PJyr6OJiIiIiIiIx9R4kBrj79ufzM/G49t3f2Jvvk7F4EOJz5rpdSwRERERERHx\nkCaXrAZjjB94EjCAC5wHBIExwIzkZiOtta96k9A7vpaFhN7+gMiI64iOeoKKwweS8fDjBAYN8Tqa\niIiIiIiIeEAjHqrnKABrbR/gBuCfQC/gPmvtwOTXLtd0WMvJyCDjjnvIePRJiEao/MspVN52M240\n6nU0ERERERERqWNqPFSDtfZt4Jzkzd2AFSQaD0OMMeOMMaOMMbmeBUwRgeNPIvODz3DadyD64H2E\nTzoOd+lSr2OJiIiIiIhIHVLjoZqstVFjzLPAQ8CLwETgamttf2AWMMLLfKnC170HmZ+MxX/kYOLj\nxyZOufnj917HEhERERERkTri6LSHO8cYUwB8CxxkrV2QXNYNeMhae+i27huNxtxAwF8HKb3nxuOs\nuusuVtxwAwQC5D3wADnnnovjOF5HkwTPX4hdqR4k5akeRDbmaU2oHiTF6D1CZL0q14Mml6wGY8yp\nQGtr7R3AaiAOvGmMudhaOxE4FPhhe/tZvnx17QbdRH5+LsXFpXX6mBs56yJCHbsRPu8Mlp1/PivH\njifjrvtwGjTYbFPPs1ZRuuSEbWfNz/f+yKC6rgdIn9cvXXJC+mRVPWyuPrx2qSZdsm4vp9c1oXrY\ntnTJmi45Qe8Rm6ovr10qSZecUHP1oEMtqudNYG9jzDjgY+Ay4HzgfmPMWKAPcJt38VKXf+AhZP7f\neHx770Ps1ZeoGHI48dmzvI4lIiIiIiIitUQjHqrBWlsOnLiFVX3qOks68rVuQ+jdj4lcfy3R556m\n4oiBhB59Av/hR3odTURERERERGqYRjyIJ5xQiIx7/k3GgyMhXEH4zydSeedtuLGY19FERERERESk\nBqnxIJ4KnPxnMt//FKdtO6L33U142PG4y0q8jiUiIiIiIiI1RI0H8Zyv555kfjoW36GHE//8MyoO\nH0DFhAlexxIREREREZEaoMaDpASnSR6hF18nePXfcefPo6hvX8Jnn058zmyvo4mIiIiIiMhOUONB\nUobj8xG8+u+E3v2YjP33J/bOm1T03Y/KEdfjrljudTwRERERERGpBjUeJOX4D+hNwddfk/HYKJwW\nBURHPsSaA/Yi8uRI3MpKr+OJiIiIiIjIDlDjQVKS4/MROO4EMid8T/DGWyEaI3L9tVT0P4Do++/h\nuq7XEUVERERERKQK1HiQlOZkZhK8+DKyvv2JwBln4/4+h8q//pnwsYOJ/fSj1/FERERERERkO9R4\nkLTgNGtGxp33kjl+Iv4jBxP/egLhIwYSPv8s4vPneR1PREREREREtkKNB0krvo6dCD33CqE3x+Ds\nsRexN16j4sB9qLztZtzSVV7HExERERERkU2o8SBpyd+3P5mfjCXj4cdxmjYj+uB9iQko//MUbjTq\ndTwRERERERFJUuNB0pbj8xE48RQyv/qB4N9vhDUVRK69gooBvYl98qEmoBQREREREUkBajxI2nMa\nNCB4+dWJCShPOwP3t5mEh59E+PijiU/52et4IiIiIiIiu7SA1wHSkTHGDzwJGMAFzgMqgGeSt6cC\nF1pr415l3BU5zZuTcc+/CZx1LpW33ED8s0+pOKwf/pOGEfz7jfhaFnodUUREREREZJejxkP1HAVg\nre1jjBkI/BNwgBustWONMY8BxwBveRdx1+Xr0pXMl98gNva/VN58A7FXXiT2zpv4j/4jTkFLnKZN\ncZrl4zRthtMsH5o1S1zPyPA6uoiIiIiISL2jxkM1WGvfNsaMSd7cDVgBHAZ8kVz2IXAEajx4yj/w\nEDI/G0/s1ZeI3PEPYq++tO07NGy0UVOC/LXNiWRjYtNGRTBYN09EREREREQkjTmagK/6jDHPAn8E\njgeesdYWJpcfApxhrR2+rftHozE3EPDXflDBrawkOmcOsSVLiBcXE1uyhFhxMfG1l8ll8eJiYsXF\nEIttd5++xo0JdutG02eeIdipUx08i1rleB1A9SApRPUgsjFPa0L1IClG7xEi61W5HjTiYSdYa/9i\njLkW+BbI2mBVLolRENu0fPnq2oq2Rfn5uRQXl9bpY1ZXrWRt0jLxZTZf5WP9TKtuPA4rV+AuXYpb\nsjRxubQYShKXGy4Lf/UVCw88kNBLo/Hv3atm89awbX1P8/Nz6zjN5uq6HiB9aiJdckL6ZFU9bK4+\nvHapJl2ybi+n1zWheti2dMmaLjlB7xGbqi+vXSpJl5xQc/WgxkM1GGNOBVpba+8AVgNx4HtjzEBr\n7VhgEPC5hxFlJzg+HzTJw2mSB506b3PbzLdeZtn55xP+41BCTz+H/5DD6yiliIiIiIhIetDpNKvn\nTWBvY8w44GPgMuBC4BZjzNdABjDaw3xSR3LPOYeMp1+AeIzw8JOIvvay15FERERERERSikY8VIO1\nthw4cQurBtR1FvFeYPBQnNfeIXzqSVRedC7ukiUELrwEx/H8EEARERERERHPbXfEgzHmOGPMImPM\nPGPMUZusG22M2akP28aYzsaYKcaYCmPMOVtYv5cxpl8V9+UYY84zxlRpJIcxZo4x5qwdzSyyKX/v\nA8l872OcwlZEbr2RyE3XJeaKEBERERER2cVt8wO6McYPPAFcBVwH/McY4yTX7QU0ttZ+sY1dVMUF\nJOZI6Aa8soX1b7HF6QC3qD8wEh1CIh7wdelK6P1PcToboo8/QuUFZ+FWVnodS0RERERExFPb+4De\nDGgKvA68lryen1x3c/JrZzUCplprZ1lrV21h/Y6MV9fYdvGUr1VrMt/7GN9+BxB7czThYSfglqXH\njLUiIiIiIiK1YXtzPCwlcdaGfUg0KcqBEmNML6CBtfbL7T1A8rCHK4HzgEJgInCJtXayMWYsyXkR\njDHDrLXOJvcdC+wGPGmM6WutPd0Y0xW4HzgIKCMxIuNWoC3rzyQRMcYcDEwAbgdOAVoAC4E7rbUj\nt5dbpLqcJnmERr9L5bl/JfbRB1QcO4TMl0bjNG/udTQREREREZE6t80RD9baGHAtMB4YC1yRXHYL\nVR/tcBOJQzUuJ9HAmA18ZIzJBY4jMZLiDaDlFu57HDCfROPiUmNMs2SWhcABwPkkziZxJTAP+FPy\nfq2Br5LZjwaOJ3G4xjPAg8aYwipmF6kWJyuLjKdfwD/8L7g//0TFkMOIz/rN61giIiIiIiJ1brtz\nIVhrHwbygDxr7RPGmP2BIDDRGPNUctLJR7Y0oWNyPoiLgZutte9aa6cBZwMR4DRr7TJgDVBhrV28\nhcdeBsSAVdbalcCw5PbnWmunWWvfAW4Erkk2RJYl71pkra0EpgJnWWu/sdbOIjH6IUDV54wQqTYn\nECDj3gcJXHEN7u9zqBh6BPHJk7yOJSIiIiIiUqeqNAmjtbbUWluWvHkLMAI4AehO4kP8vsnbm2pO\nomnx7Qb7igDfA12rkbcrMCm5j7W+ApolR0NsmvttINMYc68x5n1gTnKVvxqPLbLDHMch4283ELzr\nPihZSsWxQ4iN/a/XsURERERkE3E3TkVsjdcxROql7c3xsBFjzEEA1tpvjDHDgC+stauNMZ8DvYFX\nN7nL1irXT/U+/G9pf/5NLjfMextwLvA08DyJM2jMqcbjiuyU4F/PwslvTuX5ZxL+8wlkPDiSwJ9O\n9DqWiIiIyC4h5sYoCRexJLyAJRULKUpeLqlYQHF4EUXhhRRXLCTmRnn+kE/o7N/f68gi9coONR5I\njHa4IXndZf2IiQBbOKOEtXaVMWYRifkYfgQwxgSBXqyfCHJ73A2uTwdONMYENxj1cCCJQyyKgS6b\n3Pc84GJr7cvJx+6WXK6zX0idCww9GifvLcKnnULl+WfhLllC8PyLvI4lIiIiktYi8UqKw4sSjYTw\nAoqSl0vWXS6ipHIxMTe2xfv78NEsVIBpuAetstrRoaFJTKkvIjWmyo0HY0x/oNJau/awie+Bvxlj\nngUGAbdt5a73AjcbYxYA/yMx4WMW8HIVH7oM6GKMyQNeItH8eNwY8y+gU/L2SGtt3Biz9nCQfYwx\nPwMlwFBjzLckzqjxQHJ9qIqPLVKj/Af1JfPdjwiffByREdfhFi0meNOtOL4qHfUkIiIisstwXZfS\n6AqWhBexNLyIJRWLKA4vXNdkKA4vYkl4Acsqi7e6j4ATpHmokJ6N9ic/1JLmma1oHiqkRfKyeWYr\nmma0IOBb/7Eov0EuxeU6HbpITdqREQ83k2garPUKMJjEHAtvkjg7xZbcDzQEHgcaAV8DA621RVV8\n3IeBe4AO1trjjDFHAg8Ck0iMcniAxKSRAFOAj0mc+eIU4AxgJPALiTNhPAlUAnsDY6r4+CI1ytet\nO6H3PyV88nFEH30Qd0kRGQ88ihMMeh1NREREpE5E4pUsDS9e31QIL6S4InkZXkRxxUKWhBcRjm99\nzoWQL5PmoULaN+lC88xCmoda0TyzkBbJy+ahVjTJaIbP0T94RLxW5caDtfaQTW5HSHy439794iQm\noxyxlfWnb+f+j5NoWqy9PRkYsJVtK4EjN1m8xya379xg+3bbemyR2uJr05bM9z4m/OcTiY1+lXDJ\nUkKjnsfJyfE6moiIiEiNGl/8Id/P/i9zV/yeaCqEF25zlAJAXkY+7bI7J0YphArJz0xcNgsVrLvd\nMNAEx9ER1CLpYEfneBCRGuLkNSX0xnuEzzmd+CcfET5uCKEXR+Pk53sdTURERGSnReMRHppxEy/N\nfWTdspAvi+ahlrRrYjZrKuSHWpIfakmzUAFBX4aHyUWkpqnxUA3JCTKfBtqRmC/iNmAeicM3ZiQ3\nG2mt3fQsHyIbcRo0IPTMS1RedSmxl56nYujhhF59C1+79l5HExEREam2kvASrptyOj8u/5J22Z25\n96D/0CTShpxAI41SENkFqfFQPcOBEmvtqclJL38CbgXus9be6200STdOIEDG/Q8TadGC6P33UDHk\ncIKXXUng6ONwWrTwOp6IiIjIDpmyYiLX/nwqxeFFHNL8GG7q/ijt8gspLtaEjSK7Ks20Uj2vAzcm\nrztAlMQpQocYY8YZY0YZY3I9Sydpx3EcMv5+E8E77oHly4hcfy1r9jRUHH8M0Zeex125wuuIIiIi\nItvkui5vzBvFOd8PoiRcxMWdbuXOPZ4jO6A/i0V2dY7rul5nSFvJ5sK7JM6WEQJ+ttb+YIy5Hmhi\nrb1qW/ePRmNuIOCvg6SSTmJFRZS/9hqrX36Z8NdfJxZmZJA1eDDZw4aRNXQovqysmn5Yz8c8qh4k\nhageRDbmaU2oHtJDRXQNN3x/AaNnPUOTUFMe7vMqfQoO9TpWbdB7hMh6Va4HNR6qyRjTBngLeNRa\n+7QxprG1dkVyXTfgIWvtNn/bFheX1uk3Pz8/N22GuKVL1trOGf99DrG33yD65uu4035NLMzOwT94\nKIHjjsfX/+Aqn4ZzW1nz83M9fxOt63oA/ZzVhnTJqnrYXH147VJNumTdXk6va0L1sG2pkHXhmt+5\ndvKpTC/9ia4N9+buPV6gIKvNRtukQs6q0nvExurLa5dK0iUn1Fw96FCLajDGtAA+Aa611j6dXPyx\nMWb/5PVDgR88CSf1im+3dgQvvZKsL74hc+zXBC69EqdpU2Kvv0L4lONZs0dnKq+5nNg3X+HG417H\nFRERkV3MtyX/5bRv+zO99CeOKTyNJ/f9eLOmg4iIJpesnuuAJsCNxpi1cz1cAdxvjIkAi4FzvAon\n9ZOvW3cyunXHve4m4j98R+zN14m+/SbRZ0YRfWYUTqvW+I/9E4HjTsDp0VMzRouIiEitcV2XZ+bc\nx2Mz/4HfCXBd1wf5Y+vTvY4lIilKjYdqsNZeCly6hVV96jqL7Hocx8G/7/74992f4K13EP9yHNG3\nRhMb8y7RRx4g+sgDOJ06EzjuBPx/PB5fh929jiwiIiL1SFl0FbdMPY+xxWNoHmrF3Xs+T/dG+3od\nS0RSmA61EEljTiCAf+AhhB54lKxfZpLxnxfxH3Us7ry5RO76JxW996biiAFEHnuYeFmZ13FFREQk\nzc0qm87p3x7M2OIx7NukP8/3Hqemg4hsl0Y8iNQTTmYmgSFHERhyFG7pKmIfjCH61mjiX3xO/KdJ\nrCxfCVde73VMERERSVOfFb3NLb+cz5pYOcN3u4QLO95MwKePEyKyffpNIVIPObkNCZw0jMBJw3CX\nLiX2+f+Re/QglnsdTERERNJONB7l0Zm38PzvD5Dlz+b2ns9weMFxXscSkTSixoNIPec0a0bghJMJ\n5OdCmpy2R0RERFLD8sqlXDflr3y/7AvaNujI3Xu+yO45Xb2OJSJpRo0HERERERHZzC8rf+Dan0+l\nqGI+A/KHcHP3x8gJNvI6loikITUeRGSX4a5ZSXzW18RmTiA+7yeWNGxMJCsfp1FLnEaFOI0K1l2S\n1VinJBURkV3W2/Of5e7pVxJ1I1zQ8Sb+0u4KfI7mpReR6lHjQUTqLXf1CmKzviY+88vE1/zJ4MbX\nrV+zrTsHszZqRDgNW+I0Ltx8WUZWrT8PERGRuhKOVfAvezXvLHiWRsEm/KPHKA5sdpjXsUQkzanx\nICL1hlu+LNFomDGe2G8TcBf8DK6bWOkP4mt/AL6OffDv3hdf+/1p2jDI0lkzcFctwl2xaOPLlYuJ\nr1yIO+ur9fvYkgaNNxot4e9wEP69j8UJ5dTNkxYREdkJKypL+K3sV2aW/cKMsl+YtPxL5q7+jc65\ne3D3ni/QKqud1xFFpB5Q40FE0pZbVkLstwnEZ36ZaDQsnLpBoyEDX4eDEo2Gjv3wtdsPJ6PBRvf3\nN8zF1yoErXps/TFiUdzSItyVGzcl3JULE8tWLsJdsRB30a8AxL59Ad68Bv8+fyJwwHB87fbXIRsi\nIuK5SLyS38tnMKNsKjPLfmFm6S/MLPuFJeGFG20XcIIc0+ovXGXuJtOvUX0iUjPUeBCRtOGWFq9v\nNMz8ct2HfQACIXy798XfsS++jn3x7bZvjRwG4fgDOI1bQeNWsNs2slWuxl02l9ikt4hOfJHY188S\n+/pZnIIuBA44lcB+J+Pk5u90HhERkW1xXZfi8KJEc6HsF2aUJhoNc8r/R9SNbLRt81Ar+jQ7go45\nPeiY042OuT1o16ATAV/Qo/QiUl+p8SAiKS2+YiHRT+9JNBoWT1+/IpiFr/NA/B374OvYD99uvXAC\nIc9yOhkNcAq64Bv0dwJ/uJb4/8YS/eY5Yj+PIfLO9UTeG4G/xyACvU/F1+UwHL9+/YqIyM5ZEyvn\np6XT+G7+xHWNhpllU1kZWb7Rdln+bLo03JOOOT3olNOdjrmJRkPDYBOPkotIqou5McYXf0jvrAPJ\npOlO709/+YpISov9/C7RL5+CjAb4zMGJwyY69sXXdh+cQIbX8bbI8fnwdzkEf5dDcMuXEf3hNaLf\nPE/s5/eI/fweTqOW+Pf/M4Hew/E16+B1XBERSTNTV37HK3Mf47OitzcaxeDg0KZBB3o16b9uBEOn\nnO4UZrXTGSlEpMqmr/qJO6Zdxq+rfuQvay7iot1u3+l9qvEgIikt0OdM/J0H4uTvjuNPv6GfTnYe\nwf7nEeh3Lu78n4h+/RzRH0cT/fQeop/eg69jPwK9h+Pf85jN5qCoDW48hrtyEY4vkDhtqIiIpIVI\nvJLPit7mlbkj+WXVDwC0z+7CgFZH0DrQmY453eiQ05Usf7bHSUUkXZVFVjLyt38wet5TxInzh4IT\nuKTHTcRLd37fajxUgzEmCDwNtANCwG3Ar8AzgAtMBS601sa3sgsRqSLHH8Qp6OJ1jJ3mOA5Om73J\naLM3wWNvT4zk+OZ54jPGUTlzPIy+mkCvE/D3PhVfm713akJKt6IUt2QO8aVzcEvm4JbMJl6y9vpc\niFWC45Bx8iMEeg+vwWcpIiI1rSS8hDfnP80b80dRUlmEg8OA/CGc1PY89m3Sn+bNG1JcXAOfCkRk\nl+W6Lh8vfp37/3cdyyqXsFuDTlzb9T72yxtA08xcikt3/neMGg/VMxwosdaeaozJA35Kft1grR1r\njHkMOAZ4y8uQIpKanIwsAvueRGDfk4gvnUX02xeIffsS0QmjiE4YhVPYg8ABwwnsdxJO9ubH1Lnx\nWOJMGslmQrxkNu7StdfnQNnSLT9wdlN8rXvi5O1GzH5O5SsXAi6B3qfW6vMVEZEdN23VJF6d+xif\nLH6DiFtJTqARw9pexAltzqZ1g/ZexxORemJO+Qzunn4l3y0bS8iXyfm738jwdpeQ4avZudPUeKie\n14HRyet/ooj3AAAgAElEQVQOEAV6AV8kl30IHIEaDyKyHb5mHcgYchPuoOuJT/8sMRfE1A+IvPU3\nIu/ehH+Poazs0pvKef9LjFpYOht32VyIRTbfmT+Ik9cWp/We+Jq1x2naHqdpO3zN2uE03Q0ns+G6\nTeMLplDx8FAqX7kIQM0HEZEUEI1H+O+Sd3l17mP8vPJbANpld+akNucxuOXJNAjkeJxQROqLitga\n/jP7Hp6f8wARt5I+zY7gKvOvWmtsOu7ac97LDjPG5ALvAk8C91hrC5PLDwHOsNZucwxzNBpzAwF/\n7QcV2b7qj+uvIaqH9WKriikf/zxlY0cRWfDrRut8DfMJNO+w7iu4wXV/XiscX9W/h5W/T6bon4cS\nL19G07OfImfgGTX9VNKV6kFkY57WxK5QDyUVxbzy25M8/79HWbxmAQCHFA7hdHMJfQsO08SQqUXv\nEZL2Pl/wATd9fxHzymfTskFrRvR6kD+0PrY6h/pW+Q5qPFSTMaYNiRENj1prnzbGzLfWtk6uOwY4\n3Fp70bb2UVxcWqff/Pz83LQ5BjBdsqZLTth21vz8XM/fROu6HiD1Xz/XdYnP/ZGG7gpKgy2SoxZy\na/Qx4gumUPHIUVC+jIyTHyZw4Gk7tb9U/56upXrYXH147VJNumTdXk6va6I+14Mt/ZlX5z7Gx4tf\npzIeJtufy1GthnNC67Npm92xSvuoLz9nqUTvERurL69dKvEq5+KK+dxrr2XskvfwO35OaXshZ3f4\n2zZHU9VUPehQi2owxrQAPgEustZ+llw8yRgz0Fo7FhgEfO5VPhGpHxzHwb9bLxrk51JeS29OvlY9\nybzwPSoeOWr9YRc72XwQEZGti8ajjCt+n1fmjmTSiq8AaNtgd05scy5DCoeRE2i4nT2IiOyYaDzC\ny3NH8uSsO1gTK2evxgdybZf76Jjbvc4yqPFQPdcBTYAbjTE3JpddCjxojMkAprF+DggRkZSWaD6M\n2aD54BI48C9exxIR8cSqyHLmLJlM6cowAV8QvxNY9xVIfvmdAH7fBtedAAEniN/xb3Wo8orKEt5Z\n8Byvz3+Soor5APRueigntz2fA5vqcAoRqR2TV3zDHdMu47eyX2kUzOMq8y+GFg6r8985ajxUg7X2\nUhKNhk0NqOssIiI1wdeqxwYjHy4GUPNBRHY5/y16l9unXcLKyLJq78Pv+DdoRATwO34CTpBV0eVU\nxsNk+bM5oc3ZnNjmXNpld67B9CIi662oLOHBGTfy3sIXADi21elc2HEEjTM2P2NaXVDjQUREgGTz\n4aIxybNdXAyuS+Cg072OJSJS68qjpdxrr+W9hS8Q8mVyeudLiFf6icYjxNxo8itG1N3kdjxCdGvr\n44nba9fnhZozpOXJHF14KjnBRl4/ZRGpp+JunHcWPMcjM0ewMrKcTjk9+VvX+9ij8QGe5lLjQURE\n1vEVdl/ffHj1EsAlcNBfvY4lIlJrJq/4hpumnsPCNXPokrsXt/Z4kv3b75sWE9SJiGzof6VTuHPa\n5UxZOZEG/hwu73w7J7Y5j4DP+4/93icQEZGUsnHzIXFUmZoPIlLfROKVPDnrTp6dfR8Af21/FWd3\n+BtBX4bHyUREdsyKyhL+M/seXp33GDE3xmEt/sjlne+geWah19HWUeNBREQ2k2g+vE/Fw0OofPVS\nXNcl2OcMr2OJiNSI2WWWm6aezfTSnyjMasetPZ5gz8a9vY4lIrJDllcu5YXfH2L0vCdZHSujdVZ7\nrulyLwc2O8zraJtR40FERLbIV9gt0Xx4ZCiR1y4D1yXY90yvY4mIVJvrurw+7wkenHEj4XgFRxUO\n5wpzp05hKSJpZWm4iBd+f5A35o2iIr6aphktOGf36zi+9VmE/Jlex9siNR5ERGSrfIXdkqfaHErk\n9csB1HwQkbRUXLGIW3+9gG9KPqNRMI9bezzFIS2O9jqWiEiVLalYyHNz/s3bC54hHK+geaiQi9vd\nwtGtTiPTn+V1vG1S40FERLZp3ciHh4ckmw8uwb5neR1LRKTK/lv0TvI0mcs5sOlh3NT9UZqFCryO\nJSJSJYvWzOXZOffz7oLnibiVtMxsy+ntr2Bo4Z/J8IW8jlclajyIiMh2+Vp2TTYfhhJ5/QqAWm8+\nxFcuIj77W5wmrfG12QfH56vVxxOR+qcsuop7pl/D+4teIuTL4pou93J867NwHMfraCIi2zV/9Wye\nmXMfYxa+SMyN0iqrHWe0v5rBLU8m4At6HW+HqPEgIiJVkmg+jFnffHBdgv3OrrH9u6uKiM0cT3zG\neGIzx+MumblundOoJf4eg/H3HIyvU3+cQHp090XEO5OWf8XNU89lYcXvdM3dm1t7Pkm77M5exxIR\n2a7fy2fwn9n38tHiV4m5Mdo26MgZ7a/iDwUnpsSpMasjPVOLiIgnfC27knnx+1Q8NITI6CsBl2C/\nc6q1L7dsKbEZ44nPHE9sxnjcIrt+ZSgXX7cj8Hc4kPiSmcR++ZDohFFEJ4yCUC7+bofj7zkEf9fD\ncRo0rpknJyL1QiReyeO/3c5zc+7HweGM9ldxdoe/p91/B0Vk1zOrbDpPz/4Xny5+gzhx2md34cz2\nV3NYwXH4Hb/X8XaKGg8iIrJDfAVdEs2Hh4cSGX0VQJWaD255CbGZXxGfOS7RaFj06/qVGdn4uhyK\nv1N/fB374muzN45//VuUG4sSn/0tsSljiE15n9ikN4lNehN8AXyd+iWaED0G42vSusafr4ikj1ll\n07lp6tnY0sk6TaaIpI2Zpb8wava/+KzoLVxcOuX04MwO13Bw86PxOfXjUFM1HkREZIf5CrqsP+xi\nK80Hd/UKYr99RXzGuMShEwungusmVgaz8HU+GH+nvvg69cfXdh8c/9b/G+n4A/g79sHfsQ/usbfj\nLpq2rgkRt58Tt58TGX0VvjZ74+85GH/PoTgtu+k4bpFdRNyN8/q8J3hoxk2E4xUcXXgqV5g7yQ7k\neh1NRGSr7KrJPDX7bsYueQ+ALrl7cVaHa+mXP6jeNBzWUuNBRESqJdF8SJ7tYvRVEK1kdac9qPz+\n48SIhgWT1zcaAiF8u/fF36lfotGwW69qz9PgOA5OYTd8hd0I/uEa4isWEJvyAbEpY4jPGE983iQi\nH/wTp2m7xEiInkPwte+90QgKEak/EqfJPJ9vSv5Lo2Ae/+g5ioObH+V1LBGRrfpp6UTumTSCL5d+\nBECPRvtyVvtrOajZEfX2nyb6K2wnGGMOAO6y1g40xuwNjAFmJFePtNa+6l06EZHa5ysw65sPb19H\n8doV/iC+Dgfi69gvcfhEu/1wgpm1k6FxK3z9zibY7+zEKItpnyYOx/j1U6JjHyE69hHIzsPf/Uj8\nPYbg73IIoP+CitQHXyx5n3/8egErI8s5qOnh3Nj9EZ0mU0RSUllkJZ8WvcWYhS/y88pvAdizcW/O\n6nAtB+QdUm8bDmup8VBNxphrgFOB8uSiXsB91tp7vUslIlL3fAWGzIs/IPLBbWS360648AB87ffH\nyWhQ51mcBo0J9DqBQK8TcKPhxBkyprxPbOoHxCa+RGziSxDMZMWQq+Dga+o8n4jUHNd1+cevF1IR\nq9BpMkUkJcXdON8vG8d7C1/g8yXvEY6vwcGhf8s/cErhxfRq0m+X+b2lxkP1/QYcBzyfvN0LMMaY\nY0iMerjMWlvqVTgRkbrka9GZ0F+fo0l+LsXFqfGrzwmE8Hc9DH/Xw3CPv5f4vEnJJsSHRJcv8Dqe\niOwkx3F4eJ+3aRhsQmHWbl7HERFZZ/7qWYxZ+BLvL3qZxRXzAGiT1YGjWg1nUMuT6dmma8r8vVRX\nHHft8beyw4wx7YBXrLW9jTF/BX621v5gjLkeaGKtvWpb949GY24gkN6nRZF6w/NWq+pBUojqQWRj\nntaE6kFSjN4jZIvKIqV8MHc0o2c/w8Ql4wDIDuQwdLeTOKHDX+nV7KD6OLqhyk9IIx5qzlvW2hVr\nrwMPbe8Oy5evrt1Em8hPof9Ebk+6ZE2XnLDtrPn53h/vXtf1AOnz+qVLTkifrKqHzdWH1y7VpEvW\n7eX0uiZUD9uWLlnTJSfoPWJT9eW1qw1xN86k5RN4b+GL/HfJO6yJJY7C3zdvAEe1HMbBLY4my58N\nwNKlZZ7l3Bk1VQ9qPNScj40xF1trJwKHAj94HUhERERERERq1sI1v/P+wpcYs+hlFq6ZA0BhVjtO\nbXkpQwpP0eFfW6DGQ805H3jIGBMBFgPnbGd7ERERERERSQNrYuV8XvQu7y18ke+XJw6lyPQ1YEjL\nYRxVOJy9mxyEz/F5nDJ1qfGwE6y1c4Deyes/An08DSQiIiIiIiI1wnVdJq/4hjELX+T/it6iPJY4\n5GDvxgcxtHA4h7Y4huyA94ffpAM1HkRERCQtrImsZkbRApYvX43f58PvBPD5/PgdP35fAL/Ph8/x\nE/AF8Dl+/L7Ecv0HSkREqmrxmnl8t3wc3y/7gu+XjWNJeCEALTJbc1Lb8xhaOIw2DXb3OGX6UeNB\nREREUk5ZeBXTi6Ywregnfl08mWlFk5lVYom78Wrtb31zwr++KZFcFvAHaRhqTF6DZjRp0JQmDZol\nrzcjL6sZedn5yWVNaZjZpM4aGZFYhNWVpZRXllEWTlwCNMxsRE6oIbmhRmQFG9THWdJFROrMsspi\nvl82ju+WfcH3y75g/prZ69Y1CTZjUMuTGNJyGPvlDVAjeyeo8SAiIiKeWrlmGdOKfubXoslMW/wT\n04omM2fZzI22yQpms1erA+jaqjvhiigxN0Y8HiPqRonHY8TdONF44nrMjRGLR4m5cWJbWJa4HSUW\njxF3Y0RiERas/J3/FU/dbla/46dRVt76xsTaZkVWs02WNWNJJIv5RUWUh1clmgeVpaxONhDKKktZ\nXVlGWXJdeXJ5eWVp8quMcLRiu3kCvsC6JkRuZmMahpJNicxGG13PDTWiYWbjdds2TC7LDmmIsIjs\nWkojK/hx+Vd8t2ws3y8fx29lv65blx1oSP/8weyb15/9mgxg95xuau7WEDUeREREpM6UlBevG8Xw\na7LJsGDl7xtt0zDUmAN2G0DXFnvSrWBPurbYi93ydsfn+Gr1FGThaAXLV5ewfPVSlq1ZyvLVia9l\na5etXsqy1cUsX72UJaWLmLl0Wo0+foOMHHIycmmU2YTCRm3JzshNfuWQE8qlQUYu4FIaXkVZeCWl\nFStZlbwsDa9kaUkRayI7dpo9B4dOLbrw4vDPyQo2qNHnIyKSCipiq5m84hsmJkc0TF/1E3ESo+dC\nviwOyDuYffMGsF9ef0zuXgR8+ohcG/RdFRERkRrnui5FpQuZVrS+wTCtaDJFpQs32q5JVlP6tD+U\nrgV70a3FnnQt2JPWjdp58h+mUCCTgoatKGjYqkrbR2IRVqwpYdm6BsUGzYo1JeQ0yMQXzyQ7Iyf5\nlWgk5IQSzYTsUMNEUyEjl6yM7BoZwhuJVVIaXkVpxYrE5QYNirKKVZSGV6y/HV5FacVKmjdurj+0\nRaTeiMQr+WXlD3y3bCzfLRvHlJUTiboRAPxOgD0aH8C+ef3Zt8kAejbejwxfyOPEuwa9y4iIiMhO\nW7Z6KVMX/cDURT8yddGP/LJ4EiXlSzbapnlOSwbsfiRdC/akW4u96FqwJwW5rdJ2GGvQHyQ/p4D8\nnIItrq/N0Rlbz5RBXvJwj6ryIqeI1LzZZZaFFb9zUNPD0/b3anWFYxW8s+BZvp36f0wsGk9FPDH6\ny8GhS+5eiUZDXn/2anwgDQI5HqfdNanxICIiIjukLLyKXxf/tK7JMHXRjyxcNXejbVrktuKQTkPp\nXrDXukZDs5wWHiUWEan/Rs2+i48Xj+bg5kdzXdcHaJzR1OtItS7mxvhg0Ss8/ts/KaqYD0D77C7s\nl9efffMG0KtJXxoGm3icUkCNBxEREdmGcLSC6UU/r28yLP6ROSUzcHHXbdMkqyn9OhxO95b70KPl\nPvQo2EdNBhGROnZRp1tZUrGIz5e8y5QVExnRYyS9mx7qdaxa4bouXy79iIdn3Mys8mlk+EKc1u4y\nLtzranzlmjQ3FanxICIiIgBE41FmFk9j6uIf+SXZaJhR/AvReHTdNtkZuezbtm+iwZBsMhQ2arvL\nDesVEUk1BZmtGbnvGF6Y8yCP/XYbF//4R05uez4XdbyFkD/T63g1ZsqKiTw0YwSTVkzAh4+jC0/l\n7N3/TkFma/Ib5FJcrkPHUpEaDyIiIruwisganv7233w3/wumzJ9ERXTNunUZ/hDdCvaiR8E+ydEM\nvWjftJPOYy4ikqL8jp+/tL+cA5oezI1Tz+KVuSOZWDKWf/R8is65Pb2Ot1PmlM/g0Zm38PmSdwHo\nnz+YCzqOYPecrh4nk6pQ40FERGQXZZdM5dp3z2Tm0mn4fX52b9p1/UiGlvvQKb8bQX+G1zFFRGQH\ndWm4F88fMI4HZ9zI6/Oe5PRvD+aCjiMYttuFadc8Lq5YxJOz7uTdhc8Rc2P0bLQ/F3e6lb2bHOR1\nNNkBajyIiIjsYuJunBe/f4z7x46gMhbmlH3O5rY/3csajU4VEak3Mv0NuKbLvfRpegS3/nohD8y4\nnglLP2ZEj8coyGztdbztKous5LnfH+Cl3x8hHF9Du+zOXNjxZgbkD9HhfWlIjQcREZFdSHHZYm54\n/3wmzP6MvAbNuHXwcwzsOIiczFzWlKrzICJS3/TJ/wMvH/g1//z1YsYVf8Cwrw/i713/zeEFx3kd\nbYsq42FGz3uSp2ffw8rIMvJDLTmnw90MLfwzAZ8+vqYrvXI7wRhzAHCXtXagMaYj8AzgAlOBC621\ncS/ziYiIbOjzGR9w0wcXsnxNCf06HM4/hoykWXZzr2OJiEgty8vI5549X+btBc9yn/0b1005nS+X\nfsTV5l/kBBt5HQ9IjMb7aPFrPDbzNhZVzCUn0IgLO97MyW3PI9PfwOt4spPS6wCfFGKMuQZ4Clg7\nRex9wA3W2n6AAxzjVTYREZENrYms5taPL+fiN06mvLKMvx92N4+eMFpNBxGRXYjjOPyx9em82PtL\nujXchw8WvcKwb/owaflXnuZyXZevln7K8G/6MWLqOSwNL2ZY24t4q89PnN7+CjUd6gk1HqrvN2DD\n8Um9gC+S1z8EDqvzRCIiIpuYtngyJz7Tn9cmjaJTfndePf0L/rzveTo+VkRkF9U2uyOj9vuUM9tf\nQ1HFfM77fjCPzryVSLyyzrP8svIHLvjhKC6d9Cdmlk1lSMtTeKPPj1xubqdxRtM6zyO1x3Fd1+sM\nacsY0w54xVrb2xiz0FpbmFx+CHCGtXb4tu4fjcbcQMBfB0lFtsvzTyCqB0kh9aIe4vE4j31xH7d/\neB2RWISz+13KDUPuJDNYf87lLnXG05rQ+4OkmHrxHrHWD8VfcdlXw5lXPpueeb24/8AX6NioS43s\ne1tmr5rBPT9fz/tzXwfg4MLBXLPnHXRtsketP7bUqCrXg+Z4qDkbzueQC6zY3h2WL19de2m2ID8/\nl+Li9Jg4LF2ypktO2HbW/PzcOk6zubquB0if1y9dckL6ZK3v9VBUupDrx5zHN7+PpWl2c/45ZCR9\nOxxO6YoIpUS2eJ/68NqlmnTJur2cXteE3h+2LV2ypktOqP/vERtqS0+e238899m/8d7CFxjy4T5c\n1vmf/Kn1metGxu3Ma1cWXcXssunMLrf8VjaNWeXTmFU2nSXhBQB0b9iLizvdSq+8fhBlp39G0uXn\nLF1yQs3VgxoPNWeSMWagtXYsMAj43OM8IiKyC/o/+x4jPryIlRXLGdhxELcOfoS8Bs28jiUiIikq\nJ9CQm7o/Sp9mR3DHtEu5a/oVTFj6MTd0e4SmoarNBbQ6Wsbs8un8VjY92VyYxqzy6RRVzN9s2+ah\nQno3PZRjW/2FQ5ofo0P/dhFqPNScK4EnjTEZwDRgtMd5RERkF7K6spy7Pvsbb0x+llAgkxuOuI+T\n9j5Tf9CJiEiVHNriWHo22p9bfjmfL5d+zClf9+aG7o/wp/wT122zJlbOrLLpzCqfzux1TYbpLKqY\nu9n+mmUUsH/ewXTI6UKH7K50yOlKh2xDbrBxXT4tSRFqPOwEa+0coHfy+v+AAZ4GEhGRXdLURT/y\nt/fOYs6ymXRpvgd3HT2K3ZsZr2OJiEiaaZ5ZyEP7vMWr8x7j4RkjuPKnk/i05FXK1iQaDgsrft/s\nPk0zWrBf3kA6ZHehQ05Xds/pSvtsQ8NgEw+egaQqNR5ERETSVCwe4z/fPsDD428jGo/yl/0v5tL+\nN5ERCHkdTURE0pTP8XFK2wvYr8kAbpx6Fh/NexOAvIzm7Js3gA7ZZv0IhpwuNArmeZxY0oEaDyIi\nImlo0ar5XDfmXL6bO578nAJuH/o4B7Y72OtYIiJST3TM7c5zB3zBsuBcQmua6PSWslPUeBAREUkz\nH09/i1s+vJRV4RUc2vkobhn0II2z9AehiIjUrKAvgx55e6fNGRgkdanxICIikiZi8RgjPryYt6e8\nQFawATcPeog/7XGaJpAUERGRlKbGg4iISJr4bel03p7yAt0K9uauo56ifdNOXkcSERER2S41HkRE\nRNJE5+bdee/sH2jduB1Bf9DrOCIiIiJVosaDiIhIGtEoBxEREUk3Pq8DiIiIiIiIiEj9pcaDiIiI\niIiIiNQaNR5EREREREREpNao8SAiIiIiIiIitUaNBxERERERERGpNY7rul5nEBEREREREZF6SiMe\nRERERERERKTWqPEgIiIiIiIiIrVGjQcRERERERERqTVqPIiIiIiIiIhIrVHjQURERERERERqjRoP\nIiIiIiIiIlJrAl4HkJ1jjAkCTwPtgBBwG/Ar8AzgAlOBC621cWPM2cC5QBS4zVo7xhjTCHgFyAHC\nwHBr7WKvsya3zwcmAHtYayuMMVnAC0BzoBT4i7W2OAVzNkrmbAhkAFdYa7+u6Zw1kXWD/XQBvgVa\nbLg8HaVLTaRLPdRQ1jqpCdXD5lQPNU/1kL7SpR52NGtye/3NVMtZN9hPvagJ1YPqYWeybrCfKteD\nRjykv+FAibW2H3Ak8DBwH3BDcpkDHGOMKQAuAfoAfwDuMMaEgNOBKcltXwWu9jorgDHmD8AnQMEG\n9z9/g6zPATekaM4rgM+stQNIfH8fqaWcNZEVY0xD4F4Sbxr1QbrURLrUQ01krauaUD1sTvWQellV\nD95Jl3qoclbwvCbSpR5qImt9qwnVQ+rlrNf1oMZD+nsduDF53SHRiewFfJFc9iFwGLA/MMFaG7bW\nrgRmAnsAU4Dc5LYNgUgKZAWIJ68v2+D+fYGPtrBtquW8H3g8eT0A1GY3fKeyGmMc4AngOmB1Leas\nS+lSE+lSDzWRta5qQvWwOdVD6mVVPXgnXephR7KC/maqk6z1sCZUD6mXs17Xgw61SHPW2jIAY0wu\nMJpEB+8ea62b3KQUaETiF8LKDe66dnkxcIQx5lcgD+iXAlmx1n6a3HbDXWz4HNZtm2o5rbUrkssK\nSAyXuqw2ctZEVmAE8L61dvImy9NWutREutRDTWStq5pQPWxO9ZB6WVUP3kmXetjBrPqbqY6yUs9q\nQvWQejnrez1oxEM9YIxpA3wOPG+tfYlEV2qtXGAFsIr1XckNl48A7rbWdgOOAN5Igaxbs+Fz2N62\nO2Unc2KM6Ql8Blxnrf1iW9vurJ3MOhw40xgzlsTwqU9qK2ddSpeaSJd6gPSpCdXD5lQPNU/1kL7S\npR52IOvW6G+mLT+WamIDqoeap3rYOjUe0pwxpgWJF/paa+3TycWTjDEDk9cHAeOBiUA/Y0xmcuKS\nriQmDVnO+g7gEhIdQa+zbs0EYHAVt/UspzGmG4nhS8OstR/WRsaaymqt7WitHWitHQgsJvHGkdbS\npSbSpR4gfWpC9bA51UPNUz2kr3Sphx3MujX6m6mGs9a3mlA9pF7O+l4POtQi/V0HNAFuNMasPU7n\nUuBBY0wGMA0Yba2NGWMeJPED5AOut4nZU28EnjLGXAAEgbO9zrqN+48EnjXGfAlUAsNSNOcd/H97\n9x5sV1necfwLUoIIw6UagkJRBH4lGgcK5VIuch0HlQKxGCyFtihoGCSIIohYykVlgiAQQBCBUHTK\nMKJc0lIRjamQYrmjqI9iTKFcIkWLQQoCnv7xvBvW2ey91z63nX3O/n1mziRnXfZ+15n3Wc+73rXe\nd8FawPnl0aOnI+KAPi3rVDRZYmKyxMN4lLVXMeF4eDXHQ/+V1fGw6kyWeOi6rB32d5tp/Ms61Tge\n+q+cUzoeVhsaGqrfyszMzMzMzMxsFDzUwszMzMzMzMwmjDsezMzMzMzMzGzCuOPBzMzMzMzMzCaM\nOx7MzMzMzMzMbML4rRY2KpI2AeYD9wCXRMQzq7hIbUl6B/DPwEeA2yPiDzW7mI2I48EGnWPABtlk\nqv+dSFoD+AvyDQDvj4gHV3GRzEZkqsTiVOW3WtiISToCuJh8d+9rgOeB3SJiWVm/N3AW+Z7fR4H5\nEXF5Zf8Atmr62G0j4j5Jy4EzI+Ir41TWy4FDgBeBF4AHgX0j4vd1ZSnrPwqcCKxHvlLmmIj4naQ3\nA78EtoyIh8ajrDY5dREPlwJHNe32sYg4r6zfEzgf2IJ8V/aHGnWql/FQvmuzFrtdGRFHSNoYeKxp\n3dMRsb7jYbB1igFJC4G/bbHbLyNi87J/3+SEynaHAnMjYtem5S1zQlk3DVgAHEz+Dc6NiPll3d+V\n49hkPI7D+kddDqhstwXwQ2DdiHixsrxtDijre9IOkbQu+brE6cC65OsRz4uIk8r6dci23UHAa4Hv\nAR+NiEfL+rb1v6zfDLgM2AV4GDg+Im4u6xYCa0TE34z1OGxwjcP1SV/E4lTmoRY2IiXxLAA+TPaI\nzwF+CnyurN8SWAR8E9gGOB24SNL+Zf004K1k4tm48vOjCSjrXsChwJ8B95InmpnAEd2URdJs4Ezg\naGBP4M+Bc8a7nDZ51cVD8TbgBIbXsS+X/TcFbgS+CmwPPAHcIGncz8118UDW72oZDyPfdX1R5ThW\nNJW6YU0AAAtASURBVG3TfLFoA6aLGJjH8DqzDbASOLfs3zc5obLdnpQYbVpelxPOBnYG9iH/HqdI\nOmS8j8P6R5c5oHGuXwSs1WJ52xzQ43bICeTF2pbA3cB+wImSti7rzwP2IDsWdic7H66v5Ku29V/S\nasANwFPlGK4CrpP0lgk6Fhsw43B90k+xOGV5qIWN1NbA2sA3gI8DLwEnAW8q6+cA90VEI+k+JOmd\nZGPvJkDAEHBnRLwwwWXdDngwIkISEfGkpCN55a5tXVmOAxZExI0Akj4C3CrpExNcbps86uKhsc0p\nEfFEi/2PBO6v3BU9gkx2ewG3jnNZO8ZDRDzZ2FDS2mSyPiMi7i6LZwI/bXMcNrg6xkBEPE3efQJA\n0oXADyLiwsYi+icnIOlU4FPAz1vs3yknDJHxvH+JmbslzQeOAa6Z0KOyVak2B0g6kOzIerzF/nU5\noJftkO2AW8odXCJisaS5wDOS/ohsxx0YEUtLWT5I3jXeStIjdK7/e5KxvltErAR+LGkf4IPAKRNw\nLDbJSdoFmAt8ofEUco2xXp/0UyxOWe54sJFaUf7dpbEgIu4E7iy/Xgvc3LTPELB++f9MYFk3DUxJ\n25GP8p0cEQtGWdYtJU2vlPX6yvq2ZZH0GrI388zK4jvImNkWeKRp+6PIns99I+KOUZTVJqeO8SBp\nBrAhEG323wn498q+z0q6h7xrNKzjoQfxUDWPjNsvVJbNpP1xDON4GCh1OeFlknYGDiTvNjX0U04A\n2Bd4F3mhtE/lu+tywkvANOC2yvrbgM+UfavHsRpwNXmht3u1088mnW7q/3uAz5Dnz8VN+7fNAZIW\n09t2yApgx2p9jYhLymevCRwALK1s3xirvT6Z5zrV/52Ae0unQ3X9bs2FkLRBWfcj4AOeg2VgLSM7\nEu4qsXB2RNzSYfuxXp/0UyxOWR5qYSMSEQ8DXyF7FA8hA3KdyvqfVe6QImmjsl3jImom8JKkmyU9\nIWmJpB2bv0fS5sC/kCea0TQwIcdfLQPuA/5U0l5NDcBOZVmffCTy5TthZUzmU8CwMbqS/hL4InCQ\nTzCDpS4eyDr2InCGpEcl3V/Geje0mjdhBa+uY72Ih8Z3TSPvFpwVEc81HcubJd1VjuUaSW9ssb/j\nYYB0EQNVnwaui4jqMIp+yglExK4RsaTFvnU5YWPg100xswJYkxwzXzWfvODa150Ok1s39T8ijoyI\nS9t8RKcc0Ot2yLnkkLo7gY0kzap87+8j4pamifrmlbLcR3397zbXrUU+7v4IcJg7HQZXRDweEbPJ\nIZ0/Br5e2lCHlSdwmrcf6/VJP8XilOWOBxuxiDiSfDTpWXKM1M/LnaxhJL2OPAE8Rk72Avko1Abl\n93eTJ5PvKidmaXgD8G/ANRFx+hjK+Sx55/jzwGrAt4Cllbtdncqydtnm+aaPfZ7s1W/YGfgacHhE\njPej8TYJ1MRDY2zs/eR42cuBSyUdXJavTX0d61U8NBxc1l/VtHxr4HXAsWSyfhPwr8pZ0BscDwOo\nm5ygnFhuP8rcDhX9lBM6qcsJ7WIZKvEs6TjgcLLT4b9HdADWl7ptE7XRKQf0tB1SOgRnkrG2BfCA\npCvKEzrDSHofOSfECaWzoa7+d5PrVi/HsTowO5omfLXBFBHLImIesCmwBPgn4K/bbDuW65O+icWp\nzB0PNioR8U2yV3o2eSJYWF0vaT0yeW0OvLc0+CBPFoqImyLiHnKSll+QDbGGU8mk91/tvl/SoZKe\nqfwc2qac/1fujv2EnDBpHeCMLsrS6LWf1vSR08gTWsNl5ARLy9uV1aa+DvFwMbBRRCyIiAci4gJy\nrO/csv456utYr+KhYQ7w9UrMNrwF2DsilkbE94H3AbPIV681OB4GVF1OAP4KeCgiftC0vJ9yQid1\nOaFdLMMr8TydHL70Aq++s2aTWBf1v51OOWDc2iGSLmmKjz9ptV25y3wycDs5tv39ZEdz9bMOIV9H\ne05EXFlzHNA5PqrHMZt8Y8b/tMg/NsAk7QBcSk4ceT3Dh/QMM4brk57E4qBzx4ONiKQ3lseIGlaS\nY562kvSGss3ryXGMmwN7RMQvGhtHxAsR8dvK70PkrLPVyfi+TV6YndbqUe7iRnKccOPnxhZlnVUm\np2l813JypttduyjLU+SJZkbl89YA/pjhE0SdSibgL2kC3kRg/a0uHiJiKCJ+3bTbT3ilvj9KpY4V\nMxhex3oSD2WbaWRj8xvN+0fEMxHxfOX3X5FxUo1dx8OA6SYnFPvRul71TU6oUZcTHgU2KGPhG2aQ\nd8Qa54Ah8u/wHPCPXXyn9bkR1P92OuWA8WyH/APD4+NVHV+S9lbO/A9ARCwmL9CqOeJD5B3dCyLi\nk03H0an+d5PrHgP2BvaT9N42x2EDQtLqkg6SdBs598JKYFZEHFS9rqhsP6brE3oXiwPNfxQbqd3I\ncVbrVZZNB/4A/LYknUXA68lJs4ZNRifpPyWdWPl9deAdZEOz4Qay1zBo86qaiFgZEQ9Vfla22Oxo\ncpxV1XTgf+vKUsYV3snwBunO5Hj9eyvLriPf6bs1OSOuDZa6eDhH0qKmfbbllfp+B8MbdWuX9dVx\ngT2Jh2IWOY7x+9WNJM2Q9HT1kUVJm5BxXo1dx8Pg6RgD8PJkijuQd5+G6aec0EkXOeE+8vWz1SeA\ndgXuLmOBAZ6MiG8DxwPzJL297nut79XW/xptc8B4tkMi4ldN8fFii80ubLF/tc10EPnE3lkR0TyT\nf139vwPYpjziXl1fzXVLS2fHhcAFkl7b6lhsYOwGXEF2OmxW5kr5Wc32o74+oUexOOjc8WAjdTOZ\nTC8jx92KfHT0unI39GPkTN1/D/yuXLDMkLRh2X8RcIKkd0sSebdpQ/Lk8rIS5McCc5TvXh+NrwLb\nSzoJmCbpXeSrnb7WZVkuBj4uabak7cvvVzRNrkREPAZ8Fvhc6U21wVEXDzeRd2+OlfRWSceQj5Cf\nXfa/gpxF/NOSZpJzQDwMfKf6JT2KB4C3A8ubH3ONfIXm3WRjcLsSD9cCt0bEvU3bOh4GS10MAGwG\nrAs82GL/fsoJddrmhBIzVwEXS9qh3Hn7BHB+84dEvo7tO8BFozwO6x/d1P9O6nJAL9shVwNzy9MG\n0yTNIzsSrlFO0vdlMl4XVNp2MySt2UX9X0IOlVoo6W2ls3En8u/W7DRyPqFPjfI4bGp4ANg0Ik6O\niBW1W4/9+qSfYnHKcseDjUh5JPY95HjvueTs3EGOu4KcmG4NcpbYxys/jcdeP0s2ti4he8i3IseN\nv/ye98p3/QfZILyo6fG9bst6O/mO6A+TCW4h2ZN+STdliYhryMe0vlSO5y5ytv9Wvgj8hvx72ICo\ni4eI+B7wAeAo8qLraPL1YLeV9cvJcYiHkfVrI+CAaDGTdw/igfL9zUNDGuaUY/sWmYgfKstacTwM\niC5yAmS9gtZ1q59yQt3+dTnhePKu2HfLZ54eEde2+bjjyFnXD2+z3iaBLut/p/2X0yEH9LgdMp/s\nXLga2JHMV3Mi4ofAHuSd4v0Z3rZ7HNi97N+2/kfES+TrOKeTndiHk7P+L28uRIn9k4FPVod+2GCJ\niN80X9TXbD+m65M+i8Upa7WhoaH6rcxakHQasLhcXPU1SUsi4p2ruhw2dTkebNA5BmyQTab630kZ\nGrU4IvZY1WUxG42pEotTkZ94sLFYzOSZufXK+k3MxsTxYIPOMWCDbDLV/7bKBK8LV3U5zMZgSsTi\nVOQnHszMzMzMzMxswviJBzMzMzMzMzObMO54MDMzMzMzM7MJ444HMzMzMzMzM5sw7ngwMzMzMzMz\nswnjjgczMzMzMzMzmzDueDAzMzMzMzOzCeOOBzMzMzMzMzObMP8PsFWNfALmh7sAAAAASUVORK5C\nYII=\n",
      "text/plain": [
       "<matplotlib.figure.Figure at 0x2c8934e0>"
      ]
     },
     "metadata": {},
     "output_type": "display_data"
    }
   ],
   "source": [
    "f, (ax1, ax2, ax3, ax4, ax5) = plt.subplots(1, 5,figsize=(17,3),sharey=True)\n",
    "ax1.plot([2007,2008,2009,2010,2011,2012,2013,2014],ca_tax_normalized.loc['95113'].loc['1: 25,000-50,000'],color='#e00000')\n",
    "ax1.set_ylabel('% of total',rotation=0,labelpad=40,fontsize=14)\n",
    "ax1.set_xlabel('\\$25k - \\$50k',fontsize=14)\n",
    "ax2.plot([2007,2008,2009,2010,2011,2012,2013,2014],ca_tax_normalized.loc['95113'].loc['2: 50,000-75,000'],color='#e05900')\n",
    "ax2.set_xlabel('\\$50k - \\$75k',fontsize=14)\n",
    "ax3.plot([2007,2008,2009,2010,2011,2012,2013,2014],ca_tax_normalized.loc['95113'].loc['3: 75,000-100,000'],color='#167200')\n",
    "ax3.set_xlabel('\\$75k - \\$100k',fontsize=14)\n",
    "ax4.plot([2007,2008,2009,2010,2011,2012,2013,2014],ca_tax_normalized.loc['95113'].loc['4: 100,000-200,000'],color='#1fa500')\n",
    "ax4.set_xlabel('\\$100k - \\$200k',fontsize=14)\n",
    "ax5.plot([2007,2008,2009,2010,2011,2012,2013,2014],ca_tax_normalized.loc['95113'].loc['5: > 200,000'],color='#1fa500')\n",
    "ax5.set_xlabel('> \\$200k',fontsize=14)\n"
   ]
  },
  {
   "cell_type": "markdown",
   "metadata": {
    "collapsed": true
   },
   "source": [
    "# II. Southern Calfornia"
   ]
  },
  {
   "cell_type": "markdown",
   "metadata": {},
   "source": [
    "## San Diego: 92127"
   ]
  },
  {
   "cell_type": "code",
   "execution_count": 170,
   "metadata": {
    "collapsed": false,
    "scrolled": true
   },
   "outputs": [
    {
     "data": {
      "text/html": [
       "<div>\n",
       "<table border=\"1\" class=\"dataframe\">\n",
       "  <thead>\n",
       "    <tr style=\"text-align: right;\">\n",
       "      <th></th>\n",
       "      <th>1: 25k-50k</th>\n",
       "      <th>2: 50k-75k</th>\n",
       "      <th>3: 75k-100k</th>\n",
       "      <th>4: 100k-200k</th>\n",
       "      <th>5: &gt;200k</th>\n",
       "    </tr>\n",
       "    <tr>\n",
       "      <th>zipcode</th>\n",
       "      <th></th>\n",
       "      <th></th>\n",
       "      <th></th>\n",
       "      <th></th>\n",
       "      <th></th>\n",
       "    </tr>\n",
       "  </thead>\n",
       "  <tbody>\n",
       "    <tr>\n",
       "      <th>92127</th>\n",
       "      <td>-4.656028</td>\n",
       "      <td>-2.887181</td>\n",
       "      <td>-3.753731</td>\n",
       "      <td>-1.26021</td>\n",
       "      <td>12.557149</td>\n",
       "    </tr>\n",
       "  </tbody>\n",
       "</table>\n",
       "</div>"
      ],
      "text/plain": [
       "         1: 25k-50k  2: 50k-75k  3: 75k-100k  4: 100k-200k   5: >200k\n",
       "zipcode                                                              \n",
       "92127     -4.656028   -2.887181    -3.753731      -1.26021  12.557149"
      ]
     },
     "execution_count": 170,
     "metadata": {},
     "output_type": "execute_result"
    }
   ],
   "source": [
    "ca_income_change.reset_index()[ca_income_change.reset_index()['zipcode']=='92127'].set_index('zipcode')"
   ]
  },
  {
   "cell_type": "code",
   "execution_count": 202,
   "metadata": {
    "collapsed": false
   },
   "outputs": [
    {
     "data": {
      "text/plain": [
       "<matplotlib.legend.Legend at 0x35cc8470>"
      ]
     },
     "execution_count": 202,
     "metadata": {},
     "output_type": "execute_result"
    },
    {
     "data": {
      "image/png": "iVBORw0KGgoAAAANSUhEUgAAA64AAAFACAYAAAC81yGpAAAABHNCSVQICAgIfAhkiAAAAAlwSFlz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\nklQ0C1dJkiRJUtEsXCVJkiRJRfv/Oip8CdLNmvMAAAAASUVORK5CYII=\n",
      "text/plain": [
       "<matplotlib.figure.Figure at 0x35e3e898>"
      ]
     },
     "metadata": {},
     "output_type": "display_data"
    }
   ],
   "source": [
    "f, (ax1, ax2) = plt.subplots(1, 2, sharey=True,figsize=(14,5))\n",
    "\n",
    "ax1.bar([1-0.15,2-0.15,3-0.15,4-0.15,5-0.15],ca_tax_normalized.loc['92127']['tax_returns_2007_%'],width=0.3,facecolor='#488B49')\n",
    "ax1.bar([1+0.15,2+0.15,3+0.15,4+0.15,5+0.15],ca_tax_normalized.loc['92127']['tax_returns_2014_%'],width=0.3,facecolor='#20BF55')\n",
    "ax1.set_ylabel('% of total housing \\nmarket participants',rotation=0,labelpad=70,fontsize=14)\n",
    "ax1.set_xlabel('San Diego',fontsize=14)\n",
    "ax1.legend(['2007','2014'])\n",
    "\n",
    "ax2.bar([1-0.15,2-0.15,3-0.15,4-0.15,5-0.15],ca_tax_normalized.loc['0']['tax_returns_2007_%'],width=0.3,facecolor='#033860')\n",
    "ax2.bar([1+0.15,2+0.15,3+0.15,4+0.15,5+0.15],ca_tax_normalized.loc['0']['tax_returns_2014_%'],width=0.3,facecolor='#3493B7')\n",
    "ax2.set_xlabel('California',fontsize=14)\n",
    "ax2.legend(['2007','2014'])"
   ]
  },
  {
   "cell_type": "code",
   "execution_count": 188,
   "metadata": {
    "collapsed": false
   },
   "outputs": [
    {
     "data": {
      "text/plain": [
       "<matplotlib.text.Text at 0x31a7af60>"
      ]
     },
     "execution_count": 188,
     "metadata": {},
     "output_type": "execute_result"
    },
    {
     "data": {
      "image/png": "iVBORw0KGgoAAAANSUhEUgAABB4AAADTCAYAAAAmn9BKAAAABHNCSVQICAgIfAhkiAAAAAlwSFlz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\nHwwmkLLTtb1eAAAAAElFTkSuQmCC\n",
      "text/plain": [
       "<matplotlib.figure.Figure at 0x319e0d30>"
      ]
     },
     "metadata": {},
     "output_type": "display_data"
    }
   ],
   "source": [
    "f, (ax1, ax2, ax3, ax4, ax5) = plt.subplots(1, 5,figsize=(17,3),sharey=True)\n",
    "ax1.plot([2007,2008,2009,2010,2011,2012,2013,2014],ca_tax_normalized.loc['92127'].loc['1: 25,000-50,000'],color='#d86c00')\n",
    "ax1.set_ylabel('% of total',rotation=0,labelpad=40,fontsize=14)\n",
    "ax1.set_xlabel('\\$25k - \\$50k',fontsize=14)\n",
    "ax2.plot([2007,2008,2009,2010,2011,2012,2013,2014],ca_tax_normalized.loc['92127'].loc['2: 50,000-75,000'],color='#d86c00')\n",
    "ax2.set_xlabel('\\$50k - \\$75k',fontsize=14)\n",
    "ax3.plot([2007,2008,2009,2010,2011,2012,2013,2014],ca_tax_normalized.loc['92127'].loc['3: 75,000-100,000'],color='#d86c00')\n",
    "ax3.set_xlabel('\\$75k - \\$100k',fontsize=14)\n",
    "ax4.plot([2007,2008,2009,2010,2011,2012,2013,2014],ca_tax_normalized.loc['92127'].loc['4: 100,000-200,000'],color='#7c3e00')\n",
    "ax4.set_xlabel('\\$100k - \\$200k',fontsize=14)\n",
    "ax5.plot([2007,2008,2009,2010,2011,2012,2013,2014],ca_tax_normalized.loc['92127'].loc['5: > 200,000'],color='#00c431')\n",
    "ax5.set_xlabel('> \\$200k',fontsize=14)"
   ]
  },
  {
   "cell_type": "code",
   "execution_count": null,
   "metadata": {
    "collapsed": true
   },
   "outputs": [],
   "source": []
  },
  {
   "cell_type": "markdown",
   "metadata": {},
   "source": [
    "## Downtown Los Angeles: 90015"
   ]
  },
  {
   "cell_type": "code",
   "execution_count": 25,
   "metadata": {
    "collapsed": false
   },
   "outputs": [
    {
     "data": {
      "text/html": [
       "<div>\n",
       "<table border=\"1\" class=\"dataframe\">\n",
       "  <thead>\n",
       "    <tr style=\"text-align: right;\">\n",
       "      <th></th>\n",
       "      <th>1: 25k-50k</th>\n",
       "      <th>2: 50k-75k</th>\n",
       "      <th>3: 75k-100k</th>\n",
       "      <th>4: 100k-200k</th>\n",
       "      <th>5: &gt;200k</th>\n",
       "    </tr>\n",
       "    <tr>\n",
       "      <th>zipcode</th>\n",
       "      <th></th>\n",
       "      <th></th>\n",
       "      <th></th>\n",
       "      <th></th>\n",
       "      <th></th>\n",
       "    </tr>\n",
       "  </thead>\n",
       "  <tbody>\n",
       "    <tr>\n",
       "      <th>90015</th>\n",
       "      <td>-13.5483</td>\n",
       "      <td>-1.071737</td>\n",
       "      <td>0.992879</td>\n",
       "      <td>8.106466</td>\n",
       "      <td>5.520693</td>\n",
       "    </tr>\n",
       "  </tbody>\n",
       "</table>\n",
       "</div>"
      ],
      "text/plain": [
       "         1: 25k-50k  2: 50k-75k  3: 75k-100k  4: 100k-200k  5: >200k\n",
       "zipcode                                                             \n",
       "90015      -13.5483   -1.071737     0.992879      8.106466  5.520693"
      ]
     },
     "execution_count": 25,
     "metadata": {},
     "output_type": "execute_result"
    }
   ],
   "source": [
    "ca_income_change.reset_index()[ca_income_change.reset_index()['zipcode']=='90015'].set_index('zipcode')"
   ]
  },
  {
   "cell_type": "code",
   "execution_count": 176,
   "metadata": {
    "collapsed": false
   },
   "outputs": [
    {
     "data": {
      "text/plain": [
       "<matplotlib.legend.Legend at 0x2e5316a0>"
      ]
     },
     "execution_count": 176,
     "metadata": {},
     "output_type": "execute_result"
    },
    {
     "data": {
      "image/png": "iVBORw0KGgoAAAANSUhEUgAAA64AAAFACAYAAAC81yGpAAAABHNCSVQICAgIfAhkiAAAAAlwSFlz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\n",
      "text/plain": [
       "<matplotlib.figure.Figure at 0x2e7f2eb8>"
      ]
     },
     "metadata": {},
     "output_type": "display_data"
    }
   ],
   "source": [
    "f, (ax1, ax2) = plt.subplots(1, 2, sharey=True,figsize=(14,5))\n",
    "\n",
    "ax1.bar([1-0.15,2-0.15,3-0.15,4-0.15,5-0.15],ca_tax_normalized.loc['90015']['tax_returns_2007_%'],width=0.3,facecolor='#8E8358')\n",
    "ax1.bar([1+0.15,2+0.15,3+0.15,4+0.15,5+0.15],ca_tax_normalized.loc['90015']['tax_returns_2014_%'],width=0.3,facecolor='#BFB48F')\n",
    "ax1.set_ylabel('% of total housing \\nmarket participants',rotation=0,labelpad=70,fontsize=14)\n",
    "ax1.set_xlabel('Downtown Los Angeles',fontsize=14)\n",
    "ax1.legend(['2007','2014'])\n",
    "\n",
    "ax2.bar([1-0.15,2-0.15,3-0.15,4-0.15,5-0.15],ca_tax_normalized.loc['0']['tax_returns_2007_%'],width=0.3,facecolor='#033860')\n",
    "ax2.bar([1+0.15,2+0.15,3+0.15,4+0.15,5+0.15],ca_tax_normalized.loc['0']['tax_returns_2014_%'],width=0.3,facecolor='#3493B7')\n",
    "ax2.set_xlabel('California',fontsize=14)\n",
    "ax2.legend(['2007','2014'])"
   ]
  },
  {
   "cell_type": "markdown",
   "metadata": {},
   "source": [
    "The shift in income distribution is less noticeable here because it is spread out over all of the higher income brackets and the plot scales up to the 60% level, but we can observe a significant decrease in the lower income brackets (especially the lowest income bracket: -15%). Again, there is not as dramatic of an increase in a single bracket as we observed in Santa Clara, but a steady increase over all the higher brackets signals a more stable growth pattern."
   ]
  },
  {
   "cell_type": "code",
   "execution_count": 201,
   "metadata": {
    "collapsed": false
   },
   "outputs": [
    {
     "data": {
      "text/plain": [
       "<matplotlib.text.Text at 0x35bfa7b8>"
      ]
     },
     "execution_count": 201,
     "metadata": {},
     "output_type": "execute_result"
    },
    {
     "data": {
      "image/png": "iVBORw0KGgoAAAANSUhEUgAABB4AAADTCAYAAAAmn9BKAAAABHNCSVQICAgIfAhkiAAAAAlwSFlz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\n",
      "text/plain": [
       "<matplotlib.figure.Figure at 0x35b56ba8>"
      ]
     },
     "metadata": {},
     "output_type": "display_data"
    }
   ],
   "source": [
    "f, (ax1, ax2, ax3, ax4, ax5) = plt.subplots(1, 5,figsize=(17,3),sharey=True)\n",
    "ax1.plot([2007,2008,2009,2010,2011,2012,2013,2014],ca_tax_normalized.loc['90015'].loc['1: 25,000-50,000'],color='#ff7200')\n",
    "ax1.set_ylabel('% of total',rotation=0,labelpad=40,fontsize=14)\n",
    "ax1.set_xlabel('\\$25k - \\$50k',fontsize=14)\n",
    "ax2.plot([2007,2008,2009,2010,2011,2012,2013,2014],ca_tax_normalized.loc['90015'].loc['2: 50,000-75,000'],color='#442b00')\n",
    "ax2.set_xlabel('\\$50k - \\$75k',fontsize=14)\n",
    "ax3.plot([2007,2008,2009,2010,2011,2012,2013,2014],ca_tax_normalized.loc['90015'].loc['3: 75,000-100,000'],color='#084900')\n",
    "ax3.set_xlabel('\\$75k - \\$100k',fontsize=14)\n",
    "ax4.plot([2007,2008,2009,2010,2011,2012,2013,2014],ca_tax_normalized.loc['90015'].loc['4: 100,000-200,000'],color='#0f8400')\n",
    "ax4.set_xlabel('\\$100k - \\$200k',fontsize=14)\n",
    "ax5.plot([2007,2008,2009,2010,2011,2012,2013,2014],ca_tax_normalized.loc['90015'].loc['5: > 200,000'],color='#0f8400')\n",
    "ax5.set_xlabel('> \\$200k',fontsize=14)"
   ]
  },
  {
   "cell_type": "markdown",
   "metadata": {
    "collapsed": true
   },
   "source": [
    "The greatest relative changes occur in the \\$25k - \\$50k and \\$100k - \\$200k brackets. Although not the highest bracket, the latter contains incomes which are certainly higher than average. This signals a trend in DTLA's population towards higher earners. This gradual growth is likely the most sustainable within all of the regions we have observed."
   ]
  },
  {
   "cell_type": "markdown",
   "metadata": {},
   "source": [
    "# Postscript\n",
    "We will study the behavior of the housing market in these regions as confirmation of our analysis.\n",
    "\n",
    "We have not answered questions of forecasting in depth here; we will consider our analysis as descriptive of the housing market (from 2007-2017) rather than predictive (from 2014-onwards). Thus, by comparing the market in these regions to California's overall market, we can argue if our analysis of shifting income distribution can be used as an indicator for the housing market."
   ]
  },
  {
   "cell_type": "markdown",
   "metadata": {},
   "source": [
    "## California\n",
    "\n",
    "From April 2007 to April 2017, the average Californian home lost value (as measured by Zillow's Home Price Index).\n",
    "\n",
    "  * April 2007: California Home Value Index valued at \\$513,000\n",
    "  * April 2017: California Home Value Inded valued at \\$495,000\n",
    "  * \\-3.51%\n",
    "  \n",
    "Source: https://www.zillow.com/ca/home-values/"
   ]
  },
  {
   "cell_type": "markdown",
   "metadata": {},
   "source": [
    "## Santa Clara: 95054\n",
    "\n",
    "  * April 2007: 95054 Home Value Index valued at \\$722,000\n",
    "  * April 2017: 95054 Home Value Inded valued at \\$1,020,000\n",
    "  * \\+41.3%\n",
    "  \n",
    "Source: https://www.zillow.com/santa-clara-ca-95054/home-values/"
   ]
  },
  {
   "cell_type": "markdown",
   "metadata": {},
   "source": [
    "## Downtown San Jose: 95113\n",
    "\n",
    "No Data is available. This is an urban region without many housing units on the market.\n",
    "\n",
    "### East San Jose: 95148\n",
    "\n",
    "This region is adjacent to Downtown San Jose and should exhibit similar behavior to what we would expect if there were market data available in Downtown San Jose.\n",
    "\n",
    "  * April 2007: 95148 Home Value Index valued at \\$770,000\n",
    "  * April 2017: 95148 Home Value Inded valued at \\$850,000\n",
    "  * \\+10.4%\n",
    "  \n",
    "Source: https://www.zillow.com/san-jose-ca-95148/home-values/"
   ]
  },
  {
   "cell_type": "markdown",
   "metadata": {},
   "source": [
    "## San Diego: 92127 \n",
    "\n",
    "\n",
    "  * April 2007: 92127 Home Value Index valued at \\$660,000\n",
    "  * April 2017: 92127 Home Value Inded valued at \\$778,000\n",
    "  * \\+17.9%\n",
    "  \n",
    "Source: https://www.zillow.com/san-diego-ca-92127/home-values/"
   ]
  },
  {
   "cell_type": "markdown",
   "metadata": {},
   "source": [
    "## Downtown Los Angeles: 90015\n",
    "\n",
    "\n",
    "  * April 2007: 90015 Home Value Index valued at \\$536,000\n",
    "  * April 2017: 90015 Home Value Inded valued at \\$678,000\n",
    "  * \\+26.5%\n",
    "\n",
    "Source: https://www.zillow.com/los-angeles-ca-90015/home-values/"
   ]
  },
  {
   "cell_type": "markdown",
   "metadata": {},
   "source": [
    "## Concluding Remarks\n",
    "\n",
    "All of the significant regions we extracted and listed significantly out-performed California's market average as measured by increasing value in Zillow's Home Price Index. This is strong supporting evidence that our approach to analyzing shifting income distribution will indicate where real estate value will appreciate the most.\n",
    "\n",
    "For the sake of investment, however, we must delve deeper into questions of forecasting to predict where we can find these shifts in income distribution in the future. Then, via the correlation we have established here, identifying a region with a future shift in income distribution will likely imply that we have identified a region with strong potential growth in real estate value."
   ]
  }
 ],
 "metadata": {
  "kernelspec": {
   "display_name": "Python 3",
   "language": "python",
   "name": "python3"
  },
  "language_info": {
   "codemirror_mode": {
    "name": "ipython",
    "version": 3
   },
   "file_extension": ".py",
   "mimetype": "text/x-python",
   "name": "python",
   "nbconvert_exporter": "python",
   "pygments_lexer": "ipython3",
   "version": "3.6.0"
  }
 },
 "nbformat": 4,
 "nbformat_minor": 2
}
