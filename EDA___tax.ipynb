{
 "cells": [
  {
   "cell_type": "markdown",
   "metadata": {},
   "source": [
    "# California Income Tax Data Analysis: 2007-2014\n",
    "Through analysis of changing proportions of income brackets, we will identify regions with populations trending towards higher income levels. Under the assumption that these trends will continue, we can expect housing prices to increase in these regions relatively more than in regions which lack these significant trends. It is important to note that we should only hold this assumption of future trends under the confirming conclusions of forecasting analysis. (This will be contained in a separate Notebook.) \n",
    "\n",
    "  * Cells represent the number of tax returns for an income bracket within a zipcode\n",
    "  * Columns represents data from separate years\n",
    "\n",
    "\n",
    "We will limit our analysis to income brackets which can be reasonably assumed to reflect demand in the housing market; thus, our proportions are not the total proportions over these regions, but are the proportions over the housing market's participants (i.e. earning over $25,000 annually).\n",
    "\n",
    "Income Brackets:\n",
    "  * 1: \\$25,000 - \\$50,000 \n",
    "  * 2: \\$50,000 - \\$75,000 \n",
    "  * 3: \\$75,000 - \\$100,000 \n",
    "  * 4: \\$100,000 - \\$200,000 \n",
    "  * 5: \\$200,000 + \n",
    "\n",
    "The median income in California is about $61,000, so we will be particularly interested in increases in the three highest income brackets as well as decreases in the lowest two income brackets. However, as an example, an increase in the second income bracket for a region which historically has a high proportion of lowest-bracket earners could indicate a shift towards higher earners.\n",
    "\n",
    "### Questions we will be exploring:\n",
    "\n",
    "  * Where is income distribution shifting the most towards higher brackets?\n",
    "  * Within a region, how has each bracket changed over time?\n",
    "  * Can we expect these trends to continue? "
   ]
  },
  {
   "cell_type": "code",
   "execution_count": 3,
   "metadata": {
    "collapsed": true
   },
   "outputs": [],
   "source": [
    "import numpy as np\n",
    "import pandas as pd\n",
    "import matplotlib.pyplot as plt\n",
    "import os.path \n",
    "import math\n",
    "import seaborn as sns\n",
    "\n",
    "%matplotlib inline"
   ]
  },
  {
   "cell_type": "code",
   "execution_count": 4,
   "metadata": {
    "collapsed": false
   },
   "outputs": [
    {
     "data": {
      "text/html": [
       "<div>\n",
       "<table border=\"1\" class=\"dataframe\">\n",
       "  <thead>\n",
       "    <tr style=\"text-align: right;\">\n",
       "      <th></th>\n",
       "      <th></th>\n",
       "      <th>tax_returns_2007</th>\n",
       "      <th>tax_returns_2008</th>\n",
       "      <th>tax_returns_2009</th>\n",
       "      <th>tax_returns_2010</th>\n",
       "      <th>tax_returns_2011</th>\n",
       "      <th>tax_returns_2012</th>\n",
       "      <th>tax_returns_2013</th>\n",
       "      <th>tax_returns_2014</th>\n",
       "    </tr>\n",
       "    <tr>\n",
       "      <th>zipcode</th>\n",
       "      <th>gross_income_bracket</th>\n",
       "      <th></th>\n",
       "      <th></th>\n",
       "      <th></th>\n",
       "      <th></th>\n",
       "      <th></th>\n",
       "      <th></th>\n",
       "      <th></th>\n",
       "      <th></th>\n",
       "    </tr>\n",
       "  </thead>\n",
       "  <tbody>\n",
       "    <tr>\n",
       "      <th rowspan=\"5\" valign=\"top\">0</th>\n",
       "      <th>1: 25,000-50,000</th>\n",
       "      <td>3834467.0</td>\n",
       "      <td>3777895.0</td>\n",
       "      <td>3744118.0</td>\n",
       "      <td>3795875.0</td>\n",
       "      <td>3907930.0</td>\n",
       "      <td>3851420.0</td>\n",
       "      <td>3916770.0</td>\n",
       "      <td>3965570.0</td>\n",
       "    </tr>\n",
       "    <tr>\n",
       "      <th>2: 50,000-75,000</th>\n",
       "      <td>2129615.0</td>\n",
       "      <td>2114223.0</td>\n",
       "      <td>2047609.0</td>\n",
       "      <td>2071618.0</td>\n",
       "      <td>2152410.0</td>\n",
       "      <td>2145000.0</td>\n",
       "      <td>2175060.0</td>\n",
       "      <td>2207030.0</td>\n",
       "    </tr>\n",
       "    <tr>\n",
       "      <th>3: 75,000-100,000</th>\n",
       "      <td>1310319.0</td>\n",
       "      <td>1313113.0</td>\n",
       "      <td>1269016.0</td>\n",
       "      <td>1284362.0</td>\n",
       "      <td>1345012.0</td>\n",
       "      <td>1361280.0</td>\n",
       "      <td>1385750.0</td>\n",
       "      <td>1411040.0</td>\n",
       "    </tr>\n",
       "    <tr>\n",
       "      <th>4: 100,000-200,000</th>\n",
       "      <td>1794378.0</td>\n",
       "      <td>1829708.0</td>\n",
       "      <td>1770054.0</td>\n",
       "      <td>1801455.0</td>\n",
       "      <td>1913458.0</td>\n",
       "      <td>2005070.0</td>\n",
       "      <td>2104210.0</td>\n",
       "      <td>2214810.0</td>\n",
       "    </tr>\n",
       "    <tr>\n",
       "      <th>5: &gt; 200,000</th>\n",
       "      <td>680811.0</td>\n",
       "      <td>641762.0</td>\n",
       "      <td>581847.0</td>\n",
       "      <td>636198.0</td>\n",
       "      <td>717341.0</td>\n",
       "      <td>799120.0</td>\n",
       "      <td>868510.0</td>\n",
       "      <td>978490.0</td>\n",
       "    </tr>\n",
       "    <tr>\n",
       "      <th rowspan=\"5\" valign=\"top\">90001</th>\n",
       "      <th>1: 25,000-50,000</th>\n",
       "      <td>5549.0</td>\n",
       "      <td>5672.0</td>\n",
       "      <td>5499.0</td>\n",
       "      <td>5539.0</td>\n",
       "      <td>5757.0</td>\n",
       "      <td>5700.0</td>\n",
       "      <td>5900.0</td>\n",
       "      <td>6110.0</td>\n",
       "    </tr>\n",
       "    <tr>\n",
       "      <th>2: 50,000-75,000</th>\n",
       "      <td>1221.0</td>\n",
       "      <td>1221.0</td>\n",
       "      <td>1203.0</td>\n",
       "      <td>1251.0</td>\n",
       "      <td>1362.0</td>\n",
       "      <td>1420.0</td>\n",
       "      <td>1480.0</td>\n",
       "      <td>1630.0</td>\n",
       "    </tr>\n",
       "    <tr>\n",
       "      <th>3: 75,000-100,000</th>\n",
       "      <td>266.0</td>\n",
       "      <td>303.0</td>\n",
       "      <td>287.0</td>\n",
       "      <td>299.0</td>\n",
       "      <td>319.0</td>\n",
       "      <td>340.0</td>\n",
       "      <td>330.0</td>\n",
       "      <td>420.0</td>\n",
       "    </tr>\n",
       "    <tr>\n",
       "      <th>4: 100,000-200,000</th>\n",
       "      <td>75.0</td>\n",
       "      <td>101.0</td>\n",
       "      <td>105.0</td>\n",
       "      <td>108.0</td>\n",
       "      <td>117.0</td>\n",
       "      <td>130.0</td>\n",
       "      <td>160.0</td>\n",
       "      <td>170.0</td>\n",
       "    </tr>\n",
       "    <tr>\n",
       "      <th>5: &gt; 200,000</th>\n",
       "      <td>17.0</td>\n",
       "      <td>11.0</td>\n",
       "      <td>0.0</td>\n",
       "      <td>0.0</td>\n",
       "      <td>0.0</td>\n",
       "      <td>0.0</td>\n",
       "      <td>0.0</td>\n",
       "      <td>20.0</td>\n",
       "    </tr>\n",
       "  </tbody>\n",
       "</table>\n",
       "</div>"
      ],
      "text/plain": [
       "                              tax_returns_2007  tax_returns_2008  \\\n",
       "zipcode gross_income_bracket                                       \n",
       "0       1: 25,000-50,000             3834467.0         3777895.0   \n",
       "        2: 50,000-75,000             2129615.0         2114223.0   \n",
       "        3: 75,000-100,000            1310319.0         1313113.0   \n",
       "        4: 100,000-200,000           1794378.0         1829708.0   \n",
       "        5: > 200,000                  680811.0          641762.0   \n",
       "90001   1: 25,000-50,000                5549.0            5672.0   \n",
       "        2: 50,000-75,000                1221.0            1221.0   \n",
       "        3: 75,000-100,000                266.0             303.0   \n",
       "        4: 100,000-200,000                75.0             101.0   \n",
       "        5: > 200,000                      17.0              11.0   \n",
       "\n",
       "                              tax_returns_2009  tax_returns_2010  \\\n",
       "zipcode gross_income_bracket                                       \n",
       "0       1: 25,000-50,000             3744118.0         3795875.0   \n",
       "        2: 50,000-75,000             2047609.0         2071618.0   \n",
       "        3: 75,000-100,000            1269016.0         1284362.0   \n",
       "        4: 100,000-200,000           1770054.0         1801455.0   \n",
       "        5: > 200,000                  581847.0          636198.0   \n",
       "90001   1: 25,000-50,000                5499.0            5539.0   \n",
       "        2: 50,000-75,000                1203.0            1251.0   \n",
       "        3: 75,000-100,000                287.0             299.0   \n",
       "        4: 100,000-200,000               105.0             108.0   \n",
       "        5: > 200,000                       0.0               0.0   \n",
       "\n",
       "                              tax_returns_2011  tax_returns_2012  \\\n",
       "zipcode gross_income_bracket                                       \n",
       "0       1: 25,000-50,000             3907930.0         3851420.0   \n",
       "        2: 50,000-75,000             2152410.0         2145000.0   \n",
       "        3: 75,000-100,000            1345012.0         1361280.0   \n",
       "        4: 100,000-200,000           1913458.0         2005070.0   \n",
       "        5: > 200,000                  717341.0          799120.0   \n",
       "90001   1: 25,000-50,000                5757.0            5700.0   \n",
       "        2: 50,000-75,000                1362.0            1420.0   \n",
       "        3: 75,000-100,000                319.0             340.0   \n",
       "        4: 100,000-200,000               117.0             130.0   \n",
       "        5: > 200,000                       0.0               0.0   \n",
       "\n",
       "                              tax_returns_2013  tax_returns_2014  \n",
       "zipcode gross_income_bracket                                      \n",
       "0       1: 25,000-50,000             3916770.0         3965570.0  \n",
       "        2: 50,000-75,000             2175060.0         2207030.0  \n",
       "        3: 75,000-100,000            1385750.0         1411040.0  \n",
       "        4: 100,000-200,000           2104210.0         2214810.0  \n",
       "        5: > 200,000                  868510.0          978490.0  \n",
       "90001   1: 25,000-50,000                5900.0            6110.0  \n",
       "        2: 50,000-75,000                1480.0            1630.0  \n",
       "        3: 75,000-100,000                330.0             420.0  \n",
       "        4: 100,000-200,000               160.0             170.0  \n",
       "        5: > 200,000                       0.0              20.0  "
      ]
     },
     "execution_count": 4,
     "metadata": {},
     "output_type": "execute_result"
    }
   ],
   "source": [
    "# remove the lowest income bracket: they are not participants in the housing market\n",
    "ca_tax = pd.read_csv(os.getcwd()+'\\data_clean\\ca tax returns.csv')\n",
    "ca_tax['zipcode'] = ca_tax['zipcode'].astype(str)\n",
    "ca_tax = ca_tax[ca_tax['gross_income_bracket']!='0: < 25,000']\n",
    "ca_tax = ca_tax.set_index(['zipcode','gross_income_bracket'])\n",
    "\n",
    "ca_tax.head(10)"
   ]
  },
  {
   "cell_type": "code",
   "execution_count": 5,
   "metadata": {
    "collapsed": false
   },
   "outputs": [
    {
     "data": {
      "text/html": [
       "<div>\n",
       "<table border=\"1\" class=\"dataframe\">\n",
       "  <thead>\n",
       "    <tr style=\"text-align: right;\">\n",
       "      <th></th>\n",
       "      <th></th>\n",
       "      <th>tax_returns_2007</th>\n",
       "      <th>tax_returns_2008</th>\n",
       "      <th>tax_returns_2009</th>\n",
       "      <th>tax_returns_2010</th>\n",
       "      <th>tax_returns_2011</th>\n",
       "      <th>tax_returns_2012</th>\n",
       "      <th>tax_returns_2013</th>\n",
       "      <th>tax_returns_2014</th>\n",
       "    </tr>\n",
       "    <tr>\n",
       "      <th>zipcode</th>\n",
       "      <th>gross_income_bracket</th>\n",
       "      <th></th>\n",
       "      <th></th>\n",
       "      <th></th>\n",
       "      <th></th>\n",
       "      <th></th>\n",
       "      <th></th>\n",
       "      <th></th>\n",
       "      <th></th>\n",
       "    </tr>\n",
       "  </thead>\n",
       "  <tbody>\n",
       "    <tr>\n",
       "      <th rowspan=\"5\" valign=\"top\">0</th>\n",
       "      <th>1: 25,000-50,000</th>\n",
       "      <td>0.393295</td>\n",
       "      <td>0.390411</td>\n",
       "      <td>0.397775</td>\n",
       "      <td>0.395836</td>\n",
       "      <td>0.389385</td>\n",
       "      <td>0.379006</td>\n",
       "      <td>0.374800</td>\n",
       "      <td>0.367968</td>\n",
       "    </tr>\n",
       "    <tr>\n",
       "      <th>2: 50,000-75,000</th>\n",
       "      <td>0.218431</td>\n",
       "      <td>0.218486</td>\n",
       "      <td>0.217538</td>\n",
       "      <td>0.216030</td>\n",
       "      <td>0.214466</td>\n",
       "      <td>0.211083</td>\n",
       "      <td>0.208134</td>\n",
       "      <td>0.204792</td>\n",
       "    </tr>\n",
       "    <tr>\n",
       "      <th>3: 75,000-100,000</th>\n",
       "      <td>0.134397</td>\n",
       "      <td>0.135698</td>\n",
       "      <td>0.134820</td>\n",
       "      <td>0.133934</td>\n",
       "      <td>0.134017</td>\n",
       "      <td>0.133959</td>\n",
       "      <td>0.132604</td>\n",
       "      <td>0.130931</td>\n",
       "    </tr>\n",
       "    <tr>\n",
       "      <th>4: 100,000-200,000</th>\n",
       "      <td>0.184047</td>\n",
       "      <td>0.189084</td>\n",
       "      <td>0.188051</td>\n",
       "      <td>0.187857</td>\n",
       "      <td>0.190657</td>\n",
       "      <td>0.197313</td>\n",
       "      <td>0.201354</td>\n",
       "      <td>0.205514</td>\n",
       "    </tr>\n",
       "    <tr>\n",
       "      <th>5: &gt; 200,000</th>\n",
       "      <td>0.069830</td>\n",
       "      <td>0.066320</td>\n",
       "      <td>0.061815</td>\n",
       "      <td>0.066343</td>\n",
       "      <td>0.071476</td>\n",
       "      <td>0.078639</td>\n",
       "      <td>0.083109</td>\n",
       "      <td>0.090795</td>\n",
       "    </tr>\n",
       "    <tr>\n",
       "      <th rowspan=\"5\" valign=\"top\">90001</th>\n",
       "      <th>1: 25,000-50,000</th>\n",
       "      <td>0.778479</td>\n",
       "      <td>0.776136</td>\n",
       "      <td>0.775162</td>\n",
       "      <td>0.769626</td>\n",
       "      <td>0.762012</td>\n",
       "      <td>0.750988</td>\n",
       "      <td>0.749682</td>\n",
       "      <td>0.731737</td>\n",
       "    </tr>\n",
       "    <tr>\n",
       "      <th>2: 50,000-75,000</th>\n",
       "      <td>0.171296</td>\n",
       "      <td>0.167077</td>\n",
       "      <td>0.169580</td>\n",
       "      <td>0.173822</td>\n",
       "      <td>0.180278</td>\n",
       "      <td>0.187088</td>\n",
       "      <td>0.188056</td>\n",
       "      <td>0.195210</td>\n",
       "    </tr>\n",
       "    <tr>\n",
       "      <th>3: 75,000-100,000</th>\n",
       "      <td>0.037318</td>\n",
       "      <td>0.041461</td>\n",
       "      <td>0.040457</td>\n",
       "      <td>0.041545</td>\n",
       "      <td>0.042224</td>\n",
       "      <td>0.044796</td>\n",
       "      <td>0.041931</td>\n",
       "      <td>0.050299</td>\n",
       "    </tr>\n",
       "    <tr>\n",
       "      <th>4: 100,000-200,000</th>\n",
       "      <td>0.010522</td>\n",
       "      <td>0.013820</td>\n",
       "      <td>0.014801</td>\n",
       "      <td>0.015006</td>\n",
       "      <td>0.015486</td>\n",
       "      <td>0.017128</td>\n",
       "      <td>0.020330</td>\n",
       "      <td>0.020359</td>\n",
       "    </tr>\n",
       "    <tr>\n",
       "      <th>5: &gt; 200,000</th>\n",
       "      <td>0.002385</td>\n",
       "      <td>0.001505</td>\n",
       "      <td>0.000000</td>\n",
       "      <td>0.000000</td>\n",
       "      <td>0.000000</td>\n",
       "      <td>0.000000</td>\n",
       "      <td>0.000000</td>\n",
       "      <td>0.002395</td>\n",
       "    </tr>\n",
       "  </tbody>\n",
       "</table>\n",
       "</div>"
      ],
      "text/plain": [
       "                              tax_returns_2007  tax_returns_2008  \\\n",
       "zipcode gross_income_bracket                                       \n",
       "0       1: 25,000-50,000              0.393295          0.390411   \n",
       "        2: 50,000-75,000              0.218431          0.218486   \n",
       "        3: 75,000-100,000             0.134397          0.135698   \n",
       "        4: 100,000-200,000            0.184047          0.189084   \n",
       "        5: > 200,000                  0.069830          0.066320   \n",
       "90001   1: 25,000-50,000              0.778479          0.776136   \n",
       "        2: 50,000-75,000              0.171296          0.167077   \n",
       "        3: 75,000-100,000             0.037318          0.041461   \n",
       "        4: 100,000-200,000            0.010522          0.013820   \n",
       "        5: > 200,000                  0.002385          0.001505   \n",
       "\n",
       "                              tax_returns_2009  tax_returns_2010  \\\n",
       "zipcode gross_income_bracket                                       \n",
       "0       1: 25,000-50,000              0.397775          0.395836   \n",
       "        2: 50,000-75,000              0.217538          0.216030   \n",
       "        3: 75,000-100,000             0.134820          0.133934   \n",
       "        4: 100,000-200,000            0.188051          0.187857   \n",
       "        5: > 200,000                  0.061815          0.066343   \n",
       "90001   1: 25,000-50,000              0.775162          0.769626   \n",
       "        2: 50,000-75,000              0.169580          0.173822   \n",
       "        3: 75,000-100,000             0.040457          0.041545   \n",
       "        4: 100,000-200,000            0.014801          0.015006   \n",
       "        5: > 200,000                  0.000000          0.000000   \n",
       "\n",
       "                              tax_returns_2011  tax_returns_2012  \\\n",
       "zipcode gross_income_bracket                                       \n",
       "0       1: 25,000-50,000              0.389385          0.379006   \n",
       "        2: 50,000-75,000              0.214466          0.211083   \n",
       "        3: 75,000-100,000             0.134017          0.133959   \n",
       "        4: 100,000-200,000            0.190657          0.197313   \n",
       "        5: > 200,000                  0.071476          0.078639   \n",
       "90001   1: 25,000-50,000              0.762012          0.750988   \n",
       "        2: 50,000-75,000              0.180278          0.187088   \n",
       "        3: 75,000-100,000             0.042224          0.044796   \n",
       "        4: 100,000-200,000            0.015486          0.017128   \n",
       "        5: > 200,000                  0.000000          0.000000   \n",
       "\n",
       "                              tax_returns_2013  tax_returns_2014  \n",
       "zipcode gross_income_bracket                                      \n",
       "0       1: 25,000-50,000              0.374800          0.367968  \n",
       "        2: 50,000-75,000              0.208134          0.204792  \n",
       "        3: 75,000-100,000             0.132604          0.130931  \n",
       "        4: 100,000-200,000            0.201354          0.205514  \n",
       "        5: > 200,000                  0.083109          0.090795  \n",
       "90001   1: 25,000-50,000              0.749682          0.731737  \n",
       "        2: 50,000-75,000              0.188056          0.195210  \n",
       "        3: 75,000-100,000             0.041931          0.050299  \n",
       "        4: 100,000-200,000            0.020330          0.020359  \n",
       "        5: > 200,000                  0.000000          0.002395  "
      ]
     },
     "execution_count": 5,
     "metadata": {},
     "output_type": "execute_result"
    }
   ],
   "source": [
    "# normalizing the data set so the cells are proportions of the total in that region, for the given year\n",
    "zipcodes = ca_tax.index.levels[0]\n",
    "ca_tax_normalized = ca_tax\n",
    "for zc in zipcodes:\n",
    "    for col in ca_tax.columns:\n",
    "        ca_tax_normalized.loc[zc][col] = ca_tax.loc[zc][col]/ca_tax.loc[zc][col].sum()\n",
    "        \n",
    "ca_tax_normalized.head(10)"
   ]
  },
  {
   "cell_type": "code",
   "execution_count": 6,
   "metadata": {
    "collapsed": true
   },
   "outputs": [],
   "source": [
    "# relabel columns for clarity\n",
    "relabel = {}\n",
    "for col in ca_tax_normalized.columns:\n",
    "    relabel[col] = col + '_%'\n",
    "    \n",
    "ca_tax_normalized = ca_tax_normalized.rename(columns=relabel)\n",
    "ca_tax_normalized = ca_tax_normalized*100"
   ]
  },
  {
   "cell_type": "markdown",
   "metadata": {},
   "source": [
    "## Preview of Analysis\n",
    "We can measure changes in income distribution with respect to changes over geographic locations as well as with respect to changes over time. The first level of our analysis will be over differences in location; the second level of analysis (within each region) will be with respect to differences over time. \n",
    "\n",
    "### Part I: Geographic Analysis: relative to a fixed point in time\n",
    "As an introduction to this analysis, we will first observe the approach to measuring differences between locations."
   ]
  },
  {
   "cell_type": "code",
   "execution_count": 7,
   "metadata": {
    "collapsed": false,
    "scrolled": false
   },
   "outputs": [
    {
     "data": {
      "text/plain": [
       "<matplotlib.text.Text at 0x2203400>"
      ]
     },
     "execution_count": 7,
     "metadata": {},
     "output_type": "execute_result"
    },
    {
     "data": {
      "image/png": "[encoded data removed]",
      "text/plain": [
       "<matplotlib.figure.Figure at 0x9f522b0>"
      ]
     },
     "metadata": {},
     "output_type": "display_data"
    }
   ],
   "source": [
    "f, (ax1, ax2, ax3, ax4) = plt.subplots(1, 4, sharey=True,figsize=(18,5))\n",
    "\n",
    "ax1.bar([1,2,3,4,5],ca_tax_normalized.loc['90059']['tax_returns_2007_%'],facecolor='#00629B')\n",
    "ax1.set_xlabel('Compton',fontsize=14)\n",
    "ax1.set_ylabel('% of total housing \\nmarket participants',rotation=0,labelpad=70,fontsize=14)\n",
    "\n",
    "ax2.bar([1,2,3,4,5],ca_tax_normalized.loc['91403']['tax_returns_2007_%'],facecolor='#068AD6')\n",
    "ax2.set_xlabel('Sherman Oaks',fontsize=14)\n",
    "\n",
    "ax3.bar([1,2,3,4,5],ca_tax_normalized.loc['90210']['tax_returns_2007_%'],facecolor='#54B3EA')\n",
    "ax3.set_xlabel('Beverly Hills',fontsize=14)\n",
    "\n",
    "ax4.bar([1,2,3,4,5],ca_tax_normalized.loc['0']['tax_returns_2007_%'],facecolor='#A1BCCC')\n",
    "ax4.set_xlabel('California',fontsize=14)\n",
    "\n",
    "plt.suptitle('Income Distributions: 2007',fontsize=18)\n",
    "#text = '1: \\$25,000 - \\$50,000\\n2: \\$50,000 - \\$75,000\\n3: \\$75,000 - \\$100,000\\n4: \\$100,000 - \\$200,000\\n5: \\$200,000 +'\n",
    "#props = dict(boxstyle='round', facecolor='#ffffff', alpha=0.5)\n",
    "#ax4.text(0.42, 0.95, text, transform=ax4.transAxes, fontsize=11,\n",
    "#        verticalalignment='top', bbox=props)"
   ]
  },
  {
   "cell_type": "markdown",
   "metadata": {},
   "source": [
    "The first three plots vary from least affluent to most affluent region; the right-most plot represents California's average. Using California's average as a standard to measure against, we can identify what class of housing we would be investing in and if growth levels seem sustainable. (We define 'growth' here as the population's income distribution shifting towards the upper brackets--this will be measured with respect to changes in time and is not observable in these plots.)\n",
    "\n",
    "Within the left three plots, there is a clear shift in density from the left-most column towards the right-most column as we compare the plots, i.e. a single investment in Compton will likely be at a lower price point than a single investment in Beverly Hills. Although investment is primarily a question of growing assets over time, it is also important to be aware exactly _what_ we are investing in at any point in time.\n",
    "\n",
    "_Note: these distributions do not represent the entirety of each listed region. They represent zipcodes selected within each region._\n",
    "\n",
    "Income Brackets:\n",
    "  * 1: \\$25,000 - \\$50,000 \n",
    "  * 2: \\$50,000 - \\$75,000 \n",
    "  * 3: \\$75,000 - \\$100,000 \n",
    "  * 4: \\$100,000 - \\$200,000 \n",
    "  * 5: \\$200,000 + \n",
    "  "
   ]
  },
  {
   "cell_type": "markdown",
   "metadata": {},
   "source": [
    "### Part II: Temporal Analysis: relative to a fixed location\n",
    "Within a given location, we can separate the income brackets and analyze changes over time."
   ]
  },
  {
   "cell_type": "code",
   "execution_count": 8,
   "metadata": {
    "collapsed": false,
    "scrolled": true
   },
   "outputs": [
    {
     "data": {
      "text/plain": [
       "<matplotlib.text.Text at 0xa423c18>"
      ]
     },
     "execution_count": 8,
     "metadata": {},
     "output_type": "execute_result"
    },
    {
     "data": {
      "image/png": "[encoded data removed]",
      "text/plain": [
       "<matplotlib.figure.Figure at 0x9eef278>"
      ]
     },
     "metadata": {},
     "output_type": "display_data"
    }
   ],
   "source": [
    "f, (ax1, ax2, ax3) = plt.subplots(1, 3, sharey=True,figsize=(12,4))\n",
    "ax1.bar([1,2,3,4,5],ca_tax_normalized.loc['94582']['tax_returns_2007_%'],facecolor='#0065ff')\n",
    "ax1.set_ylabel('% of total housing \\nmarket participants',rotation=0,labelpad=70,fontsize=14)\n",
    "ax1.set_xlabel('San Ramon 2007',fontsize=14)\n",
    "ax1.axhline(y=ca_tax_normalized.loc['94582'].loc['5: > 200,000']['tax_returns_2007_%'], xmin=0, xmax=5, linewidth=1, color = 'k')\n",
    "\n",
    "ax2.bar([1,2,3,4,5],ca_tax_normalized.loc['94582']['tax_returns_2011_%'],facecolor='#0056d8')\n",
    "ax2.set_xlabel('San Ramon 2011',fontsize=14)\n",
    "ax2.axhline(y=ca_tax_normalized.loc['94582'].loc['5: > 200,000']['tax_returns_2007_%'], xmin=0, xmax=5, linewidth=1, color = 'k')\n",
    "\n",
    "ax3.bar([1,2,3,4,5],ca_tax_normalized.loc['94582']['tax_returns_2014_%'],facecolor='#0044ad')\n",
    "ax3.set_xlabel('San Ramon 2014',fontsize=14)\n",
    "ax3.axhline(y=ca_tax_normalized.loc['94582'].loc['5: > 200,000']['tax_returns_2007_%'], xmin=0, xmax=5, linewidth=1, color = 'k')\n",
    "\n",
    "plt.suptitle('San Ramon Income Distributions',fontsize=18)"
   ]
  },
  {
   "cell_type": "markdown",
   "metadata": {},
   "source": [
    "Notice the increase in proportion of earners who make more than $200,000 (column 5) from 2007 to 2014 as well as the gradual decrease in the lower income brackets. We can analyze each of the income brackets separately, looking for decreases in the lower brackets and increases in the higher brackets"
   ]
  },
  {
   "cell_type": "code",
   "execution_count": 9,
   "metadata": {
    "collapsed": false,
    "scrolled": true
   },
   "outputs": [
    {
     "data": {
      "text/plain": [
       "<matplotlib.text.Text at 0xb915da0>"
      ]
     },
     "execution_count": 9,
     "metadata": {},
     "output_type": "execute_result"
    },
    {
     "data": {
      "image/png": "[encoded data removed]",
      "text/plain": [
       "<matplotlib.figure.Figure at 0xa49bd68>"
      ]
     },
     "metadata": {},
     "output_type": "display_data"
    }
   ],
   "source": [
    "f, (ax1, ax2, ax3, ax4, ax5) = plt.subplots(1, 5,figsize=(17,3),sharey=True)\n",
    "ax1.plot([2007,2008,2009,2010,2011,2012,2013,2014],ca_tax_normalized.loc['95037'].loc['1: 25,000-50,000'],color='#ff6f0f')\n",
    "ax1.set_ylabel('% of total', rotation=0,labelpad=45,fontsize=14)\n",
    "ax1.set_xlabel('\\$25k - \\$50k',fontsize=14)\n",
    "ax2.plot([2007,2008,2009,2010,2011,2012,2013,2014],ca_tax_normalized.loc['95037'].loc['2: 50,000-75,000'],color='#fc8f46')\n",
    "ax2.set_xlabel('\\$50k - \\$75k',fontsize=14)\n",
    "ax3.plot([2007,2008,2009,2010,2011,2012,2013,2014],ca_tax_normalized.loc['95037'].loc['3: 75,000-100,000'],color='#fcad46')\n",
    "ax3.set_xlabel('\\$75k - \\$100k',fontsize=14)\n",
    "ax4.plot([2007,2008,2009,2010,2011,2012,2013,2014],ca_tax_normalized.loc['95037'].loc['4: 100,000-200,000'],color='#285100')\n",
    "ax4.set_xlabel('\\$100k - \\$200k',fontsize=14)\n",
    "ax5.plot([2007,2008,2009,2010,2011,2012,2013,2014],ca_tax_normalized.loc['95037'].loc['5: > 200,000'],color='#4dc100')\n",
    "ax5.set_xlabel('\\$200k+',fontsize=14)\n",
    "\n",
    "plt.suptitle('Morgan Hill Income Distributions',fontsize=18)"
   ]
  },
  {
   "cell_type": "markdown",
   "metadata": {},
   "source": [
    "By splitting the income brackets and observing their changes over time, we get a better picture of the relative changes over time. We are looking for regions which show decreasing trends in the lower brackets and increasing trends in the higher brackets."
   ]
  },
  {
   "cell_type": "markdown",
   "metadata": {},
   "source": [
    "# Analysis of Significant Regions\n",
    "\n",
    "We will now analyze regions with the most significant changes in income distribution, separated by general region within California."
   ]
  },
  {
   "cell_type": "code",
   "execution_count": 10,
   "metadata": {
    "collapsed": true
   },
   "outputs": [],
   "source": [
    "ca_income_change = pd.DataFrame(columns=['zipcode','1: 25k-50k','2: 50k-75k','3: 75k-100k','4: 100k-200k','5: >200k'])"
   ]
  },
  {
   "cell_type": "code",
   "execution_count": 11,
   "metadata": {
    "collapsed": true
   },
   "outputs": [],
   "source": [
    "# create df representing changes in each income bracket from 2007 to 2014\n",
    "for zc in zipcodes:\n",
    "    first = ca_tax_normalized.loc[zc].loc['1: 25,000-50,000']['tax_returns_2014_%'] - ca_tax_normalized.loc[zc].loc['1: 25,000-50,000']['tax_returns_2007_%']\n",
    "    second = ca_tax_normalized.loc[zc].loc['2: 50,000-75,000']['tax_returns_2014_%'] - ca_tax_normalized.loc[zc].loc['2: 50,000-75,000']['tax_returns_2007_%']\n",
    "    third = ca_tax_normalized.loc[zc].loc['3: 75,000-100,000']['tax_returns_2014_%'] - ca_tax_normalized.loc[zc].loc['3: 75,000-100,000']['tax_returns_2007_%']\n",
    "    fourth = ca_tax_normalized.loc[zc].loc['4: 100,000-200,000']['tax_returns_2014_%'] - ca_tax_normalized.loc[zc].loc['4: 100,000-200,000']['tax_returns_2007_%']\n",
    "    fifth = ca_tax_normalized.loc[zc].loc['5: > 200,000']['tax_returns_2014_%'] - ca_tax_normalized.loc[zc].loc['5: > 200,000']['tax_returns_2007_%']\n",
    "    temp = pd.DataFrame({'zipcode':[zc],'1: 25k-50k':[first],'2: 50k-75k':[second],'3: 75k-100k':[third],'4: 100k-200k':[fourth],'5: >200k':[fifth]})\n",
    "    ca_income_change = ca_income_change.append(temp)"
   ]
  },
  {
   "cell_type": "code",
   "execution_count": 12,
   "metadata": {
    "collapsed": false
   },
   "outputs": [],
   "source": [
    "ca_income_change = ca_income_change.set_index('zipcode')"
   ]
  },
  {
   "cell_type": "markdown",
   "metadata": {},
   "source": [
    "### Regions with greatest increase in \\$200,000+ income bracket"
   ]
  },
  {
   "cell_type": "code",
   "execution_count": 13,
   "metadata": {
    "collapsed": false
   },
   "outputs": [
    {
     "data": {
      "text/html": [
       "<div>\n",
       "<table border=\"1\" class=\"dataframe\">\n",
       "  <thead>\n",
       "    <tr style=\"text-align: right;\">\n",
       "      <th></th>\n",
       "      <th>1: 25k-50k</th>\n",
       "      <th>2: 50k-75k</th>\n",
       "      <th>3: 75k-100k</th>\n",
       "      <th>4: 100k-200k</th>\n",
       "      <th>5: &gt;200k</th>\n",
       "    </tr>\n",
       "    <tr>\n",
       "      <th>zipcode</th>\n",
       "      <th></th>\n",
       "      <th></th>\n",
       "      <th></th>\n",
       "      <th></th>\n",
       "      <th></th>\n",
       "    </tr>\n",
       "  </thead>\n",
       "  <tbody>\n",
       "    <tr>\n",
       "      <th>95054</th>\n",
       "      <td>-6.732233</td>\n",
       "      <td>-4.556195</td>\n",
       "      <td>-3.918435</td>\n",
       "      <td>1.568799</td>\n",
       "      <td>13.638064</td>\n",
       "    </tr>\n",
       "    <tr>\n",
       "      <th>94158</th>\n",
       "      <td>-15.199000</td>\n",
       "      <td>-0.602933</td>\n",
       "      <td>-1.933195</td>\n",
       "      <td>4.480113</td>\n",
       "      <td>13.255015</td>\n",
       "    </tr>\n",
       "    <tr>\n",
       "      <th>94041</th>\n",
       "      <td>-9.066897</td>\n",
       "      <td>-3.973534</td>\n",
       "      <td>-1.772384</td>\n",
       "      <td>1.954974</td>\n",
       "      <td>12.857841</td>\n",
       "    </tr>\n",
       "    <tr>\n",
       "      <th>94583</th>\n",
       "      <td>-4.437616</td>\n",
       "      <td>-3.428816</td>\n",
       "      <td>-2.418330</td>\n",
       "      <td>-2.526770</td>\n",
       "      <td>12.811533</td>\n",
       "    </tr>\n",
       "    <tr>\n",
       "      <th>92127</th>\n",
       "      <td>-4.656028</td>\n",
       "      <td>-2.887181</td>\n",
       "      <td>-3.753731</td>\n",
       "      <td>-1.260210</td>\n",
       "      <td>12.557149</td>\n",
       "    </tr>\n",
       "    <tr>\n",
       "      <th>94043</th>\n",
       "      <td>-6.188259</td>\n",
       "      <td>-4.313145</td>\n",
       "      <td>-3.046495</td>\n",
       "      <td>1.478459</td>\n",
       "      <td>12.069439</td>\n",
       "    </tr>\n",
       "    <tr>\n",
       "      <th>94105</th>\n",
       "      <td>-6.456098</td>\n",
       "      <td>-6.641844</td>\n",
       "      <td>-2.890544</td>\n",
       "      <td>4.086148</td>\n",
       "      <td>11.902337</td>\n",
       "    </tr>\n",
       "    <tr>\n",
       "      <th>95014</th>\n",
       "      <td>-2.451780</td>\n",
       "      <td>-2.875269</td>\n",
       "      <td>-2.970075</td>\n",
       "      <td>-3.547913</td>\n",
       "      <td>11.845036</td>\n",
       "    </tr>\n",
       "    <tr>\n",
       "      <th>94582</th>\n",
       "      <td>-1.834056</td>\n",
       "      <td>-1.129300</td>\n",
       "      <td>-2.322895</td>\n",
       "      <td>-6.524053</td>\n",
       "      <td>11.810304</td>\n",
       "    </tr>\n",
       "    <tr>\n",
       "      <th>94568</th>\n",
       "      <td>-5.666791</td>\n",
       "      <td>-6.004982</td>\n",
       "      <td>-2.739350</td>\n",
       "      <td>2.685328</td>\n",
       "      <td>11.725796</td>\n",
       "    </tr>\n",
       "  </tbody>\n",
       "</table>\n",
       "</div>"
      ],
      "text/plain": [
       "         1: 25k-50k  2: 50k-75k  3: 75k-100k  4: 100k-200k   5: >200k\n",
       "zipcode                                                              \n",
       "95054     -6.732233   -4.556195    -3.918435      1.568799  13.638064\n",
       "94158    -15.199000   -0.602933    -1.933195      4.480113  13.255015\n",
       "94041     -9.066897   -3.973534    -1.772384      1.954974  12.857841\n",
       "94583     -4.437616   -3.428816    -2.418330     -2.526770  12.811533\n",
       "92127     -4.656028   -2.887181    -3.753731     -1.260210  12.557149\n",
       "94043     -6.188259   -4.313145    -3.046495      1.478459  12.069439\n",
       "94105     -6.456098   -6.641844    -2.890544      4.086148  11.902337\n",
       "95014     -2.451780   -2.875269    -2.970075     -3.547913  11.845036\n",
       "94582     -1.834056   -1.129300    -2.322895     -6.524053  11.810304\n",
       "94568     -5.666791   -6.004982    -2.739350      2.685328  11.725796"
      ]
     },
     "execution_count": 13,
     "metadata": {},
     "output_type": "execute_result"
    }
   ],
   "source": [
    "ca_income_change.sort_values(by='5: >200k',ascending=False)[0:10]"
   ]
  },
  {
   "cell_type": "markdown",
   "metadata": {},
   "source": [
    "### Regions with greatest increase in \\$100,000 - \\$200,000 income bracket"
   ]
  },
  {
   "cell_type": "code",
   "execution_count": 14,
   "metadata": {
    "collapsed": false,
    "scrolled": true
   },
   "outputs": [
    {
     "data": {
      "text/html": [
       "<div>\n",
       "<table border=\"1\" class=\"dataframe\">\n",
       "  <thead>\n",
       "    <tr style=\"text-align: right;\">\n",
       "      <th></th>\n",
       "      <th>1: 25k-50k</th>\n",
       "      <th>2: 50k-75k</th>\n",
       "      <th>3: 75k-100k</th>\n",
       "      <th>4: 100k-200k</th>\n",
       "      <th>5: &gt;200k</th>\n",
       "    </tr>\n",
       "    <tr>\n",
       "      <th>zipcode</th>\n",
       "      <th></th>\n",
       "      <th></th>\n",
       "      <th></th>\n",
       "      <th></th>\n",
       "      <th></th>\n",
       "    </tr>\n",
       "  </thead>\n",
       "  <tbody>\n",
       "    <tr>\n",
       "      <th>95306</th>\n",
       "      <td>-9.680207</td>\n",
       "      <td>-6.611927</td>\n",
       "      <td>5.747623</td>\n",
       "      <td>15.787957</td>\n",
       "      <td>-5.243446</td>\n",
       "    </tr>\n",
       "    <tr>\n",
       "      <th>95668</th>\n",
       "      <td>-5.913978</td>\n",
       "      <td>-4.569892</td>\n",
       "      <td>0.134409</td>\n",
       "      <td>15.591398</td>\n",
       "      <td>-5.241935</td>\n",
       "    </tr>\n",
       "    <tr>\n",
       "      <th>95942</th>\n",
       "      <td>-1.286716</td>\n",
       "      <td>-7.018932</td>\n",
       "      <td>-2.030269</td>\n",
       "      <td>15.097822</td>\n",
       "      <td>-4.761905</td>\n",
       "    </tr>\n",
       "    <tr>\n",
       "      <th>95549</th>\n",
       "      <td>-1.644245</td>\n",
       "      <td>-3.373906</td>\n",
       "      <td>-4.996797</td>\n",
       "      <td>14.499253</td>\n",
       "      <td>-4.484305</td>\n",
       "    </tr>\n",
       "    <tr>\n",
       "      <th>95456</th>\n",
       "      <td>1.033835</td>\n",
       "      <td>6.578947</td>\n",
       "      <td>-11.160714</td>\n",
       "      <td>12.922932</td>\n",
       "      <td>-9.375000</td>\n",
       "    </tr>\n",
       "    <tr>\n",
       "      <th>96120</th>\n",
       "      <td>-3.181189</td>\n",
       "      <td>-1.086742</td>\n",
       "      <td>-2.726734</td>\n",
       "      <td>11.973918</td>\n",
       "      <td>-4.979253</td>\n",
       "    </tr>\n",
       "    <tr>\n",
       "      <th>95113</th>\n",
       "      <td>-19.680465</td>\n",
       "      <td>-5.899298</td>\n",
       "      <td>5.122246</td>\n",
       "      <td>11.626725</td>\n",
       "      <td>8.830792</td>\n",
       "    </tr>\n",
       "    <tr>\n",
       "      <th>94567</th>\n",
       "      <td>-0.094340</td>\n",
       "      <td>8.773585</td>\n",
       "      <td>-15.566038</td>\n",
       "      <td>11.603774</td>\n",
       "      <td>-4.716981</td>\n",
       "    </tr>\n",
       "    <tr>\n",
       "      <th>95410</th>\n",
       "      <td>-4.301552</td>\n",
       "      <td>4.678492</td>\n",
       "      <td>-3.592018</td>\n",
       "      <td>11.507761</td>\n",
       "      <td>-8.292683</td>\n",
       "    </tr>\n",
       "    <tr>\n",
       "      <th>95547</th>\n",
       "      <td>-3.578648</td>\n",
       "      <td>-4.140151</td>\n",
       "      <td>0.703751</td>\n",
       "      <td>11.170173</td>\n",
       "      <td>-4.155125</td>\n",
       "    </tr>\n",
       "  </tbody>\n",
       "</table>\n",
       "</div>"
      ],
      "text/plain": [
       "         1: 25k-50k  2: 50k-75k  3: 75k-100k  4: 100k-200k  5: >200k\n",
       "zipcode                                                             \n",
       "95306     -9.680207   -6.611927     5.747623     15.787957 -5.243446\n",
       "95668     -5.913978   -4.569892     0.134409     15.591398 -5.241935\n",
       "95942     -1.286716   -7.018932    -2.030269     15.097822 -4.761905\n",
       "95549     -1.644245   -3.373906    -4.996797     14.499253 -4.484305\n",
       "95456      1.033835    6.578947   -11.160714     12.922932 -9.375000\n",
       "96120     -3.181189   -1.086742    -2.726734     11.973918 -4.979253\n",
       "95113    -19.680465   -5.899298     5.122246     11.626725  8.830792\n",
       "94567     -0.094340    8.773585   -15.566038     11.603774 -4.716981\n",
       "95410     -4.301552    4.678492    -3.592018     11.507761 -8.292683\n",
       "95547     -3.578648   -4.140151     0.703751     11.170173 -4.155125"
      ]
     },
     "execution_count": 14,
     "metadata": {},
     "output_type": "execute_result"
    }
   ],
   "source": [
    "ca_income_change.sort_values(by='4: 100k-200k',ascending=False)[0:10]"
   ]
  },
  {
   "cell_type": "markdown",
   "metadata": {},
   "source": [
    "Note: all of the zipcodes in the above two tables are in Northern California, with the exception of 92127 (San Diego)"
   ]
  },
  {
   "cell_type": "markdown",
   "metadata": {},
   "source": [
    "### Regions with greatest increase in \\$75,000 - \\$100,000 income bracket"
   ]
  },
  {
   "cell_type": "code",
   "execution_count": 15,
   "metadata": {
    "collapsed": false
   },
   "outputs": [
    {
     "data": {
      "text/html": [
       "<div>\n",
       "<table border=\"1\" class=\"dataframe\">\n",
       "  <thead>\n",
       "    <tr style=\"text-align: right;\">\n",
       "      <th></th>\n",
       "      <th>1: 25k-50k</th>\n",
       "      <th>2: 50k-75k</th>\n",
       "      <th>3: 75k-100k</th>\n",
       "      <th>4: 100k-200k</th>\n",
       "      <th>5: &gt;200k</th>\n",
       "    </tr>\n",
       "    <tr>\n",
       "      <th>zipcode</th>\n",
       "      <th></th>\n",
       "      <th></th>\n",
       "      <th></th>\n",
       "      <th></th>\n",
       "      <th></th>\n",
       "    </tr>\n",
       "  </thead>\n",
       "  <tbody>\n",
       "    <tr>\n",
       "      <th>95935</th>\n",
       "      <td>-0.898204</td>\n",
       "      <td>-11.505560</td>\n",
       "      <td>12.403764</td>\n",
       "      <td>0.000000</td>\n",
       "      <td>0.000000</td>\n",
       "    </tr>\n",
       "    <tr>\n",
       "      <th>92282</th>\n",
       "      <td>4.832837</td>\n",
       "      <td>-7.017544</td>\n",
       "      <td>8.474015</td>\n",
       "      <td>-6.289308</td>\n",
       "      <td>0.000000</td>\n",
       "    </tr>\n",
       "    <tr>\n",
       "      <th>92347</th>\n",
       "      <td>-5.782313</td>\n",
       "      <td>4.761905</td>\n",
       "      <td>8.163265</td>\n",
       "      <td>-7.142857</td>\n",
       "      <td>0.000000</td>\n",
       "    </tr>\n",
       "    <tr>\n",
       "      <th>93239</th>\n",
       "      <td>-0.775834</td>\n",
       "      <td>-6.916474</td>\n",
       "      <td>7.692308</td>\n",
       "      <td>0.000000</td>\n",
       "      <td>0.000000</td>\n",
       "    </tr>\n",
       "    <tr>\n",
       "      <th>93243</th>\n",
       "      <td>-5.403557</td>\n",
       "      <td>-1.727086</td>\n",
       "      <td>7.506840</td>\n",
       "      <td>-0.376197</td>\n",
       "      <td>0.000000</td>\n",
       "    </tr>\n",
       "    <tr>\n",
       "      <th>92257</th>\n",
       "      <td>1.175851</td>\n",
       "      <td>-0.052650</td>\n",
       "      <td>6.984907</td>\n",
       "      <td>-8.108108</td>\n",
       "      <td>0.000000</td>\n",
       "    </tr>\n",
       "    <tr>\n",
       "      <th>96039</th>\n",
       "      <td>-0.134348</td>\n",
       "      <td>4.120018</td>\n",
       "      <td>6.359158</td>\n",
       "      <td>-10.344828</td>\n",
       "      <td>0.000000</td>\n",
       "    </tr>\n",
       "    <tr>\n",
       "      <th>95306</th>\n",
       "      <td>-9.680207</td>\n",
       "      <td>-6.611927</td>\n",
       "      <td>5.747623</td>\n",
       "      <td>15.787957</td>\n",
       "      <td>-5.243446</td>\n",
       "    </tr>\n",
       "    <tr>\n",
       "      <th>92401</th>\n",
       "      <td>-0.024710</td>\n",
       "      <td>3.113417</td>\n",
       "      <td>5.361997</td>\n",
       "      <td>-8.450704</td>\n",
       "      <td>0.000000</td>\n",
       "    </tr>\n",
       "    <tr>\n",
       "      <th>95524</th>\n",
       "      <td>-10.892711</td>\n",
       "      <td>2.779785</td>\n",
       "      <td>5.229561</td>\n",
       "      <td>1.339307</td>\n",
       "      <td>1.544057</td>\n",
       "    </tr>\n",
       "  </tbody>\n",
       "</table>\n",
       "</div>"
      ],
      "text/plain": [
       "         1: 25k-50k  2: 50k-75k  3: 75k-100k  4: 100k-200k  5: >200k\n",
       "zipcode                                                             \n",
       "95935     -0.898204  -11.505560    12.403764      0.000000  0.000000\n",
       "92282      4.832837   -7.017544     8.474015     -6.289308  0.000000\n",
       "92347     -5.782313    4.761905     8.163265     -7.142857  0.000000\n",
       "93239     -0.775834   -6.916474     7.692308      0.000000  0.000000\n",
       "93243     -5.403557   -1.727086     7.506840     -0.376197  0.000000\n",
       "92257      1.175851   -0.052650     6.984907     -8.108108  0.000000\n",
       "96039     -0.134348    4.120018     6.359158    -10.344828  0.000000\n",
       "95306     -9.680207   -6.611927     5.747623     15.787957 -5.243446\n",
       "92401     -0.024710    3.113417     5.361997     -8.450704  0.000000\n",
       "95524    -10.892711    2.779785     5.229561      1.339307  1.544057"
      ]
     },
     "execution_count": 15,
     "metadata": {},
     "output_type": "execute_result"
    }
   ],
   "source": [
    "ca_income_change.sort_values(by='3: 75k-100k',ascending=False)[0:10]"
   ]
  },
  {
   "cell_type": "markdown",
   "metadata": {},
   "source": [
    "### Regions with greatest \\*decrease\\* in \\$25,000 - \\$50,000 income bracket"
   ]
  },
  {
   "cell_type": "code",
   "execution_count": 16,
   "metadata": {
    "collapsed": false
   },
   "outputs": [
    {
     "data": {
      "text/html": [
       "<div>\n",
       "<table border=\"1\" class=\"dataframe\">\n",
       "  <thead>\n",
       "    <tr style=\"text-align: right;\">\n",
       "      <th></th>\n",
       "      <th>1: 25k-50k</th>\n",
       "      <th>2: 50k-75k</th>\n",
       "      <th>3: 75k-100k</th>\n",
       "      <th>4: 100k-200k</th>\n",
       "      <th>5: &gt;200k</th>\n",
       "    </tr>\n",
       "    <tr>\n",
       "      <th>zipcode</th>\n",
       "      <th></th>\n",
       "      <th></th>\n",
       "      <th></th>\n",
       "      <th></th>\n",
       "      <th></th>\n",
       "    </tr>\n",
       "  </thead>\n",
       "  <tbody>\n",
       "    <tr>\n",
       "      <th>95113</th>\n",
       "      <td>-19.680465</td>\n",
       "      <td>-5.899298</td>\n",
       "      <td>5.122246</td>\n",
       "      <td>11.626725</td>\n",
       "      <td>8.830792</td>\n",
       "    </tr>\n",
       "    <tr>\n",
       "      <th>93252</th>\n",
       "      <td>-18.146160</td>\n",
       "      <td>7.287366</td>\n",
       "      <td>0.701899</td>\n",
       "      <td>10.156895</td>\n",
       "      <td>0.000000</td>\n",
       "    </tr>\n",
       "    <tr>\n",
       "      <th>94158</th>\n",
       "      <td>-15.199000</td>\n",
       "      <td>-0.602933</td>\n",
       "      <td>-1.933195</td>\n",
       "      <td>4.480113</td>\n",
       "      <td>13.255015</td>\n",
       "    </tr>\n",
       "    <tr>\n",
       "      <th>94102</th>\n",
       "      <td>-14.881379</td>\n",
       "      <td>-2.048609</td>\n",
       "      <td>1.423381</td>\n",
       "      <td>9.886479</td>\n",
       "      <td>5.620128</td>\n",
       "    </tr>\n",
       "    <tr>\n",
       "      <th>94612</th>\n",
       "      <td>-14.350088</td>\n",
       "      <td>0.322974</td>\n",
       "      <td>3.578721</td>\n",
       "      <td>7.133139</td>\n",
       "      <td>3.315254</td>\n",
       "    </tr>\n",
       "    <tr>\n",
       "      <th>95811</th>\n",
       "      <td>-13.821578</td>\n",
       "      <td>3.797632</td>\n",
       "      <td>3.309643</td>\n",
       "      <td>4.451212</td>\n",
       "      <td>2.263091</td>\n",
       "    </tr>\n",
       "    <tr>\n",
       "      <th>90015</th>\n",
       "      <td>-13.548300</td>\n",
       "      <td>-1.071737</td>\n",
       "      <td>0.992879</td>\n",
       "      <td>8.106466</td>\n",
       "      <td>5.520693</td>\n",
       "    </tr>\n",
       "    <tr>\n",
       "      <th>90014</th>\n",
       "      <td>-12.887243</td>\n",
       "      <td>-2.251590</td>\n",
       "      <td>4.578429</td>\n",
       "      <td>7.973147</td>\n",
       "      <td>2.587256</td>\n",
       "    </tr>\n",
       "    <tr>\n",
       "      <th>96038</th>\n",
       "      <td>-12.669683</td>\n",
       "      <td>18.099548</td>\n",
       "      <td>-11.538462</td>\n",
       "      <td>6.108597</td>\n",
       "      <td>0.000000</td>\n",
       "    </tr>\n",
       "    <tr>\n",
       "      <th>94117</th>\n",
       "      <td>-12.144380</td>\n",
       "      <td>-1.413847</td>\n",
       "      <td>0.722358</td>\n",
       "      <td>6.398859</td>\n",
       "      <td>6.437009</td>\n",
       "    </tr>\n",
       "  </tbody>\n",
       "</table>\n",
       "</div>"
      ],
      "text/plain": [
       "         1: 25k-50k  2: 50k-75k  3: 75k-100k  4: 100k-200k   5: >200k\n",
       "zipcode                                                              \n",
       "95113    -19.680465   -5.899298     5.122246     11.626725   8.830792\n",
       "93252    -18.146160    7.287366     0.701899     10.156895   0.000000\n",
       "94158    -15.199000   -0.602933    -1.933195      4.480113  13.255015\n",
       "94102    -14.881379   -2.048609     1.423381      9.886479   5.620128\n",
       "94612    -14.350088    0.322974     3.578721      7.133139   3.315254\n",
       "95811    -13.821578    3.797632     3.309643      4.451212   2.263091\n",
       "90015    -13.548300   -1.071737     0.992879      8.106466   5.520693\n",
       "90014    -12.887243   -2.251590     4.578429      7.973147   2.587256\n",
       "96038    -12.669683   18.099548   -11.538462      6.108597   0.000000\n",
       "94117    -12.144380   -1.413847     0.722358      6.398859   6.437009"
      ]
     },
     "execution_count": 16,
     "metadata": {},
     "output_type": "execute_result"
    }
   ],
   "source": [
    "ca_income_change.sort_values(by='1: 25k-50k')[0:10]"
   ]
  },
  {
   "cell_type": "code",
   "execution_count": 17,
   "metadata": {
    "collapsed": false,
    "scrolled": false
   },
   "outputs": [
    {
     "data": {
      "text/html": [
       "<div>\n",
       "<table border=\"1\" class=\"dataframe\">\n",
       "  <thead>\n",
       "    <tr style=\"text-align: right;\">\n",
       "      <th></th>\n",
       "      <th>1: 25k-50k</th>\n",
       "      <th>2: 50k-75k</th>\n",
       "      <th>3: 75k-100k</th>\n",
       "      <th>4: 100k-200k</th>\n",
       "      <th>5: &gt;200k</th>\n",
       "    </tr>\n",
       "  </thead>\n",
       "  <tbody>\n",
       "    <tr>\n",
       "      <th>count</th>\n",
       "      <td>1419.000000</td>\n",
       "      <td>1419.000000</td>\n",
       "      <td>1419.000000</td>\n",
       "      <td>1419.000000</td>\n",
       "      <td>1419.000000</td>\n",
       "    </tr>\n",
       "    <tr>\n",
       "      <th>mean</th>\n",
       "      <td>-2.519798</td>\n",
       "      <td>-1.162828</td>\n",
       "      <td>-0.296748</td>\n",
       "      <td>2.400717</td>\n",
       "      <td>1.578657</td>\n",
       "    </tr>\n",
       "    <tr>\n",
       "      <th>std</th>\n",
       "      <td>2.762630</td>\n",
       "      <td>2.303142</td>\n",
       "      <td>1.845165</td>\n",
       "      <td>2.498066</td>\n",
       "      <td>2.598790</td>\n",
       "    </tr>\n",
       "    <tr>\n",
       "      <th>min</th>\n",
       "      <td>-19.680465</td>\n",
       "      <td>-11.505560</td>\n",
       "      <td>-15.566038</td>\n",
       "      <td>-11.086475</td>\n",
       "      <td>-12.843253</td>\n",
       "    </tr>\n",
       "    <tr>\n",
       "      <th>25%</th>\n",
       "      <td>-3.881004</td>\n",
       "      <td>-2.179749</td>\n",
       "      <td>-1.083145</td>\n",
       "      <td>1.159624</td>\n",
       "      <td>0.138309</td>\n",
       "    </tr>\n",
       "    <tr>\n",
       "      <th>50%</th>\n",
       "      <td>-2.384412</td>\n",
       "      <td>-1.325664</td>\n",
       "      <td>-0.302772</td>\n",
       "      <td>2.300287</td>\n",
       "      <td>0.957904</td>\n",
       "    </tr>\n",
       "    <tr>\n",
       "      <th>75%</th>\n",
       "      <td>-1.036127</td>\n",
       "      <td>-0.403232</td>\n",
       "      <td>0.540320</td>\n",
       "      <td>3.458442</td>\n",
       "      <td>2.576935</td>\n",
       "    </tr>\n",
       "    <tr>\n",
       "      <th>max</th>\n",
       "      <td>9.794344</td>\n",
       "      <td>27.094474</td>\n",
       "      <td>12.403764</td>\n",
       "      <td>15.787957</td>\n",
       "      <td>13.638064</td>\n",
       "    </tr>\n",
       "  </tbody>\n",
       "</table>\n",
       "</div>"
      ],
      "text/plain": [
       "        1: 25k-50k   2: 50k-75k  3: 75k-100k  4: 100k-200k     5: >200k\n",
       "count  1419.000000  1419.000000  1419.000000   1419.000000  1419.000000\n",
       "mean     -2.519798    -1.162828    -0.296748      2.400717     1.578657\n",
       "std       2.762630     2.303142     1.845165      2.498066     2.598790\n",
       "min     -19.680465   -11.505560   -15.566038    -11.086475   -12.843253\n",
       "25%      -3.881004    -2.179749    -1.083145      1.159624     0.138309\n",
       "50%      -2.384412    -1.325664    -0.302772      2.300287     0.957904\n",
       "75%      -1.036127    -0.403232     0.540320      3.458442     2.576935\n",
       "max       9.794344    27.094474    12.403764     15.787957    13.638064"
      ]
     },
     "execution_count": 17,
     "metadata": {},
     "output_type": "execute_result"
    }
   ],
   "source": [
    "ca_income_change.describe()"
   ]
  },
  {
   "cell_type": "markdown",
   "metadata": {},
   "source": [
    "# I. Northern California"
   ]
  },
  {
   "cell_type": "markdown",
   "metadata": {},
   "source": [
    "## Santa Clara: 95054"
   ]
  },
  {
   "cell_type": "code",
   "execution_count": 18,
   "metadata": {
    "collapsed": false
   },
   "outputs": [
    {
     "data": {
      "text/html": [
       "<div>\n",
       "<table border=\"1\" class=\"dataframe\">\n",
       "  <thead>\n",
       "    <tr style=\"text-align: right;\">\n",
       "      <th></th>\n",
       "      <th>1: 25k-50k</th>\n",
       "      <th>2: 50k-75k</th>\n",
       "      <th>3: 75k-100k</th>\n",
       "      <th>4: 100k-200k</th>\n",
       "      <th>5: &gt;200k</th>\n",
       "    </tr>\n",
       "    <tr>\n",
       "      <th>zipcode</th>\n",
       "      <th></th>\n",
       "      <th></th>\n",
       "      <th></th>\n",
       "      <th></th>\n",
       "      <th></th>\n",
       "    </tr>\n",
       "  </thead>\n",
       "  <tbody>\n",
       "    <tr>\n",
       "      <th>95054</th>\n",
       "      <td>-6.732233</td>\n",
       "      <td>-4.556195</td>\n",
       "      <td>-3.918435</td>\n",
       "      <td>1.568799</td>\n",
       "      <td>13.638064</td>\n",
       "    </tr>\n",
       "  </tbody>\n",
       "</table>\n",
       "</div>"
      ],
      "text/plain": [
       "         1: 25k-50k  2: 50k-75k  3: 75k-100k  4: 100k-200k   5: >200k\n",
       "zipcode                                                              \n",
       "95054     -6.732233   -4.556195    -3.918435      1.568799  13.638064"
      ]
     },
     "execution_count": 18,
     "metadata": {},
     "output_type": "execute_result"
    }
   ],
   "source": [
    "ca_income_change[ca_income_change['5: >200k']==ca_income_change['5: >200k'].max()]"
   ]
  },
  {
   "cell_type": "code",
   "execution_count": 30,
   "metadata": {
    "collapsed": false,
    "scrolled": false
   },
   "outputs": [
    {
     "data": {
      "text/plain": [
       "<matplotlib.text.Text at 0xd0ca400>"
      ]
     },
     "execution_count": 30,
     "metadata": {},
     "output_type": "execute_result"
    },
    {
     "data": {
      "image/png": "[encoded data removed]",
      "text/plain": [
       "<matplotlib.figure.Figure at 0xd199ba8>"
      ]
     },
     "metadata": {},
     "output_type": "display_data"
    }
   ],
   "source": [
    "f, (ax1, ax2) = plt.subplots(1, 2, sharey=True,figsize=(14,5))\n",
    "\n",
    "ax1.bar([1-0.15,2-0.15,3-0.15,4-0.15,5-0.15],ca_tax_normalized.loc['95054']['tax_returns_2007_%'],width=0.3,facecolor='#083CAA')\n",
    "ax1.bar([1+0.15,2+0.15,3+0.15,4+0.15,5+0.15],ca_tax_normalized.loc['95054']['tax_returns_2014_%'],width=0.3,facecolor='#89D2DC')\n",
    "ax1.set_ylabel('% of total housing \\nmarket participants',rotation=0,labelpad=70,fontsize=14)\n",
    "ax1.set_xlabel('Santa Clara',fontsize=14)\n",
    "ax1.legend(['2007','2014'])\n",
    "\n",
    "ax2.bar([1-0.15,2-0.15,3-0.15,4-0.15,5-0.15],ca_tax_normalized.loc['0']['tax_returns_2007_%'],width=0.3,facecolor='#033860')\n",
    "ax2.bar([1+0.15,2+0.15,3+0.15,4+0.15,5+0.15],ca_tax_normalized.loc['0']['tax_returns_2014_%'],width=0.3,facecolor='#3493B7')\n",
    "ax2.set_xlabel('California',fontsize=14)\n",
    "ax2.legend(['2007','2014'])\n",
    "\n",
    "plt.suptitle('Change Within Income Brackets', fontsize=18)"
   ]
  },
  {
   "cell_type": "markdown",
   "metadata": {},
   "source": [
    "Compared to the change in earnings of all Californians, Santa Clara has a much greater increase in the \\$200,000+ income bracket from 2007 to 2014 and a noticeably greater decrease in each of the three lower income brackets. The change is unlikely to be the result of prior residents increasing their earning potential. (The result of such a change would be less stark. In particular, the middle brackets would not noticeably decrease: earners from the bracket below them would enter the middle brackets. Additionally, the highest bracket would not increase by the large amount we observe here.)\n",
    "\n",
    "It is more reasonable to think that the change was a result of the immigration of high-earners into Santa Clara. That is, an underlying change in the industries and available employment opportunities attracted a different demographic. This is causing a change in the population itself, rather than a change in the earnings of the original population.\n",
    "\n",
    "Although this is a significant shift in income density, we must be wary that these trends are unlikely to continue. "
   ]
  },
  {
   "cell_type": "code",
   "execution_count": 32,
   "metadata": {
    "collapsed": false,
    "scrolled": true
   },
   "outputs": [
    {
     "data": {
      "text/plain": [
       "<matplotlib.text.Text at 0xe846ba8>"
      ]
     },
     "execution_count": 32,
     "metadata": {},
     "output_type": "execute_result"
    },
    {
     "data": {
      "image/png": "[encoded data removed]",
      "text/plain": [
       "<matplotlib.figure.Figure at 0xd0b87b8>"
      ]
     },
     "metadata": {},
     "output_type": "display_data"
    }
   ],
   "source": [
    "f, (ax1, ax2, ax3, ax4, ax5) = plt.subplots(1, 5,figsize=(17,3),sharey=True)\n",
    "ax1.plot([2007,2008,2009,2010,2011,2012,2013,2014],ca_tax_normalized.loc['95054'].loc['1: 25,000-50,000'],color='#ff6b3a')\n",
    "ax1.set_ylabel('% of total',rotation=0,labelpad=40,fontsize=14)\n",
    "ax1.set_xlabel('\\$25k - \\$50k',fontsize=14)\n",
    "ax2.plot([2007,2008,2009,2010,2011,2012,2013,2014],ca_tax_normalized.loc['95054'].loc['2: 50,000-75,000'],color='#ff8c39')\n",
    "ax2.set_xlabel('\\$50k - \\$75k',fontsize=14)\n",
    "ax3.plot([2007,2008,2009,2010,2011,2012,2013,2014],ca_tax_normalized.loc['95054'].loc['3: 75,000-100,000'],color='#ff9b38')\n",
    "ax3.set_xlabel('\\$75k - \\$100k',fontsize=14)\n",
    "ax4.plot([2007,2008,2009,2010,2011,2012,2013,2014],ca_tax_normalized.loc['95054'].loc['4: 100,000-200,000'],color='#115400')\n",
    "ax4.set_xlabel('\\$100k - \\$200k',fontsize=14)\n",
    "ax5.plot([2007,2008,2009,2010,2011,2012,2013,2014],ca_tax_normalized.loc['95054'].loc['5: > 200,000'],color='#2dd600')\n",
    "ax5.set_xlabel('> \\$200k',fontsize=14)\n",
    "\n",
    "plt.suptitle('Income Brackets: 2007-2014',fontsize=18)"
   ]
  },
  {
   "cell_type": "markdown",
   "metadata": {},
   "source": [
    "Note: for this investment analysis, the positions of the different plots relative to each other is not of primary significance. What we are interested in is the relative change within each plot. In particular, the lower income brackets are decreasing over time, whereas the higher income brackets are increasing over time (for Santa Clara, this is especially true in the highest bracket).\n",
    "\n",
    "Notice here, by 2014 there were significantly more people earning greater than \\$200,000 than people earning between \\$25,000 - \\$50,000. This was not true in 2007; this reversal indicates a significant change in Santa Clara's population. "
   ]
  },
  {
   "cell_type": "markdown",
   "metadata": {},
   "source": [
    "## Downtown San Jose: 95113"
   ]
  },
  {
   "cell_type": "code",
   "execution_count": 21,
   "metadata": {
    "collapsed": false
   },
   "outputs": [
    {
     "data": {
      "text/html": [
       "<div>\n",
       "<table border=\"1\" class=\"dataframe\">\n",
       "  <thead>\n",
       "    <tr style=\"text-align: right;\">\n",
       "      <th></th>\n",
       "      <th>1: 25k-50k</th>\n",
       "      <th>2: 50k-75k</th>\n",
       "      <th>3: 75k-100k</th>\n",
       "      <th>4: 100k-200k</th>\n",
       "      <th>5: &gt;200k</th>\n",
       "    </tr>\n",
       "    <tr>\n",
       "      <th>zipcode</th>\n",
       "      <th></th>\n",
       "      <th></th>\n",
       "      <th></th>\n",
       "      <th></th>\n",
       "      <th></th>\n",
       "    </tr>\n",
       "  </thead>\n",
       "  <tbody>\n",
       "    <tr>\n",
       "      <th>95113</th>\n",
       "      <td>-19.680465</td>\n",
       "      <td>-5.899298</td>\n",
       "      <td>5.122246</td>\n",
       "      <td>11.626725</td>\n",
       "      <td>8.830792</td>\n",
       "    </tr>\n",
       "  </tbody>\n",
       "</table>\n",
       "</div>"
      ],
      "text/plain": [
       "         1: 25k-50k  2: 50k-75k  3: 75k-100k  4: 100k-200k  5: >200k\n",
       "zipcode                                                             \n",
       "95113    -19.680465   -5.899298     5.122246     11.626725  8.830792"
      ]
     },
     "execution_count": 21,
     "metadata": {},
     "output_type": "execute_result"
    }
   ],
   "source": [
    "ca_income_change[ca_income_change['1: 25k-50k']==ca_income_change['1: 25k-50k'].min()]"
   ]
  },
  {
   "cell_type": "code",
   "execution_count": 22,
   "metadata": {
    "collapsed": false,
    "scrolled": true
   },
   "outputs": [
    {
     "data": {
      "text/plain": [
       "<matplotlib.legend.Legend at 0xbfbaef0>"
      ]
     },
     "execution_count": 22,
     "metadata": {},
     "output_type": "execute_result"
    },
    {
     "data": {
      "image/png": "[encoded data removed]",
      "text/plain": [
       "<matplotlib.figure.Figure at 0xc0b6860>"
      ]
     },
     "metadata": {},
     "output_type": "display_data"
    }
   ],
   "source": [
    "f, (ax1, ax2) = plt.subplots(1, 2, sharey=True,figsize=(14,5))\n",
    "\n",
    "ax1.bar([1-0.15,2-0.15,3-0.15,4-0.15,5-0.15],ca_tax_normalized.loc['95113']['tax_returns_2007_%'],width=0.3,facecolor='#D95D39')\n",
    "ax1.bar([1+0.15,2+0.15,3+0.15,4+0.15,5+0.15],ca_tax_normalized.loc['95113']['tax_returns_2014_%'],width=0.3,facecolor='#F0A202')\n",
    "ax1.set_ylabel('% of total housing \\nmarket participants',rotation=0,labelpad=70,fontsize=14)\n",
    "ax1.set_xlabel('Downtown San Jose',fontsize=14)\n",
    "ax1.legend(['2007','2014'])\n",
    "\n",
    "ax2.bar([1-0.15,2-0.15,3-0.15,4-0.15,5-0.15],ca_tax_normalized.loc['0']['tax_returns_2007_%'],width=0.3,facecolor='#033860')\n",
    "ax2.bar([1+0.15,2+0.15,3+0.15,4+0.15,5+0.15],ca_tax_normalized.loc['0']['tax_returns_2014_%'],width=0.3,facecolor='#3493B7')\n",
    "ax2.set_xlabel('California',fontsize=14)\n",
    "ax2.legend(['2007','2014'])"
   ]
  },
  {
   "cell_type": "markdown",
   "metadata": {},
   "source": [
    "There is a steep drop in the proportion of earners in the lowest income bracket between 2007 and 2014 as well as a notable drop in the second to lowest income bracket. All three of the highest brackets in Downtown San Jose have a significant increase when we compare the changing levels to those in all of California. Although not as dramatic of an increase as the highest bracket in Santa Clara, this signals a strong and stable shift in income distribution across all of the higher brackets.\n",
    "\n",
    "Note: urban regions (i.e. 'downtown') have sparse opportunities for housing investment. The opportunity here may exist in owning a residential complex for lease and charging a higher rent. "
   ]
  },
  {
   "cell_type": "code",
   "execution_count": 23,
   "metadata": {
    "collapsed": false
   },
   "outputs": [
    {
     "data": {
      "text/plain": [
       "<matplotlib.text.Text at 0xc40d6d8>"
      ]
     },
     "execution_count": 23,
     "metadata": {},
     "output_type": "execute_result"
    },
    {
     "data": {
      "image/png": "[encoded data removed]",
      "text/plain": [
       "<matplotlib.figure.Figure at 0xc0268d0>"
      ]
     },
     "metadata": {},
     "output_type": "display_data"
    }
   ],
   "source": [
    "f, (ax1, ax2, ax3, ax4, ax5) = plt.subplots(1, 5,figsize=(17,3),sharey=True)\n",
    "ax1.plot([2007,2008,2009,2010,2011,2012,2013,2014],ca_tax_normalized.loc['95113'].loc['1: 25,000-50,000'],color='#e00000')\n",
    "ax1.set_ylabel('% of total',rotation=0,labelpad=40,fontsize=14)\n",
    "ax1.set_xlabel('\\$25k - \\$50k',fontsize=14)\n",
    "ax2.plot([2007,2008,2009,2010,2011,2012,2013,2014],ca_tax_normalized.loc['95113'].loc['2: 50,000-75,000'],color='#e05900')\n",
    "ax2.set_xlabel('\\$50k - \\$75k',fontsize=14)\n",
    "ax3.plot([2007,2008,2009,2010,2011,2012,2013,2014],ca_tax_normalized.loc['95113'].loc['3: 75,000-100,000'],color='#167200')\n",
    "ax3.set_xlabel('\\$75k - \\$100k',fontsize=14)\n",
    "ax4.plot([2007,2008,2009,2010,2011,2012,2013,2014],ca_tax_normalized.loc['95113'].loc['4: 100,000-200,000'],color='#1fa500')\n",
    "ax4.set_xlabel('\\$100k - \\$200k',fontsize=14)\n",
    "ax5.plot([2007,2008,2009,2010,2011,2012,2013,2014],ca_tax_normalized.loc['95113'].loc['5: > 200,000'],color='#1fa500')\n",
    "ax5.set_xlabel('> \\$200k',fontsize=14)\n"
   ]
  },
  {
   "cell_type": "markdown",
   "metadata": {
    "collapsed": true
   },
   "source": [
    "# II. Southern Calfornia"
   ]
  },
  {
   "cell_type": "markdown",
   "metadata": {},
   "source": [
    "## San Diego: 92127"
   ]
  },
  {
   "cell_type": "code",
   "execution_count": 24,
   "metadata": {
    "collapsed": false,
    "scrolled": true
   },
   "outputs": [
    {
     "data": {
      "text/html": [
       "<div>\n",
       "<table border=\"1\" class=\"dataframe\">\n",
       "  <thead>\n",
       "    <tr style=\"text-align: right;\">\n",
       "      <th></th>\n",
       "      <th>1: 25k-50k</th>\n",
       "      <th>2: 50k-75k</th>\n",
       "      <th>3: 75k-100k</th>\n",
       "      <th>4: 100k-200k</th>\n",
       "      <th>5: &gt;200k</th>\n",
       "    </tr>\n",
       "    <tr>\n",
       "      <th>zipcode</th>\n",
       "      <th></th>\n",
       "      <th></th>\n",
       "      <th></th>\n",
       "      <th></th>\n",
       "      <th></th>\n",
       "    </tr>\n",
       "  </thead>\n",
       "  <tbody>\n",
       "    <tr>\n",
       "      <th>92127</th>\n",
       "      <td>-4.656028</td>\n",
       "      <td>-2.887181</td>\n",
       "      <td>-3.753731</td>\n",
       "      <td>-1.26021</td>\n",
       "      <td>12.557149</td>\n",
       "    </tr>\n",
       "  </tbody>\n",
       "</table>\n",
       "</div>"
      ],
      "text/plain": [
       "         1: 25k-50k  2: 50k-75k  3: 75k-100k  4: 100k-200k   5: >200k\n",
       "zipcode                                                              \n",
       "92127     -4.656028   -2.887181    -3.753731      -1.26021  12.557149"
      ]
     },
     "execution_count": 24,
     "metadata": {},
     "output_type": "execute_result"
    }
   ],
   "source": [
    "ca_income_change.reset_index()[ca_income_change.reset_index()['zipcode']=='92127'].set_index('zipcode')"
   ]
  },
  {
   "cell_type": "code",
   "execution_count": 25,
   "metadata": {
    "collapsed": false
   },
   "outputs": [
    {
     "data": {
      "text/plain": [
       "<matplotlib.legend.Legend at 0xc67bb70>"
      ]
     },
     "execution_count": 25,
     "metadata": {},
     "output_type": "execute_result"
    },
    {
     "data": {
      "image/png": "[encoded data removed]",
      "text/plain": [
       "<matplotlib.figure.Figure at 0xc6330b8>"
      ]
     },
     "metadata": {},
     "output_type": "display_data"
    }
   ],
   "source": [
    "f, (ax1, ax2) = plt.subplots(1, 2, sharey=True,figsize=(14,5))\n",
    "\n",
    "ax1.bar([1-0.15,2-0.15,3-0.15,4-0.15,5-0.15],ca_tax_normalized.loc['92127']['tax_returns_2007_%'],width=0.3,facecolor='#488B49')\n",
    "ax1.bar([1+0.15,2+0.15,3+0.15,4+0.15,5+0.15],ca_tax_normalized.loc['92127']['tax_returns_2014_%'],width=0.3,facecolor='#20BF55')\n",
    "ax1.set_ylabel('% of total housing \\nmarket participants',rotation=0,labelpad=70,fontsize=14)\n",
    "ax1.set_xlabel('San Diego',fontsize=14)\n",
    "ax1.legend(['2007','2014'])\n",
    "\n",
    "ax2.bar([1-0.15,2-0.15,3-0.15,4-0.15,5-0.15],ca_tax_normalized.loc['0']['tax_returns_2007_%'],width=0.3,facecolor='#033860')\n",
    "ax2.bar([1+0.15,2+0.15,3+0.15,4+0.15,5+0.15],ca_tax_normalized.loc['0']['tax_returns_2014_%'],width=0.3,facecolor='#3493B7')\n",
    "ax2.set_xlabel('California',fontsize=14)\n",
    "ax2.legend(['2007','2014'])"
   ]
  },
  {
   "cell_type": "code",
   "execution_count": 26,
   "metadata": {
    "collapsed": false
   },
   "outputs": [
    {
     "data": {
      "text/plain": [
       "<matplotlib.text.Text at 0xc9ea1d0>"
      ]
     },
     "execution_count": 26,
     "metadata": {},
     "output_type": "execute_result"
    },
    {
     "data": {
      "image/png": "[encoded data removed]",
      "text/plain": [
       "<matplotlib.figure.Figure at 0xc8549e8>"
      ]
     },
     "metadata": {},
     "output_type": "display_data"
    }
   ],
   "source": [
    "f, (ax1, ax2, ax3, ax4, ax5) = plt.subplots(1, 5,figsize=(17,3),sharey=True)\n",
    "ax1.plot([2007,2008,2009,2010,2011,2012,2013,2014],ca_tax_normalized.loc['92127'].loc['1: 25,000-50,000'],color='#d86c00')\n",
    "ax1.set_ylabel('% of total',rotation=0,labelpad=40,fontsize=14)\n",
    "ax1.set_xlabel('\\$25k - \\$50k',fontsize=14)\n",
    "ax2.plot([2007,2008,2009,2010,2011,2012,2013,2014],ca_tax_normalized.loc['92127'].loc['2: 50,000-75,000'],color='#d86c00')\n",
    "ax2.set_xlabel('\\$50k - \\$75k',fontsize=14)\n",
    "ax3.plot([2007,2008,2009,2010,2011,2012,2013,2014],ca_tax_normalized.loc['92127'].loc['3: 75,000-100,000'],color='#d86c00')\n",
    "ax3.set_xlabel('\\$75k - \\$100k',fontsize=14)\n",
    "ax4.plot([2007,2008,2009,2010,2011,2012,2013,2014],ca_tax_normalized.loc['92127'].loc['4: 100,000-200,000'],color='#7c3e00')\n",
    "ax4.set_xlabel('\\$100k - \\$200k',fontsize=14)\n",
    "ax5.plot([2007,2008,2009,2010,2011,2012,2013,2014],ca_tax_normalized.loc['92127'].loc['5: > 200,000'],color='#00c431')\n",
    "ax5.set_xlabel('> \\$200k',fontsize=14)"
   ]
  },
  {
   "cell_type": "code",
   "execution_count": null,
   "metadata": {
    "collapsed": true
   },
   "outputs": [],
   "source": []
  },
  {
   "cell_type": "markdown",
   "metadata": {},
   "source": [
    "## Downtown Los Angeles: 90015"
   ]
  },
  {
   "cell_type": "code",
   "execution_count": 27,
   "metadata": {
    "collapsed": false
   },
   "outputs": [
    {
     "data": {
      "text/html": [
       "<div>\n",
       "<table border=\"1\" class=\"dataframe\">\n",
       "  <thead>\n",
       "    <tr style=\"text-align: right;\">\n",
       "      <th></th>\n",
       "      <th>1: 25k-50k</th>\n",
       "      <th>2: 50k-75k</th>\n",
       "      <th>3: 75k-100k</th>\n",
       "      <th>4: 100k-200k</th>\n",
       "      <th>5: &gt;200k</th>\n",
       "    </tr>\n",
       "    <tr>\n",
       "      <th>zipcode</th>\n",
       "      <th></th>\n",
       "      <th></th>\n",
       "      <th></th>\n",
       "      <th></th>\n",
       "      <th></th>\n",
       "    </tr>\n",
       "  </thead>\n",
       "  <tbody>\n",
       "    <tr>\n",
       "      <th>90015</th>\n",
       "      <td>-13.5483</td>\n",
       "      <td>-1.071737</td>\n",
       "      <td>0.992879</td>\n",
       "      <td>8.106466</td>\n",
       "      <td>5.520693</td>\n",
       "    </tr>\n",
       "  </tbody>\n",
       "</table>\n",
       "</div>"
      ],
      "text/plain": [
       "         1: 25k-50k  2: 50k-75k  3: 75k-100k  4: 100k-200k  5: >200k\n",
       "zipcode                                                             \n",
       "90015      -13.5483   -1.071737     0.992879      8.106466  5.520693"
      ]
     },
     "execution_count": 27,
     "metadata": {},
     "output_type": "execute_result"
    }
   ],
   "source": [
    "ca_income_change.reset_index()[ca_income_change.reset_index()['zipcode']=='90015'].set_index('zipcode')"
   ]
  },
  {
   "cell_type": "code",
   "execution_count": 28,
   "metadata": {
    "collapsed": false
   },
   "outputs": [
    {
     "data": {
      "text/plain": [
       "<matplotlib.legend.Legend at 0xcb46dd8>"
      ]
     },
     "execution_count": 28,
     "metadata": {},
     "output_type": "execute_result"
    },
    {
     "data": {
      "image/png": "[encoded data removed]",
      "text/plain": [
       "<matplotlib.figure.Figure at 0xcbeb240>"
      ]
     },
     "metadata": {},
     "output_type": "display_data"
    }
   ],
   "source": [
    "f, (ax1, ax2) = plt.subplots(1, 2, sharey=True,figsize=(14,5))\n",
    "\n",
    "ax1.bar([1-0.15,2-0.15,3-0.15,4-0.15,5-0.15],ca_tax_normalized.loc['90015']['tax_returns_2007_%'],width=0.3,facecolor='#8E8358')\n",
    "ax1.bar([1+0.15,2+0.15,3+0.15,4+0.15,5+0.15],ca_tax_normalized.loc['90015']['tax_returns_2014_%'],width=0.3,facecolor='#BFB48F')\n",
    "ax1.set_ylabel('% of total housing \\nmarket participants',rotation=0,labelpad=70,fontsize=14)\n",
    "ax1.set_xlabel('Downtown Los Angeles',fontsize=14)\n",
    "ax1.legend(['2007','2014'])\n",
    "\n",
    "ax2.bar([1-0.15,2-0.15,3-0.15,4-0.15,5-0.15],ca_tax_normalized.loc['0']['tax_returns_2007_%'],width=0.3,facecolor='#033860')\n",
    "ax2.bar([1+0.15,2+0.15,3+0.15,4+0.15,5+0.15],ca_tax_normalized.loc['0']['tax_returns_2014_%'],width=0.3,facecolor='#3493B7')\n",
    "ax2.set_xlabel('California',fontsize=14)\n",
    "ax2.legend(['2007','2014'])"
   ]
  },
  {
   "cell_type": "markdown",
   "metadata": {},
   "source": [
    "The shift in income distribution is less noticeable here because it is spread out over all of the higher income brackets and the plot scales up to the 60% level, but we can observe a significant decrease in the lower income brackets (especially the lowest income bracket: -15%). Again, there is not as dramatic of an increase in a single bracket as we observed in Santa Clara, but a steady increase over all the higher brackets signals a more stable growth pattern."
   ]
  },
  {
   "cell_type": "code",
   "execution_count": 29,
   "metadata": {
    "collapsed": false
   },
   "outputs": [
    {
     "data": {
      "text/plain": [
       "<matplotlib.text.Text at 0xcf71550>"
      ]
     },
     "execution_count": 29,
     "metadata": {},
     "output_type": "execute_result"
    },
    {
     "data": {
      "image/png": "[encoded data removed]",
      "text/plain": [
       "<matplotlib.figure.Figure at 0xcdbef60>"
      ]
     },
     "metadata": {},
     "output_type": "display_data"
    }
   ],
   "source": [
    "f, (ax1, ax2, ax3, ax4, ax5) = plt.subplots(1, 5,figsize=(17,3),sharey=True)\n",
    "ax1.plot([2007,2008,2009,2010,2011,2012,2013,2014],ca_tax_normalized.loc['90015'].loc['1: 25,000-50,000'],color='#ff7200')\n",
    "ax1.set_ylabel('% of total',rotation=0,labelpad=40,fontsize=14)\n",
    "ax1.set_xlabel('\\$25k - \\$50k',fontsize=14)\n",
    "ax2.plot([2007,2008,2009,2010,2011,2012,2013,2014],ca_tax_normalized.loc['90015'].loc['2: 50,000-75,000'],color='#442b00')\n",
    "ax2.set_xlabel('\\$50k - \\$75k',fontsize=14)\n",
    "ax3.plot([2007,2008,2009,2010,2011,2012,2013,2014],ca_tax_normalized.loc['90015'].loc['3: 75,000-100,000'],color='#084900')\n",
    "ax3.set_xlabel('\\$75k - \\$100k',fontsize=14)\n",
    "ax4.plot([2007,2008,2009,2010,2011,2012,2013,2014],ca_tax_normalized.loc['90015'].loc['4: 100,000-200,000'],color='#0f8400')\n",
    "ax4.set_xlabel('\\$100k - \\$200k',fontsize=14)\n",
    "ax5.plot([2007,2008,2009,2010,2011,2012,2013,2014],ca_tax_normalized.loc['90015'].loc['5: > 200,000'],color='#0f8400')\n",
    "ax5.set_xlabel('> \\$200k',fontsize=14)"
   ]
  },
  {
   "cell_type": "markdown",
   "metadata": {
    "collapsed": true
   },
   "source": [
    "The greatest relative changes occur in the \\$25k - \\$50k and \\$100k - \\$200k brackets. Although not the highest bracket, the latter contains incomes which are certainly higher than average. This signals a trend in DTLA's population towards higher earners. This gradual growth is likely the most sustainable within all of the regions we have observed."
   ]
  },
  {
   "cell_type": "markdown",
   "metadata": {},
   "source": [
    "# Postscript\n",
    "We will study the behavior of the housing market in these regions as confirmation of our analysis.\n",
    "\n",
    "We have not answered questions of forecasting in depth here; we will consider our analysis as descriptive of the housing market (from 2007-2017) rather than predictive (from 2014-onwards). Thus, by comparing the market in these regions to California's overall market, we can argue if our analysis of shifting income distribution can be used as an indicator for the housing market."
   ]
  },
  {
   "cell_type": "markdown",
   "metadata": {},
   "source": [
    "## California\n",
    "\n",
    "From April 2007 to April 2017, the average Californian home lost value (as measured by Zillow's Home Value Index).\n",
    "\n",
    "  * April 2007: California Home Value Index valued at \\$513,000\n",
    "  * April 2017: California Home Value Inded valued at \\$495,000\n",
    "  * \\-3.51%\n",
    "  \n",
    "Source: https://www.zillow.com/ca/home-values/"
   ]
  },
  {
   "cell_type": "markdown",
   "metadata": {},
   "source": [
    "## Santa Clara: 95054\n",
    "\n",
    "  * April 2007: 95054 Home Value Index valued at \\$722,000\n",
    "  * April 2017: 95054 Home Value Inded valued at \\$1,020,000\n",
    "  * \\+41.3%\n",
    "  \n",
    "Source: https://www.zillow.com/santa-clara-ca-95054/home-values/"
   ]
  },
  {
   "cell_type": "markdown",
   "metadata": {},
   "source": [
    "## Downtown San Jose: 95113\n",
    "\n",
    "No Data is available. This is an urban region without many housing units on the market.\n",
    "\n",
    "### East San Jose: 95148\n",
    "\n",
    "This region is adjacent to Downtown San Jose and should exhibit similar behavior to what we would expect if there were market data available in Downtown San Jose.\n",
    "\n",
    "  * April 2007: 95148 Home Value Index valued at \\$770,000\n",
    "  * April 2017: 95148 Home Value Inded valued at \\$850,000\n",
    "  * \\+10.4%\n",
    "  \n",
    "Source: https://www.zillow.com/san-jose-ca-95148/home-values/"
   ]
  },
  {
   "cell_type": "markdown",
   "metadata": {},
   "source": [
    "## San Diego: 92127 \n",
    "\n",
    "\n",
    "  * April 2007: 92127 Home Value Index valued at \\$660,000\n",
    "  * April 2017: 92127 Home Value Inded valued at \\$778,000\n",
    "  * \\+17.9%\n",
    "  \n",
    "Source: https://www.zillow.com/san-diego-ca-92127/home-values/"
   ]
  },
  {
   "cell_type": "markdown",
   "metadata": {},
   "source": [
    "## Downtown Los Angeles: 90015\n",
    "\n",
    "\n",
    "  * April 2007: 90015 Home Value Index valued at \\$536,000\n",
    "  * April 2017: 90015 Home Value Inded valued at \\$678,000\n",
    "  * \\+26.5%\n",
    "\n",
    "Source: https://www.zillow.com/los-angeles-ca-90015/home-values/"
   ]
  },
  {
   "cell_type": "markdown",
   "metadata": {},
   "source": [
    "## Concluding Remarks\n",
    "\n",
    "1. All of the significant regions we extracted and listed significantly out-performed California's market average as measured by increasing value in Zillow's Home Price Index. This is strong supporting evidence that our approach to analyzing shifting income distribution will indicate where real estate value will appreciate the most.\n",
    "\n",
    "2. For the sake of investment, however, we must delve deeper into questions of forecasting to predict where we can find these shifts in income distribution in the future. Then, via the correlation we have established here, identifying a region with a future shift in income distribution will likely imply that we have identified a region with strong potential growth in real estate value.\n",
    "\n",
    "3. From the standpoint of the homebuyer, our analysis begs the question: is it worth moving to Northern California for a higher-paying job? For many, the answer will be no."
   ]
  }
 ],
 "metadata": {
  "kernelspec": {
   "display_name": "Python 3",
   "language": "python",
   "name": "python3"
  },
  "language_info": {
   "codemirror_mode": {
    "name": "ipython",
    "version": 3
   },
   "file_extension": ".py",
   "mimetype": "text/x-python",
   "name": "python",
   "nbconvert_exporter": "python",
   "pygments_lexer": "ipython3",
   "version": "3.6.0"
  }
 },
 "nbformat": 4,
 "nbformat_minor": 2
}
