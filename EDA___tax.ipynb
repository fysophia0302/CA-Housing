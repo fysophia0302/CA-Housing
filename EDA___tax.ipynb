{
 "cells": [
  {
   "cell_type": "markdown",
   "metadata": {},
   "source": [
    "# California Income Tax Data Analysis: 2007-2014\n",
    "---\n",
    "\n",
    "## Contents\n",
    "* __Overview__\n",
    "\n",
    "\n",
    "* __Preview of Analysis__\n",
    "    * Income Density Shifts\n",
    "    * Distributions of Density Shifts\n",
    "    \n",
    "    \n",
    "* __Clustering Growth Patterns__\n",
    "    * Digression: Home Value Growth in CA\n",
    "    * Cluster 9\n",
    "    * Income-Growth \n",
    "\n",
    "\n",
    "* __Example Analysis: Santa Clara__\n",
    "    \n",
    "---    "
   ]
  },
  {
   "cell_type": "markdown",
   "metadata": {},
   "source": [
    "# Overview\n",
    "Through analysis of changes in the proportions of income brackets, we will identify regions with populations trending towards higher income levels. We will study the relationship between shifts in income density and growth in the housing market from two different perspectives: direct year-to-year correlations as well as forecasting correlation. \n",
    "\n",
    "  * Cells represent the number of filed tax returns for an income bracket within a zipcode\n",
    "  * Columns represents data from separate years\n",
    "\n",
    "\n",
    "We will limit our analysis to income brackets which can be reasonably assumed to reflect demand in the housing market; thus, our proportions are not the total proportions over these regions, but are the proportions over the housing market's participants (i.e. earning over $25,000 annually).\n",
    "\n",
    "Income Brackets:\n",
    "  * 1: \$25,000 - \$50,000 \n",
    "  * 2: \$50,000 - \$75,000 \n",
    "  * 3: \$75,000 - \$100,000 \n",
    "  * 4: \$100,000 - \$200,000 \n",
    "  * 5: \$200,000 + \n",
    "\n",
    "The median income in California is about $61,000, so we will be particularly interested in increases in the three highest income brackets as well as decreases in the lowest two income brackets. However, as an example, an increase in the second income bracket for a region which historically has a high proportion of lowest-bracket earners could indicate a shift towards higher earners. We will attempt to measure and account for this in the analysis.\n",
    "\n",
    "### Questions we will be exploring:\n",
    "\n",
    "  * For a given region, how do changes in income levels relate to growth of real estate value?\n",
    "  * What sorts of income growth patterns exist? \n",
    "  * Within a region, how has each bracket changed over time?"
   ]
  },
  {
   "cell_type": "code",
   "execution_count": 27,
   "metadata": {
    "collapsed": true
   },
   "outputs": [],
   "source": [
    "import numpy as np\n",
    "import pandas as pd\n",
    "import matplotlib.pyplot as plt\n",
    "import os.path \n",
    "import math\n",
    "import seaborn as sns\n",
    "\n",
    "sns.set_style('whitegrid')\n",
    "\n",
    "%matplotlib inline"
   ]
  },
  {
   "cell_type": "code",
   "execution_count": 28,
   "metadata": {
    "collapsed": false
   },
   "outputs": [
    {
     "data": {
      "text/html": [
       "<div>\n",
       "<table border=\"1\" class=\"dataframe\">\n",
       "  <thead>\n",
       "    <tr style=\"text-align: right;\">\n",
       "      <th></th>\n",
       "      <th></th>\n",
       "      <th>tax_returns_2007</th>\n",
       "      <th>tax_returns_2008</th>\n",
       "      <th>tax_returns_2009</th>\n",
       "      <th>tax_returns_2010</th>\n",
       "      <th>tax_returns_2011</th>\n",
       "      <th>tax_returns_2012</th>\n",
       "      <th>tax_returns_2013</th>\n",
       "      <th>tax_returns_2014</th>\n",
       "    </tr>\n",
       "    <tr>\n",
       "      <th>zipcode</th>\n",
       "      <th>gross_income_bracket</th>\n",
       "      <th></th>\n",
       "      <th></th>\n",
       "      <th></th>\n",
       "      <th></th>\n",
       "      <th></th>\n",
       "      <th></th>\n",
       "      <th></th>\n",
       "      <th></th>\n",
       "    </tr>\n",
       "  </thead>\n",
       "  <tbody>\n",
       "    <tr>\n",
       "      <th rowspan=\"5\" valign=\"top\">0</th>\n",
       "      <th>1: 25,000-50,000</th>\n",
       "      <td>3834467.0</td>\n",
       "      <td>3777895.0</td>\n",
       "      <td>3744118.0</td>\n",
       "      <td>3795875.0</td>\n",
       "      <td>3907930.0</td>\n",
       "      <td>3851420.0</td>\n",
       "      <td>3916770.0</td>\n",
       "      <td>3965570.0</td>\n",
       "    </tr>\n",
       "    <tr>\n",
       "      <th>2: 50,000-75,000</th>\n",
       "      <td>2129615.0</td>\n",
       "      <td>2114223.0</td>\n",
       "      <td>2047609.0</td>\n",
       "      <td>2071618.0</td>\n",
       "      <td>2152410.0</td>\n",
       "      <td>2145000.0</td>\n",
       "      <td>2175060.0</td>\n",
       "      <td>2207030.0</td>\n",
       "    </tr>\n",
       "    <tr>\n",
       "      <th>3: 75,000-100,000</th>\n",
       "      <td>1310319.0</td>\n",
       "      <td>1313113.0</td>\n",
       "      <td>1269016.0</td>\n",
       "      <td>1284362.0</td>\n",
       "      <td>1345012.0</td>\n",
       "      <td>1361280.0</td>\n",
       "      <td>1385750.0</td>\n",
       "      <td>1411040.0</td>\n",
       "    </tr>\n",
       "    <tr>\n",
       "      <th>4: 100,000-200,000</th>\n",
       "      <td>1794378.0</td>\n",
       "      <td>1829708.0</td>\n",
       "      <td>1770054.0</td>\n",
       "      <td>1801455.0</td>\n",
       "      <td>1913458.0</td>\n",
       "      <td>2005070.0</td>\n",
       "      <td>2104210.0</td>\n",
       "      <td>2214810.0</td>\n",
       "    </tr>\n",
       "    <tr>\n",
       "      <th>5: &gt; 200,000</th>\n",
       "      <td>680811.0</td>\n",
       "      <td>641762.0</td>\n",
       "      <td>581847.0</td>\n",
       "      <td>636198.0</td>\n",
       "      <td>717341.0</td>\n",
       "      <td>799120.0</td>\n",
       "      <td>868510.0</td>\n",
       "      <td>978490.0</td>\n",
       "    </tr>\n",
       "    <tr>\n",
       "      <th rowspan=\"5\" valign=\"top\">90001</th>\n",
       "      <th>1: 25,000-50,000</th>\n",
       "      <td>5549.0</td>\n",
       "      <td>5672.0</td>\n",
       "      <td>5499.0</td>\n",
       "      <td>5539.0</td>\n",
       "      <td>5757.0</td>\n",
       "      <td>5700.0</td>\n",
       "      <td>5900.0</td>\n",
       "      <td>6110.0</td>\n",
       "    </tr>\n",
       "    <tr>\n",
       "      <th>2: 50,000-75,000</th>\n",
       "      <td>1221.0</td>\n",
       "      <td>1221.0</td>\n",
       "      <td>1203.0</td>\n",
       "      <td>1251.0</td>\n",
       "      <td>1362.0</td>\n",
       "      <td>1420.0</td>\n",
       "      <td>1480.0</td>\n",
       "      <td>1630.0</td>\n",
       "    </tr>\n",
       "    <tr>\n",
       "      <th>3: 75,000-100,000</th>\n",
       "      <td>266.0</td>\n",
       "      <td>303.0</td>\n",
       "      <td>287.0</td>\n",
       "      <td>299.0</td>\n",
       "      <td>319.0</td>\n",
       "      <td>340.0</td>\n",
       "      <td>330.0</td>\n",
       "      <td>420.0</td>\n",
       "    </tr>\n",
       "    <tr>\n",
       "      <th>4: 100,000-200,000</th>\n",
       "      <td>75.0</td>\n",
       "      <td>101.0</td>\n",
       "      <td>105.0</td>\n",
       "      <td>108.0</td>\n",
       "      <td>117.0</td>\n",
       "      <td>130.0</td>\n",
       "      <td>160.0</td>\n",
       "      <td>170.0</td>\n",
       "    </tr>\n",
       "    <tr>\n",
       "      <th>5: &gt; 200,000</th>\n",
       "      <td>17.0</td>\n",
       "      <td>11.0</td>\n",
       "      <td>0.0</td>\n",
       "      <td>0.0</td>\n",
       "      <td>0.0</td>\n",
       "      <td>0.0</td>\n",
       "      <td>0.0</td>\n",
       "      <td>20.0</td>\n",
       "    </tr>\n",
       "  </tbody>\n",
       "</table>\n",
       "</div>"
      ],
      "text/plain": [
       "                              tax_returns_2007  tax_returns_2008  \\\n",
       "zipcode gross_income_bracket                                       \n",
       "0       1: 25,000-50,000             3834467.0         3777895.0   \n",
       "        2: 50,000-75,000             2129615.0         2114223.0   \n",
       "        3: 75,000-100,000            1310319.0         1313113.0   \n",
       "        4: 100,000-200,000           1794378.0         1829708.0   \n",
       "        5: > 200,000                  680811.0          641762.0   \n",
       "90001   1: 25,000-50,000                5549.0            5672.0   \n",
       "        2: 50,000-75,000                1221.0            1221.0   \n",
       "        3: 75,000-100,000                266.0             303.0   \n",
       "        4: 100,000-200,000                75.0             101.0   \n",
       "        5: > 200,000                      17.0              11.0   \n",
       "\n",
       "                              tax_returns_2009  tax_returns_2010  \\\n",
       "zipcode gross_income_bracket                                       \n",
       "0       1: 25,000-50,000             3744118.0         3795875.0   \n",
       "        2: 50,000-75,000             2047609.0         2071618.0   \n",
       "        3: 75,000-100,000            1269016.0         1284362.0   \n",
       "        4: 100,000-200,000           1770054.0         1801455.0   \n",
       "        5: > 200,000                  581847.0          636198.0   \n",
       "90001   1: 25,000-50,000                5499.0            5539.0   \n",
       "        2: 50,000-75,000                1203.0            1251.0   \n",
       "        3: 75,000-100,000                287.0             299.0   \n",
       "        4: 100,000-200,000               105.0             108.0   \n",
       "        5: > 200,000                       0.0               0.0   \n",
       "\n",
       "                              tax_returns_2011  tax_returns_2012  \\\n",
       "zipcode gross_income_bracket                                       \n",
       "0       1: 25,000-50,000             3907930.0         3851420.0   \n",
       "        2: 50,000-75,000             2152410.0         2145000.0   \n",
       "        3: 75,000-100,000            1345012.0         1361280.0   \n",
       "        4: 100,000-200,000           1913458.0         2005070.0   \n",
       "        5: > 200,000                  717341.0          799120.0   \n",
       "90001   1: 25,000-50,000                5757.0            5700.0   \n",
       "        2: 50,000-75,000                1362.0            1420.0   \n",
       "        3: 75,000-100,000                319.0             340.0   \n",
       "        4: 100,000-200,000               117.0             130.0   \n",
       "        5: > 200,000                       0.0               0.0   \n",
       "\n",
       "                              tax_returns_2013  tax_returns_2014  \n",
       "zipcode gross_income_bracket                                      \n",
       "0       1: 25,000-50,000             3916770.0         3965570.0  \n",
       "        2: 50,000-75,000             2175060.0         2207030.0  \n",
       "        3: 75,000-100,000            1385750.0         1411040.0  \n",
       "        4: 100,000-200,000           2104210.0         2214810.0  \n",
       "        5: > 200,000                  868510.0          978490.0  \n",
       "90001   1: 25,000-50,000                5900.0            6110.0  \n",
       "        2: 50,000-75,000                1480.0            1630.0  \n",
       "        3: 75,000-100,000                330.0             420.0  \n",
       "        4: 100,000-200,000               160.0             170.0  \n",
       "        5: > 200,000                       0.0              20.0  "
      ]
     },
     "execution_count": 28,
     "metadata": {},
     "output_type": "execute_result"
    }
   ],
   "source": [
    "# remove the lowest income bracket: they are not participants in the housing market\n",
    "ca_tax = pd.read_csv(os.getcwd()+'\\data_clean\\ca tax returns.csv')\n",
    "ca_tax['zipcode'] = ca_tax['zipcode'].astype(str)\n",
    "ca_tax = ca_tax[ca_tax['gross_income_bracket']!='0: < 25,000']\n",
    "ca_tax = ca_tax.set_index(['zipcode','gross_income_bracket'])\n",
    "\n",
    "ca_tax.head(10)"
   ]
  },
  {
   "cell_type": "code",
   "execution_count": 29,
   "metadata": {
    "collapsed": false
   },
   "outputs": [],
   "source": [
    "# normalizing the data set so the cells are proportions of the total in that region, for the given year\n",
    "zipcodes = ca_tax.index.levels[0]\n",
    "ca_tax_normalized = ca_tax\n",
    "for zc in zipcodes:\n",
    "    for col in ca_tax.columns:\n",
    "        ca_tax_normalized.loc[zc][col] = ca_tax.loc[zc][col]/ca_tax.loc[zc][col].sum()"
   ]
  },
  {
   "cell_type": "code",
   "execution_count": 30,
   "metadata": {
    "collapsed": true
   },
   "outputs": [],
   "source": [
    "# relabel columns for clarity\n",
    "relabel = {}\n",
    "for col in ca_tax_normalized.columns:\n",
    "    relabel[col] = col + '_%'\n",
    "    \n",
    "ca_tax_normalized = ca_tax_normalized.rename(columns=relabel)\n",
    "ca_tax_normalized = ca_tax_normalized*100"
   ]
  },
  {
   "cell_type": "markdown",
   "metadata": {},
   "source": [
    "# Preview of Analysis\n",
    "---\n",
    "\n",
    "## Income Density Shifts\n",
    "\n",
    "Analysis of changes in income brackets will be the method with which we identify regions with significant growth in income levels. After separating those regions from the less-remarkable regions, we will test to see how income growth in those regions correlates with growth in real estate value."
   ]
  },
  {
   "cell_type": "code",
   "execution_count": 31,
   "metadata": {
    "collapsed": false,
    "scrolled": true
   },
   "outputs": [
    {
     "data": {
      "text/plain": [
       "<matplotlib.text.Text at 0x9f116a0>"
      ]
     },
     "execution_count": 31,
     "metadata": {},
     "output_type": "execute_result"
    },
    {
     "data": {
      "image/png": "iVBORw0KGgoAAAANSUhEUgAAAz8AAAEmCAYAAABMEy45AAAABHNCSVQICAgIfAhkiAAAAAlwSFlz\nAAALEgAACxIB0t1+/AAAIABJREFUeJzt3Xu8teWc+PHP1hEV0oxhmGLwlVDZDVKjx1AqFI9DNDWl\noaJSlE5KIQ1GRaWo6ORQdBrxSweEULSTRH076HE+luiATvv3x3WtWlZ777X22s/aaz3P/Xm/Xvu1\n17oP1/29117X2ut7X4d7bHJyEkmSJEla2j1k2AFIkiRJ0nww+ZEkSZLUCCY/kiRJkhrB5EeSJElS\nI5j8SJIkSWoEkx9JkiRJjbDssAOQpCaJiBWAtwGvB54M3AtcD5wOfCQz/zbP8RwMHDTFqruBPwCX\nAPtn5g3zGdd8aDv3F2bmxcONZv5FxCJg9bZFk8BfgZ8B5wKHZuYfO/aZBE7OzO1neax/BO7IzDu6\nbHcSsF1mjk31fHGIiOWBf8jMX9bn2wMn0tD3gdQ0Jj+SNE8iYlngy8D6wCnAxymfw/8OvB/YIiJe\nNN8JUHUocE3b84dR4twO2CAinpmZtwwhLg3WHyjJOMAYsAqwXl326oh4Xmb+tm37bYEbZ3OAiNgM\n+AywLjBj8kOpExfNpvxZxrI6cAHwP8BJdfE3KOd1zTS7SVqKmPxI0vx5LbAAeFVmntW2/MiIeAfw\nQWAH4NghxHbhFFe9j4uIa4APAG+kxKelyx2Z+anOhRFxOvD/KC0im7eWT7VtD54LPLKXDTPzO8B3\n+jhGr54IPLXjmD8BfjLAY0oaIY75kaT58/z6+4Ip1h1D6Wq2/vyF05OT6+/nDTUKzavM/DLwSWCz\niHjWsOORpMXFlh9Jmj+31d87AYe1r8jMOyJipcy8q315RLwG2BVYB3go8Evg88CBre5xEXExZazG\nh4FDgGcAvwc+AbwnM++bQ8ytbkr3j7mIiLF6DjsAawLLAYsorQQfzMzJut0i4IvAlcDewBOAq4Fd\nKONKjgQ2A/5MSbIOaI81IrYE9qF0l/obpXvSAZl5Vds2k8B+wF213McD19Xz/vxsT3Y25dXuXPsC\nz66v08XAvpm5qI9z2IdyQfItwGrAZcCb6rKjgA2B3wFHZOaRHXFsD+xO+VvcBnwJ2C8zfz3b8+/w\naeC/gU2Bq9pivX/MT0T8C3AEJbF/FKUF5STgQ5l5X2vMTi3vpoj4emYuaHvPXg7sAdwJvAjYkynG\n+ETE+pT3yzOBnwMfzcwPt60/aZr97l/eNrYH4MSIOLFj+f1jfiLiYcCBlLF5jwN+BZxGeR/cWbdp\n7bcO5e+3GaUuXATs0fE+eBXlvfI04D7gu8DBmfmt6V58SYNhy48kzZ9PUb5Ufygiro6I90bEgjoJ\nAlMkPm8EPgfcSvlytRfwU+AdwHs7yn5m3fZi4K2UcRkHATvPMeZN6+/vty17L6Vr3o+BtwP7U77I\nvh94c8f+rwDeA5wAvJvy5e9MyhfE+yhfdq+mJBzbtnaKiF2AcyhfJvcHDqd0n/p2RPxbxzHeTBmj\ncjzltXk4cHpEPKPPc+5aXkS8jpJkPAo4GPgI8GLgKxHxyD7O4a3AG4APUZKJDSmv01eBmyiv8x+A\nj0TERm1xHET5An5Djfk44JXAdyJitT7Pv+Xq+nvtqVZGxHKUMWzj9dx2A5LSTXLfutnHgbPr47cB\n72srYkNgK8prfBLl/TSdCyljcvakJNpH1AkrZuMblLFtUF6nbafaqE6IcCGlzn2FklheXJ9fUM+7\n3Rco74P9gY8BL6PUxVZ5G1EmNPk1pQ6/G/hX4KKIeNIsz0HSHNnyI0nzJDN/FBELKd2J1qo/BwB3\nRMQXKFeCr2vbZU/K+IdXtLWmHEP5MrwppTWl5XHAFpl5bt3uFMrV6v+kdKnr5hEdX5ZXonw5PZzS\ninR0LXc5ypfc09pn/IqIEygtE5t2HO9xwNqZ+cO63aqUL7vfyszX1WWfBm4BNgFOjohHU8YXfRf4\n91ZSWM/pR8BHgee0HePRwJMz8zd1u8uASylX7d/Zw7l3mrG8iHhIfV1+CDwvM/9St/se5Uvz1nXM\nzGzO4VHAeGtygYh4CvAa4AOZuW9d9hXKzICbAF+vX5zfBbw/M/drFRQRnwWuqOf+NvrXmunt0dOs\nX5fS2vSazDyjHvsE4DwgoIzhiYirKAnZOe2tIZSkcpvMvKwt9uliOSYz967bHEt5nfeNiKMy8+Ze\nTiYzfxIRF1KSlO/MMH5pB0pL1tvaWpeOjYgfUf6mb+Lv3+OXZ+ar2s7h4cDOEfGUzLyekuDdCWzZ\nVo8vBM6gtBo63kiaR7b8SNI8yswvUaYX3go4lXI1+OGUL9Y/aL+qDzwL2Lz1han6R8qX0pU6ir6T\n0hLROs5fKVfh/6nH0M6hJDmtn5soSdr3gOe0ZnrLzLuBxwA7duy/GqX7WmdcN7YSn6qV3LVaA6jT\nH/8OeGxd9CLKbHOHtbeG1S/OpwL/FhGtbQG+2UpUqivr717PvVO38sZrrMe3Ep8a30WUhOZTfZzD\ntztmVXvQ60T5m8ADr9MrKf/HvxARq7V+gN9QWupe1vspT6nVwjE5zfpf1XX7R8RLImL5zJzMzE0z\nc7tp9mn3F8r7qxf3T7ZRu0YeDawAbNzj/rOxBeW9/NGO5R+py7fsWP65jued75dfACtTJjZZEyAz\nf5iZ0UoaJc0fW34kaZ7VxORz9YeIeDalO8zrKd1mWl+Q7o6I9SLi9ZTuYk+mJD9Qur+1u3mKsT1/\nA5bpMay9gB/U7TegtM58Ddh2iimu7wJeWsezBPAUSssFPPii2m87nt9Tf/+uY/m9bfs+sf7OKeJs\nTUe8OiVxhJKs3S8z/1ZbEHo9907dyluj/r6+c8fM/B5ARMz2HLq+Tpl5b42j9Tr9a/397alPg7um\nWd6rVovP76damZm/iIi9KdNGfxm4vbZOnQ58LjPv7VL+VO/Z6bb7Q8ey1nTba/Sw/2w9EfhJTfTv\nl5l3RcRP+Pt7I8GDX5/WVPWt98vRwEsoY/d2jYibKGPhPpGZP1iskUvqypYfSZoHEfHwiHhf7fb2\ndzLziszcmtJd6Gm12xcRcRSle8+6lKvJB1HGX3xzikPMZVIDgInMvCgzz8/Md1FapjYFvhwRK7ad\nxxillegMypfEb1MSp6dQBqJ3umeKZTB9awK0Ta4whdb/rfYv9nM9907dymt9qV2c59DP69SKYwtK\nC0jnz0tn2LcX69bf035Bz8wPUZKB3Sjvy00o9/T5Yg/ld0uOWqZ6DVqvb7cy+kmAu/3tOpPKGd8v\nmfnnzNyIMpPjByiTUuwGXBERW/cRn6Q5sOVHkubHXylJwreBs6bZ5keUhOMv9WaMuwKnZuZ/tW8U\nEf125+pZZn4hIo6kDPb+QP0N5YasLwfeW5OkVkzLUloKFsf4hUX199N48Bfv1qCQXyyG4/TrZ/X3\nv3auiIhPUv7Gi+qiQZ5D6xg/z8wr21dExObAn+ZY/mvq7y9MtbKO31qb0mXvaODoOt7lJMoNUp/Z\n0eWxX6tGxMqZeVvbsta9elotQPfWmFbouElwP3VlEbB+RCzX3vpTJ0J4IlNffJhWRDwVeERmXkoZ\nO7ZvRDydMgHDnpRkUdI8seVHkuZB7QJ0OrAgIrbpXF+/SL4auKhOpbtqXfXjju02p7SyzMfFq/0o\nycyuEdG6z0+rK1TnzFxvooxxWRxxXUhJFt9ev3ACEBGPB7YBvpuZnd3m5tPllK5Ob+iIbwPKjG0P\nZ37O4dz6e7/aItc6xjqUhGWPfguOiBcCWwNn10H7U9mEMhvdy1sL6vit1ixx93b87vc7x0MoU263\nYluWcm63U2ZjgzLOCcq0063tHs8D99Zq6SWWc4FVKFOdt3sLZexOL61a7Y6kjMtqHw93LWUWx15b\nvyQtJrb8SNL8eTtlQPypNQE6n3J1/snA9sDyPPCF68eUFob9a7ezX9R9t6d8qV550MFm5l8i4s01\nzhMiYl1Kq8afKVMNr06ZfOGFlG5yiyWuzLw5IlpTQ3+rzga3MuXL50Mo00IPTR378XbglBrfp2p8\nu1PG85xQ79s00HPIzKtr69xbgUdHxDmUpHk3SteqA3so5uEdyfgqlOm4X09JfGeaKv1cypimT0TE\nOGW67adRWiy/kpmtBLk1JuYdEXFeZk7ZkjSDO4H3RLmn0A3A6yhJzVsys9W6dTolWT8tIo4AVqxx\n/IIHWonaY9mmJown82AnUO5NdHhEPJOS7K5HSWwvretn43BKl9ZvRsTJlHryCkrL4btnWZakObLl\nR5LmSR20PU75UvpoyjTFx1K+aJ4FPLN1lb123dmcMtX17pT7v4zXx/sAq9QvnIOO+QLKzS7Xotw4\n87c1rhsp03QfShnz8TrK9L9rRcRjFsNxj6AkVJOUAfV7UBKv57ZPjTwsdZrkLSlX7t9PSWrOpdwo\n8466zXycwx712P9AeY/sQumWtWFmXtvD/qtRZp9r/fwvZazPBymz/E3bOlXPcxPKjHStKdVfW3+3\nj207jXJfpzdQulDO1h8pM9u9mHIPpEdTpsg+ti2Wq+qxb6vnsCPl73J8R8zXUm4aux7lpsCdkxe0\n6t6LKEnLxnW7BZT3+n90ToTQTa1DW1BuhPuuWu6qwOsz89TZlCVp7sYmJ2caSylJkiRJSwdbfiRJ\nkiQ1gsmPJEmSpEYw+ZEkSZLUCCY/kiRJkhrB5EeSJElSI5j8SJIkSWoEkx9JkiRJjWDyI0mSJKkR\nTH4kSZIkNYLJjyRJkqRGMPmRJEmS1AgmP5IkSZIaweRHkiRJUiMsO+wA1AwTExOTw45BGjXj4+Nj\nw45hOtZZ6cFGtc5aX6UHm66+mvxo3oyPjw+s7ImJiYGW349RjAlGM64mxjQxMTGwshcX6+zwGVPv\nml5nra/DN4oxwWjGNcz6arc3SZIkSY1g8iNJkiSpEUx+JEmSJDWCyY8kSZKkRjD5kSRJktQIJj+S\nJEmSGsHkR5IkSVIjmPxIkiRJagSTH0mSJEmNsOywA5C0dBjbcS5793+X58nj5nJcSZLUJLb8SJIk\nSWoEkx9JkiRJjWC3N0mSJEmzMrbxWXMs4ad97TV54cI5HdWWH0mSJEmNYPIjSZIkqRFMfiRJkiQ1\ngsmPJEmSpEYw+ZEkSZLUCM72pq4iYhngeCCASWBnYDngi8D1dbNjM/P04UQoSZIkdWfyo168HCAz\nN4iIBcD7gHOBwzPzsGEGJkmSJPXK5EddZeY5EfHF+nR14FZgHIiI2JLS+rNHZt42rBglSbMztlX2\nuedKQH/7Tp4efR5TkhaPscnJyWHHoCVERJwMvBJ4NfDPwFWZORER7wQelZl7TbfvxMSEb7Sl3Hof\nHx/KcS/faWIox10cxsfHx4Ydw3Sss0u/9T640rwf8/K9b5/3Yy5Oo1pnra8ahvX27e8mpXN1+ftX\n72m76eqrLT/qWWZuFxH7AJcBz8/MX9ZVZwNHddt/fHxwX44nJiYGWn4/RjEmGN24+jWocxn06zQx\nMfpJm3V2+AYbU78tP/1bkt9To15nl+TXth/G1LvBxTWc5KeXc5mpvjrbm7qKiG0jYr/69E7gPuCs\niHhOXfYiYLT/K0iSJKnxbPlRL84CToyIb1BmedsD+DlwVETcDfwG2HGI8UmSJEldmfyoq8y8A3jt\nFKs2mO9YJEmSpH7Z7U2SJElSI5j8SJIkSWoEkx9JkiRJjWDyI0mSJKkRTH4kSZIkNYLJjyRJkqRG\nMPmRJEmS1AgmP5IkSZIaweRHkiRJUiOY/EiSJElqBJMfSZIkSY1g8iNJkiSpEUx+JEmSJDWCyY8k\nSZKkRjD5kSRJktQIJj+SJEmSGsHkR5IkSVIjmPxIkiRJagSTH0mSJEmNsOywA5AkSZI0vbGNz5pj\nCT/ta6/JCxfO8bijx+RHXUXEMsDxQACTwM7AX4GT6vOrgV0y875hxShJkiR1Y7c39eLlAJm5AXAA\n8D7gcOCAzPx3YAzYcnjhSZIkSd2Z/KirzDwH2LE+XR24FRgHvl6XnQe8eAihSZIkST2z25t6kpn3\nRMTJwCuBVwMbZ+ZkXX0b8IhuZUxMTAwwwsGX349RjAkGFdf4AMrsbpCv8aj+/eaLdXY0DC6mlQZU\n7vSa+J6aL018bY1p8EbxfOYak8mPepaZ20XEPsBlwEPbVq1MaQ2a0fj44L4cT0xMDLT8foxiTDC6\ncfVrUOcy6NdpFP+hdLLODt9gY8oBlTu9bucyttX8xwQweXp03WbU66z1dfgGG1N/ExbM1cznM4ox\nFTPVV7u9qauI2DYi9qtP7wTuAy6PiAV12WbAN4cRmyRJktQrW37Ui7OAEyPiG8BywB7ANcDxEbF8\nfXzGEOOTJEmSujL5UVeZeQfw2ilWbTTfsUiSJEn9stubJEmSpEYw+ZEkSZLUCCY/kiRJkhrB5EeS\nJElSI5j8SJIkSWoEkx9JkiRJjWDyI0mSJKkRTH4kSZIkNYLJjyRJkqRGMPmRJEmS1AgmP5IkSZIa\nweRHkiRJUiOY/EiSJElqBJMfSZIkSY1g8iNJkiSpEUx+JEmSJDWCyY8kSZKkRjD5kSRJktQIJj+S\nJEmSGsHkR5IkSVIjLDvsADTaImI54JPAGsAKwCHAz4EvAtfXzY7NzNOHEqAkSZLUI5MfdbMNcHNm\nbhsRqwJXAu8BDs/Mw4YbmiRJktQ7kx9183ngjPp4DLgHGAciIraktP7skZm3DSk+SZIkqScmP5pR\nZt4OEBErU5KgAyjd307IzImIeCdwELBXt7LGxsYGGaoaauz4YUfQn8svv3zYIXRlndXiNva5YUcw\ntV7iGvU6a33VIIzi26qXmGaqrz0nPxGxEPgo5cr/WzLz3LZ1ZwBHZebXey1vivKfCpwJPAV4a2Ye\n17F+HWDlzPxmD2WNATsBx2XmfT1svwg4JDNPmM26QYqIk4BlM3Ob+TzuNLE8ATgbOCYzPxMRj8zM\nW+vqs4GjeilncnJyUCEyMTHB+Pj4wMrvxyjGBIOLa2zHxV5kTyaPm37dKMbUMjExMfhA5sg6O3yD\njGlsqxxIuTOZPD1mXD+MmKB7XDD6ddb6OnwDra8bnzWQcruZvHDhtOtGMaaWmeprT7O9RcQywHGU\nq/v7AyfWBKOVlDxyLolP9RbgPuDpwGlTrD8b6P7pVLwAOJYleza73YFdhh1ERDwGuADYJzM/WRef\nHxHPqY9fBIz2fwRJkiSJ3lt+VgMeTRn/MQacAvwD8Dvg4PozV48Ars7Mn0yzfjYNbyPYSDc7mfmn\nYcdQ7Q88CjgwIg6sy94OHBERdwO/AYZ0fV2SJEnqXa/Jzx+AO4FnU1pT7gBujohx4GGZeUm3AiLi\nIcCewM7A44DvUrq3/SAiLgY2qtttnZljHfteDKwOHB8RG2bm9hGxJnAE8HzgdkrL1HuAfwG+Vne9\nOyJeCHwLOBR4PfAY4FfA+zPz2B7P/2kRcQmwHnAtsENmXlFjezxwOPBiSsvVacBemfnXiNie0mXu\n8R3ncklmHlC7kx0HbEDpTvh/wG6ZeXt7t7eIOBh4GuXvsC1wF2W2tf9pe20PBd5ISfyOALYH3piZ\nF/d4jlPKzN0prVCdNphLuZIkSdJ866lbWGbeC+wDfBO4GHh7XfZuem/1eRel29zbKEnUTcCX60D6\nhcDnKGN+HjvFvguBX1CSp90jYrUay6+A5wJvpnQR25NyD5pX1f0eD3y7xr4F8GpK17mTgCMj4nE9\nxv4m4DDgWcDNlISFiFge+CqwErAAeA2wWd22F0cDd1OSqo2B9YF3TrPtQh6Yae2DwKER8fS6bj9g\nO+A/KUnYy4An9RiDJEmS1Ag9j4nJzKOBVYFVM/O4OuZjOeC7EXFCRPw8Ij5aWyH+Th0ftBtwcGZ+\nITOvoSQUdwP/lZm3AH8B/pqZv5ni2LcA9wJ/rt3Btq7b75SZ12Tm/wEHAnvXpOyWuutvM/Mu4GpK\nK8iltVvdoZRWr17HEH08M8/OzOuAIylJEMCmlARrm8y8KjO/RknCdoqIR/RQ7hrAn4BFmTlBSXBO\nmWbbW4E9M/OGzPzfeo7r1XVvAQ7KzPMz8/uURGiJ7/onSZIkLU6zmhAgM29rTX1MafU5iNLasRYl\nkVivPu/0j5TE6bK2su4GLgfWnH3YrAl8v5bR8m1gtdoq1Bn3OcCKEXFYRHwJWFRXLdPj8W5se/wn\nYLk6CcSawA01OWuPYxnKrHXdvB94LfCHOmPe2sB0U90sqoldy201jtUo3Qi/11qRmQn8sYfjS5Ik\nSY3R12xoEfF8gMy8lNJV6+uZeSdlrM3zptjlL9MUtQy9JyDdylum4/f9IuIQ4DOUbmOnThPjTO6d\nYtlYD3FMNe/k/eOsMvOzlJajPSl/ixOBT06xD5RxPlPFcE/b4851kiRJkqp+p4JuH+sz2VbOskzx\npTsz/wz8mjI+B4CIWI4yfqXXSf3bE4lrgWfXMlrWp3QF+z0PTjp2pkyusE9mngY8vC6fa4JwLfDk\niFi1I457gRsoCcvKrRW1+98T254fAjw+M4/PzIWUCQu2mk0A9X47v6K8lq1ynwQ8ctZnI0mSJC3F\ner7JaUtEvAC4KzNbXdguB/aNiJMpg/0PmWbXw4CDI+KXwHWUSQgeCny2x0PfTpl1bVVKK867gY9H\nxP9Supi9Gzg2M++LiFbXvGdHxFWUSQpeFhGXUbqIfaSuX6HHY0/nonoup0bEfpSufUcCp2XmzRFx\nObBKROwOnEsZm9OeKK0JHB0Ru1Jm03sV/d0z5yjgoHpD1t/VGGDqlidJkiSpkfpp+TmYv5/h7TTg\nKspYl+9SZm2byhHAx4CPA1dQpqRekJm/7fG4RwM7ASfUcUebAv8KfB/4KCWheVfd9ofA+ZQZ4TYH\ndgCeCfwIOJlyv6JLgXV7PPaUMvM+4BWUJONSyrmfS2nBITOv54Ebw14JLA+c3lbEm4FfAl+hvCbL\nUiZzmK0PUWbK+zxl9rkvUbrDTdVVTpIkSWqkWbf8ZOZ/dDy/m3L/nG773UeZIOGgadZv32X/j1MS\np9bzH1DvDTTFtndRkqN2z+p4/v627deY4bhrdDy/mLbucpm5iDK19HT7H8Y0U19n5u8oEx5MtW77\ntscH0zGleEdcL6bcT2h3gIj4B+ADlK6GkiRJkugj+dFI2oky89velFao9wDfq4mZJEmSJPqf8ECj\nZVdKN7dvU7rfLQO8cqgRSZIkSSPGlp+lQGb+kjL2SJIkSdI0bPmRJEmS1AhDTX4iYkFETEZEP1Nu\nj0XEzhExL+cQEctHxE5tzy+u9+nptt9JEfGpwUZ3/7FeGBHPmI9jSZIkSUuaJbnl5wXAsczfObwe\nOLDt+ULaZoybwe7ALgOJ6MG+CvzTPB1LkiRJWqIsyWN+xrpvMrjjZeYtveyUmX8aTDiSJEmSZmPG\n5Cci1gBuArYEjgRWo9xr56T68zTKDTpfn5l3RMRywKGUVpLHAL8C3p+Zx9byFlFuBLoNcCvw1o7j\nHUq5IemGmXlDRKwFHAWsT7kZ6LHA4cDqwNfqbndHxAvr/Xfay7oY+DrwQuDfgAlgx8z8cV3/NMqN\nVzcElgMuB3bKzB9FxALgU8A5wLaUG6luVPebBJ5Yz/+SzDygLt8NeFs978uAt2TmtRFxErBsZm4T\nEQcDzwD+VF+jXwB7Z+Y5tYyVa0xbAI+sr/3+mXlm27G3o9w49an1nP4rM2+sry3AhRHxbuB99W/2\nKmAl4FvArpmZSJIkSQ3Ua5exfSlfyHcG3g6cAewNbEZJCnao2+1Tt3s1EJQE4ciIeFxbWdtSbkC6\nNWV6ZgAiYhfgzcAmNfF5KPBlytTNzwJ2A/agTOv8c8qXeoDHU6Z4nso+wNnAsymJxnkRsWJEjAFf\nAH4KrAM8nzI99P+27fvPwCp13x3rsX8NPLYe/34R8d+UZOOdwNr1WP9Xj9NpC0rSOQ6cAJwREc+s\n644A1gQ2AdYCvgEcHxErtO1/ECXJWg9YlZJsQknwoNw09UP1ddoEeCnl9buN8veQJEmSGqnX5OeQ\nzLwqMz8F3AKclplfycxvABdTWoAArgbemJmXZuZPKF/Ml6UkQi2frmVd2bZsIfA/wEsz86q6bGvg\nlszcPzOvz8zzgAOAPTLz3hoHwG8z865p4j4/M4/IzGuAN1GShU2BhwHHA3tl5o2ZeQUlMVirY/8P\n1vXXUVpr7svM39Tjt9sZODIzP5uZN1AStXMpyVOnP1JaoK7JzA9SWmT+u667BNg5M6/MzOspScyj\ngPbk8cP1tb+a0hL2bwCZ+ftW+Zl5O7AG8BdgUY3pzcA7pnmdJEmSpKVer2N+ftL2+C+UFpP25ysA\nZOY5EbFxRBxGSYieXbdZpm37RVOUfzJwL/CztmVrAmtFxO1tyx4CrBARy/cY9/0tQpl5W0RcB6xZ\n4zwW2DYi1muL9eaO/aeKdSpP54EWmNY4n70AIqJz2ysy829tzy+ndIUDOAV4RUS8qcY0Xpe3v343\ntj3+M6XL3lQ+DmwF/CoiLgH+Dzixx/ORJEmSljq9tvzc0/H8vqk2qlM/f6ZufyrwvCk2++sUy7an\njKv5cNuyZSmtSuu0/TyL0orUGU+vcS8D3BcRKwHfo4w9upbSlWyqVpGpYp3KdC1PPcdUH58CHEYZ\nD3Uspctat2NNOfFDHdu0BqUb3I2ULnnfqd0JJUmSpMZZ3LO97QzslpmfBYiIp9fl3WZmOxNIYCIi\nXpKZ59fnCyndtu6p5b0aeElmvqkO/u9mndaDiHgE8GTgKmAB8ATgWZl5d12/SZc4Zzre9cC6lPFF\nRMTDKQnHi6fY9pkR8ZDMbCU86wHfiohVKF39NsjM79RyNq/bzHpmu4j4L+CuzDwNOLtOtvBzSgJ5\n2SzKWQ74JCWRWgE4BPgxpZvgJKWr4y5t5yNJkiSNpMWd/NwMvCwiLqOMU/lIXb7C9LsUmXllRBwP\nHF1v1Pkp4GDghIj4AGVig4/ywKD9Vne4Z0fEVZk5VSvNVhHxFcqX/fdSJiK4iJJwPAxYWGN9MWWC\ngDtnCPF24BER8VT+vhsg9Tw/GhE/oCRX76qvxY+nKGd14LCI+Bhl0ob1gDdQWpnuqDH9mjKb29F1\nn66vX1tIC+EJAAAUL0lEQVSMa0XE94BHAAdExC3AdZSJJm6vj2djG+DmzNw2IlYFrqw/B2TmxfU8\ntqQmfpIkSdKoWtzJzw6U7lo/okxzfTylm9a6wBd72P8ASjetfTLzPRGxKWUGtCsoEwWcROm+BfBD\n4Hzgm5Rpo8+aorzPAG8EjqHMnPaS2tLznTod9FHAirWstwAnRsS/TBPbVyld5K6iTI99v8z8dET8\nMyUJeiRlEoMtMvO+Kcb8XE5JTL5PaTHavE5uQERsQ+n2titlmuv3Ae+mvH5XTxNXuyMoN15dA9iT\nMmPdicCj6/4vy8w/9lBOu89TZveD0gJ1D2Us0tfrsvMos8p1TX4mJiZmeejZGXT5/RjFmGBQcY13\n32QAZj6XUYxpyWGdHQ2Di2mlAZU7ve7nMv8xwWj+3WfL+joaRjGmuRjF85lrTGOTk730Hlvy1Pv8\n3H8fnlFQu569ODM37LbtqKn3IPoCJaH9UGY+ri7/D2CHzNxmpv0nJiYmx8cH90V0YmKCQZbfj1GM\nCQYX19iOi73InkweN/26UYyppf4d5vtmzT2zzo6GQcY0ttX83/Zt8vQHXRD8O8OICbrHBaNdZ62v\no2Gg9XXjqa7xD97khQunXTeKMbXMVF97nfBADRYRT6DcVPbUzPwMfz/hxcqUCRokSZKkkWbyoxlF\nxGOACyhdET9ZF38/IhbUx5tRuh5KkiRJI21xj/kZGZm5YNgxdMrMgymTOCxJ9qfcaPXAiDiwLtsd\nOLLeb+kaHhgTJEmSJI2spTb50eKRmbtTkp1OG813LJIkSdJc2O1NkiRJUiOY/EiSJElqBJMfSZIk\nSY1g8iNJkiSpEUx+JEmSJDWCyY8kSZKkRjD5kSRJktQIJj+SJEmSGsHkR5IkSVIjmPxIkiRJagST\nH0mSJEmNYPIjSZIkqRFMfiRJkiQ1gsmPJEmSpEYw+ZEkSZLUCCY/kiRJkhrB5EeSJElSI5j8SJIk\nSWoEkx9JkiRJjbDssAPQkiEingt8IDMXRMS6wBeB6+vqYzPz9OFFJ0mSJHVn8qOuImJvYFvgjrpo\nHDg8Mw8bXlSSJEnS7NjtTb24EVjY9nwceGlEfCMiPhERKw8pLkmSJKlntvyoq8w8MyLWaFv0XeCE\nzJyIiHcCBwF7dStnYmJiQBHOT/n9GMWYYFBxjQ+gzO5mPpdRjGnJYZ0dDYOLaaUBlTu97ucy/zHB\naP7dZ8v6OhpGMaa5GMXzmWtMJj/qx9mZeWvrMXBULzuNjw/ui+jExMRAy+/HKMYEoxtXv0bxXHqJ\naRT/oXSyzg7fYGPKAZU7ve7nMv8xwdJRZ62vwzfYmH46oHJnNvP5jGJMxUz11W5v6sf5EfGc+vhF\nwGj/R5AkSZKw5Uf9eTNwVETcDfwG2HHI8UiSJEldmfyoJ5m5CHhefXwFsMHiPsbYnFKo/puZJ4+b\ny3ElSZK0pLDbmyRJkqRGMPmRJEmS1AgmP5IkSZIaweRHkiRJUiOY/EiSJElqBJMfSZIkSY3gVNeS\npL6MbZVz2HslYPb7T54eczimJKnpbPmRJEmS1AgmP5IkSZIawW5vkiRJS7mxjc+aYwk/7WuvyQsX\nzvG40uJly48kSZKkRrDlR+pibMd+9xzv+5iTx/W9qyRJkqZhy48kSZKkRjD5kSRJktQIJj+SJEmS\nGsExP9ISqP9xSOBYJC3NhnHjVfDmq5K0pLDlR5IkSVIj2PIjSZKkeee9hzQMtvxIkiRJagSTH0mS\nJEmNYLc39SQingt8IDMXRMSTgZOASeBqYJfMvG+Y8UnSqHISBkkaHbb8qKuI2Bs4AVixLjocOCAz\n/x0YA7YcVmySJElSr0x+1IsbgfbRgePA1+vj84AXz3tEkiRJ0izZ7U1dZeaZEbFG26KxzJysj28D\nHtFLORMTE1226P/+M3MxinGNYkzQLS5jaun+91sydD+PleYljnajGBN0i2sUYwL/fg9YGursqJ7D\nKMY1yJhG8XznYhTPZ64xmfyoH+3je1YGbu1lp/Hx4XwR7WYU4xrFmGA041pSYxrFfyidup/HXMay\n9GcUY4JucY1iTODf7wFLQ53tfg79TQs9VzPHNYox9W9iYmKA/5NG8bUaxZiKmeqr3d7Uj+9HxIL6\neDPgm0OMRZIkSeqJLT/qx57A8RGxPHANcMaQ45EkSZK6MvlRTzJzEfC8+vg6YKOhBiRJkiTNksmP\nJEmSVI1tfNYc9u5vHMzkhQu7b6TFwjE/kiRJkhrB5EeSJElSI5j8SJIkSWoEkx9JkiRJjWDyI0mS\nJKkRTH4kSZIkNYLJjyRJkqRGMPmRJEmS1AgmP5IkSZIaweRHkiRJUiOY/EiSJElqBJMfSZIkSY1g\n8iNJkiSpEUx+JEmSJDWCyY8kSZKkRjD5kSRJktQIJj+SJEmSGsHkR5IkSVIjmPxIkiRJaoRlhx2A\nllwRcQXw5/r0psx8wzDjkSRJkmZi8qO+RMSKwFhmLhh2LJIkSVIvTH7Ur7WBh0XEBZT30f6ZeemQ\nY5IkSZKmZfKjft0JfAg4AXgKcF5ERGbeM90OExMTXYocX4zh9W4U4xrFmKBbXMbU0v3vt2Tofh4r\nzUsc7UYxJugW1yjGBP79HrA01NlRPYdRjMuYejeKcc01JpMf9es64IbMnASui4ibgccCP59uh/Hx\n4XwR7WYU4xrFmGA041pSYxrFfyidup9Hzksc7UYxJugW1yjGBP79HrA01Nnu5/DTeYmj08xxjWJM\nMIy4RjEmWFL/fjPXV2d7U792AA4DiIjHAasAvx5qRJIkSdIMbPlRvz4BnBQRlwCTwA4zdXmTJEmS\nhs3kR33JzLuArYcdhyRJktQru71JkiRJagSTH0mSJEmNYPIjSZIkqRFMfiRJkiQ1gsmPJEmSpEYw\n+ZEkSZLUCCY/kiRJkhrB5EeSJElSI5j8SJIkSWoEkx9JkiRJjWDyI0mSJKkRTH4kSZIkNYLJjyRJ\nkqRGMPmRJEmS1AgmP5IkSZIaweRHkiRJUiOY/EiSJElqBJMfSZIkSY1g8iNJkiSpEUx+JEmSJDXC\nssMOQEumiHgIcAywNvA34I2ZecNwo5IkSZKmZ8uP+vUKYMXMXB/YFzhsyPFIkiRJMzL5Ub82BL4M\nkJmXAusNNxxJkiRpZmOTk5PDjkFLoIg4ATgzM8+rz38GPCkz75lq+4mJCd9oUofx8fGxYccwHeus\n9GCjWmetr9KDTVdfHfOjfv0ZWLnt+UOmS3xgdP9hSJqadVZaclhfpd7Z7U39+hawOUBEPA/44XDD\nkSRJkmZmy4/6dTawcUR8GxgD3jDkeCRJkqQZOeZHkiRJUiPY7U2SJElSI5j8SJIkSWoEx/xoqRAR\nzwU+kJkLRiCW5YBPAmsAKwCHZOYXhhzTMsDxQACTwM6ZefUwY2qJiH8EJoCNM/PaYccDEBFXUGY0\nBLgpMx3TthhZX7uzzs4qHuvrAI1SfYXRrLPW19kZdp01+dESLyL2BrYF7hh2LNU2wM2ZuW1ErApc\nCQz7y9TLATJzg4hYALwP2HKoEXH/P7GPA38ZdiwtEbEiMDYq/+iXNtbXnllne2B9HawRrK8wmnXW\n+tqjUaizdnvT0uBGYOGwg2jzeeDA+ngMmPb+R/MlM88BdqxPVwduHWI47T4EfAz41bADabM28LCI\nuCAivlqnctfiY33tgXW2Z9bXwRq1+gojWGetr7My9Dpr8qMlXmaeCdw97DhaMvP2zLwtIlYGzgAO\nGHZMAJl5T0ScDBwFfHrY8UTE9sDvM/P8YcfS4U7KP4yXADsDn44IW8kXE+tr76yzPbG+DtCo1VcY\n3Tprfe3Z0OusyY80ABHxBOBrwKmZ+Zlhx9OSmdsBTwWOj4iHDzmcHSj3iroYWAc4JSL+abghAXAd\n8KnMnMzM64CbgccOOSYN0KjWV7DO9sD62kCjWmetrz0Zep316oi0mEXEY4ALgF0z8yvDjgcgIrYF\nHp+Z/0O56nJf/RmazHxB63H9cN45M38zvIjutwPwTOAtEfE4YBXg18MNSYMyivUVrLOzYH1tmFGs\ns9bXWRl6nTX5kRa//YFHAQdGRKtf8maZOcwBh2cBJ0bEN4DlgD2GHM8o+wRwUkRcQpm1Z4fMHHqf\ncg3MKNZXsM72yvraPKNYZ62vvRt6nR2bnJycz+NJkiRJ0lA45keSJElSI5j8SJIkSWoEkx9JkiRJ\njWDyI0mSJKkRTH4kSZIkNYJTXUszqHcd3hfYHngC8AfgS8ABmfm7ARxvDeCmjsX3AL8HzgT2zMy7\nFvdxF7eIeCuwG+XGZT+kxP3ttvW7AfsAj6DcoXvXzLyjrluBcofs1wB/Aw7PzA/WdScB201xyJsy\n80kDOyEtEayv/ZlLfW3bZgVggjLF70VTHCOAH2TmigM7ES1RrK/9maf6ujxwBXBGZh48oFMZGlt+\npJn9D/B64M2Uuza/jnJzrvMiYmyAx12f8sH2WODJwH7Amyj/KEZaRGwDvJcS8zrAxcCXI+Kf6/qF\nwCHAW4AXAv8GHNZWxP9Szv/FwE7AARHxurpudx54XR5by78NOHygJ6UlhfV1lhZDfSUiVgQ+C6w1\nzTFWB84FVhjISWhJZX2dpfmor9UBXdYv0Wz5kWa2A7BTZl5Yn/80IrYGfgI8F7h0QMf9Q8edmE+O\niA2BVwLvGdAxF5ftgWMy84z6fL+IeBXwcuBjwB7AUZn5BYCI2Bm4KCL2otzw7E3AyzNzApiIiA8C\nuwKnZeafgD+1DhQRRwOXZebR83NqGnHW19nbnj7ra2beHhFPBz4DTPlltZb1MeBXgz0NLYGsr7O3\nPQOsr3WfZwFvBK4d3GkMl8mPNLNJ4D8i4uzMvBcgM2+qHyCLACJiZeAIYAvgkZRm9f0z88y6fpLS\nVWsvytWtCeC/MvPGWcbyN0oTPbXcl1E+qJ9e130ZeFNm/jkiDq7H+gPlH8zvKR9mT6dc0RkD3p2Z\nH61lPQr4ALAl8FDKVdrdMvOWiFgAfKoe612UO2ufA7xxmjtYHwD8tmPZJPDIiFiGciXqkLZ1l1I+\ni9YF7qVcHb6kbf0llDt5L9P6G9SY1wdeQbn6JYH1db7r6zeBjYCvAe8E7uDBXgrsT3mdL5xivZrL\n+jpi9bWW8UlKt7mdZni9lmh2e5Nm9hFKk/xPI+L4iHhdRDwyM69p+2A6AlgT2ITSTPwN4Pjap7bl\nIOBtwHrAqsChvQYQEWMR8QLgPyn9d4mIJ1L6KH8MeBplfMx/ADu37foq4HZgbco/hDMoXckWAB8H\njoiIVeu2Z1OSiJcDLwICOLWtrMcAWwGbAQspV8i2nyrezLw0M+/vVx0Rm1L+UVxE+ee1Im1XgTPz\nHuBm4PGUbgi3ZOZf24r8LbA88I8dh3oncGZmXj1VHGok62sxX/WVzDw2M9+WmXdOU/4OmXn8VOvU\neNbXYmTqKyWJ/ENmnjrN+qWCyY80g8x8L6Uf8o3AGyj9ZH8dEe9o2+wSYOfMvDIzrwc+RLl687i2\nbT6cmV+pX9SPpVydmckPIuL2iLgduKse9yO1bChXcnbPzOMyc1FmXkD58Gvvo/tH4J31CtjJlA/G\nPTLzGsoYmeWAf61N3BsB22XmdzPze8A2wOYRsVbb8fbIzB9m5vmUq2DdzoGIeCpwCnBKZl4OPKyu\n+lvHpn+jtPg8bJp10DZeoI4h2AzH+qiN9XXe66vUN+vraNXXWt47+Pskb6lk8iN1kZmnZ+ZGwGqU\nK0CXAB+MiC3qJqcAT4mIIyPiAqA168oybcW0N8H/mfLBOJOX88CVouuBbwGHtnUNuB74fxHxzoj4\nbERcBby245iLMnOyPm5dRftpx/MVKFfVbqsf2q1zvpby4b5mv+cQEc+gDMa8lgeaz1stOp0fxCsA\nd9b1U62jrm95NXBDZl42UwxqHutrf+fQZ32V5sT62t85LO76GmWCiU8A78vMRTNtuzQw+ZGmERHP\nioiPtJ5n5q11kOEmwOX1N5QP58OAWylXnV46RXGd02d2m8nmZ5l5Q2Z+jfIBvTltM7ZExNrAj4Fn\nUPrx/jdwWkcZ93Q8JzPvm+JYU/UrhvJB3/5h3/M5RMR6wNeB64DN27qx3Uz5gP6ntm2XBR4N/Br4\nJfCoKNNstvwT5crVLW3LNgPOmu74ah7r61Dqq9QX6+vI1dd/ATYEDmlrFVsf2D8izuuy7xLH5Eea\n3rLAWyPiee0L69WePwG/j4hVgK2BrTPzXZl5NqXPMXT/AO5JbVY/CNilLZZtgW9l5usz85jalP6U\nPo+ZwMoRcf9VqDrgdJW6blYi4kmUZvsrKB/Mt7edy33A9ygfsi3rU/6RfB+4kvJP4Plt6zcEJmrf\n5dYVqudQPvylFuvr/NdXqV/W19Gqr7+knOPalFaxdeo+H6NM5rBUcbY3aRqZeUVEfBE4KyL2owy0\nfDRlMOI6lAGJf6XMmLIwIn5NGXjYmnZ5cfaJ/whlVpmjI+I5lCs8z4iI51JaRHam9BH+2WwLzsys\n53lyROxSFx8DXJKZV9bZaGbjo5TXZCdglfoPDOD2+kF9DGXA6lU13mOAT7Y+xCPiZOCYiNiecgVr\nL8r01y2rAysDP5plXFqKWV+HU1+lflhfR6u+1ouLN7Qvi4i/UiYg+uUsYxx5tvxIM3stcDzlhmI/\npgx6fAbwgsz8RZa7QW9D+cC+Bvgw8D7KVZR1F1cQ9YPprcA4JRE4ktJP+UJKH+g1gHfP4ZjbUfo+\nfwW4gJJYbDHjHlOIMi3pppQm9BspTe2tn33ruZxGmYrzWMrreTmwZ1sxb6dcvfoq5arTezLzc23r\nH1N/t3eDk8D6OiuLqb5K/bK+zoL1dfEZm5yc7L6VJEmSJC3hbPmRJEmS1AgmP5IkSZIaweRHkiRJ\nUiOY/EiSJElqBJMfSZIkSY1g8iNJkiSpEUx+JEmSJDWCyY8kSZKkRjD5kSRJktQI/x+mOHTy7gme\n7AAAAABJRU5ErkJggg==\n",
      "text/plain": [
       "<matplotlib.figure.Figure at 0xdbd0a20>"
      ]
     },
     "metadata": {},
     "output_type": "display_data"
    }
   ],
   "source": [
    "f, (ax1, ax2, ax3) = plt.subplots(1, 3, sharey=True,figsize=(12,4))\n",
    "ax1.bar([1,2,3,4,5],ca_tax_normalized.loc['94582']['tax_returns_2007_%'],facecolor='#0065ff')\n",
    "ax1.set_ylabel('% of total housing \\nmarket participants',rotation=0,labelpad=70,fontsize=14)\n",
    "ax1.set_xlabel('San Ramon 2007',fontsize=14)\n",
    "ax1.axhline(y=ca_tax_normalized.loc['94582'].loc['5: > 200,000']['tax_returns_2007_%'], xmin=0, xmax=5, linewidth=1, color = 'k')\n",
    "\n",
    "ax2.bar([1,2,3,4,5],ca_tax_normalized.loc['94582']['tax_returns_2011_%'],facecolor='#0056d8')\n",
    "ax2.set_xlabel('San Ramon 2011',fontsize=14)\n",
    "ax2.axhline(y=ca_tax_normalized.loc['94582'].loc['5: > 200,000']['tax_returns_2007_%'], xmin=0, xmax=5, linewidth=1, color = 'k')\n",
    "\n",
    "ax3.bar([1,2,3,4,5],ca_tax_normalized.loc['94582']['tax_returns_2014_%'],facecolor='#0044ad')\n",
    "ax3.set_xlabel('San Ramon 2014',fontsize=14)\n",
    "ax3.axhline(y=ca_tax_normalized.loc['94582'].loc['5: > 200,000']['tax_returns_2007_%'], xmin=0, xmax=5, linewidth=1, color = 'k')\n",
    "\n",
    "plt.suptitle('San Ramon Income Distributions',fontsize=18)"
   ]
  },
  {
   "cell_type": "markdown",
   "metadata": {},
   "source": [
    "Within a given zip code, we can separate the income brackets and analyze changes over time. Notice the increase in proportion of earners who make more than $200,000 (column 5) from 2007 to 2014 as well as the gradual decrease in the lower income brackets. This is one of many possible patterns in the income brackets over time. We can analyze each of the income brackets separately, looking for decreases in the lower brackets and increases in the higher brackets as a signal for growth. In particular, however, we will use K-Means clustering to separate our dataset into regions with similar growth patterns."
   ]
  },
  {
   "cell_type": "code",
   "execution_count": 32,
   "metadata": {
    "collapsed": false,
    "scrolled": true
   },
   "outputs": [
    {
     "data": {
      "text/plain": [
       "<matplotlib.text.Text at 0xb8a2438>"
      ]
     },
     "execution_count": 32,
     "metadata": {},
     "output_type": "execute_result"
    },
    {
     "data": {
      "image/png": "iVBORw0KGgoAAAANSUhEUgAABCMAAADpCAYAAAAec/0JAAAABHNCSVQICAgIfAhkiAAAAAlwSFlz\nAAALEgAACxIB0t1+/AAAIABJREFUeJzs3XecVNX9//HX7Mxsr7D0Xo80AVexC4q9a2INxpLEaKyx\n1y+amERjSywx9hp7yc8SY8FekZES2lHKIiAgbXvfnd8f984yu2wDZqcs7+fjsY+ZufVzZ/aw3Pec\ne64nGAwiIiIiIiIiIhItSbEuQERERERERER2LgojRERERERERCSqFEaIiIiIiIiISFQpjBARERER\nERGRqFIYISIiIiIiIiJRpTBCRERERERERKLKF+sCREREOsoYkwL8HjgNGA7UA98DLwB/t9ZWR7me\nm4DpLcyqBTYAnwHXWWuXRLOuaAg79gOttR/FtproM8YUAoPCJgWBKuAH4A3gz9bazc3WCQJPWmvP\n2sZ99QTKrbXl7Sz3BHCmtdbT0utIMMYkAz2stavd12cBj7OT/h6IiMj2UxghIiIJwRjjA/4L7A08\nBTyI83dsf+BW4FhjzNRoBxKuPwOLwl6n49R5JrCvMWactXZTDOqSzrUBJxwD8ADZwO7utJ8bY/ay\n1q4LW/4MYOm27MAYcwTwLDARaDOMwGkT72/L9rexlkHAu8BfgCfcyZ/gHNeiVlYTERFpkcIIERFJ\nFCcDU4CfWWtfDZt+jzHmSuCvwDnAAzGo7b0WvhV+yBizCLgN+DVOfdK1lFtrn2k+0RjzAvAfnB4D\nR4amt7RsB+wJ5HZkQWvtl8CX27GPjhoCjGy2z2XAsk7cp4iIdFEaM0JERBLFPu7juy3M+wfOpRF7\nR6+cDnnSfdwrplVIVFlr/ws8BhxhjNk11vWIiIjEI/WMEBGRRFHqPv4WuDN8hrW23BiTaa2tCZ9u\njDkJuBCYAKQBq4GXgBtDl3MYYz7Cudb/b8AtwFhgPfAo8AdrbcMO1BzqVt94zb4xxuMewznAKMAP\nFOJ8i/5Xa23QXa4QeBOYA1wFDADmAxfgjEtwD3AEUIITetwQXqsx5jjgapzu/dU43elvsNbOC1sm\nCFwL1Ljb7Q985x73S9t6sNuyPffyg2uA3dz36SPgGmtt4XYcw9U4X7D8DsgHvgZ+4067F9gP+Am4\n21p7T7M6zgIuwfksSoG3gGuttWu29fib+RfwK+BwYF5YrY1jRhhjBgJ34wRteTg9DJ4A7rDWNoTG\nfHC3t9wY87G1dkrY7+ws4FKgApgKXE4LY0QYY/bG+X0ZB6wE7rfW/i1s/hOtrNc4PWxsCIDHjTGP\nN5veOGaEMSYduBFnbJe+wI/A8zi/BxXuMqH1JuB8fkfgtIX3gUub/R78DOd3ZRegAZgJ3GSt/by1\nN19EROKfekaIiEiieAbnJPcOY8x8Y8wfjTFT3EEtaSGI+DXwIlCEc7JzBbACuBL4Y7Ntj3OX/Qi4\nGOe6/unAeTtY8+Hu4+ywaX/EuZRkIXAZcB3OieWtwPnN1j8e+APwCHAzzsnYKzgnbA04J5/zcQKA\nM0IrGWMuAP6Nc3J3HXAXTnf/L4wxezTbx/k4Yxw8jPPeZAAvGGPGbucxt7s9Y8ypOCf9ecBNwN+B\ng4EZxpjc7TiGi4GzgTtwTu73w3mfPgCW47zPG4C/G2Mmh9UxHeeEeIlb80PACcCXxpj87Tz+kPnu\n4/iWZhpj/DhjoBS4x3YRYHEu67nGXexB4DX3+e+BP4VtYj/gFJz3+Amc36fWvIczpsPlOMHX3e4A\npNviE5yxUcB5n85oaSF3gMv3cNrcDJyg5yP39bvucYd7Hef34Drgn8DROG0xtL3JOAPUrsFpwzcD\nw4D3jTFDt/EYREQkjqhnhIiIJARr7QJjzIk43d/HuD83AOXGmNdxvin9LmyVy3Gunz8+rLfBP3BO\nTg/H6W0Q0hc41lr7hrvcUzjf5v4C5xKQ9uQ0O3nNxDlZvAunl8V97nb9OCedz4ffUcEY8wjON/eH\nN9tfX2C8tfZ/7nLdcE4+P7fWnupO+xewCTgUeNIY0x1nfIqZwP6hkMY9pgXA/cCksH10B4Zba9e6\ny30NfIXzrfb1HTj25trcnjEmyX1f/gfsZa2tdJf7Buck9nR3zIVtOYY8oCA0WKQxZgRwEnCbtfYa\nd9oMnDuvHAp87J7I/h9wq7X22tCGjDHPAd+6x/57tl/oThrdW5k/Eac3xknW2pfdfT8CvA0YcMaA\nMMbMwwlI/h3eWwAn5Jlmrf06rPbWavmHtfYqd5kHcN7na4wx91prN3bkYKy1y4wx7+GEBl+2Mf7F\nOTg9PX4f1vviAWPMApzP9Dc0/R2fZa39WdgxZADnGWNGWGu/xwlcKoDjwtrxe8DLOL1qNF6FiEiC\nUs8IERFJGNbat3Bup3gK8DTOt6UZOCe6c8O/9QZ2BY4MncC4euKcJGY223QFzjf1of1U4XxL3buD\npf0bJ3QI/SzHCU2+ASaF7qRhra0FegHnNls/H+dyi+Z1LQ0FEa5Q2BL6thz3do8/AX3cSVNx7uZx\nZ3hvEfdE9mlgD2NMaFmAT0PBgWuO+9jRY2+uve0VuLU+HAoi3PrexwkYntmOY/ii2V0rtnqfcD4T\n2PI+nYDz/6DXjTH5oR9gLU5PlqM7fsgtCvUACLYy/0d33nXGmMOMMcnW2qC19nBr7ZmtrBOuEuf3\nqyMaB091L+W5D0gBDung+tviWJzf5fubTf+7O/24ZtNfbPa6+e/LKiALZ6DaUQDW2v9Za00oxBER\nkcSknhEiIpJQ3KDgRfcHY8xuON23T8Pp5h06Yak1xuxujDkN5/KG4ThhBDiXa4Tb2MLYENWAt4Nl\nXQHMdZffF6f3wofAGS3c0rMGOModD8EAI3C+2YetvyRY1+x1nfv4U7Pp9WHrDnEfbQt1hm6/OAgn\nyAEnPGlkra12v2Hv6LE31972BruP3zdf0Vr7DYAxZluPod33yVpb79YRep+GuY9ftHwY1LQyvaNC\nPSLWtzTTWrvKGHMVzm0y/wuUub03XgBetNbWt7P9ln5nW1tuQ7NpoduLDu7A+ttqCLDMDd4aWWtr\njDHLcD63cM3fn9CteUO/L/cBh+GM/XKhMWY5zlgqj1pr50a0chERiSr1jBARkbhnjMkwxvzJvUyj\nCWvtt9ba03G6t+/iXqaAMeZenO7oE3G+bZ2Oc/3+py3sYkcGqQQIWGvft9a+Y639P5yeG4cD/zXG\npIYdhwenF8XLOCdtX+AEGSNwBhZsrq6FadD6t+0QNlhmC0J/98NPtHf02Jtrb3uhk8xIHsP2vE+h\nOo7F6SHQ/OeoNtbtiInuY6snzNbaO3BOzi/C+b08FHgW52S7Pe2FFSEtvQeh97e9bWxPINXeZ9c8\n5Gnz98VaW2KtnYxzp5zbcAYZvQj41hhz+nbUJyIicUI9I0REJBFU4Zy0fwG82soyC3ACgEpjzCCc\nb1Kfttb+MnwhY8z2Xn7QYdba140x9+AM3neb+wiwP3AM8Ec3tAjV5MP5Jj0S178Xuo+7sPWJcGhQ\ngVUR2M/2+sF9HNZ8hjHmMZzPuNCd1JnHENrHSmvtnPAZxpgjgeId3P5J7uPrLc10x/8Yj3OJyX3A\nfe54CU8APzfGjGt2ic726maMybLWloZNG+k+hnpI1Ls1pYTuMuPanrZSCOxtjPGH945wB7YcQsth\nYKuMMSOBHGvtVzhjj1xjjBmNM6Dm5TjhjYiIJCD1jBARkbjndll/AZhijJnWfL57Yvdz4H331oHd\n3FkLmy13JE4vhGiE8dfihAsXGmP2cqeFuu43v/PBb3DGSIhEXe/hhDeXuSeAABhj+gPTgJnW2uaX\neUTTLJyu+Wc3q29fnDtiZBCdY3jDfbzW7bES2scEnADh0u3dsDHmQOB04DV3EMaWHIpzt49jQhPc\n8T9Cd+Gob/a4vf9nS8K5xWioNh/OsZXh3O0CnHEywLnNZmi5/jgDUYbrSC1vANk4t3YN9zucsR86\n0usj3D0443qEj6eyGOcuOR3tHSIiInFIPSNERCRRXIYzwOHTbiDxDs6318OBs4BktpwALcT5Bv46\n9zKJVe66Z+Gc5GZ1drHW2kpjzPlunY8YYybifOtfgnNrxUE4g2keiHNZR0TqstZuNMaEboX5uXu3\njSyck8EknNtgxow7dsBlwFNufc+49V2CMx7EI9ba8s4+BmvtfLf3ysVAd2PMv3FCrItwLgW4sQOb\nyWgWjmXj3H70NJwgqq1bw76BMybGo8aYApzbi+6C06NnhrU2FFiFxlS40hjztrW2xZ4WbagA/mCM\nGeju41SckOF31tpQ748XcMKz540xdwOpbh2r2NKLIryWaW6A82QL+3sEOBO4yxgzDid82h0naPrK\nnb8t7sK5BOtTY8yTOO3keJyeNTdv47ZERCSOqGeEiIgkBHcQvgKck8TuOLdlfADnxO9VYFzoW2i3\nq/mROLf2vAS4w133EuBqINs9Aezsmt8F/oVzG9Jr3Ts+HInTPf4G4M84YwacinO7wzHGmF4R2O/d\nOAFHEGeAxEtxgpA9w28FGSvubSGPw/lm+1ackOEN4EC3d0C0juFSd989cH5HLsC5jGA/a+3iDqyf\nj3N3j9DP7ThjRfwV5y4qrfbecI/zUJw7foRuIXuy+xg+NsrzwPs4J/O3bcOxhWzGuXPIwcDdOG1n\nmrX2gbBa5rn7LnWP4Vycz+XhZjUvBu7FCRf+xtaDUYba3lScEOEQd7kpOL/rBzUf2LI9bhs6FijH\nafN34YRGp1lrn96WbYmISHzxBINtje0kIiIiIiIiIhJZ6hkhIiIiIiIiIlGlMEJEREREREREokph\nhIiIiIiIiIhElcIIEREREREREYkq3dozwowxPYEAzgjSdcATOCOBzwcusNY2xK46ERERERERkdhT\nz4gIMsb4gQeBSnfSXcAN1tr9AQ/ObcxEREREREREdmoKIyLrDuCfwI/u6wLgY/f52zj3+BYRERER\nERHZqekyjQgxxpwFrLfWvmOMudad7LHWBt3npUBOe9sJBALB9pYRiZaCggJPLPev9iDxRO1BpKlY\ntgm1B4k3+hshskVH24PCiMg5BwgaYw4GJgBPAT3D5mcBRR3ZUEFBQeSra0UgEIjq/nZEotSaKHVC\n27UGAoEoV9OyaL+XifL5JUqdkDi1qj1srSt8dvEmUWptr854aBNqD61LlFoTpU7Q34jmuspnF08S\npU6IXHvQZRoRYq09wFo72Vo7BZgD/BJ42xgzxV3kCODTGJUnIiIiIiIiEjfUM6JzXQ48bIxJBhYB\nL8e4HhEREREREZGYUxjRCdzeESGTY1WHiIiIiIiISDzSZRoiIiIiIiIiElXqGSEiIiIiEiUNFaVU\nzvuYitkzqFu7nNTRe5O22yGkDJuAJ0nfE4rIzkNhhIiIiIhIJwnWVFO56EsqZ8+gcs4MqhbPhIb6\nxvnlX/4/ePQaknLySZ8wlfTdDiGt4BD8PQfGsGoRkc6nMEJEREREJEKC9fVUL51N5ewZVMyeQdWC\nzwhWVzozk5JIGbkH6ROnkjZhKv5+I6ia/ykV375HxbfvUfbxC5R9/AIA/v4jnWBit0NIH38gSRnZ\nMTwqEZHIUxghIiIiIrKdgsEgtau+c8KHOTOonPshDaWbG+cnDxpD2sSppE+cSuquk/Fm5DRZ33/Q\n6WQddLqznZWLqQg4wUTlvI8ofv1+il+/H5K8pO6ypxNMFBxCqpmEx+eP9qGKiESUwggRERERkW1Q\nt2E1FbNnNAYQ9RtWN87z9RpExj4nuL0fDsLXrXeHtunxeEgeOIrkgaPIPeFigrU1VC3+urHXRNXi\nr6ha+AWbn7kZT3oW6eMPdMKJ3Q7B338kHo+nsw5XRKRTKIwQEREREWlBMBgkWFlGfdFP+OZ/wPov\nHqNi9gxqV9nGZZJy8smcfDJpE5zeD74+QyMSDHj8yaSN25+0cfvT/cw/UF9WROWcD51eE9++R/mX\nr1P+5esA+HoMaAwm0idO3eF9i4hEg8IIEREREdlpBGtrqC/ZQH3RT9RtXkd90U9t/gRrqgDIAIoB\nT1om6ZOObAwfkoeMi8pdMLyZuWTudwKZ+50AQO3awsZgomL2DErfeYzSdx4Dj4e08YdT2/d+/H2G\ndHpdIiLbS2GEiIiIiHQZVd8FqF78NXUthQvFPzUZz6E1Hn8K3rxeJA8eize3J97cnqxvSGXYUdPi\nZrwGf+/B5Bz5G3KO/E3joJkVAWcQTOa8zYpfGXKO+R3dTr8Bb05+rMsVEdmKwggRERER6RKCwSA/\nXn84DcUbms5ISsKbnY+vez+8wyY2BgzNf3zuoyctc6tLLVYFAqSNKYji0XScx+sldeTupI7cnbxT\nruZ/j/+F7I8fpfi1v1PyzmPknXw1uSdcSlJaRqxLFRFppDBCRERERLoEj8dDn5tfp+6nH5oEDElZ\n3fB4vbEuLyo8SUnUTjicQb+8kuK3HmTTv/7ApiduoPj1++g27SayDz8nLnp2iIh0/gVuIiIiIiJR\nkjZ6b7KmnEL6hANJGTwGb26PnSaICOfxJ5N7/EUMfmIpedP+j4aKUtbfcx4/nDuWsk9fIRgMxrpE\nEUkwS0u/5daFJ7Gg7v2IbE9hhIiIiIhIF5WUkU33X97MoCeWkHPM76hds4y1f/w5qy7ei8p5H8e6\nPBFJAJuq13CP/RWXzd6dLza8THFwbUS2qzBCRERERKSL83XrTY+L7mfgIwvJnHwy1XYmq6+Ywo83\nHEX1snmxLk9E4lBNQxUv/fAXzp81kvfXPcbAjLH8cdz77OOfFpHtK4wQEREREdlJJPcbQe/rX6D/\nvTNJG38gFTP/w8rzJ7Dur2dSu25FrMsTkTgQDAb5bP1L/O6bUTxdeB3+pFR+N/yf/G232YzPmxqx\n/WgASxERERGRnUyq2YO+f51BReBdNj5yNaXvP0Xpx8+Te+yF5J12Hd7s7rEuUURiYElpgEeW/p6F\nJZ/i8/g5of8VnDzwBjJ8ORHfl8IIEREREZGdkMfjIWP3w0jf7RDKPnyOjU/cQNErd1Hy9iPknnIN\nuSdcQlJqeqzLFJEo2FS9hqcLr+eDdU8QJMhe3Y/nrKG30zdteKftU2FEhBhjvMDDgAGCwHmAH3gT\n+N5d7AFr7QuxqVBEREREZGuepCSypv6CzP1/TvGbD7Dp2VvY9Ph1zu1Az7iJ7MPOxuPVaYNIV1TT\nUMW/V93Fyz/8maqGcgZn7Mqvht7N+LyDOn3f+lclco4BsNbua4yZAvwJeAO4y1p7ZywLExERERFp\njyc5hdwTLyXrsLMpevF2il69i/V/O5eil+8k5/iLSJ8wFf8Ag8fjiXWpIrKDgsEgn294mSeWXclP\n1SvI8ffgnGF3cUjvX+H1ROd2yAojIsRa+29jzJvuy0FAEVAAGGPMcTi9Iy611pbGqkYRERERkfZ4\nM3LofvYt5Bx7AZv+9QdK/vMwG+670JnXvS/pEw4ibcJBpE2cir/nwBhXKyLbyhkX4lIWlnzmjgtx\nJScPvL5TxoVoiycYDEZ1h12dMeZJ4ATg50A/YJ61NmCMuR7Is9Ze0db6gUBAH4jEjYKCgph+9aH2\nIPFE7UGkqVi2CbWH6PIUrcX3/Vf4ln6Db+kskso2Ns6r7z6AumG7Uz9sEnVDdyeYmRfDSmNHfyMk\nEZQ2rOeD2n8wp+5NIMgu3ikcknwJ3ZIGRHQ/HW0P6hkRYdbaM40xVwNfA/tYa1e7s14D7u3INgoK\nCjqrvK0EAoGo7m9HJEqtiVIntF1rIBCIcjUti/Z7mSifX6LUCYlTq9rD1rrCZxdvEqXW9uqMhzah\n9tC6Tql16lGA07W7ZsVCKmfPoHLOB1TO+wjvzNdg5msAJA/dlbTxB5E+cSpp4w4gKSM7unV2Ev2N\naKqrfHbxpDPrrK6v5P+tvouXf/hLRMaFiFR7UBgRIcaYM4D+1tq/ABVAA/CqMeYia+1MYCoQH/9S\niYiIiIhsB4/HQ8rgMaQMHkPuCRcTrK+j+vtvqZzzARWzZ1C14DNqls2j+LW/QZKXFLMH6ROmkjbh\nIFLH7ENScmqsD0Fkp+GMC/ESTyy7qnFciF8Nu5uDe58TtXEh2qIwInJeBR43xnyCcxeNS4GVwL3G\nmFpgLXBuDOsTEREREYkoj9dH6i6TSN1lEnmnXkOwpprKRV829pyoWvw11Yu+YvNzf8LjTyF1zL6k\nTZxK+oSDoF4DYYp0lgXFn/LU8mtZVPI5Pk8yJ/a/ipMGXhf1cSHaojAiQqy15cDJLczaN9q1iIiI\niIjEgic5hfTxU0gfPwX4Iw0VpVTO/5TK2TOomPOBc2nHnA/YBGRl5LHh6N+Sc9Rv8fceHNvCRbqI\nhcWf8eyK6cwr+gCAvbqfwNlDb6dP2rAYV7Y1hREiIiIiItIpktKzyJh0JBmTjgSgvngDlXM/pOLb\n9yn68HmKXriVohdvI33SkeQcfT7pux+Oxxv77uMiiWZh8ec8t2I6c4tmADAx7zBOGzSdXbL3jnFl\nrVMYISIiIiIiUeHNySfzgJPIPOAkVu71S0aULKH4zQeo+PotKr5+C1+vweQc9VuyDjsHX17PWJcr\nEvcWFX/BsyumM7fofQAm5h3KqQOnMypnnxhX1j6FESIiIiIiEn3+VLIPPZPsQ8+keslsit94gNIP\n/sXGx65l41P/R+b+Pyfn6PNJHbsfHo/GlxAJt6j4C55bcRNzit4DYELuIZw6aDqjcxJnlACFESIi\nIiIiElMpwyfS8/cP0f3c2yl97ymK33yAsg+fo+zD50gePJbso88je+oZbd4qVGRnsLjkS55bcROz\nN78LwPjcgzlt0HRG5+wX48q2ncIIERERERGJC96MHHKPv4ic4y6k6n+fUPzGA5R99gob7ruQjY9c\nTdbUaeQcfT4pw8bHulSRqFpc8pUbQrwDwPjcqZw6aDpjcvaPcWXbT2GEiIiIiIjEFY/HQ9quk0nb\ndTJ1m9ZS8t9HKXnrwcaf1NF7k330+WQecBJJyamxLlek09iSr3luxU18u/m/AOyaexCnDpzO2NwD\nYlzZjlMYISIiIiIiccvXrTfdTr+evFOuoWLmWxS/8QAVgXeoWvglG/75e7IPO8e5PWjf+Lt1ocj2\n+q5kJs+tuInA5rcBGJdzIKcNms7Y3MkxrixyFEaIiIiIiEjc83i9ZOx9LBl7H0vtmmUUv/UgJe88\nRtFLt1P00u2k734Y2UefT8aeR+Hx6jRHEtN3JTN5/oebmbXpPwCMzZnMaYNuYlzulNgW1gnUSkVE\nREREJKH4+wwl/9e30e2XN1P+ycvO7UFnvUPFrHfw9RhA9pHnkn3Er/F16x3rUkU6ZHX9At6aP51Z\nm94CYEzOAZw+6OYuGUKEKIwQEREREZGElJScStbB08g6eBrVS+dS/NY/KZ3xDJuevJFNz9xM5r4n\nkH30+aSNn6Lbg0pcWlO5lCeXX80XVa9AFYzO3p/TB9/MuJyu/zurMEJERERERBJeyrDx9Lz4AfJ/\ndRulM55xbg/6yUuUffIS/oGjyDnqPLIO+SXezNxYlypCWV0RL/5wC2+uvoe6YC39k8bx2zF/Y9fc\nA7t8CBGiMEJERERERLqMpIxsco79HdnHnE/Vgs/d24O+zIYHLmHjY9eSdeBpZB99PqkjC2JdquyE\n6hpqeWftQzxbOJ3Suo30TBnEmUNuI+2HYYzP2z3W5UWVwggREREREelyPB4PaWP3I23sftRtvpvS\ndx+n+M1/OrcJ/e+jpJhJ5BxzPpmTTyEpJS3W5UoXFwwGCWx+m8eWXs6qysWkebM4c8itHNPvEpKT\nUgmsDMS6xKhTGCEiIiIiIl2aL68neadcTe7Pr6Ai8I5ze9CZb/HTHTPZ8OBlZB1yFjlHn0dy/5Gx\nLlW6oMLy//HY0suZU/QeSSRxeJ/fctqgm8lL7hXr0mJKYYSIiIiIiOwUPF4vGZOOJGPSkdSuW0HJ\nfx6i5O1HKH71bopfvZu0iQeTc8z5ZOx9rG4PKjtsc806ni38P95b+wgNNDAx71DOGXongzLGxrq0\nuKAWJiIiIiIiOx1/r0F0P/tPdJs2nbLPX6P4jX9QOft9Kme/j7d7X3JCtwfN7xfrUiXB1DRU8fqq\nv/HSyj9TWV/KgPRRnDP0TnbLO3ynGZyyIxRGiIiIiIjITsvjTyZryilkTTmF6sIFlLz1T0rfe4pN\nT9/Epn/9kYx9jscz5fxYlykJIBgM8un6F3hq+TX8VL2CbH8+Zw65lcP6nIvXo1Pv5vSORIgxxgs8\nDBggCJwHVAFPuK/nAxdYaxtiVaOIiIiIiLQuZfAYelxwL93P+QulHz5H8Rv/oPyzV/AOnwxMjXV5\nEscWl3zFo0t/jy39Cp/Hzwn9r+CkgdeT6dOtZFujMCJyjgGw1u5rjJkC/AnwADdYaz8yxvwTOA54\nLXYlioiIiIhIe5LSMsk58jdkH/FrGoo3MGfpD7EuSeLUT1UreGr5tXyy/jkA9sn/GWcOuY0+acNi\nXFn8UxgRIdbafxtj3nRfDgKKgIOBj91pbwOHojBCRERERCQheDwevLk9AIUR0lRFXSmvrLyV/7f6\nLmoaqhieuTu/GnYXY3L2j3VpCUNhRARZa+uMMU8CJwA/Bw6x1gbd2aVATsyKExERERERkR1SH6xn\nxtrHeabwBopq19E9uR+/HPIXJvf8BUmepFiXl1A8wWCw/aVkmxhjegNfA9nW2jx32nE44cSFba0b\nCAT0gUjcKCgoiOlwv2oPEk/UHkSaimWbUHuQeKO/ETuHooY1vFx9Lasb5uMnlX39Z7GPfxp+T2qs\nS4srHW0P6hkRIcaYM4D+1tq/ABVAAzDLGDPFWvsRcATwYUe2VVBQ0Gl1NhcIBKK6vx2RKLUmSp3Q\ndq2BQCDK1bQs2u9lonx+iVInJE6tag9b6wqfXbxJlFrbqzMe2oTaQ+sSpdZEqRP0N6K5rvLZbdN2\nNr3NY4vPpLRhE/v3OJVzht5J95S+EajQ3X4XeU+3pT0ojIicV4HHjTGfAH7gUmAR8LAxJtl9/nIM\n6xMREREREZFtUB+s57nC6by48k/4PSlcMOIhDu39azyemHaG6RIURkSItbYcOLmFWZOjXYuIiIiI\niIjsmM1Mw4/sAAAgAElEQVQ167hz8enMK/qA3qlDuXr0ywzLnBjrsroMhREiIiIiIiIiYeYXfcId\ni09lU80a9up+PBebx8n05ca6rC5FYYSIiIiIiIgIEAwGeXXV7Ty9/DoAzh56B8f3u0yXZXQChREi\nIiIiIiKy0yur3czfvjuLmRtfp1tyX64a9QKjc/aLdVldlsIIERERERER2aktKQ1w26KTWFe1nPG5\nU7l8l2fJTe4Z67K6NIURIiIiIiIislMKBoO8s+YhHlp6MfXBWk4ZeCOnDpqO1+ONdWldnsIIERER\nERER2elU1pfxj+/P4+Of/kWWrzuX7fIMBd0Oj3VZOw2FESIiIiIiIrJTWVmxiFsX/oyVFYswWXtx\n1agX6ZE6INZl7VQURoiIiIiIiMhO4+OfnuX+786lqqGcY/pdwllD/oo/KTnWZe10FEaIiIiIiIhI\nl1fbUM0jS3/P22seIM2bxVWjXmS/HifFuqydlsIIERERERER6dLWVRVy28KTWFI2i0EZ47hm1Mv0\nSx8Z67J2agojREREREREpMv6ZuOb3G1/SVndZqb2Oovzht9Pijc91mXt9BRGiIiIiIiISJdTH6zj\n/Zr7+HzBEyQnpXLRyEc5pPc5sS5LXO2GEcaYE4H7gTrgd9baN8LmvQzca639eHsLMMaMBF4BRgAX\nW2sfajZ/ApBlrf20A9vyAL8FHrLWNnRg+ULgFmvtI9tRuoiIiIiIiMShFeXzeeD781lY+xm9U4dx\nzeiXGZo5IdZlSZiktmYaY7zAQ8AVwHXA4+4JfygkyN2RIML1O6ABGA0838L81wDTwW0dADxAO8cl\nIiIiIiIiXU9p7SYeXHIRlwQmsLDkM0Z7p3L3bgEFEXGovZ4R+UB34CXAAzwF9AB+Am5yf3ZUDjDf\nWruslfmebdjWtiwrIiIiIiIiXUB9sJ531jzEvwpvpLRuI/3SRvKrYXfjWd6LDF9OrMuTFrQXRmwA\nKoDdcHoblAMbjTEFQLq19rP2dmCMSQIuB84D+gIzcS7HmGuM+QiY7C53urXW02zdj4BBwMPGmP2s\ntWcZY0YBdwP7AGU4PTf+AAwEPnRXrTXGHAh8DvwZOA3oBfwI3GqtfaC9ukVERERERCT+zS/6mIeW\nXkxh+TzSvFmcPeR2ju53Mf6kZALLA7EuT1rR5uUM1tp64GrgU+Aj4DJ32s10vFfE/+Fc5vF7nFBj\nOfBfY0wWcCLwIs6YEX1aWPdEYBVOmHGJMSbfreVHYE/gfOACd/5K4Gfuev2BL9zajwV+jnOpxxPA\nPcaYvh2sXUREREREROLQT1UruG3hyVw3bwqF5fOY2uts/rnHd5ww4Ar8ScmxLk/a0e4Altba+4wx\nTwJBa22ZMWYS4AdmGmMeAQ4DXgcuaj5opDu+xEXADdba191pvwGWAr+01t5vjKkEfNbatS3se5Mx\nph4osdYWG2MuBiqB31pra4FFxpg+wB+ttbcbYza5q66z1tYZY+YDv7bWfuXu+8844YjBCTQixhjj\nBx4DBgMpwC04AcmbwPfuYg9Ya1+I5H5FRERERER2JtX1Fbyy8q+8uuo2ahqqMFl7ce7wexiRtUes\nS5Nt0KFbe1prS8Ne3gxMB04CxuCc2H/ovm5+ot0T6AZ8HbatWmPMLGDUdtQ7CpjtBhEhXwD5bq+J\n5nX/2xhziDHmTmAXnJ4ZAN7t2Hd7pgEbrbVnGGO6AXNwLh+5y1p7ZyfsT0REREREZKcRDAb5fMNL\nPL7sStZX/0C35D6cOeQ2Jvf8BUke3cMg0WzTJ2aM2QfA7WmwN/CxtbYCJ4zYq4VVKlvZlJftCwRa\n2p632WMjY8wtwLM4tyV9upUaI+Ul4Eb3ucfdZwFwlDHmE2PMo+6lKSIiIiIiIrINlpfN5fp5B/LX\nRaewuWYtPxtwDf/Y3XJgrzMURCSoDvWMCHMzcIP7PMiWMMNHC3eysNaWGGPW4Izv8C00Xs5QwJbB\nJtsTDHu+GDjZGOMP6x2xN7AJWI/T+yHceTiXjzzn7nu0Oz3id92w1pa5+8gCXsZ5n1KAR6y1AWPM\n9Tg9Sq6I9L5FRERERESaW1E+ny83vEZdsIa6hpomj7Wh183m1bawbOP0YA31DbUEG2DE3N0ZkTUJ\nk7UnI7P3JD+lf6ccQ0ntBp4pvJF31zxEAw1M6n4s5wy9k75pwztlfxI9nmAw2P5SgDHmAOBqa+1R\n7uszgGuAk3EGobwldNLfbL3LgauA3wDfsWVQydHW2nXGmCdwxoyY1sp+/we8g3NXjBqc8RfeBm4H\nRgCPAg9aa29w7/IxCyf8mAfMdV/fiHMnj7/jXKpxjLX2TWNMoVv3Ix16E9phjBkAvAb8w1r7mDEm\n11pb5M4bDdxrrZ3a1jYCgUDHPhCRKCgoKIjp7XLVHiSeqD2INBXLNqH2IPEmXv9GvFJ1PfPr39mm\nbSXhxYt/y4/Hjxdf2HM/NcFKNgQLCf/eOMvTg35JY+iXNJZ+3rH0TRpFiidju4+pIVjHN3Uv81HN\ng1RRSr5nMIcnX8EwX2d2dpdI6Gh72JaeETfhBAkhzwNH4ozZ8CpOINGSu4Fs4EEgB/gSmGKtXdfB\n/d4H3AEMtdaeaIw5HLgHmI3TG+LvOEEFQCi4+BTndp7nAA8AC3AGrHwYJ9CYiDOwZMQYY3oB7wIX\nWmtnuJPfMcZcZK2dCUwFOnRfmYKCgkiW1qZAIBDV/e2IRKk1UeqEtmsNBOLjNkjRfi8T5fNLlDoh\ncWpVe9haV/js4k2i1NpenfHQJtQeWpcotSZKnZC4fyNM3fMsLQ3gS0rG50nGl5SM3330ebZM83mS\n8Scl4/X4O3TJQyAQYNT4kSwpm8X3pTOxJV/zXenXLK75iMX1H0EtePAwIH00I7P2ZGTWJEZm78mg\njLF4Pe2fgs7dPIOHl17CDzULyPDm8KtBd3NU3wvwJfm3+X1JlN+zRKkTItceOhxGWGsPava6FueE\nv731GnAuT5jeyvyz2ln/QZwgI/R6LjC5lWVrgMObTd612etbw5Yf3Na+t9F1QB5wozEmNHbEZcDd\nxphaYC1wbgT3JyIiIiIi0qpMXy7j89rsmL3d0n1Z7Jp7ILvmHtg4bWP1amzp13znhhNLSmfxQ8UC\n3l/3GAApSekMyyxgZPYkRmbticnak/yUAXg8zhfpayuX89iyy/lq42t48HBo798wbfAt5Cb37JRj\nkNja1jEjpBXW2kuAS1qYtW+0axEREREREYm27in92CflRPbJPxGA+mA9KysWNoYT35XOZHHJ5yws\n+bRxnVx/L0Zm70mevzcfrHuS2mA1o7L35dxh9zAsa7fWdiVdgMIIERERERERiTivx8vgjHEMzhjH\noX1+DUBlfRlLSwPY0q/5vnQm35V8zcyNrwPQPbkfZw29nQN6nNrYW0K6LoURIiIiIiIiEhVp3kzG\n5k5mbO6WK+83Vv/I6krLyKxJpHq3f9BLSSwKI0RERERERCRmuqf0pXtK31iXIVHW/lCpIiIiIiIi\nIiIRpDBCRERERERERKJKYYSIiIiIiIiIRJXCCBERERERERGJKoURIiIiIiIiIhJVCiNERERERERE\nJKoURoiIiIiIiIhIVCmMEBEREREREZGoUhghIiIiIiIiIlGlMEJEREREREREokphhIiIiIiIiIhE\nlcIIEREREREREYkqhREiIiIiIiIiElUKI0REREREREQkqnyxLqCrMMb4gceAwUAKcAuwEHgCCALz\ngQustQ0xKlFEREREREQkLqhnRORMAzZaa/cHDgfuA+4CbnCneYDjYlifiIiIiIiISFxQGBE5LwE3\nus89QB1QAHzsTnsbODgGdYmIiIiIiIjEFV2mESHW2jIAY0wW8DJwA3CHtTboLlIK5MSoPBERERER\nEZG44QkGg+0vJR1ijBkAvAb8w1r7mDFmlbW2vzvvOOAQa+2FbW0jEAjoA5G4UVBQ4Inl/tUeJJ6o\nPYg0Fcs2ofYg8UZ/I0S26Gh7UM+ICDHG9ALeBS601s5wJ882xkyx1n4EHAF82JFtFRQUdE6RLQgE\nAlHd345IlFoTpU5ou9ZAIBDlaloW7fcyUT6/RKkTEqdWtYetdYXPLt4kSq3t1RkPbULtoXWJUmui\n1An6G9FcV/ns4kmi1AmRaw8KIyLnOiAPuNEYExo74hLgHmNMMrAI5/INERERERERkZ2awogIsdZe\nghM+NDc52rWIiIiIiIiIxDPdTUNEREREREREokphhIiIiIiIiIhElcIIEREREREREYkqhREiIiIi\nIiIiElUKI0REREREREQkqhRGiIiIiIiIiEhUKYwQERERERERkahSGCEiIiIiIiIiUaUwQkRERERE\nRESiSmGEiIiIiIiIiESVwggRERERERERiSqFESIiIiIiIiISVQojRERERERERCSqFEaIiIiIiIiI\nSFQpjBARERERERGRqFIYISIiIiIiIiJRpTBCRERERERERKLKF+sCuhpjzJ7AbdbaKcaYicCbwPfu\n7AestS/ErjoRERERERGR2FMYEUHGmKuAM4Byd1IBcJe19s7YVSUiIiIiIiISX3SZRmQtBU4Me10A\nHGWM+cQY86gxJitGdYmIiIiIiIjEDYUREWStfQWoDZs0E7jSWnsAsAyYHpPCREREREREROKIJxgM\nxrqGLsUYMxh43lq7lzEm11pb5E4fDdxrrZ3a1vqBQEAfiMSNgoICTyz3r/Yg8UTtQaSpWLYJtQeJ\nN/obIbJFR9uDxozoXO8YYy6y1s4EpgKBjqxUUFDQuVWFCQQCUd3fjkiUWhOlTmi71kCgQ7+unS7a\n72WifH6JUickTq1qD1vrCp9dvEmUWturMx7ahNpD6xKl1kSpE/Q3ormu8tnFk0SpEyLXHhRGdK7z\ngXuNMbXAWuDc7d1Q0ZL5rJ/3OWnd+5DWoy9pPfqSmteTJJ8+QhEREREREUksOpONMGttIbCX+/xb\nYN9IbHfOfVfz4+f/aTLNk5REardeTjiR37fpY4++pLvPU3Lz8SRpeBARERERERGJDwojEsSeNzzK\n2m9mULnhRyrXuz/u8+JlC9i0qPXuMB6vj7T8Pk3CinT3efnmUjamNpCcnUdydjf8mTkkeb1RPDIR\nERERERHZ2SiMSBBp+b0ZcsQvWpwXDAapLS2iIiygCA8rKtzHzYu/ZWPd11utv6rZa39WLslZeaTk\ndCM5ywkpQmFFcnaeM6/5tOxu+NIy8HhiOnaPiIiIiIiIJACFEV2Ax+NxA4E8coeNaXW5YEMD1cUb\nqdywpjGsWDp3FvlZ6dSUbqamZBM1JVsei5cvor6qouN1eH1NA4yc7s7rbOcnJbsbyTlNn6e4vTF0\nGYmIiIiIiMjOQ2HETsSTlERqXg9S83qQN2JXAIr6jWe3NkZtra+pdgKKsLCiOjy0KN1MTbHzWF2y\nidqSzVQXb6R01RKC9fUdLMzT2LsiJTssvMhp+rx0zU+sqd2INyUNX2o63tT0rZ535iUmDXV11FdV\nUFdVTl1lOXVVFdRVllNfWe5Mc18XFRayqmy1c2lMfh9Su/ciyefvtLpEREREREQSjcIIaZM3OYW0\n/N6k5ffepvWCwSB15aVucLGJmuJNW56XbKK6OOx5ySZqijZSXbKJirU/0FBb0+p2f2xnv0n+ZLyp\n6U5AERZUhF43fw64YUKFGzCUO4FDZflWr9uqq7l1/wp74fE4IVD3Po0BhfPT1wkrwqZ5k1M6vA8R\nEREREZFEpTBCOoXH48GfmY0/Mxv6Du7wesFgkPqqihbDiuXfL6ZPj+7UV1dSV1VBfVVFq8/rqivd\n7WykvrqShprqbSkeX1oGvtQMvKnpJPfIc1+n403NaHwevowvzZnuTU2nsLCQ3tlp7qUwa6jasIbK\njWsoW72Uou/ntrnr5Oy8rUOK0O1cw0ILX1pGx49HREREREQkziiMkLjiCQUBaRlk9B7QZF5xIMDY\nNi4paUtDfT311ZXOT1WFE1pUV0IwiDcULrhBQ1Jyyg4NxLk5EGB0K3XWlpc6Y3a4AUVV6HloHI+N\na6hYv5riZQva3Ic/IzsssGgaVKT16OsEGPl98GVkaVBRERERERGJOwojZKeQ5PWSlJ6JPz0zpnX4\nM7LwZ2SRPWhkm8vVVVVStXGtG1T82BhYVG1YQ8WGHxtDjJIVts3t+NIyWu9h0aMfwaB6WIiIiIiI\nSPQpjBCJQ77UNDL7DSGz35A2l6uvrQkLLdZsuTRkY9PX61cthWBwq/W7HX42TNqzsw6j0zU0NFBf\nV+cMLlpfR31dHfV1tc5jvTs9bF5D4zJhz0Pz6upoaKhneWEhnpL1+P3J+PzJ+FJS8PmT8Se7r/3J\n+JKbPnp9PvVAERERERHZBgojRBKY159MRu+BZPQe2OZyDXV1VG1a16SHRVXRekr7tH4r2Hj2xRsv\n8beLplFX0/FBRTuTx+PZElC0EFb06DeQwaPHOz9jxtNnyAi8Pv3zKyIiIiI7L/1vWGQnkOTzkd6z\nH+k9+zWZHggEYlTRjsnvN5DRk/anIdiA1+vD6/OR5D56fT68Xh9J7qPX1/R5W/OSvF5WFBbSu1dP\n6mpqqKut2fJYW0NtdXXj8+bza5stW1dTQ1V5GbXVVay0C/j2g7cb609OTWWAGcvgUbs2BhSDR48n\nIyc3hu+qiIiIiEj0KIwQkYQzcrc9uenF9ztl24FAgILtHCi1NaWbNlK4aB6FC+dSuGAuhQvnsmLR\nPJbOndVkufxQDwo3nBg8ejy9Bw8jKSkpovWIiIiIiMSawggRkU6W1a074/Y9kHH7Htg4ra62ltVL\nrRNMuAFF4cK5zHrvDWa990bjcqnpGQwcNW7LZR6jxzNo1LhYHIbEseL1a6mpKMfrXirkDbtsKKmT\nxjQJBoPUVlVSXVFOTWU51RXlVJeXUV1ZTk1FOdWVzuvGeRVl1FSUA5CWlUNaVg6pmdlbnmfnND5P\ny8ohOS1dY7GIiIh0YQojRERiwOf3M2iXsQzaZSyc+IvG6UXr1zX2ngj9LJ07i+8CXzVZPzUzG6/X\n6TERDA1OGgw2Pg8Gg42DljaZRgvT3OfJaekMHTuR4RMmMWLiJEZMmET3vv11Qhjn1i5dzB8OGb3l\n96AFvuRkJ6hIdgZkbR5atBRieP3JbNywns/8vq0ChVDg0NY+d1SSz0daZjapWU1DisbwIuz5T0Ul\nDMzPpfuAIepJJCIikiAURoiIxJHcHr2YMOVQJkw5tHFabXU1K79byIrQpR4L57J25QrS09PBDQo8\neLaEBqFpnvanecLWLyvezIIvP2b+Fx81qScUTgyfsAfDx+9BVl63znsDoqS+ro7y4iLKijZRVryZ\nsqJNFFfXx7qs7dKt3yAOPf8aSjeso66mhnp33JL60DgmNdVbXtfWUO+ObVJdUUZdcdPlWpPk85GS\nlkFKRiapWTnk9OpLsvs6JS2D5PQMUtIzSEnPdJ6701KbvU7JyIRgkMrSEipLi6kqLaaylZ/weetX\nLKG6vKzN9+H9268kNTOL/qMm0H/0BAaMmciA0RPoM2IMvuTkSL/tIiIisoMURoiIxDl/SgpDx01k\n6LiJjdM6Y2wLgIrSEpbOC/D97JksmfsNS2bP3OrSkT5DhjN8ghNOjJgwiSFjJ5KSlhbxWtoTDAap\nKi+jrGhzk1Ch8XXYtPKizZQWbaLcfV1RWrLV9vqOHMNBRxwd9ePYUcmpaRx/5Z93eDvBYJCG+vrG\n0KKuupr5Cxcyae994+JkvqG+nsqyEiekKGkaXCz4diaUbmTlgtksDXzOkm8+bVzP6/fTZ/hoBoyZ\n6IQUoyfSf9R40rJzYng0IiIiojBCREQapWdlbzW+xeaf1rJkzjd8P2cmS2bP5Ps5M/n0tWf59LVn\nAfD6fAzcZVxjODFi4iT6jxyN1+ttd3+1NTWUlxRRUVxEWfFmykuKKC8uanysKHGelxW588KWLSva\nRH1dXYePLTU9g8zcbvQYMJis3G5k5OSRmdvNeZ6bhz+/77a/YV2Ix+NpvCNNclo6ACmZq+IiiABI\n8nrJyMkjIydvq3m+gaMaw7maygpWL/4fKxfOZtXCOaxcMJvVi+exatHcJuvkDxzaGE4McHtS5PTq\nq8uSREREokRhhIiItCmvZ2/2OPQY9jj0GMD5Bn1t4VK+d4OJJbNnsnzBbJbPn817zzwEOCf+Q8ft\nxuAxE1i3di2fpPidMCEsVCgvLqKmqnKbavH5/aRn55KV241eg4ZuCRPcYCEz131sfO1My8jJw9/O\nSXWi3upWmkpOS2fIxD0ZMnHPxmn1dXX8tPw7VrrhxKqFc1i5cDZz/vsqc/77auNymd3ynZ4To51L\nPXoNGUn+oGEtBiAiIiKyYxRGRJgxZk/gNmvtFGPMcOAJnBHj5gMXWGsbYlmfiMiO8ng89BkynD5D\nhnPAiacDzt1Bflg83wkn5nzDkjkzWfzN5yz8+tMm6yZ5vWTm5JGRk0u33v3IyM4lIyeXjOxcMnPy\nSHefh0/PyMl1vhHPziU5NVXfXMs28/p89Bkxmj4jRjPpOOd3NhgMUrR2dZNwYuXCOSz67D0WffZe\nk/XTc/LoMWgY+QOGkj9oGD0GDnNeDxxGbu9+GjRTRERkOyiMiCBjzFXAGUC5O+ku4AZr7UfGmH8C\nxwGvxao+EZHO4vP7G8e1OOyM3wJQWV7G6iWL+X7pUvbYa18ycnJJTc9QmCBxwePxkNenP3l9+rPr\nwcc0Tq8oKWLVwrmsWjSX9SuWsGHlMjasWMrqxf9jxbxZW23Hl5xM9/5DGsOJHm5YkT9oGPkDhuBP\nSY3mYYmIiCQMhRGRtRQ4EXjafV0AfOw+fxs4FIURIrKTSMvIZPj43Smu85Dft3+syxHpkPTsXEbu\nNZmRe01uMr2hoYGitavZ8MNSNvywjPUrlrL+h6Vs+GEp61csZd0y2+L2cnv3awwnegwcxqaySoJr\nlji3J83MJjUz27lFaWY2KRmZJHVgrBUREZGuwNOZ9wjfGRljBgPPW2v3Msb8aK3t604/CDjHWjut\nrfUDgYA+EIkbBQUFMf0KW+1B4onag7SluqyE0nWrKVm3ipK1qxqfl65dRdnGddDB/2/5U9Pxu7dE\n9adlkJyWQXJ6Jv505/mWec5jcnomqdl5ZPXsS0pmdicfZVOxbBNqDxJv9DdCZIuOtgf1jOhc4eND\nZAFFHVmpM27X15rOuj1gZ0iUWhOlTmi71ngZzC/a72WifH6JUickTq1qD1vrCp9dPKitrmbjqkI2\nrFzG/Nmz6JPfnaqyEvfWpCVUlZU0vg5/XrpuFfW1tR3eT1pWDt0HDCF/4FDy+w9xnruvu/cfvE2X\njLT3nsZDm1B7aF2i1JoodYL+RjTXVT67eJIodULk2oPCiM412xgzxVr7EXAE8GGM6xEREZEo86ek\n0HuYofcwQ3VWz236z2ZtdXULQUUJVaXFVLrTS9avZePK5WxYtZx1yyyrFs5pcVs5Pfu4AcVQ8geE\nhRUDhjoDceoSERERiSKFEZ3rcuBhY0wysAh4Ocb1iIiISALxp6TgT+lBVvceHVo+GAxSuuEnNqxa\n7gQUPyxjw8rlbFy1nA0rl1M452uWBb7Yaj2v30+3vgPp3t/pSeHJ7cluu+2mAWdFRKTTKIyIMGtt\nIbCX+/w7YHKbK4iIiIhEiMfjIbtHL7J79GLoxL22ml9fV8fmNSudgCIUVrjBxcaVy1n8+fvwOXiS\nvBx/3uWkZ+fG4ChERGRnoDBCREREZCfh9fncSzOGtDi/uqKcjasKWbR4sYIIERHpVAojRERERASA\nlPQM+o4cw5rSqliXIiIiXVxSrAsQERERERERkZ2LwggRERERERERiSqFESIiIiIiIiISVQojRERE\nRERERCSqFEaIiIiIiIiISFR5gsFgrGuQMIFAQB+IxI2CggJPLPev9iDxRO1BpKlYtgm1B4k3+hsh\nskVH24PCCBERERERERGJKl2mISIiIiIiIiJRpTBCRERERERERKJKYYSIiIiIiIiIRJXCCBERERER\nERGJKoURIiIiIiIiIhJVvlgXIJFnjPEDjwGDgRTgFmAh8AQQBOYDF1hrG4wxvwF+C9QBt1hr3zTG\n5ADPA5lANTDNWrs21rW6y/cAPgd2tdZWGWPSgGeAnkApcKa1dn0c1pnj1pkNJAOXWWu/jHSdkag1\nbDu7AF8DvcKnJ6JEaROJ0h4iVGtU2oTaw9bUHiJP7SFxJUp72NZa3eX1f6ZOrjVsO12iTag9qD3s\nSK1h2+lwe1DPiK5pGrDRWrs/cDhwH3AXcIM7zQMcZ4zpDVwM7AscBvzFGJMCnAX8z132BeDKWNcK\nYIw5DHgX6B22/vlhtT4F3BCndV4GzLDWTsZ5f+/vpDojUSvGmGzgTpw/JF1BorSJRGkPkag1Wm1C\n7WFrag/xV6vaQ+wkSnvocK0Q8zaRKO0hErV2tTah9hB/dXbp9qAwomv6/+2debSdVXnGf0EkiKQM\nxRAUCyLwlCgsKJShEgyTrqCUwWIQhFoQEBYSRBEMUEaVFWRKGMIcFtqyKKgMNspgSBmKMouAb42Y\nQpkLEoiU+faPvU/y3ZNzzneSe+65Z3h+a2Vxzrf3Pt+7L/v53v29e/o34IT8eRQpYrk5MDdfmw3s\nBGwJ3BURb0bEAmAesAnwCDAm5/0L4O0OsBXgvfz55UL5bYGf18jbaXaeDVyUPy8PDGfUfEi2ShoF\nXAxMBV4fRjvbSbdoolv00Apb26UJ62FJrIfOs9V6GDm6RQ9LYyu4z9QWW3tQE9ZD59nZ03rwMo0e\nJCIWAkgaA1xLivT9ICIGcpbXgFVID4kFhaKV6y8Cn5H0GLA6MKEDbCUibsl5iz9RrMOivJ1mZ0S8\nkq+NI021OnI47GyFrcCJwM8i4uGq611Lt2iiW/TQClvbpQnrYUmsh86z1XoYObpFD0tpq/tMbbKV\nHtOE9dB5dva6HjwzokeR9FFgDnBVRPwLKXpVYQzwCvAqi6OXxesnAtMiYjzwGeC6DrC1HsU6lOUd\nEuS8B/YAAA6WSURBVEO0E0kbA7cBUyNibqO8Q2WItn4ZOFDS7aSpVzcPl53tpFs00S16gO7RhPWw\nJNZD67Eeupdu0cNS2FoP95lq38uaKGA9tB7roT4ORvQgktYk/c8/JiIuz5cflDQxf54E3AH8Gpgg\nacW8OcpGpI1J/sTiSOELpMjhSNtaj7uAXZrMO2J2ShpPmvq0T0TMHg4bW2VrRKwfERMjYiLwHMmZ\ndDXdoolu0QN0jyashyWxHlqP9dC9dIseltLWerjP1GJbe00T1kPn2dnrevAyjd5kKrAacIKkyrqf\nKcB0SSsAjwPXRsS7kqaTGtVywHGRdm09AbhU0mHA+4GDRtrWBuUvBK6UdCfwFrBPh9r5fWBF4Nw8\nbWlBROzWobb2It2iiW7RQytsbZcmrIclsR46z1brYeToFj00bWuD8u4ztd7WXsN66Dw7e1oPowYG\nBspzGWOMMcYYY4wxxrQIL9MwxhhjjDHGGGNMW3EwwhhjjDHGGGOMMW3FwQhjjDHGGGOMMca0FQcj\njDHGGGOMMcYY01Z8moZpGZLWBqYBDwAzI2LhCJtUF0mbAP8KfA24KyLeKylizFJhPZh+xxow/Uw3\ntf9GSFoe+DvSyQNfjIhHR9gkYxbRKzrrZ3yahmkJkg4ALiCdLfw+4E1gQkQ8kdN3BE4nnUP8NDAt\nIi4rlA9gw6qf3SwiHpI0HzgtIi5tka2XAXsD7wBvA48CO0fEW2W25PSvA8cAq5COtzk8Iv4saV3g\nj8AGETGvFbaa7qQJPVwEHFxV7BsRcU5O3x44F1ifdJb3Vyttqp16yPdap0axKyLiAElrAc9UpS2I\niFWth/6mkQYkzQL+sUaxP0bEerl8x/iEQr59gUMjYtuq6zV9Qk4bDcwA9iL9Dc6KiGk57Su5Hmu3\noh6mcyjzAYV86wOPAGMi4p3C9bo+IKe3pR8iaQzp6MaxwBjSUY3nRMSxOX1lUt9uD+ADwO3A1yPi\n6Zxet/3n9HWAS4BPAU8CR0XE7Jw2C1g+Ir481HqY3qTEz5S9d3SExoyXaZgWkJ3RDOAQUuR8MvA7\n4Hs5fQPgJuAnwKbAKcD5knbN6aOBj5Oc0VqFf78dBlt3APYF/gZ4kPSQGg8c0IwtkvYETgMOA7YH\n/hY4s9V2mu6lTA+ZTwBHM7iNXZzLfxS4AfghsAXwHHC9pJY/r8v0QGrfRRv3I53FfX6hHs9X5al+\ngTR9RhMamMLgNrMp8BpwVi7fMT6hkG97skarrpf5hDOAbYCdSH+P4yXt3ep6mM6hSR9QedbfBKxY\n43pdH9DmfsjRpJe8DYD7gUnAMZI2yunnABNJwYbtSAGJnxb8Vd32L2kUcD3wUq7DlcB1kj42THUx\nPUQjnTXx3tFJGut7vEzDtIKNgJWAHwPfBN4FjgU+ktMnAw9FRMURz5P0aVIH8EZAwABwb0S8Pcy2\nbg48GhEhiYh4UdJBLB7dLbPlSGBGRNwAIOlrwK2SvjXMdpvuoUwPlTzHR8RzNcofBDxcGD09gOQo\ndwBubbGtDfUQES9WMkpaidSZPjUi7s+XxwO/q1MP07801EBELCCNZAEg6TzgVxFxXuUSneMTkHQi\n8B3g9zXKN/IJAyQ975o1c7+kacDhwNXDWiszkpT6AEm7k4Jbz9YoX+YD2tkP2Ry4OY8IExFzJB0K\nLJT0flI/bveIuDvbciBpFHpDSU/RuP1vT9L6hIh4DXhM0k7AgcDxw1AX01s00lnZe8ewa0zSScC6\nEfGVoVWz93EwwrSC5/N/P1W5EBH3Avfmr9cAs6vKDACr5s/jgSea6XRK2pw0DXBqRMxYRls3kDS2\nYOtPC+l1bZH0PlJ09LTC5XtIOtoMeKoq/8GkSOrOEXHPMthqupOGepA0DlgdiDrltwb+o1D2dUkP\nkEaXBgUj2qCHIlNIuv1B4dp46tdjENZDX1HmExYhaRtgd9LoVYVO8gkAOwOfJb087VS4d5lPeBcY\nDdxZSL8TOCGXLdZjFHAV6eVvu2Ig0HQdzbT/zwEnkJ6fc6rK1/UBkubQ3n7I88BWxfYaETPzb68A\n7AbcXchfWfu9KsnPNWr/WwMP5kBEMX1CtRGSVstpvwW+5D1dDA10JukxGr93dJLG+h4v0zBDJiKe\nBC4lRSf3Jol55UL6fxVGUpG0Zs5XebEaD7wrabak5yTNlbRV9X0krQf8DDhjGTudkNZ9PQE8BPy1\npB2qOoWNbFmVNJ1y0YhZXuP5EjBoza+kvwfOBvbww6m/KNMDqY29A5wq6WlJD+e14xVq7cPwPEu2\nsXbooXKv0aSRh9Mj4o2quqwr6b5cl6slfbhGeeuhj2hCA0WOA66LiOISjE7yCUTEthExt0bZMp+w\nFvBylWaeB1YgrcEvMo30ErazAxHdTTPtPyIOioiL6vxEIx/Q7n7IWaTlePcCa0rauHDftyLi5qoN\nA6dkWx6ivP036+tWJE2pfwrYz4EIA4111sR7RydprO9xMMK0hIg4iDT96XXS2qzf5xGvQUj6IOnB\n8Qxp0xlIU61Wy993AR4Dfqm0SUyFDwE/B66OiFOGYOfrpBHm7wOjgF8AdxdGxRrZslLO82bVz75J\niv5X2Ab4EbB/RLR6Wr3pAkr0UFlr+zBp/e1lwEWS9srXV6K8jbVLDxX2yulXVl3fCPggcATJ0X8E\n+Hel3dcrWA99SDM+QWnzuknkvSIKdJJPaESZT6inZSjoWdKRwP6kQMT/LFUFTEfSbJ+oDo18QFv7\nITlIOJ6ktfWB30i6PM/kGYSkL5D2mDg6ByDK2n8zvm65XI/lgD2jalNZ09806WdqvXcMi8YkTZC0\nUNJCYCqwb+W70gbIpgYORpiWERE/IUWv9wTmArOK6ZJWITm09YDP504gwD6AIuLGiHiAtGHMH0id\nswonkhzhf9e7v6Si6OsKPyL+L4+iPU7alGll4NQmbKlE90dX/eRo0oOwwiWkTZzm17PV9D4N9HAB\nsGZEzIiI30TEdNLa4UNz+huUt7F26aHCZODagmYrfAzYMSLujog7gC8AG5OOgatgPfQpZT4B+Adg\nXkT8qup6J/mERpT5hHpahsV6Hkta+vQ2S47UmS6mifZfj0Y+oGX9EEkzq/TxV7XyRcSzETEVuIu0\npv6LpOBz8bf2Jh2Ne2ZEXFFSD2isj2I99iSd1PG/NfyPMQ111uC9Y7g0dh9pyeGmwMxsV+X7DUtb\nt37BwQgzZCR9OE9VqvAaaa3VhpI+lPOsQVoXuR4wMSL+UMkcEW9HxKuF7wOkHXGLG/7dQnpZO7nW\nNPBMUfQ1hS9pY0nF9WXzSbvwbtuELS+RHlLjCr+3PPCXDN6E6kSSU75Qw3ACgulsyvQQEQMR8XJV\nscdZ3N6fptDGMuMY3MbaooecZzSpA/rj6vIRsTAi3ix8f4Gkk6J2rYc+oxmfkJlE7XbVMT6hhDKf\n8DSwWl5bX2EcaYSt8gwYIP0d3gBOauKepsNZivZfj0Y+oJX9kH9msD6WCIZJ2lHpZAIAImIO6eWu\n6CO+Shohnh4R366qR6P234yvewbYEZgk6fN16mH6kDKdNXrvYJg0lgPb8yId+fky8Frle9XeKKaA\nO4amFUwArs0RyApjgfeAV7MjuglYg7Qx16AN7yT9WtIxhe/LAZuQOp8VridFIYM6x+tERFH09YR/\nGGl9V5GxwCtltuR1ivcyuJO6DWn9/4OFa9eRzibeiLRjr+kvyvRwpqSbqspsxuL2fg+DO3or5fTi\nesS26CGzMWn95B3FTJLGSVpQnBIpaW2SzovatR76j4YagEUbNm5JGskaRCf5hEY04RMeIh2FW5wp\ntC1wf16DDPBiRNwCHAVMkfTJsvuajqe0/ZdQ1we0sh8SES9U6eOdGtnOq1G+2GfagzSz7/SIqD5p\noKz93wNsmqfRF9OLvu7uHAA5D5gu6QO16mL6kjKd1X3voE0aM83hYIRpBbNJwr+EtI5XpGmn1+VR\n02+Qdgj/J+DP+SVmnKTVc/mbgKMl7SJJpFGp1YHLizfJD4gjgMlKZ8MvCz8EtpB0LDBa0mdJx0z9\nqElbLgC+KWlPSVvk75dXbeBERDwDfJd03vEay2ir6U7K9HAjaZTnCEkfl3Q4afr5Gbn85aTdy4+T\nNJ60p8STwG3Fm7RJDwCfBOZXT5GNdJzn/aQO4uZZD9cAt0bEg1V5rYf+okwDAOsAY4BHa5TvJJ9Q\nRl2fkDVzJXCBpC3zKN63gHOrfyTSEXK3AecvYz1M59BM+29EmQ9oZz/kKuDQPCthtKQppODC1Uqb\nBV5M0uuMQt9unKQVmmj/c0nLrGZJ+kQOQG5N+rtVczJpf6LvLGM9TO9RV2ekozkbvXcMu8Yi4qTw\nsZ5N4WCEGTJ5Ou3nSOvHDyXtCh7AITnLXqQjcW4lTXGq/KtMmf0uqQM2kxRJ35C0Dn3ROfSFe/0n\nqZN4ftXUv2ZtvYt0hvUhJKc3ixRxn9mMLRFxNWka2IW5PveRThmoxdnAn0h/D9MnlOkhIm4HvgQc\nTHoRO4x0VNmdOX0+ae3jfqT2tSawW9TYQbwNeiDfv3pZSYXJuW6/IDnxeflaLayHPqEJnwCpXUHt\nttVJPqGsfJlPOIo0yvbL/JunRMQ1dX7uSNKO8PvXSTddQJPtv1H5+TTwAW3uh0wjBRyuArYi+avJ\nEfEIMJE08rwrg/t2zwLb5fJ1239EvEs6GnQsKbC9P+lUgvnVRmTtTwW+XVw2YvqXEp01fO/oMI31\nPaMGBgbKcxnTJJJOBubkF66ORtLciPj0SNthehfrwfQ71oDpZ7qp/TciL6uaExETR9oWY6rpFZ31\nK54ZYVrNHLpn1/wryrMYMySsB9PvWAOmn+mm9l+XvInsrJG2w5g69ITO+hXPjDDGGGOMMcYYY0xb\n8cwIY4wxxhhjjDHGtBUHI4wxxhhjjDHGGNNWHIwwxhhjjDHGGGNMW3EwwhhjjDHGGGOMMW3FwQhj\njDHGGGOMMca0FQcjjDHGGGOMMcYY01YcjDDGGGOMMcYYY0xb+X/s3ByZx7vEtAAAAABJRU5ErkJg\ngg==\n",
      "text/plain": [
       "<matplotlib.figure.Figure at 0xd4912b0>"
      ]
     },
     "metadata": {},
     "output_type": "display_data"
    }
   ],
   "source": [
    "f, (ax1, ax2, ax3, ax4, ax5) = plt.subplots(1, 5,figsize=(17,3),sharey=True)\n",
    "ax1.plot([2007,2008,2009,2010,2011,2012,2013,2014],ca_tax_normalized.loc['94582'].loc['1: 25,000-50,000'],color='#a53400')\n",
    "ax1.set_ylabel('% of total', rotation=0,labelpad=45,fontsize=14)\n",
    "ax1.set_xlabel('\\$25k - \\$50k',fontsize=14)\n",
    "ax2.plot([2007,2008,2009,2010,2011,2012,2013,2014],ca_tax_normalized.loc['94582'].loc['2: 50,000-75,000'],color='#511900')\n",
    "ax2.set_xlabel('\\$50k - \\$75k',fontsize=14)\n",
    "ax3.plot([2007,2008,2009,2010,2011,2012,2013,2014],ca_tax_normalized.loc['94582'].loc['3: 75,000-100,000'],color='#682000')\n",
    "ax3.set_xlabel('\\$75k - \\$100k',fontsize=14)\n",
    "ax4.plot([2007,2008,2009,2010,2011,2012,2013,2014],ca_tax_normalized.loc['94582'].loc['4: 100,000-200,000'],color='#db4500')\n",
    "ax4.set_xlabel('\\$100k - \\$200k',fontsize=14)\n",
    "ax5.plot([2007,2008,2009,2010,2011,2012,2013,2014],ca_tax_normalized.loc['94582'].loc['5: > 200,000'],color='#4dc100')\n",
    "ax5.set_xlabel('\\$200k+',fontsize=14)\n",
    "\n",
    "plt.suptitle('San Ramon Income Distributions',fontsize=18)"
   ]
  },
  {
   "cell_type": "markdown",
   "metadata": {},
   "source": [
    "By splitting the income brackets and observing their changes over time, we get a better picture of the relative changes over time. We are looking for regions which show decreasing trends in the lower brackets and increasing trends in the higher brackets. This is a slightly different representation of the same information; although it is helpful in observing the whole timeline, the bar plots are more effective in showing net changes in proportions over the entire time period.\n",
    "\n",
    "---"
   ]
  },
  {
   "cell_type": "markdown",
   "metadata": {},
   "source": [
    "## Distributions of Density Shifts\n",
    "\n",
    "We will now find regions with the most significant changes in income distribution, separated by zip code within California. First, we create a table representing the net changes in each income bracket from 2007 to 2014. This gives us a single value for each zip code and enables us to statistically analyze the changes. By studying the distributions, we can come to a conclusion about what is typical behavior for each bracket."
   ]
  },
  {
   "cell_type": "code",
   "execution_count": 33,
   "metadata": {
    "collapsed": true
   },
   "outputs": [],
   "source": [
    "ca_income_change = pd.DataFrame(columns=['zipcode','1: 25k-50k','2: 50k-75k','3: 75k-100k','4: 100k-200k','5: >200k'])"
   ]
  },
  {
   "cell_type": "code",
   "execution_count": 34,
   "metadata": {
    "collapsed": true
   },
   "outputs": [],
   "source": [
    "# create df representing changes in each income bracket from 2007 to 2014\n",
    "for zc in zipcodes:\n",
    "    first = ca_tax_normalized.loc[zc].loc['1: 25,000-50,000']['tax_returns_2014_%'] - ca_tax_normalized.loc[zc].loc['1: 25,000-50,000']['tax_returns_2007_%']\n",
    "    second = ca_tax_normalized.loc[zc].loc['2: 50,000-75,000']['tax_returns_2014_%'] - ca_tax_normalized.loc[zc].loc['2: 50,000-75,000']['tax_returns_2007_%']\n",
    "    third = ca_tax_normalized.loc[zc].loc['3: 75,000-100,000']['tax_returns_2014_%'] - ca_tax_normalized.loc[zc].loc['3: 75,000-100,000']['tax_returns_2007_%']\n",
    "    fourth = ca_tax_normalized.loc[zc].loc['4: 100,000-200,000']['tax_returns_2014_%'] - ca_tax_normalized.loc[zc].loc['4: 100,000-200,000']['tax_returns_2007_%']\n",
    "    fifth = ca_tax_normalized.loc[zc].loc['5: > 200,000']['tax_returns_2014_%'] - ca_tax_normalized.loc[zc].loc['5: > 200,000']['tax_returns_2007_%']\n",
    "    temp = pd.DataFrame({'zipcode':[zc],'1: 25k-50k':[first],'2: 50k-75k':[second],'3: 75k-100k':[third],'4: 100k-200k':[fourth],'5: >200k':[fifth]})\n",
    "    ca_income_change = ca_income_change.append(temp)"
   ]
  },
  {
   "cell_type": "code",
   "execution_count": 35,
   "metadata": {
    "collapsed": false
   },
   "outputs": [],
   "source": [
    "ca_income_change = ca_income_change.set_index('zipcode')"
   ]
  },
  {
   "cell_type": "code",
   "execution_count": 36,
   "metadata": {
    "collapsed": false
   },
   "outputs": [],
   "source": [
    "ca_income_change1 = ca_income_change.reset_index()[ca_income_change.reset_index()['zipcode']!='0']\n",
    "ca_income_change1 = ca_income_change1.set_index('zipcode')"
   ]
  },
  {
   "cell_type": "code",
   "execution_count": 37,
   "metadata": {
    "collapsed": false,
    "scrolled": true
   },
   "outputs": [
    {
     "data": {
      "text/html": [
       "<div>\n",
       "<table border=\"1\" class=\"dataframe\">\n",
       "  <thead>\n",
       "    <tr style=\"text-align: right;\">\n",
       "      <th></th>\n",
       "      <th>1: 25k-50k</th>\n",
       "      <th>2: 50k-75k</th>\n",
       "      <th>3: 75k-100k</th>\n",
       "      <th>4: 100k-200k</th>\n",
       "      <th>5: &gt;200k</th>\n",
       "    </tr>\n",
       "    <tr>\n",
       "      <th>zipcode</th>\n",
       "      <th></th>\n",
       "      <th></th>\n",
       "      <th></th>\n",
       "      <th></th>\n",
       "      <th></th>\n",
       "    </tr>\n",
       "  </thead>\n",
       "  <tbody>\n",
       "    <tr>\n",
       "      <th>90001</th>\n",
       "      <td>-4.674271</td>\n",
       "      <td>2.391328</td>\n",
       "      <td>1.298178</td>\n",
       "      <td>0.983740</td>\n",
       "      <td>0.001025</td>\n",
       "    </tr>\n",
       "    <tr>\n",
       "      <th>90002</th>\n",
       "      <td>-3.706238</td>\n",
       "      <td>1.639324</td>\n",
       "      <td>1.139695</td>\n",
       "      <td>0.927219</td>\n",
       "      <td>0.000000</td>\n",
       "    </tr>\n",
       "    <tr>\n",
       "      <th>90003</th>\n",
       "      <td>-3.370728</td>\n",
       "      <td>2.144693</td>\n",
       "      <td>0.718696</td>\n",
       "      <td>0.667275</td>\n",
       "      <td>-0.159936</td>\n",
       "    </tr>\n",
       "    <tr>\n",
       "      <th>90004</th>\n",
       "      <td>-3.772951</td>\n",
       "      <td>1.277511</td>\n",
       "      <td>0.392643</td>\n",
       "      <td>1.393961</td>\n",
       "      <td>0.708835</td>\n",
       "    </tr>\n",
       "    <tr>\n",
       "      <th>90005</th>\n",
       "      <td>-5.056257</td>\n",
       "      <td>1.734964</td>\n",
       "      <td>1.056504</td>\n",
       "      <td>1.597609</td>\n",
       "      <td>0.667180</td>\n",
       "    </tr>\n",
       "  </tbody>\n",
       "</table>\n",
       "</div>"
      ],
      "text/plain": [
       "         1: 25k-50k  2: 50k-75k  3: 75k-100k  4: 100k-200k  5: >200k\n",
       "zipcode                                                             \n",
       "90001     -4.674271    2.391328     1.298178      0.983740  0.001025\n",
       "90002     -3.706238    1.639324     1.139695      0.927219  0.000000\n",
       "90003     -3.370728    2.144693     0.718696      0.667275 -0.159936\n",
       "90004     -3.772951    1.277511     0.392643      1.393961  0.708835\n",
       "90005     -5.056257    1.734964     1.056504      1.597609  0.667180"
      ]
     },
     "execution_count": 37,
     "metadata": {},
     "output_type": "execute_result"
    }
   ],
   "source": [
    "ca_income_change1.head()"
   ]
  },
  {
   "cell_type": "code",
   "execution_count": 38,
   "metadata": {
    "collapsed": false
   },
   "outputs": [
    {
     "data": {
      "image/png": "iVBORw0KGgoAAAANSUhEUgAABDAAAAHwCAYAAABQRJ8FAAAABHNCSVQICAgIfAhkiAAAAAlwSFlz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\nrkJggg==\n",
      "text/plain": [
       "<matplotlib.figure.Figure at 0xdd936d8>"
      ]
     },
     "metadata": {},
     "output_type": "display_data"
    }
   ],
   "source": [
    "fig = plt.figure(figsize=(15,7))\n",
    "\n",
    "for i in range(len(ca_income_change1.columns)):\n",
    "\n",
    "        ax1 = fig.add_subplot(2,3,i+1)\n",
    "        ax1.hist(ca_income_change1[ca_income_change1.columns[i]],bins=60)\n",
    "        ax1.axvline(ca_income_change1[ca_income_change1.columns[i]].describe().loc['mean'],color='k')\n",
    "        ax1.set_title(str(ca_income_change1.columns[i]),fontsize=14)\n",
    "\n",
    "plt.tight_layout()        "
   ]
  },
  {
   "cell_type": "markdown",
   "metadata": {},
   "source": [
    "We can see here that for most regions, the proportion of earners in the lower two brackets is decreasing--this is evident by the majority of the distributions being below 0% (in particular, the means--marked by the bold black line--are below 0%). The third income bracket is evenly balanced, resembling a normal distribution with mean 0. Finally, we observe increases in the higher income brackets all over California."
   ]
  },
  {
   "cell_type": "markdown",
   "metadata": {},
   "source": [
    "# Clustering Growth Patterns\n",
    "\n",
    "Now, we apply K-Means to categorize the zip codes by the growth patterns they exhibit across the five brackets. Each bracket is treated as its own feature. "
   ]
  },
  {
   "cell_type": "code",
   "execution_count": 39,
   "metadata": {
    "collapsed": false
   },
   "outputs": [],
   "source": [
    "cluster_input = ca_income_change1.reset_index()[ca_income_change1.columns]"
   ]
  },
  {
   "cell_type": "code",
   "execution_count": 40,
   "metadata": {
    "collapsed": false
   },
   "outputs": [
    {
     "data": {
      "text/plain": [
       "<matplotlib.figure.Figure at 0xb9a8c88>"
      ]
     },
     "execution_count": 40,
     "metadata": {},
     "output_type": "execute_result"
    },
    {
     "data": {
      "image/png": "iVBORw0KGgoAAAANSUhEUgAAAZQAAAELCAYAAAD+9XA2AAAABHNCSVQICAgIfAhkiAAAAAlwSFlz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\nRU5ErkJggg==\n",
      "text/plain": [
       "<matplotlib.figure.Figure at 0xb9a1780>"
      ]
     },
     "metadata": {},
     "output_type": "display_data"
    },
    {
     "data": {
      "text/plain": [
       "<matplotlib.figure.Figure at 0xb9a8c88>"
      ]
     },
     "metadata": {},
     "output_type": "display_data"
    }
   ],
   "source": [
    "from sklearn.cluster import KMeans\n",
    "\n",
    "kvalues = list(range(2,30))\n",
    "ss = []\n",
    "\n",
    "for k in kvalues:\n",
    "    kmeans = KMeans(n_clusters=k).fit(cluster_input)\n",
    "    ss.append(kmeans.inertia_)\n",
    "    \n",
    "plt.plot(kvalues,ss)\n",
    "plt.ylabel('Sum of Squares',fontsize=14)\n",
    "plt.xlabel('Cluster Count',fontsize=14)\n",
    "plt.figure(figsize=(9,6))"
   ]
  },
  {
   "cell_type": "markdown",
   "metadata": {},
   "source": [
    "The elbow method suggests that we use around 15 clusters before we get diminishing returns on our error reduction. We will study selected clusters representing good income growth, interpret the meaning of their properties, and test a sample of zip codes to see how these regions actually grew (as measured by ZHVI)."
   ]
  },
  {
   "cell_type": "code",
   "execution_count": 41,
   "metadata": {
    "collapsed": true
   },
   "outputs": [],
   "source": [
    "ca_income_change2 = ca_income_change1.copy()\n",
    "\n",
    "kmeans = KMeans(n_clusters=15,random_state=10).fit(cluster_input)\n",
    "ca_income_change1['cluster'] = kmeans.labels_"
   ]
  },
  {
   "cell_type": "code",
   "execution_count": 42,
   "metadata": {
    "collapsed": false
   },
   "outputs": [],
   "source": [
    "zhvi_growth = pd.read_csv(os.getcwd()+'\\data_clean\\zhvi.csv')\n",
    "zhvi_growth = zhvi_growth[zhvi_growth['State']=='CA']\n",
    "zhvi_growth = zhvi_growth.rename(columns={'RegionName':'zipcode'}).set_index('zipcode')"
   ]
  },
  {
   "cell_type": "code",
   "execution_count": 43,
   "metadata": {
    "collapsed": false
   },
   "outputs": [],
   "source": [
    "growth_dict = {}\n",
    "for CN in range(15):\n",
    "    temp_df = pd.DataFrame(columns=['zipcode','growth1','growth2','growth3'])\n",
    "    for zc in ca_income_change1[ca_income_change1['cluster']==CN].index.astype(int).values:\n",
    "        if zc in zhvi_growth.index.values:\n",
    "            temp = {'zipcode':zc,\n",
    "                    'growth1':zhvi_growth.loc[zc,'2014-12']/zhvi_growth.loc[zc,'2007-12'],\n",
    "                    'growth2':zhvi_growth.loc[zc,'2015-12']/zhvi_growth.loc[zc,'2014-12'],\n",
    "                    'growth3':zhvi_growth.loc[zc,'2017-05']/zhvi_growth.loc[zc,'2014-12']}\n",
    "            temp_df = temp_df.append(temp,ignore_index=True)\n",
    "    temp_df['growth1'] = (temp_df['growth1'] - 1)*100\n",
    "    temp_df['growth2'] = (temp_df['growth2'] - 1)*100\n",
    "    temp_df['growth3'] = (temp_df['growth3'] - 1)*100\n",
    "    temp_df['zipcode'] = temp_df['zipcode'].astype(int)\n",
    "    temp_df = temp_df.set_index('zipcode')\n",
    "    growth_dict[CN] = temp_df"
   ]
  },
  {
   "cell_type": "markdown",
   "metadata": {},
   "source": [
    "## Home Value Growth in California\n",
    "\n",
    "We will compare the growth in each region with that of the whole of California. Since we select regions with income growth better than the average of California, it follows that we should also measure growth against the average of California. \n",
    "\n",
    "From Dec. 2007 to Dec. 2014, the average Californian home lost value as measured by Zillow's Home Value Index. This is largely due to the Housing Crisis of 2007 - 2009. Regardless, we use this average as a metric for the growth of specific regions. (We will assume that uneven effects of the housing crisis are represented in the income data.) Analyzing this timeline, we can study the relationship between income density shifts and growth as they correlate over the same years.\n",
    "\n",
    "  * Dec. 2007: California Home Value Index valued at \\$474,000\n",
    "  * Dec. 2014: California Home Value Index valued at \\$424,000\n",
    "  * __\\-10.5%__\n",
    "\n",
    "Alternatively, we will also study the reliability of income density shifts in forecasting growth by relating the information with growth that came in the ensuing years. \n",
    "\n",
    "  * Dec. 2014: California Home Value Index valued at \\$424,000\n",
    "  * Dec. 2015: California Home Value Index valued at \\$453,000\n",
    "  * __\\+6.8%__\n",
    "  \n",
    "  \n",
    "  * Dec. 2014: California Home Value Index valued at \\$424,000\n",
    "  * May 2017: California Home Value Inded valued at \\$500,000\n",
    "  * __\\+17.9% __\n",
    "  \n",
    "Source: https://www.zillow.com/ca/home-values/"
   ]
  },
  {
   "cell_type": "markdown",
   "metadata": {},
   "source": [
    "## Example Study: Cluster 9\n",
    "\n",
    "This group, on average, exhibits significantly high growth in the top bracket as well as considerable growth in the second bracket, with reductions in all three of the lowest brackets.\n",
    "\n",
    "This cluster represents 2% of the CA zip codes listed (28 of 1418)."
   ]
  },
  {
   "cell_type": "code",
   "execution_count": 44,
   "metadata": {
    "collapsed": false
   },
   "outputs": [
    {
     "data": {
      "text/html": [
       "<div>\n",
       "<table border=\"1\" class=\"dataframe\">\n",
       "  <thead>\n",
       "    <tr style=\"text-align: right;\">\n",
       "      <th></th>\n",
       "      <th>1: 25k-50k</th>\n",
       "      <th>2: 50k-75k</th>\n",
       "      <th>3: 75k-100k</th>\n",
       "      <th>4: 100k-200k</th>\n",
       "      <th>5: &gt;200k</th>\n",
       "      <th>cluster</th>\n",
       "    </tr>\n",
       "  </thead>\n",
       "  <tbody>\n",
       "    <tr>\n",
       "      <th>count</th>\n",
       "      <td>28.000000</td>\n",
       "      <td>28.000000</td>\n",
       "      <td>28.000000</td>\n",
       "      <td>28.000000</td>\n",
       "      <td>28.000000</td>\n",
       "      <td>28.0</td>\n",
       "    </tr>\n",
       "    <tr>\n",
       "      <th>mean</th>\n",
       "      <td>-5.820716</td>\n",
       "      <td>-4.006769</td>\n",
       "      <td>-2.298936</td>\n",
       "      <td>2.672279</td>\n",
       "      <td>9.454142</td>\n",
       "      <td>9.0</td>\n",
       "    </tr>\n",
       "    <tr>\n",
       "      <th>std</th>\n",
       "      <td>2.351528</td>\n",
       "      <td>1.256101</td>\n",
       "      <td>0.878292</td>\n",
       "      <td>1.784091</td>\n",
       "      <td>2.147673</td>\n",
       "      <td>0.0</td>\n",
       "    </tr>\n",
       "    <tr>\n",
       "      <th>min</th>\n",
       "      <td>-15.199000</td>\n",
       "      <td>-6.641844</td>\n",
       "      <td>-3.918435</td>\n",
       "      <td>-1.260210</td>\n",
       "      <td>6.556849</td>\n",
       "      <td>9.0</td>\n",
       "    </tr>\n",
       "    <tr>\n",
       "      <th>25%</th>\n",
       "      <td>-6.316394</td>\n",
       "      <td>-4.548334</td>\n",
       "      <td>-3.009946</td>\n",
       "      <td>1.546214</td>\n",
       "      <td>7.853781</td>\n",
       "      <td>9.0</td>\n",
       "    </tr>\n",
       "    <tr>\n",
       "      <th>50%</th>\n",
       "      <td>-5.384544</td>\n",
       "      <td>-4.031646</td>\n",
       "      <td>-1.919143</td>\n",
       "      <td>2.699612</td>\n",
       "      <td>8.917584</td>\n",
       "      <td>9.0</td>\n",
       "    </tr>\n",
       "    <tr>\n",
       "      <th>75%</th>\n",
       "      <td>-4.531393</td>\n",
       "      <td>-3.468585</td>\n",
       "      <td>-1.763116</td>\n",
       "      <td>3.583548</td>\n",
       "      <td>11.185334</td>\n",
       "      <td>9.0</td>\n",
       "    </tr>\n",
       "    <tr>\n",
       "      <th>max</th>\n",
       "      <td>-3.299368</td>\n",
       "      <td>-0.602933</td>\n",
       "      <td>-0.716461</td>\n",
       "      <td>7.577333</td>\n",
       "      <td>13.638064</td>\n",
       "      <td>9.0</td>\n",
       "    </tr>\n",
       "  </tbody>\n",
       "</table>\n",
       "</div>"
      ],
      "text/plain": [
       "       1: 25k-50k  2: 50k-75k  3: 75k-100k  4: 100k-200k   5: >200k  cluster\n",
       "count   28.000000   28.000000    28.000000     28.000000  28.000000     28.0\n",
       "mean    -5.820716   -4.006769    -2.298936      2.672279   9.454142      9.0\n",
       "std      2.351528    1.256101     0.878292      1.784091   2.147673      0.0\n",
       "min    -15.199000   -6.641844    -3.918435     -1.260210   6.556849      9.0\n",
       "25%     -6.316394   -4.548334    -3.009946      1.546214   7.853781      9.0\n",
       "50%     -5.384544   -4.031646    -1.919143      2.699612   8.917584      9.0\n",
       "75%     -4.531393   -3.468585    -1.763116      3.583548  11.185334      9.0\n",
       "max     -3.299368   -0.602933    -0.716461      7.577333  13.638064      9.0"
      ]
     },
     "execution_count": 44,
     "metadata": {},
     "output_type": "execute_result"
    }
   ],
   "source": [
    "ca_income_change1[ca_income_change1['cluster']==9].describe()"
   ]
  },
  {
   "cell_type": "code",
   "execution_count": 97,
   "metadata": {
    "collapsed": false
   },
   "outputs": [
    {
     "name": "stderr",
     "output_type": "stream",
     "text": [
      "C:\\ProgramData\\Anaconda3\\lib\\site-packages\\statsmodels\\nonparametric\\kdetools.py:20: VisibleDeprecationWarning: using a non-integer number instead of an integer will result in an error in the future\n",
      "  y = X[:m/2+1] + np.r_[0,X[m/2+1:],0]*1j\n"
     ]
    },
    {
     "data": {
      "text/plain": [
       "<matplotlib.text.Text at 0x15075828>"
      ]
     },
     "execution_count": 97,
     "metadata": {},
     "output_type": "execute_result"
    },
    {
     "data": {
      "image/png": "iVBORw0KGgoAAAANSUhEUgAAA64AAADkCAYAAACYLXnlAAAABHNCSVQICAgIfAhkiAAAAAlwSFlz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\nCmj/D+XRdV/VdR1oAAAAAElFTkSuQmCC\n",
      "text/plain": [
       "<matplotlib.figure.Figure at 0x13886978>"
      ]
     },
     "metadata": {},
     "output_type": "display_data"
    }
   ],
   "source": [
    "f = plt.figure(figsize=(16,3))\n",
    "\n",
    "f.add_subplot(1,3,1)\n",
    "sns.kdeplot(growth_dict[9]['growth1'],color='b')\n",
    "plt.axvline(-10.5,color='b',linewidth=2)\n",
    "plt.title('Dec. 2007 - Dec. 2014',fontsize=14)\n",
    "\n",
    "\n",
    "f.add_subplot(1,3,2)\n",
    "sns.kdeplot(growth_dict[9]['growth2'],color='r')\n",
    "plt.axvline(6.8,color='r',linewidth=2)\n",
    "plt.title('Dec. 2014 - Dec. 2015',fontsize=14)\n",
    "plt.xlabel('% ZHVI Growth',fontsize=14)\n",
    "\n",
    "f.add_subplot(1,3,3)\n",
    "sns.kdeplot(growth_dict[9]['growth3'],color='g')\n",
    "plt.axvline(17.9,color='g',linewidth=2)\n",
    "plt.title('Dec. 2014 - May 2017',fontsize=14)\n",
    "\n",
    "\n",
    "#ax1.scatter(growth_dict[9].reset_index()['zipcode'],growth_dict[9]['growth1'])\n",
    "\n",
    "#ax1.axhline(growth_dict[9]['growth1'].mean(),color='b',linewidth=1)\n",
    "#ax1.set_ylabel('% Growth',fontsize=14,rotation=0,labelpad=35)\n",
    "#ax1.set_title('7 Yr Growth: Dec. \\'07 - Dec. \\'14',fontsize=14)\n",
    "\n",
    "#sns.kdeplot(growth_dict[9]['growth2'])\n",
    "#ax2.scatter(growth_dict[9].reset_index()['zipcode'],growth_dict[9]['growth2'])\n",
    "#ax2.axhline(6.8,color='k',linewidth=1)\n",
    "#ax2.axhline(growth_dict[9]['growth2'].mean(),color='b',linewidth=1)\n",
    "#ax2.set_xlabel('Cluster 5 Zip Codes',fontsize=16)\n",
    "#ax2.set_title('1 Yr Growth: Dec. \\'14 - Dec. \\'15',fontsize=14)\n",
    "\n",
    "#sns.kdeplot(growth_dict[9]['growth3'])\n",
    "#ax3.scatter(growth_dict[9].reset_index()['zipcode'],growth_dict[9]['growth3'])\n",
    "#ax3.axhline(17.9,color='k',linewidth=1)\n",
    "#ax3.axhline(growth_dict[9]['growth3'].mean(),color='b',linewidth=1)\n",
    "#ax3.set_title('~ 2.5 Yr Growth: Dec.\\'14 - May \\'17',fontsize=14)"
   ]
  },
  {
   "cell_type": "code",
   "execution_count": 46,
   "metadata": {
    "collapsed": false
   },
   "outputs": [
    {
     "name": "stdout",
     "output_type": "stream",
     "text": [
      "0.962\n",
      "0.846\n",
      "0.654\n"
     ]
    }
   ],
   "source": [
    "print(\"%.3f\" % (len(growth_dict[9][growth_dict[9]['growth1']>-10.5])/len(growth_dict[9])))\n",
    "print(\"%.3f\" % (len(growth_dict[9][growth_dict[9]['growth2']>6.8])/len(growth_dict[9])))\n",
    "print(\"%.3f\" % (len(growth_dict[9][growth_dict[9]['growth3']>17.9])/len(growth_dict[9])))"
   ]
  },
  {
   "cell_type": "markdown",
   "metadata": {},
   "source": [
    "In the kernel density estimation plots above, the bold vertical lines represent California's growth over each respective time period. For cluster 9, we see that the majority of regions beat California's average in the leftmost plot, but this gradually becomes less true as we try to forecast further into the future. \n",
    "\n",
    "In particular, 96.2% of the regions in cluster 9 beat California's average over the period from Dec. 2007 - Dec. 2014; 84.6% of the regions in cluster 9 beat California's average over the period from Dec. 2014 - Dec. 2015; 65.4% of the regions in cluster 9 beat California's average over the period from Dec. 2014 - May 2017. "
   ]
  },
  {
   "cell_type": "markdown",
   "metadata": {},
   "source": [
    "# Example Analysis: Santa Clara, 95054"
   ]
  },
  {
   "cell_type": "code",
   "execution_count": 47,
   "metadata": {
    "collapsed": false,
    "scrolled": false
   },
   "outputs": [
    {
     "data": {
      "text/plain": [
       "<matplotlib.text.Text at 0xda24320>"
      ]
     },
     "execution_count": 47,
     "metadata": {},
     "output_type": "execute_result"
    },
    {
     "data": {
      "image/png": "iVBORw0KGgoAAAANSUhEUgAAA64AAAFkCAYAAAAg6maJAAAABHNCSVQICAgIfAhkiAAAAAlwSFlz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\n0AAAAABJRU5ErkJggg==\n",
      "text/plain": [
       "<matplotlib.figure.Figure at 0xde81400>"
      ]
     },
     "metadata": {},
     "output_type": "display_data"
    }
   ],
   "source": [
    "f, (ax1, ax2) = plt.subplots(1, 2, sharey=True,figsize=(14,5))\n",
    "\n",
    "ax1.bar([1-0.15,2-0.15,3-0.15,4-0.15,5-0.15],ca_tax_normalized.loc['95054']['tax_returns_2007_%'],width=0.3,facecolor='#083CAA')\n",
    "ax1.bar([1+0.15,2+0.15,3+0.15,4+0.15,5+0.15],ca_tax_normalized.loc['95054']['tax_returns_2014_%'],width=0.3,facecolor='#89D2DC')\n",
    "ax1.set_ylabel('% of total housing \\nmarket participants',rotation=0,labelpad=70,fontsize=14)\n",
    "ax1.set_xlabel('Santa Clara',fontsize=14)\n",
    "ax1.legend(['2007','2014'])\n",
    "\n",
    "ax2.bar([1-0.15,2-0.15,3-0.15,4-0.15,5-0.15],ca_tax_normalized.loc['0']['tax_returns_2007_%'],width=0.3,facecolor='#033860')\n",
    "ax2.bar([1+0.15,2+0.15,3+0.15,4+0.15,5+0.15],ca_tax_normalized.loc['0']['tax_returns_2014_%'],width=0.3,facecolor='#3493B7')\n",
    "ax2.set_xlabel('California',fontsize=14)\n",
    "ax2.legend(['2007','2014'])\n",
    "\n",
    "plt.suptitle('Change Within Income Brackets', fontsize=18)"
   ]
  },
  {
   "cell_type": "markdown",
   "metadata": {},
   "source": [
    "Compared to the change in earnings of all Californians, Santa Clara has a much greater increase in the \\$200,000+ income bracket from 2007 to 2014 and a noticeably greater decrease in each of the three lower income brackets. The change is unlikely to be the result of prior residents increasing their earning potential. (The result of such a change would be less stark. In particular, the middle brackets would not noticeably decrease: earners from the bracket below them would enter the middle brackets. Additionally, the highest bracket would not increase by the large amount we observe here.)\n",
    "\n",
    "It is more reasonable to think that the change was a result of the immigration of high-earners into Santa Clara. That is, an underlying change in the industries and available employment opportunities attracted a different demographic. This is causing a change in the population itself, rather than a change in the earnings of the original population."
   ]
  },
  {
   "cell_type": "code",
   "execution_count": 48,
   "metadata": {
    "collapsed": false,
    "scrolled": true
   },
   "outputs": [
    {
     "data": {
      "text/plain": [
       "<matplotlib.text.Text at 0xe0eeba8>"
      ]
     },
     "execution_count": 48,
     "metadata": {},
     "output_type": "execute_result"
    },
    {
     "data": {
      "image/png": "iVBORw0KGgoAAAANSUhEUgAABB4AAADpCAYAAACDfvSBAAAABHNCSVQICAgIfAhkiAAAAAlwSFlz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\nUtgAAAAASUVORK5CYII=\n",
      "text/plain": [
       "<matplotlib.figure.Figure at 0xd0209b0>"
      ]
     },
     "metadata": {},
     "output_type": "display_data"
    }
   ],
   "source": [
    "f, (ax1, ax2, ax3, ax4, ax5) = plt.subplots(1, 5,figsize=(17,3),sharey=True)\n",
    "ax1.plot([2007,2008,2009,2010,2011,2012,2013,2014],ca_tax_normalized.loc['95054'].loc['1: 25,000-50,000'],color='#ff6b3a')\n",
    "ax1.set_ylabel('% of total',rotation=0,labelpad=40,fontsize=14)\n",
    "ax1.set_xlabel('\\$25k - \\$50k',fontsize=14)\n",
    "ax2.plot([2007,2008,2009,2010,2011,2012,2013,2014],ca_tax_normalized.loc['95054'].loc['2: 50,000-75,000'],color='#ff8c39')\n",
    "ax2.set_xlabel('\\$50k - \\$75k',fontsize=14)\n",
    "ax3.plot([2007,2008,2009,2010,2011,2012,2013,2014],ca_tax_normalized.loc['95054'].loc['3: 75,000-100,000'],color='#ff9b38')\n",
    "ax3.set_xlabel('\\$75k - \\$100k',fontsize=14)\n",
    "ax4.plot([2007,2008,2009,2010,2011,2012,2013,2014],ca_tax_normalized.loc['95054'].loc['4: 100,000-200,000'],color='#115400')\n",
    "ax4.set_xlabel('\\$100k - \\$200k',fontsize=14)\n",
    "ax5.plot([2007,2008,2009,2010,2011,2012,2013,2014],ca_tax_normalized.loc['95054'].loc['5: > 200,000'],color='#2dd600')\n",
    "ax5.set_xlabel('> \\$200k',fontsize=14)\n",
    "\n",
    "plt.suptitle('Income Brackets: 2007-2014',fontsize=18)"
   ]
  },
  {
   "cell_type": "markdown",
   "metadata": {},
   "source": [
    "Note: for this investment analysis, the positions of the different plots relative to each other is not of primary significance. What we are interested in is the relative change within each plot. In particular, the lower income brackets are decreasing over time, whereas the higher income brackets are increasing over time (for Santa Clara, this is especially true in the highest bracket).\n",
    "\n",
    "Notice here, by 2014 there were significantly more people earning greater than \\$200,000 than people earning between \\$25,000 - \\$50,000. This was not true in 2007; this reversal indicates a significant change in Santa Clara's population. "
   ]
  },
  {
   "cell_type": "code",
   "execution_count": 49,
   "metadata": {
    "collapsed": false
   },
   "outputs": [
    {
     "name": "stdout",
     "output_type": "stream",
     "text": [
      "1: 25k-50k bracket: -1.52 standard deviations above/below the mean\n",
      "2: 50k-75k bracket: -1.47 standard deviations above/below the mean\n",
      "3: 75k-100k bracket: -1.96 standard deviations above/below the mean\n",
      "4: 100k-200k bracket: -0.33 standard deviations above/below the mean\n",
      "5: >200k bracket: 4.64 standard deviations above/below the mean\n"
     ]
    },
    {
     "data": {
      "image/png": "iVBORw0KGgoAAAANSUhEUgAABDAAAAHwCAYAAABQRJ8FAAAABHNCSVQICAgIfAhkiAAAAAlwSFlz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\nSZIkSVLtWcCQJEmSJEm19/8B7YaYLK4jGpwAAAAASUVORK5CYII=\n",
      "text/plain": [
       "<matplotlib.figure.Figure at 0xdc76710>"
      ]
     },
     "metadata": {},
     "output_type": "display_data"
    }
   ],
   "source": [
    "fig = plt.figure(figsize=(15,7))\n",
    "\n",
    "for col in ca_income_change1.columns:\n",
    "    if col == 'cluster':\n",
    "        break\n",
    "    SD = ca_income_change1.describe()[col].loc['std']\n",
    "    deviation = (ca_income_change1.loc['95054'][col] - ca_income_change1.describe()[col].loc['mean'])/SD\n",
    "    print(str(col) + ' bracket: ' + \"%.2f\" % deviation + ' standard deviations above/below the mean')\n",
    "\n",
    "for i in range(len(ca_income_change1.columns)-1):\n",
    "    ax1 = fig.add_subplot(2,3,i+1)\n",
    "    ax1.hist(ca_income_change1[ca_income_change1.columns[i]],bins=60)\n",
    "    ax1.axvline(ca_income_change1[ca_income_change1.columns[i]].describe().loc['50%'],color='k')\n",
    "    ax1.axvline(ca_income_change1.loc['95054'][ca_income_change1.columns[i]],color='r')\n",
    "    ax1.set_title(str(ca_income_change1.columns[i]),fontsize=14)\n",
    "\n",
    "plt.tight_layout()   "
   ]
  },
  {
   "cell_type": "markdown",
   "metadata": {},
   "source": [
    "The red line represents the % change observed in 95054; the black line represents the mean for California (over all clusters). There are significant decreases in the lower brackets, as well as a remarkably large increase in the highest bracket. "
   ]
  },
  {
   "cell_type": "code",
   "execution_count": null,
   "metadata": {
    "collapsed": true
   },
   "outputs": [],
   "source": []
  },
  {
   "cell_type": "code",
   "execution_count": null,
   "metadata": {
    "collapsed": true
   },
   "outputs": [],
   "source": []
  },
  {
   "cell_type": "markdown",
   "metadata": {},
   "source": [
    "## Santa Clara: 95054\n",
    "\n",
    "  * Dec. 2007: Home Value Index valued at \\$714,000\n",
    "  * Dec. 2014: Homn Value Index valued at \\$847,000\n",
    "  * __\\+18.7%__\n",
    "  \n",
    "  \n",
    "  * Dec. 2014: Home Value Index valued at \\$847,000\n",
    "  * Dec. 2015: Home Value Index valued at \\$971,000\n",
    "  * __\\+14.5%__\n",
    "  \n",
    "  \n",
    "  * Dec. 2014: Home Value Index valued at \\$847,000\n",
    "  * May 2017: Home Value Inded valued at \\$1,050,000\n",
    "  * __\\+23.2%__\n",
    "  \n",
    "Source: https://www.zillow.com/santa-clara-ca-95054/home-values/"
   ]
  },
  {
   "cell_type": "code",
   "execution_count": null,
   "metadata": {
    "collapsed": true
   },
   "outputs": [],
   "source": []
  },
  {
   "cell_type": "code",
   "execution_count": 50,
   "metadata": {
    "collapsed": false
   },
   "outputs": [
    {
     "name": "stdout",
     "output_type": "stream",
     "text": [
      "0.4413793103448276\n",
      "0.5862068965517241\n",
      "0.5517241379310345\n"
     ]
    }
   ],
   "source": [
    "n = 1\n",
    "print(len(growth_dict[n][growth_dict[n]['growth1']>-10.5])/len(growth_dict[n]))\n",
    "print(len(growth_dict[n][growth_dict[n]['growth2']>6.8])/len(growth_dict[n]))\n",
    "print(len(growth_dict[n][growth_dict[n]['growth3']>17.9])/len(growth_dict[n]))"
   ]
  }
 ],
 "metadata": {
  "kernelspec": {
   "display_name": "Python 3",
   "language": "python",
   "name": "python3"
  },
  "language_info": {
   "codemirror_mode": {
    "name": "ipython",
    "version": 3
   },
   "file_extension": ".py",
   "mimetype": "text/x-python",
   "name": "python",
   "nbconvert_exporter": "python",
   "pygments_lexer": "ipython3",
   "version": "3.6.0"
  }
 },
 "nbformat": 4,
 "nbformat_minor": 2
}
